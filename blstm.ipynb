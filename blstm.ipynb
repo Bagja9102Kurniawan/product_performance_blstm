{
 "cells": [
  {
   "cell_type": "code",
   "execution_count": 1,
   "metadata": {},
   "outputs": [],
   "source": [
    "import pandas as pd\n",
    "import numpy as np\n",
    "import tensorflow as tf"
   ]
  },
  {
   "cell_type": "code",
   "execution_count": 2,
   "metadata": {},
   "outputs": [
    {
     "data": {
      "text/html": [
       "<div>\n",
       "<style scoped>\n",
       "    .dataframe tbody tr th:only-of-type {\n",
       "        vertical-align: middle;\n",
       "    }\n",
       "\n",
       "    .dataframe tbody tr th {\n",
       "        vertical-align: top;\n",
       "    }\n",
       "\n",
       "    .dataframe thead th {\n",
       "        text-align: right;\n",
       "    }\n",
       "</style>\n",
       "<table border=\"1\" class=\"dataframe\">\n",
       "  <thead>\n",
       "    <tr style=\"text-align: right;\">\n",
       "      <th></th>\n",
       "      <th>Kode Produk</th>\n",
       "      <th>19-Jan</th>\n",
       "      <th>19-Feb</th>\n",
       "      <th>19-Mar</th>\n",
       "      <th>19-Apr</th>\n",
       "      <th>19-May</th>\n",
       "      <th>19-Jun</th>\n",
       "      <th>19-Jul</th>\n",
       "      <th>19-Aug</th>\n",
       "      <th>19-Sep</th>\n",
       "      <th>...</th>\n",
       "      <th>20-Apr</th>\n",
       "      <th>20-May</th>\n",
       "      <th>20-Jun</th>\n",
       "      <th>20-Jul</th>\n",
       "      <th>20-Aug</th>\n",
       "      <th>20-Sep</th>\n",
       "      <th>20-Oct</th>\n",
       "      <th>20-Nov</th>\n",
       "      <th>20-Dec</th>\n",
       "      <th>Cluster</th>\n",
       "    </tr>\n",
       "  </thead>\n",
       "  <tbody>\n",
       "    <tr>\n",
       "      <th>0</th>\n",
       "      <td>P1</td>\n",
       "      <td>56</td>\n",
       "      <td>7</td>\n",
       "      <td>8</td>\n",
       "      <td>14</td>\n",
       "      <td>16</td>\n",
       "      <td>10</td>\n",
       "      <td>21</td>\n",
       "      <td>20</td>\n",
       "      <td>68</td>\n",
       "      <td>...</td>\n",
       "      <td>17</td>\n",
       "      <td>6</td>\n",
       "      <td>9</td>\n",
       "      <td>62</td>\n",
       "      <td>67</td>\n",
       "      <td>62</td>\n",
       "      <td>67</td>\n",
       "      <td>77</td>\n",
       "      <td>11</td>\n",
       "      <td>0</td>\n",
       "    </tr>\n",
       "    <tr>\n",
       "      <th>1</th>\n",
       "      <td>P2</td>\n",
       "      <td>164</td>\n",
       "      <td>190</td>\n",
       "      <td>188</td>\n",
       "      <td>164</td>\n",
       "      <td>235</td>\n",
       "      <td>139</td>\n",
       "      <td>662</td>\n",
       "      <td>240</td>\n",
       "      <td>138</td>\n",
       "      <td>...</td>\n",
       "      <td>367</td>\n",
       "      <td>227</td>\n",
       "      <td>55</td>\n",
       "      <td>222</td>\n",
       "      <td>220</td>\n",
       "      <td>85</td>\n",
       "      <td>336</td>\n",
       "      <td>153</td>\n",
       "      <td>103</td>\n",
       "      <td>1</td>\n",
       "    </tr>\n",
       "    <tr>\n",
       "      <th>2</th>\n",
       "      <td>P3</td>\n",
       "      <td>65</td>\n",
       "      <td>58</td>\n",
       "      <td>79</td>\n",
       "      <td>109</td>\n",
       "      <td>50</td>\n",
       "      <td>51</td>\n",
       "      <td>73</td>\n",
       "      <td>92</td>\n",
       "      <td>28</td>\n",
       "      <td>...</td>\n",
       "      <td>121</td>\n",
       "      <td>23</td>\n",
       "      <td>30</td>\n",
       "      <td>26</td>\n",
       "      <td>19</td>\n",
       "      <td>23</td>\n",
       "      <td>21</td>\n",
       "      <td>20</td>\n",
       "      <td>7</td>\n",
       "      <td>0</td>\n",
       "    </tr>\n",
       "    <tr>\n",
       "      <th>3</th>\n",
       "      <td>P4</td>\n",
       "      <td>243</td>\n",
       "      <td>304</td>\n",
       "      <td>321</td>\n",
       "      <td>241</td>\n",
       "      <td>191</td>\n",
       "      <td>97</td>\n",
       "      <td>276</td>\n",
       "      <td>165</td>\n",
       "      <td>170</td>\n",
       "      <td>...</td>\n",
       "      <td>304</td>\n",
       "      <td>72</td>\n",
       "      <td>102</td>\n",
       "      <td>102</td>\n",
       "      <td>113</td>\n",
       "      <td>112</td>\n",
       "      <td>102</td>\n",
       "      <td>118</td>\n",
       "      <td>120</td>\n",
       "      <td>1</td>\n",
       "    </tr>\n",
       "    <tr>\n",
       "      <th>4</th>\n",
       "      <td>P5</td>\n",
       "      <td>10</td>\n",
       "      <td>13</td>\n",
       "      <td>24</td>\n",
       "      <td>14</td>\n",
       "      <td>28</td>\n",
       "      <td>9</td>\n",
       "      <td>19</td>\n",
       "      <td>10</td>\n",
       "      <td>24</td>\n",
       "      <td>...</td>\n",
       "      <td>16</td>\n",
       "      <td>11</td>\n",
       "      <td>7</td>\n",
       "      <td>10</td>\n",
       "      <td>16</td>\n",
       "      <td>18</td>\n",
       "      <td>18</td>\n",
       "      <td>23</td>\n",
       "      <td>22</td>\n",
       "      <td>0</td>\n",
       "    </tr>\n",
       "    <tr>\n",
       "      <th>...</th>\n",
       "      <td>...</td>\n",
       "      <td>...</td>\n",
       "      <td>...</td>\n",
       "      <td>...</td>\n",
       "      <td>...</td>\n",
       "      <td>...</td>\n",
       "      <td>...</td>\n",
       "      <td>...</td>\n",
       "      <td>...</td>\n",
       "      <td>...</td>\n",
       "      <td>...</td>\n",
       "      <td>...</td>\n",
       "      <td>...</td>\n",
       "      <td>...</td>\n",
       "      <td>...</td>\n",
       "      <td>...</td>\n",
       "      <td>...</td>\n",
       "      <td>...</td>\n",
       "      <td>...</td>\n",
       "      <td>...</td>\n",
       "      <td>...</td>\n",
       "    </tr>\n",
       "    <tr>\n",
       "      <th>153</th>\n",
       "      <td>P154</td>\n",
       "      <td>243</td>\n",
       "      <td>379</td>\n",
       "      <td>292</td>\n",
       "      <td>232</td>\n",
       "      <td>287</td>\n",
       "      <td>107</td>\n",
       "      <td>344</td>\n",
       "      <td>455</td>\n",
       "      <td>436</td>\n",
       "      <td>...</td>\n",
       "      <td>129</td>\n",
       "      <td>85</td>\n",
       "      <td>115</td>\n",
       "      <td>232</td>\n",
       "      <td>79</td>\n",
       "      <td>112</td>\n",
       "      <td>450</td>\n",
       "      <td>498</td>\n",
       "      <td>254</td>\n",
       "      <td>1</td>\n",
       "    </tr>\n",
       "    <tr>\n",
       "      <th>154</th>\n",
       "      <td>P155</td>\n",
       "      <td>-5</td>\n",
       "      <td>0</td>\n",
       "      <td>0</td>\n",
       "      <td>10</td>\n",
       "      <td>0</td>\n",
       "      <td>0</td>\n",
       "      <td>0</td>\n",
       "      <td>0</td>\n",
       "      <td>0</td>\n",
       "      <td>...</td>\n",
       "      <td>0</td>\n",
       "      <td>0</td>\n",
       "      <td>0</td>\n",
       "      <td>0</td>\n",
       "      <td>0</td>\n",
       "      <td>0</td>\n",
       "      <td>0</td>\n",
       "      <td>0</td>\n",
       "      <td>0</td>\n",
       "      <td>0</td>\n",
       "    </tr>\n",
       "    <tr>\n",
       "      <th>155</th>\n",
       "      <td>P156</td>\n",
       "      <td>101</td>\n",
       "      <td>65</td>\n",
       "      <td>117</td>\n",
       "      <td>94</td>\n",
       "      <td>197</td>\n",
       "      <td>151</td>\n",
       "      <td>157</td>\n",
       "      <td>159</td>\n",
       "      <td>144</td>\n",
       "      <td>...</td>\n",
       "      <td>152</td>\n",
       "      <td>129</td>\n",
       "      <td>136</td>\n",
       "      <td>177</td>\n",
       "      <td>120</td>\n",
       "      <td>167</td>\n",
       "      <td>153</td>\n",
       "      <td>130</td>\n",
       "      <td>121</td>\n",
       "      <td>1</td>\n",
       "    </tr>\n",
       "    <tr>\n",
       "      <th>156</th>\n",
       "      <td>P157</td>\n",
       "      <td>0</td>\n",
       "      <td>0</td>\n",
       "      <td>0</td>\n",
       "      <td>0</td>\n",
       "      <td>0</td>\n",
       "      <td>8</td>\n",
       "      <td>49</td>\n",
       "      <td>93</td>\n",
       "      <td>103</td>\n",
       "      <td>...</td>\n",
       "      <td>19</td>\n",
       "      <td>26</td>\n",
       "      <td>29</td>\n",
       "      <td>49</td>\n",
       "      <td>43</td>\n",
       "      <td>34</td>\n",
       "      <td>51</td>\n",
       "      <td>51</td>\n",
       "      <td>43</td>\n",
       "      <td>0</td>\n",
       "    </tr>\n",
       "    <tr>\n",
       "      <th>157</th>\n",
       "      <td>P158</td>\n",
       "      <td>0</td>\n",
       "      <td>0</td>\n",
       "      <td>0</td>\n",
       "      <td>0</td>\n",
       "      <td>0</td>\n",
       "      <td>7</td>\n",
       "      <td>67</td>\n",
       "      <td>78</td>\n",
       "      <td>156</td>\n",
       "      <td>...</td>\n",
       "      <td>64</td>\n",
       "      <td>55</td>\n",
       "      <td>63</td>\n",
       "      <td>98</td>\n",
       "      <td>57</td>\n",
       "      <td>81</td>\n",
       "      <td>132</td>\n",
       "      <td>79</td>\n",
       "      <td>80</td>\n",
       "      <td>1</td>\n",
       "    </tr>\n",
       "  </tbody>\n",
       "</table>\n",
       "<p>158 rows × 26 columns</p>\n",
       "</div>"
      ],
      "text/plain": [
       "    Kode Produk  19-Jan  19-Feb  19-Mar  19-Apr  19-May  19-Jun  19-Jul  \\\n",
       "0            P1      56       7       8      14      16      10      21   \n",
       "1            P2     164     190     188     164     235     139     662   \n",
       "2            P3      65      58      79     109      50      51      73   \n",
       "3            P4     243     304     321     241     191      97     276   \n",
       "4            P5      10      13      24      14      28       9      19   \n",
       "..          ...     ...     ...     ...     ...     ...     ...     ...   \n",
       "153        P154     243     379     292     232     287     107     344   \n",
       "154        P155      -5       0       0      10       0       0       0   \n",
       "155        P156     101      65     117      94     197     151     157   \n",
       "156        P157       0       0       0       0       0       8      49   \n",
       "157        P158       0       0       0       0       0       7      67   \n",
       "\n",
       "     19-Aug  19-Sep  ...  20-Apr  20-May  20-Jun  20-Jul  20-Aug  20-Sep  \\\n",
       "0        20      68  ...      17       6       9      62      67      62   \n",
       "1       240     138  ...     367     227      55     222     220      85   \n",
       "2        92      28  ...     121      23      30      26      19      23   \n",
       "3       165     170  ...     304      72     102     102     113     112   \n",
       "4        10      24  ...      16      11       7      10      16      18   \n",
       "..      ...     ...  ...     ...     ...     ...     ...     ...     ...   \n",
       "153     455     436  ...     129      85     115     232      79     112   \n",
       "154       0       0  ...       0       0       0       0       0       0   \n",
       "155     159     144  ...     152     129     136     177     120     167   \n",
       "156      93     103  ...      19      26      29      49      43      34   \n",
       "157      78     156  ...      64      55      63      98      57      81   \n",
       "\n",
       "     20-Oct  20-Nov  20-Dec  Cluster  \n",
       "0        67      77      11        0  \n",
       "1       336     153     103        1  \n",
       "2        21      20       7        0  \n",
       "3       102     118     120        1  \n",
       "4        18      23      22        0  \n",
       "..      ...     ...     ...      ...  \n",
       "153     450     498     254        1  \n",
       "154       0       0       0        0  \n",
       "155     153     130     121        1  \n",
       "156      51      51      43        0  \n",
       "157     132      79      80        1  \n",
       "\n",
       "[158 rows x 26 columns]"
      ]
     },
     "execution_count": 2,
     "metadata": {},
     "output_type": "execute_result"
    }
   ],
   "source": [
    "data=pd.read_csv('dataset.csv')\n",
    "data"
   ]
  },
  {
   "cell_type": "code",
   "execution_count": 3,
   "metadata": {},
   "outputs": [
    {
     "data": {
      "text/plain": [
       "5"
      ]
     },
     "execution_count": 3,
     "metadata": {},
     "output_type": "execute_result"
    }
   ],
   "source": [
    "len(data['Cluster'].unique())"
   ]
  },
  {
   "cell_type": "code",
   "execution_count": 4,
   "metadata": {},
   "outputs": [
    {
     "name": "stdout",
     "output_type": "stream",
     "text": [
      "Jumlah Produk:\n",
      "96\n",
      "Jumlah Produk:\n",
      "45\n",
      "Jumlah Produk:\n",
      "1\n",
      "Jumlah Produk:\n",
      "3\n",
      "Jumlah Produk:\n",
      "13\n"
     ]
    }
   ],
   "source": [
    "#now lets take clusters\n",
    "c0 = data.query(\"Cluster == 0\")\n",
    "print(\"Jumlah Produk:\")\n",
    "print(c0['Kode Produk'].size)\n",
    "c1 = data.query(\"Cluster == 1\")\n",
    "print(\"Jumlah Produk:\")\n",
    "print(c1['Kode Produk'].size)\n",
    "c2 = data.query(\"Cluster == 2\")\n",
    "print(\"Jumlah Produk:\")\n",
    "print(c2['Kode Produk'].size)\n",
    "c3 = data.query(\"Cluster == 3\")\n",
    "print(\"Jumlah Produk:\")\n",
    "print(c3['Kode Produk'].size)\n",
    "c4 = data.query(\"Cluster == 4\")\n",
    "print(\"Jumlah Produk:\")\n",
    "print(c4['Kode Produk'].size)"
   ]
  },
  {
   "cell_type": "code",
   "execution_count": 5,
   "metadata": {},
   "outputs": [],
   "source": [
    "#oke ada ternyata yang cuman sendirian (1 product di cluster tersebut), kita beresin dia dulu, the easiest, dan biar keliatan kita\n",
    "#ngapain aja di time series ini\n",
    "def windowed_dataset(series, window_size, batch_size, shuffle_buffer):\n",
    "    series = tf.expand_dims(series, axis=-1)\n",
    "    ds = tf.data.Dataset.from_tensor_slices(series)\n",
    "    ds = ds.window(window_size + 1, shift=1, drop_remainder=True)\n",
    "    ds = ds.flat_map(lambda w: w.batch(window_size + 1))\n",
    "    ds = ds.shuffle(shuffle_buffer)\n",
    "    ds = ds.map(lambda w: (w[:-1], w[1:]))\n",
    "    return ds.batch(batch_size).prefetch(1)\n",
    "# ini fungsinya buat nge ubah dataset jadi windowed"
   ]
  },
  {
   "cell_type": "markdown",
   "metadata": {},
   "source": [
    "# C2"
   ]
  },
  {
   "cell_type": "code",
   "execution_count": 9,
   "metadata": {},
   "outputs": [
    {
     "data": {
      "text/html": [
       "<div>\n",
       "<style scoped>\n",
       "    .dataframe tbody tr th:only-of-type {\n",
       "        vertical-align: middle;\n",
       "    }\n",
       "\n",
       "    .dataframe tbody tr th {\n",
       "        vertical-align: top;\n",
       "    }\n",
       "\n",
       "    .dataframe thead th {\n",
       "        text-align: right;\n",
       "    }\n",
       "</style>\n",
       "<table border=\"1\" class=\"dataframe\">\n",
       "  <thead>\n",
       "    <tr style=\"text-align: right;\">\n",
       "      <th></th>\n",
       "      <th>19-Jan</th>\n",
       "      <th>19-Feb</th>\n",
       "      <th>19-Mar</th>\n",
       "      <th>19-Apr</th>\n",
       "      <th>19-May</th>\n",
       "      <th>19-Jun</th>\n",
       "      <th>19-Jul</th>\n",
       "      <th>19-Aug</th>\n",
       "      <th>19-Sep</th>\n",
       "      <th>19-Oct</th>\n",
       "      <th>...</th>\n",
       "      <th>20-Mar</th>\n",
       "      <th>20-Apr</th>\n",
       "      <th>20-May</th>\n",
       "      <th>20-Jun</th>\n",
       "      <th>20-Jul</th>\n",
       "      <th>20-Aug</th>\n",
       "      <th>20-Sep</th>\n",
       "      <th>20-Oct</th>\n",
       "      <th>20-Nov</th>\n",
       "      <th>20-Dec</th>\n",
       "    </tr>\n",
       "  </thead>\n",
       "  <tbody>\n",
       "    <tr>\n",
       "      <th>79</th>\n",
       "      <td>4624</td>\n",
       "      <td>959</td>\n",
       "      <td>1500</td>\n",
       "      <td>4900</td>\n",
       "      <td>1812</td>\n",
       "      <td>2128</td>\n",
       "      <td>3913</td>\n",
       "      <td>5320</td>\n",
       "      <td>2657</td>\n",
       "      <td>4730</td>\n",
       "      <td>...</td>\n",
       "      <td>3682</td>\n",
       "      <td>3585</td>\n",
       "      <td>6316</td>\n",
       "      <td>2531</td>\n",
       "      <td>3752</td>\n",
       "      <td>2508</td>\n",
       "      <td>3637</td>\n",
       "      <td>3854</td>\n",
       "      <td>3951</td>\n",
       "      <td>3220</td>\n",
       "    </tr>\n",
       "  </tbody>\n",
       "</table>\n",
       "<p>1 rows × 24 columns</p>\n",
       "</div>"
      ],
      "text/plain": [
       "    19-Jan  19-Feb  19-Mar  19-Apr  19-May  19-Jun  19-Jul  19-Aug  19-Sep  \\\n",
       "79    4624     959    1500    4900    1812    2128    3913    5320    2657   \n",
       "\n",
       "    19-Oct  ...  20-Mar  20-Apr  20-May  20-Jun  20-Jul  20-Aug  20-Sep  \\\n",
       "79    4730  ...    3682    3585    6316    2531    3752    2508    3637   \n",
       "\n",
       "    20-Oct  20-Nov  20-Dec  \n",
       "79    3854    3951    3220  \n",
       "\n",
       "[1 rows x 24 columns]"
      ]
     },
     "execution_count": 9,
     "metadata": {},
     "output_type": "execute_result"
    }
   ],
   "source": [
    "#next kita ubah bentuk data nya dari yang tadinya kesamping jadi ke bawah, tapi pertama mau aku drop dulu cluster sama kode produknya\n",
    "c2=c2.drop(columns=['Kode Produk','Cluster'])\n",
    "c2"
   ]
  },
  {
   "cell_type": "code",
   "execution_count": 71,
   "metadata": {},
   "outputs": [
    {
     "name": "stdout",
     "output_type": "stream",
     "text": [
      "[0, 1, 2, 3, 4, 5, 6, 7, 8, 9, 10, 11, 12, 13, 14, 15, 16, 17, 18, 19, 20, 21, 22, 23] [4624, 959, 1500, 4900, 1812, 2128, 3913, 5320, 2657, 4730, 181, 2337, 2382, 1005, 3682, 3585, 6316, 2531, 3752, 2508, 3637, 3854, 3951, 3220]\n"
     ]
    }
   ],
   "source": [
    "#next, buat dia kayak mejeneng time series seperti biasanya, which is datanya ke bawah, \n",
    "new_c2=[]\n",
    "time=[]\n",
    "for idx,_ in enumerate(c2):\n",
    "    new_c2.append(c2.iloc[0,idx])\n",
    "    time.append(idx)\n",
    "print(time,new_c2)"
   ]
  },
  {
   "cell_type": "code",
   "execution_count": 72,
   "metadata": {},
   "outputs": [],
   "source": [
    "#normalisasi, karena gap nya ada yang sampe ribuan, biar lebih gampang tugas ann nya\n",
    "series=new_c2\n",
    "min = np.min(series)\n",
    "max = np.max(series)\n",
    "series = series - min\n",
    "series = series / max\n",
    "time = np.array(time)"
   ]
  },
  {
   "cell_type": "code",
   "execution_count": 73,
   "metadata": {},
   "outputs": [
    {
     "data": {
      "text/plain": [
       "array([0.70345155, 0.12317923, 0.20883471, 0.74715009, 0.25823306,\n",
       "       0.30826472, 0.5908803 , 0.81364788, 0.39202027, 0.72023433,\n",
       "       0.        , 0.34135529, 0.34848005, 0.13046232, 0.55430652,\n",
       "       0.5389487 , 0.97134262, 0.37207093, 0.56538949, 0.36842939,\n",
       "       0.54718176, 0.58153895, 0.59689677, 0.48115896])"
      ]
     },
     "execution_count": 73,
     "metadata": {},
     "output_type": "execute_result"
    }
   ],
   "source": [
    "series"
   ]
  },
  {
   "cell_type": "code",
   "execution_count": 74,
   "metadata": {},
   "outputs": [],
   "source": [
    "split_time = 3 # ini berapa bulan terkahir yang mau di potong buat pengujian?\n",
    "\n",
    "time_train = time[:split_time]\n",
    "x_train =  series[:split_time]\n",
    "time_valid =  time[split_time:]\n",
    "x_valid =  series[split_time:]"
   ]
  },
  {
   "cell_type": "code",
   "execution_count": 75,
   "metadata": {},
   "outputs": [],
   "source": [
    "#buat data biar dibagi per window, jadi me masang masangkan waktu dan value,\n",
    "window_size = 2\n",
    "batch_size = 2\n",
    "shuffle_buffer_size = 10\n",
    "\n",
    "train_set = windowed_dataset(x_train, window_size, batch_size, shuffle_buffer_size)\n",
    "valid_set = windowed_dataset(x_valid, window_size, batch_size, shuffle_buffer_size)"
   ]
  },
  {
   "cell_type": "code",
   "execution_count": 93,
   "metadata": {},
   "outputs": [],
   "source": [
    "model = tf.keras.Sequential([\n",
    "        tf.keras.layers.Dense(2, input_shape=[None, 1], activation=\"relu\"),\n",
    "        #tf.keras.layers.Bidirectional(tf.keras.layers.LSTM(64,return_sequences=True)),\n",
    "        tf.keras.layers.Bidirectional(tf.keras.layers.LSTM(32)),\n",
    "        tf.keras.layers.Flatten(),\n",
    "        #tf.keras.layers.GlobalAveragePooling1D(),\n",
    "        tf.keras.layers.Dense(256, activation='relu'),\n",
    "        #tf.keras.layers.Dropout(0.2),\n",
    "        tf.keras.layers.Dense(64, activation='relu'),\n",
    "        tf.keras.layers.Dense(32, activation='relu'),\n",
    "        tf.keras.layers.Dropout(0.3),\n",
    "        tf.keras.layers.Dense(1)\n",
    "    ])\n",
    "\n",
    "    #the blstm part"
   ]
  },
  {
   "cell_type": "code",
   "execution_count": 94,
   "metadata": {},
   "outputs": [
    {
     "name": "stdout",
     "output_type": "stream",
     "text": [
      "Model: \"sequential_9\"\n",
      "_________________________________________________________________\n",
      "Layer (type)                 Output Shape              Param #   \n",
      "=================================================================\n",
      "dense_50 (Dense)             (None, None, 2)           4         \n",
      "_________________________________________________________________\n",
      "bidirectional_18 (Bidirectio (None, 64)                8960      \n",
      "_________________________________________________________________\n",
      "flatten_9 (Flatten)          (None, 64)                0         \n",
      "_________________________________________________________________\n",
      "dense_51 (Dense)             (None, 256)               16640     \n",
      "_________________________________________________________________\n",
      "dense_52 (Dense)             (None, 64)                16448     \n",
      "_________________________________________________________________\n",
      "dense_53 (Dense)             (None, 32)                2080      \n",
      "_________________________________________________________________\n",
      "dropout_4 (Dropout)          (None, 32)                0         \n",
      "_________________________________________________________________\n",
      "dense_54 (Dense)             (None, 1)                 33        \n",
      "=================================================================\n",
      "Total params: 44,165\n",
      "Trainable params: 44,165\n",
      "Non-trainable params: 0\n",
      "_________________________________________________________________\n",
      "Epoch 1/100\n",
      "1/1 [==============================] - 3s 3s/step - loss: 0.0295 - mae: 0.1664 - val_loss: 0.2728 - val_mae: 0.4732\n",
      "Epoch 2/100\n",
      "1/1 [==============================] - 0s 75ms/step - loss: 0.0265 - mae: 0.1572 - val_loss: 0.2609 - val_mae: 0.4619\n",
      "Epoch 3/100\n",
      "1/1 [==============================] - 0s 82ms/step - loss: 0.0235 - mae: 0.1472 - val_loss: 0.2466 - val_mae: 0.4477\n",
      "Epoch 4/100\n",
      "1/1 [==============================] - 0s 94ms/step - loss: 0.0183 - mae: 0.1282 - val_loss: 0.2296 - val_mae: 0.4301\n",
      "Epoch 5/100\n",
      "1/1 [==============================] - 0s 94ms/step - loss: 0.0156 - mae: 0.1172 - val_loss: 0.2121 - val_mae: 0.4113\n",
      "Epoch 6/100\n",
      "1/1 [==============================] - 0s 96ms/step - loss: 0.0110 - mae: 0.0955 - val_loss: 0.1948 - val_mae: 0.3916\n",
      "Epoch 7/100\n",
      "1/1 [==============================] - 0s 97ms/step - loss: 0.0064 - mae: 0.0675 - val_loss: 0.1782 - val_mae: 0.3715\n",
      "Epoch 8/100\n",
      "1/1 [==============================] - 0s 95ms/step - loss: 0.0029 - mae: 0.0428 - val_loss: 0.1632 - val_mae: 0.3534\n",
      "Epoch 9/100\n",
      "1/1 [==============================] - 0s 84ms/step - loss: 0.0019 - mae: 0.0428 - val_loss: 0.1504 - val_mae: 0.3379\n",
      "Epoch 10/100\n",
      "1/1 [==============================] - 0s 92ms/step - loss: 0.0019 - mae: 0.0428 - val_loss: 0.1393 - val_mae: 0.3238\n",
      "Epoch 11/100\n",
      "1/1 [==============================] - 0s 107ms/step - loss: 0.0022 - mae: 0.0428 - val_loss: 0.1303 - val_mae: 0.3116\n",
      "Epoch 12/100\n",
      "1/1 [==============================] - 0s 83ms/step - loss: 0.0023 - mae: 0.0428 - val_loss: 0.1230 - val_mae: 0.3012\n",
      "Epoch 13/100\n",
      "1/1 [==============================] - 0s 87ms/step - loss: 0.0057 - mae: 0.0618 - val_loss: 0.1180 - val_mae: 0.2939\n",
      "Epoch 14/100\n",
      "1/1 [==============================] - 0s 94ms/step - loss: 0.0060 - mae: 0.0646 - val_loss: 0.1151 - val_mae: 0.2894\n",
      "Epoch 15/100\n",
      "1/1 [==============================] - 0s 90ms/step - loss: 0.0096 - mae: 0.0881 - val_loss: 0.1144 - val_mae: 0.2883\n",
      "Epoch 16/100\n",
      "1/1 [==============================] - 0s 89ms/step - loss: 0.0121 - mae: 0.1016 - val_loss: 0.1162 - val_mae: 0.2911\n",
      "Epoch 17/100\n",
      "1/1 [==============================] - 0s 93ms/step - loss: 0.0020 - mae: 0.0428 - val_loss: 0.1180 - val_mae: 0.2938\n",
      "Epoch 18/100\n",
      "1/1 [==============================] - 0s 80ms/step - loss: 0.0044 - mae: 0.0507 - val_loss: 0.1206 - val_mae: 0.2978\n",
      "Epoch 19/100\n",
      "1/1 [==============================] - 0s 88ms/step - loss: 0.0059 - mae: 0.0636 - val_loss: 0.1244 - val_mae: 0.3032\n",
      "Epoch 20/100\n",
      "1/1 [==============================] - 0s 89ms/step - loss: 0.0028 - mae: 0.0428 - val_loss: 0.1284 - val_mae: 0.3090\n",
      "Epoch 21/100\n",
      "1/1 [==============================] - 0s 87ms/step - loss: 0.0036 - mae: 0.0428 - val_loss: 0.1331 - val_mae: 0.3154\n",
      "Epoch 22/100\n",
      "1/1 [==============================] - 0s 93ms/step - loss: 0.0034 - mae: 0.0428 - val_loss: 0.1383 - val_mae: 0.3224\n",
      "Epoch 23/100\n",
      "1/1 [==============================] - 0s 83ms/step - loss: 0.0022 - mae: 0.0428 - val_loss: 0.1435 - val_mae: 0.3292\n",
      "Epoch 24/100\n",
      "1/1 [==============================] - 0s 94ms/step - loss: 0.0018 - mae: 0.0428 - val_loss: 0.1483 - val_mae: 0.3354\n",
      "Epoch 25/100\n",
      "1/1 [==============================] - 0s 98ms/step - loss: 0.0024 - mae: 0.0428 - val_loss: 0.1534 - val_mae: 0.3416\n",
      "Epoch 26/100\n",
      "1/1 [==============================] - 0s 90ms/step - loss: 0.0021 - mae: 0.0428 - val_loss: 0.1584 - val_mae: 0.3477\n",
      "Epoch 27/100\n",
      "1/1 [==============================] - 0s 84ms/step - loss: 0.0018 - mae: 0.0428 - val_loss: 0.1630 - val_mae: 0.3531\n",
      "Epoch 28/100\n",
      "1/1 [==============================] - 0s 87ms/step - loss: 0.0028 - mae: 0.0428 - val_loss: 0.1665 - val_mae: 0.3572\n",
      "Epoch 29/100\n",
      "1/1 [==============================] - 0s 93ms/step - loss: 0.0027 - mae: 0.0428 - val_loss: 0.1689 - val_mae: 0.3599\n",
      "Epoch 30/100\n",
      "1/1 [==============================] - 0s 91ms/step - loss: 0.0036 - mae: 0.0428 - val_loss: 0.1701 - val_mae: 0.3613\n",
      "Epoch 31/100\n",
      "1/1 [==============================] - 0s 99ms/step - loss: 0.0030 - mae: 0.0428 - val_loss: 0.1704 - val_mae: 0.3617\n",
      "Epoch 32/100\n",
      "1/1 [==============================] - 0s 100ms/step - loss: 0.0022 - mae: 0.0428 - val_loss: 0.1702 - val_mae: 0.3614\n",
      "Epoch 33/100\n",
      "1/1 [==============================] - 0s 88ms/step - loss: 0.0034 - mae: 0.0428 - val_loss: 0.1691 - val_mae: 0.3602\n",
      "Epoch 34/100\n",
      "1/1 [==============================] - 0s 98ms/step - loss: 0.0050 - mae: 0.0562 - val_loss: 0.1670 - val_mae: 0.3578\n",
      "Epoch 35/100\n",
      "1/1 [==============================] - 0s 100ms/step - loss: 0.0043 - mae: 0.0498 - val_loss: 0.1641 - val_mae: 0.3544\n",
      "Epoch 36/100\n",
      "1/1 [==============================] - 0s 91ms/step - loss: 0.0030 - mae: 0.0428 - val_loss: 0.1608 - val_mae: 0.3505\n",
      "Epoch 37/100\n",
      "1/1 [==============================] - 0s 87ms/step - loss: 0.0022 - mae: 0.0428 - val_loss: 0.1575 - val_mae: 0.3466\n",
      "Epoch 38/100\n",
      "1/1 [==============================] - 0s 93ms/step - loss: 0.0034 - mae: 0.0428 - val_loss: 0.1538 - val_mae: 0.3421\n",
      "Epoch 39/100\n",
      "1/1 [==============================] - 0s 83ms/step - loss: 0.0019 - mae: 0.0428 - val_loss: 0.1504 - val_mae: 0.3379\n",
      "Epoch 40/100\n",
      "1/1 [==============================] - 0s 91ms/step - loss: 0.0021 - mae: 0.0428 - val_loss: 0.1477 - val_mae: 0.3346\n",
      "Epoch 41/100\n",
      "1/1 [==============================] - 0s 93ms/step - loss: 0.0022 - mae: 0.0428 - val_loss: 0.1450 - val_mae: 0.3312\n",
      "Epoch 42/100\n",
      "1/1 [==============================] - 0s 103ms/step - loss: 0.0019 - mae: 0.0428 - val_loss: 0.1427 - val_mae: 0.3282\n",
      "Epoch 43/100\n",
      "1/1 [==============================] - 0s 91ms/step - loss: 0.0023 - mae: 0.0428 - val_loss: 0.1411 - val_mae: 0.3261\n",
      "Epoch 44/100\n",
      "1/1 [==============================] - 0s 93ms/step - loss: 0.0029 - mae: 0.0428 - val_loss: 0.1391 - val_mae: 0.3235\n",
      "Epoch 45/100\n",
      "1/1 [==============================] - 0s 92ms/step - loss: 0.0019 - mae: 0.0428 - val_loss: 0.1375 - val_mae: 0.3213\n",
      "Epoch 46/100\n",
      "1/1 [==============================] - 0s 99ms/step - loss: 0.0018 - mae: 0.0428 - val_loss: 0.1360 - val_mae: 0.3194\n",
      "Epoch 47/100\n",
      "1/1 [==============================] - 0s 102ms/step - loss: 0.0030 - mae: 0.0428 - val_loss: 0.1355 - val_mae: 0.3186\n",
      "Epoch 48/100\n",
      "1/1 [==============================] - 0s 87ms/step - loss: 0.0033 - mae: 0.0428 - val_loss: 0.1358 - val_mae: 0.3191\n",
      "Epoch 49/100\n",
      "1/1 [==============================] - 0s 92ms/step - loss: 0.0021 - mae: 0.0428 - val_loss: 0.1364 - val_mae: 0.3198\n",
      "Epoch 50/100\n",
      "1/1 [==============================] - 0s 93ms/step - loss: 0.0018 - mae: 0.0428 - val_loss: 0.1370 - val_mae: 0.3206\n",
      "Epoch 51/100\n",
      "1/1 [==============================] - 0s 94ms/step - loss: 0.0019 - mae: 0.0428 - val_loss: 0.1374 - val_mae: 0.3212\n",
      "Epoch 52/100\n",
      "1/1 [==============================] - 0s 96ms/step - loss: 0.0019 - mae: 0.0428 - val_loss: 0.1379 - val_mae: 0.3219\n",
      "Epoch 53/100\n",
      "1/1 [==============================] - 0s 98ms/step - loss: 0.0027 - mae: 0.0428 - val_loss: 0.1390 - val_mae: 0.3233\n",
      "Epoch 54/100\n",
      "1/1 [==============================] - 0s 91ms/step - loss: 0.0027 - mae: 0.0428 - val_loss: 0.1407 - val_mae: 0.3255\n",
      "Epoch 55/100\n",
      "1/1 [==============================] - 0s 92ms/step - loss: 0.0019 - mae: 0.0428 - val_loss: 0.1421 - val_mae: 0.3274\n",
      "Epoch 56/100\n",
      "1/1 [==============================] - 0s 84ms/step - loss: 0.0023 - mae: 0.0428 - val_loss: 0.1439 - val_mae: 0.3296\n",
      "Epoch 57/100\n",
      "1/1 [==============================] - 0s 99ms/step - loss: 0.0025 - mae: 0.0428 - val_loss: 0.1450 - val_mae: 0.3311\n",
      "Epoch 58/100\n",
      "1/1 [==============================] - 0s 86ms/step - loss: 0.0021 - mae: 0.0428 - val_loss: 0.1464 - val_mae: 0.3329\n",
      "Epoch 59/100\n",
      "1/1 [==============================] - 0s 84ms/step - loss: 0.0019 - mae: 0.0428 - val_loss: 0.1478 - val_mae: 0.3347\n",
      "Epoch 60/100\n",
      "1/1 [==============================] - 0s 91ms/step - loss: 0.0033 - mae: 0.0428 - val_loss: 0.1485 - val_mae: 0.3356\n",
      "Epoch 61/100\n",
      "1/1 [==============================] - 0s 97ms/step - loss: 0.0018 - mae: 0.0428 - val_loss: 0.1491 - val_mae: 0.3363\n",
      "Epoch 62/100\n",
      "1/1 [==============================] - 0s 87ms/step - loss: 0.0018 - mae: 0.0428 - val_loss: 0.1495 - val_mae: 0.3368\n",
      "Epoch 63/100\n",
      "1/1 [==============================] - 0s 90ms/step - loss: 0.0020 - mae: 0.0428 - val_loss: 0.1497 - val_mae: 0.3371\n",
      "Epoch 64/100\n",
      "1/1 [==============================] - 0s 99ms/step - loss: 0.0019 - mae: 0.0428 - val_loss: 0.1498 - val_mae: 0.3371\n",
      "Epoch 65/100\n",
      "1/1 [==============================] - 0s 90ms/step - loss: 0.0025 - mae: 0.0428 - val_loss: 0.1494 - val_mae: 0.3367\n",
      "Epoch 66/100\n",
      "1/1 [==============================] - 0s 88ms/step - loss: 0.0018 - mae: 0.0428 - val_loss: 0.1490 - val_mae: 0.3362\n",
      "Epoch 67/100\n",
      "1/1 [==============================] - 0s 87ms/step - loss: 0.0019 - mae: 0.0428 - val_loss: 0.1485 - val_mae: 0.3355\n",
      "Epoch 68/100\n",
      "1/1 [==============================] - 0s 85ms/step - loss: 0.0018 - mae: 0.0428 - val_loss: 0.1479 - val_mae: 0.3348\n",
      "Epoch 69/100\n",
      "1/1 [==============================] - 0s 117ms/step - loss: 0.0020 - mae: 0.0428 - val_loss: 0.1473 - val_mae: 0.3340\n",
      "Epoch 70/100\n",
      "1/1 [==============================] - 0s 86ms/step - loss: 0.0028 - mae: 0.0428 - val_loss: 0.1462 - val_mae: 0.3326\n",
      "Epoch 71/100\n",
      "1/1 [==============================] - 0s 96ms/step - loss: 0.0019 - mae: 0.0428 - val_loss: 0.1451 - val_mae: 0.3312\n",
      "Epoch 72/100\n",
      "1/1 [==============================] - 0s 84ms/step - loss: 0.0018 - mae: 0.0428 - val_loss: 0.1441 - val_mae: 0.3300\n",
      "Epoch 73/100\n",
      "1/1 [==============================] - 0s 86ms/step - loss: 0.0018 - mae: 0.0428 - val_loss: 0.1432 - val_mae: 0.3288\n",
      "Epoch 74/100\n",
      "1/1 [==============================] - 0s 84ms/step - loss: 0.0019 - mae: 0.0428 - val_loss: 0.1426 - val_mae: 0.3281\n",
      "Epoch 75/100\n",
      "1/1 [==============================] - 0s 83ms/step - loss: 0.0019 - mae: 0.0428 - val_loss: 0.1419 - val_mae: 0.3271\n",
      "Epoch 76/100\n",
      "1/1 [==============================] - 0s 91ms/step - loss: 0.0019 - mae: 0.0428 - val_loss: 0.1411 - val_mae: 0.3261\n",
      "Epoch 77/100\n",
      "1/1 [==============================] - 0s 100ms/step - loss: 0.0019 - mae: 0.0428 - val_loss: 0.1405 - val_mae: 0.3254\n",
      "Epoch 78/100\n",
      "1/1 [==============================] - 0s 99ms/step - loss: 0.0020 - mae: 0.0428 - val_loss: 0.1403 - val_mae: 0.3250\n",
      "Epoch 79/100\n",
      "1/1 [==============================] - 0s 87ms/step - loss: 0.0019 - mae: 0.0428 - val_loss: 0.1402 - val_mae: 0.3249\n",
      "Epoch 80/100\n",
      "1/1 [==============================] - 0s 92ms/step - loss: 0.0024 - mae: 0.0428 - val_loss: 0.1405 - val_mae: 0.3253\n",
      "Epoch 81/100\n",
      "1/1 [==============================] - 0s 86ms/step - loss: 0.0019 - mae: 0.0428 - val_loss: 0.1410 - val_mae: 0.3260\n",
      "Epoch 82/100\n",
      "1/1 [==============================] - 0s 100ms/step - loss: 0.0019 - mae: 0.0428 - val_loss: 0.1416 - val_mae: 0.3267\n",
      "Epoch 83/100\n",
      "1/1 [==============================] - 0s 78ms/step - loss: 0.0027 - mae: 0.0428 - val_loss: 0.1427 - val_mae: 0.3282\n",
      "Epoch 84/100\n",
      "1/1 [==============================] - 0s 93ms/step - loss: 0.0018 - mae: 0.0428 - val_loss: 0.1438 - val_mae: 0.3296\n",
      "Epoch 85/100\n",
      "1/1 [==============================] - 0s 102ms/step - loss: 0.0019 - mae: 0.0428 - val_loss: 0.1449 - val_mae: 0.3310\n",
      "Epoch 86/100\n",
      "1/1 [==============================] - 0s 97ms/step - loss: 0.0018 - mae: 0.0428 - val_loss: 0.1459 - val_mae: 0.3322\n",
      "Epoch 87/100\n",
      "1/1 [==============================] - 0s 85ms/step - loss: 0.0024 - mae: 0.0428 - val_loss: 0.1464 - val_mae: 0.3328\n",
      "Epoch 88/100\n",
      "1/1 [==============================] - 0s 99ms/step - loss: 0.0019 - mae: 0.0428 - val_loss: 0.1467 - val_mae: 0.3333\n",
      "Epoch 89/100\n",
      "1/1 [==============================] - 0s 91ms/step - loss: 0.0020 - mae: 0.0428 - val_loss: 0.1473 - val_mae: 0.3340\n",
      "Epoch 90/100\n",
      "1/1 [==============================] - 0s 91ms/step - loss: 0.0024 - mae: 0.0428 - val_loss: 0.1474 - val_mae: 0.3342\n",
      "Epoch 91/100\n",
      "1/1 [==============================] - 0s 99ms/step - loss: 0.0018 - mae: 0.0428 - val_loss: 0.1476 - val_mae: 0.3344\n",
      "Epoch 92/100\n",
      "1/1 [==============================] - 0s 107ms/step - loss: 0.0021 - mae: 0.0428 - val_loss: 0.1474 - val_mae: 0.3342\n",
      "Epoch 93/100\n",
      "1/1 [==============================] - 0s 89ms/step - loss: 0.0020 - mae: 0.0428 - val_loss: 0.1476 - val_mae: 0.3345\n",
      "Epoch 94/100\n",
      "1/1 [==============================] - 0s 91ms/step - loss: 0.0020 - mae: 0.0428 - val_loss: 0.1476 - val_mae: 0.3344\n",
      "Epoch 95/100\n",
      "1/1 [==============================] - 0s 93ms/step - loss: 0.0018 - mae: 0.0428 - val_loss: 0.1475 - val_mae: 0.3343\n",
      "Epoch 96/100\n",
      "1/1 [==============================] - 0s 89ms/step - loss: 0.0019 - mae: 0.0428 - val_loss: 0.1473 - val_mae: 0.3340\n",
      "Epoch 97/100\n",
      "1/1 [==============================] - 0s 96ms/step - loss: 0.0020 - mae: 0.0428 - val_loss: 0.1468 - val_mae: 0.3334\n",
      "Epoch 98/100\n",
      "1/1 [==============================] - 0s 95ms/step - loss: 0.0019 - mae: 0.0428 - val_loss: 0.1463 - val_mae: 0.3328\n",
      "Epoch 99/100\n",
      "1/1 [==============================] - 0s 97ms/step - loss: 0.0020 - mae: 0.0428 - val_loss: 0.1462 - val_mae: 0.3326\n",
      "Epoch 100/100\n",
      "1/1 [==============================] - 0s 100ms/step - loss: 0.0018 - mae: 0.0428 - val_loss: 0.1460 - val_mae: 0.3324\n"
     ]
    }
   ],
   "source": [
    "#Using mae and mse\n",
    "model.compile(optimizer=tf.keras.optimizers.SGD(learning_rate=0.01, momentum=0.9),metrics=['mae'],loss='mse')\n",
    "model.summary()\n",
    "hist=model.fit(train_set,epochs=100,validation_data=valid_set)"
   ]
  },
  {
   "cell_type": "code",
   "execution_count": 91,
   "metadata": {},
   "outputs": [
    {
     "data": {
      "image/png": "[encoded data removed]",
      "text/plain": [
       "<Figure size 432x288 with 1 Axes>"
      ]
     },
     "metadata": {
      "needs_background": "light"
     },
     "output_type": "display_data"
    }
   ],
   "source": [
    "plt.plot(hist.history['mae'], label='MAE (training data)')\n",
    "plt.plot(hist.history['val_mae'], label='MAE (validation data)')\n",
    "\n",
    "plt.ylabel('MAE value')\n",
    "plt.xlabel('No. epoch')\n",
    "plt.legend(loc=\"upper left\")\n",
    "plt.show()"
   ]
  },
  {
   "cell_type": "code",
   "execution_count": 95,
   "metadata": {},
   "outputs": [
    {
     "name": "stdout",
     "output_type": "stream",
     "text": [
      "WARNING:tensorflow:5 out of the last 12 calls to <function Model.make_predict_function.<locals>.predict_function at 0x000001F2D6CE1AF0> triggered tf.function retracing. Tracing is expensive and the excessive number of tracings could be due to (1) creating @tf.function repeatedly in a loop, (2) passing tensors with different shapes, (3) passing Python objects instead of tensors. For (1), please define your @tf.function outside of the loop. For (2), @tf.function has experimental_relax_shapes=True option that relaxes argument shapes that can avoid unnecessary retracing. For (3), please refer to https://www.tensorflow.org/guide/function#controlling_retracing and https://www.tensorflow.org/api_docs/python/tf/function for  more details.\n"
     ]
    },
    {
     "data": {
      "text/plain": [
       "array([[0.18251646],\n",
       "       [0.18189527],\n",
       "       [0.1812896 ]], dtype=float32)"
      ]
     },
     "execution_count": 95,
     "metadata": {},
     "output_type": "execute_result"
    }
   ],
   "source": [
    "prediksi=model.predict([21, 22, 23])\n",
    "prediksi"
   ]
  },
  {
   "cell_type": "code",
   "execution_count": 96,
   "metadata": {},
   "outputs": [],
   "source": [
    "import matplotlib.pyplot as plt\n"
   ]
  },
  {
   "cell_type": "code",
   "execution_count": 97,
   "metadata": {},
   "outputs": [
    {
     "data": {
      "text/plain": [
       "[<matplotlib.lines.Line2D at 0x1f2d904caf0>]"
      ]
     },
     "execution_count": 97,
     "metadata": {},
     "output_type": "execute_result"
    },
    {
     "data": {
      "image/png": "[encoded data removed]",
      "text/plain": [
       "<Figure size 432x288 with 1 Axes>"
      ]
     },
     "metadata": {
      "needs_background": "light"
     },
     "output_type": "display_data"
    }
   ],
   "source": [
    "series = series * max\n",
    "series = series + min\n",
    "plt.plot(series)"
   ]
  },
  {
   "cell_type": "code",
   "execution_count": 98,
   "metadata": {},
   "outputs": [
    {
     "data": {
      "text/plain": [
       "array([[1333.7739],\n",
       "       [1329.8506],\n",
       "       [1326.0251]], dtype=float32)"
      ]
     },
     "execution_count": 98,
     "metadata": {},
     "output_type": "execute_result"
    }
   ],
   "source": [
    "prediksi = prediksi * max\n",
    "prediksi = prediksi + min\n",
    "prediksi"
   ]
  },
  {
   "cell_type": "code",
   "execution_count": 99,
   "metadata": {},
   "outputs": [],
   "source": [
    "prediksi=prediksi.flatten()"
   ]
  },
  {
   "cell_type": "code",
   "execution_count": 100,
   "metadata": {},
   "outputs": [],
   "source": [
    "hasil=np.concatenate((series[:-split_time],prediksi))"
   ]
  },
  {
   "cell_type": "code",
   "execution_count": 101,
   "metadata": {},
   "outputs": [
    {
     "data": {
      "text/plain": [
       "array([4624.        ,  959.        , 1500.        , 4900.        ,\n",
       "       1812.        , 2128.        , 3913.        , 5320.        ,\n",
       "       2657.        , 4730.        ,  181.        , 2337.        ,\n",
       "       2382.        , 1005.        , 3682.        , 3585.        ,\n",
       "       6316.        , 2531.        , 3752.        , 2508.        ,\n",
       "       3637.        , 1333.77392578, 1329.85058594, 1326.02514648])"
      ]
     },
     "execution_count": 101,
     "metadata": {},
     "output_type": "execute_result"
    }
   ],
   "source": [
    "hasil"
   ]
  },
  {
   "cell_type": "code",
   "execution_count": 102,
   "metadata": {},
   "outputs": [
    {
     "data": {
      "text/plain": [
       "[<matplotlib.lines.Line2D at 0x1f2d3645190>]"
      ]
     },
     "execution_count": 102,
     "metadata": {},
     "output_type": "execute_result"
    },
    {
     "data": {
      "image/png": "[encoded data removed]",
      "text/plain": [
       "<Figure size 432x288 with 1 Axes>"
      ]
     },
     "metadata": {
      "needs_background": "light"
     },
     "output_type": "display_data"
    }
   ],
   "source": [
    "plt.plot(hasil)"
   ]
  },
  {
   "cell_type": "markdown",
   "metadata": {},
   "source": [
    "# C0"
   ]
  },
  {
   "cell_type": "code",
   "execution_count": 6,
   "metadata": {},
   "outputs": [],
   "source": [
    "## do the same for the others, tapi karena yang lain punya beberapa anggota, nah itu di average dulu per tanggalnya\n",
    "c0=c0.drop(columns=['Kode Produk', 'Cluster'])\n"
   ]
  },
  {
   "cell_type": "code",
   "execution_count": 22,
   "metadata": {},
   "outputs": [
    {
     "data": {
      "text/plain": [
       "[56,\n",
       " 7,\n",
       " 8,\n",
       " 14,\n",
       " 16,\n",
       " 10,\n",
       " 21,\n",
       " 20,\n",
       " 68,\n",
       " 21,\n",
       " 37,\n",
       " 55,\n",
       " 58,\n",
       " 7,\n",
       " 59,\n",
       " 17,\n",
       " 6,\n",
       " 9,\n",
       " 62,\n",
       " 67,\n",
       " 62,\n",
       " 67,\n",
       " 77,\n",
       " 11]"
      ]
     },
     "execution_count": 22,
     "metadata": {},
     "output_type": "execute_result"
    }
   ],
   "source": [
    "p1=c0.iloc[0]\n",
    "p1=p1.values.tolist()\n",
    "p1"
   ]
  },
  {
   "cell_type": "code",
   "execution_count": 8,
   "metadata": {},
   "outputs": [],
   "source": [
    "#next, buat dia kayak mejeneng time series seperti biasanya, which is datanya ke bawah, tapi di average per tanggal \n",
    "new_c0=[]\n",
    "time=[]\n",
    "for idx,a in enumerate(c0):\n",
    "    new_c0.append(c0[a].mean())\n",
    "    time.append(idx)\n"
   ]
  },
  {
   "cell_type": "code",
   "execution_count": 9,
   "metadata": {},
   "outputs": [
    {
     "data": {
      "text/plain": [
       "[28.010416666666668,\n",
       " 25.8125,\n",
       " 26.0,\n",
       " 24.8125,\n",
       " 28.427083333333332,\n",
       " 15.791666666666666,\n",
       " 31.25,\n",
       " 22.510416666666668,\n",
       " 30.760416666666668,\n",
       " 33.020833333333336,\n",
       " 28.020833333333332,\n",
       " 23.677083333333332,\n",
       " 27.677083333333332,\n",
       " 26.78125,\n",
       " 26.270833333333332,\n",
       " 19.114583333333332,\n",
       " 11.395833333333334,\n",
       " 13.270833333333334,\n",
       " 20.385416666666668,\n",
       " 22.083333333333332,\n",
       " 21.53125,\n",
       " 15.895833333333334,\n",
       " 19.885416666666668,\n",
       " 19.5625]"
      ]
     },
     "execution_count": 9,
     "metadata": {},
     "output_type": "execute_result"
    }
   ],
   "source": [
    "new_c0"
   ]
  },
  {
   "cell_type": "code",
   "execution_count": 10,
   "metadata": {},
   "outputs": [],
   "source": [
    "#normalisasi, karena gap nya ada yang sampe ribuan, biar lebih gampang tugas ann nya\n",
    "series=new_c0\n",
    "min = np.min(series)\n",
    "max = np.max(series)\n",
    "series = series - min\n",
    "series = series / max\n",
    "time = np.array(time)"
   ]
  },
  {
   "cell_type": "code",
   "execution_count": 11,
   "metadata": {},
   "outputs": [],
   "source": [
    "split_time = 3 # ini berapa bulan terkahir yang mau di potong buat pengujian?\n",
    "\n",
    "time_train = time[:split_time]\n",
    "x_train =  series[:split_time]\n",
    "time_valid =  time[split_time:]\n",
    "x_valid =  series[split_time:]"
   ]
  },
  {
   "cell_type": "code",
   "execution_count": 12,
   "metadata": {},
   "outputs": [],
   "source": [
    "#buat data biar dibagi per window, jadi me masang masangkan waktu dan value,\n",
    "window_size = 2\n",
    "batch_size = 2\n",
    "shuffle_buffer_size = 10\n",
    "\n",
    "train_set = windowed_dataset(x_train, window_size, batch_size, shuffle_buffer_size)\n",
    "valid_set = windowed_dataset(x_valid, window_size, batch_size, shuffle_buffer_size)"
   ]
  },
  {
   "cell_type": "code",
   "execution_count": 17,
   "metadata": {},
   "outputs": [],
   "source": [
    "model = tf.keras.Sequential([\n",
    "        tf.keras.layers.Dense(2, input_shape=[None, 1], activation=\"relu\"),\n",
    "        #tf.keras.layers.Bidirectional(tf.keras.layers.LSTM(64,return_sequences=True)),\n",
    "        tf.keras.layers.Bidirectional(tf.keras.layers.LSTM(32)),\n",
    "        tf.keras.layers.Flatten(),\n",
    "        #tf.keras.layers.GlobalAveragePooling1D(),\n",
    "        tf.keras.layers.Dense(256, activation='relu'),\n",
    "        #tf.keras.layers.Dropout(0.2),\n",
    "        tf.keras.layers.Dense(64, activation='relu'),\n",
    "        tf.keras.layers.Dense(32, activation='relu'),\n",
    "        tf.keras.layers.Dropout(0.3),\n",
    "        tf.keras.layers.Dense(1)\n",
    "    ])\n",
    "\n",
    "    #the blstm part"
   ]
  },
  {
   "cell_type": "code",
   "execution_count": 18,
   "metadata": {},
   "outputs": [
    {
     "name": "stdout",
     "output_type": "stream",
     "text": [
      "Model: \"sequential\"\n",
      "_________________________________________________________________\n",
      "Layer (type)                 Output Shape              Param #   \n",
      "=================================================================\n",
      "dense (Dense)                (None, None, 2)           4         \n",
      "_________________________________________________________________\n",
      "bidirectional (Bidirectional (None, 64)                8960      \n",
      "_________________________________________________________________\n",
      "flatten (Flatten)            (None, 64)                0         \n",
      "_________________________________________________________________\n",
      "dense_1 (Dense)              (None, 256)               16640     \n",
      "_________________________________________________________________\n",
      "dense_2 (Dense)              (None, 64)                16448     \n",
      "_________________________________________________________________\n",
      "dense_3 (Dense)              (None, 32)                2080      \n",
      "_________________________________________________________________\n",
      "dropout (Dropout)            (None, 32)                0         \n",
      "_________________________________________________________________\n",
      "dense_4 (Dense)              (None, 1)                 33        \n",
      "=================================================================\n",
      "Total params: 44,165\n",
      "Trainable params: 44,165\n",
      "Non-trainable params: 0\n",
      "_________________________________________________________________\n",
      "Epoch 1/100\n",
      "1/1 [==============================] - 7s 7s/step - loss: 0.1965 - mae: 0.4433 - val_loss: 0.1463 - val_mae: 0.3369\n",
      "Epoch 2/100\n",
      "1/1 [==============================] - 0s 135ms/step - loss: 0.1847 - mae: 0.4298 - val_loss: 0.1249 - val_mae: 0.3076\n",
      "Epoch 3/100\n",
      "1/1 [==============================] - 0s 133ms/step - loss: 0.1560 - mae: 0.3949 - val_loss: 0.1030 - val_mae: 0.2755\n",
      "Epoch 4/100\n",
      "1/1 [==============================] - 0s 121ms/step - loss: 0.1381 - mae: 0.3716 - val_loss: 0.0816 - val_mae: 0.2407\n",
      "Epoch 5/100\n",
      "1/1 [==============================] - 0s 114ms/step - loss: 0.1080 - mae: 0.3285 - val_loss: 0.0618 - val_mae: 0.2094\n",
      "Epoch 6/100\n",
      "1/1 [==============================] - 0s 120ms/step - loss: 0.0555 - mae: 0.2356 - val_loss: 0.0461 - val_mae: 0.1782\n",
      "Epoch 7/100\n",
      "1/1 [==============================] - 0s 113ms/step - loss: 0.0365 - mae: 0.1910 - val_loss: 0.0360 - val_mae: 0.1552\n",
      "Epoch 8/100\n",
      "1/1 [==============================] - 0s 104ms/step - loss: 0.0113 - mae: 0.1061 - val_loss: 0.0320 - val_mae: 0.1477\n",
      "Epoch 9/100\n",
      "1/1 [==============================] - 0s 141ms/step - loss: 0.0053 - mae: 0.0729 - val_loss: 0.0338 - val_mae: 0.1554\n",
      "Epoch 10/100\n",
      "1/1 [==============================] - 0s 119ms/step - loss: 0.0081 - mae: 0.0899 - val_loss: 0.0406 - val_mae: 0.1657\n",
      "Epoch 11/100\n",
      "1/1 [==============================] - 0s 106ms/step - loss: 3.9815e-04 - mae: 0.0198 - val_loss: 0.0512 - val_mae: 0.1819\n",
      "Epoch 12/100\n",
      "1/1 [==============================] - 0s 109ms/step - loss: 0.0026 - mae: 0.0512 - val_loss: 0.0637 - val_mae: 0.2061\n",
      "Epoch 13/100\n",
      "1/1 [==============================] - 0s 125ms/step - loss: 0.0085 - mae: 0.0921 - val_loss: 0.0762 - val_mae: 0.2279\n",
      "Epoch 14/100\n",
      "1/1 [==============================] - 0s 137ms/step - loss: 8.6106e-04 - mae: 0.0292 - val_loss: 0.0896 - val_mae: 0.2488\n",
      "Epoch 15/100\n",
      "1/1 [==============================] - 0s 130ms/step - loss: 0.0368 - mae: 0.1919 - val_loss: 0.0988 - val_mae: 0.2638\n",
      "Epoch 16/100\n",
      "1/1 [==============================] - 0s 136ms/step - loss: 0.0584 - mae: 0.2416 - val_loss: 0.1019 - val_mae: 0.2689\n",
      "Epoch 17/100\n",
      "1/1 [==============================] - 0s 129ms/step - loss: 0.0143 - mae: 0.1197 - val_loss: 0.1023 - val_mae: 0.2696\n",
      "Epoch 18/100\n",
      "1/1 [==============================] - 0s 126ms/step - loss: 0.0534 - mae: 0.2310 - val_loss: 0.0975 - val_mae: 0.2614\n",
      "Epoch 19/100\n",
      "1/1 [==============================] - 0s 122ms/step - loss: 0.0300 - mae: 0.1730 - val_loss: 0.0902 - val_mae: 0.2497\n",
      "Epoch 20/100\n",
      "1/1 [==============================] - 0s 150ms/step - loss: 0.0215 - mae: 0.1467 - val_loss: 0.0817 - val_mae: 0.2365\n",
      "Epoch 21/100\n",
      "1/1 [==============================] - 0s 134ms/step - loss: 0.0462 - mae: 0.2150 - val_loss: 0.0711 - val_mae: 0.2192\n",
      "Epoch 22/100\n",
      "1/1 [==============================] - 0s 135ms/step - loss: 0.0378 - mae: 0.1943 - val_loss: 0.0599 - val_mae: 0.1983\n",
      "Epoch 23/100\n",
      "1/1 [==============================] - 0s 116ms/step - loss: 0.0054 - mae: 0.0737 - val_loss: 0.0510 - val_mae: 0.1816\n",
      "Epoch 24/100\n",
      "1/1 [==============================] - 0s 139ms/step - loss: 0.0020 - mae: 0.0447 - val_loss: 0.0443 - val_mae: 0.1710\n",
      "Epoch 25/100\n",
      "1/1 [==============================] - 0s 129ms/step - loss: 0.0057 - mae: 0.0753 - val_loss: 0.0391 - val_mae: 0.1645\n",
      "Epoch 26/100\n",
      "1/1 [==============================] - 0s 131ms/step - loss: 3.9988e-04 - mae: 0.0198 - val_loss: 0.0359 - val_mae: 0.1598\n",
      "Epoch 27/100\n",
      "1/1 [==============================] - 0s 132ms/step - loss: 2.0533e-04 - mae: 0.0140 - val_loss: 0.0339 - val_mae: 0.1558\n",
      "Epoch 28/100\n",
      "1/1 [==============================] - 0s 135ms/step - loss: 0.0037 - mae: 0.0607 - val_loss: 0.0330 - val_mae: 0.1526\n",
      "Epoch 29/100\n",
      "1/1 [==============================] - 0s 119ms/step - loss: 0.0038 - mae: 0.0618 - val_loss: 0.0326 - val_mae: 0.1513\n",
      "Epoch 30/100\n",
      "1/1 [==============================] - 0s 104ms/step - loss: 0.0121 - mae: 0.1100 - val_loss: 0.0325 - val_mae: 0.1507\n",
      "Epoch 31/100\n",
      "1/1 [==============================] - 0s 131ms/step - loss: 0.0048 - mae: 0.0693 - val_loss: 0.0324 - val_mae: 0.1503\n",
      "Epoch 32/100\n",
      "1/1 [==============================] - 0s 129ms/step - loss: 0.0023 - mae: 0.0474 - val_loss: 0.0324 - val_mae: 0.1502\n",
      "Epoch 33/100\n",
      "1/1 [==============================] - 0s 125ms/step - loss: 0.0025 - mae: 0.0497 - val_loss: 0.0324 - val_mae: 0.1502\n",
      "Epoch 34/100\n",
      "1/1 [==============================] - 0s 154ms/step - loss: 0.0023 - mae: 0.0481 - val_loss: 0.0325 - val_mae: 0.1504\n",
      "Epoch 35/100\n",
      "1/1 [==============================] - 0s 122ms/step - loss: 0.0054 - mae: 0.0734 - val_loss: 0.0325 - val_mae: 0.1509\n",
      "Epoch 36/100\n",
      "1/1 [==============================] - 0s 118ms/step - loss: 0.0178 - mae: 0.1335 - val_loss: 0.0327 - val_mae: 0.1516\n",
      "Epoch 37/100\n",
      "1/1 [==============================] - 0s 104ms/step - loss: 0.0038 - mae: 0.0619 - val_loss: 0.0330 - val_mae: 0.1526\n",
      "Epoch 38/100\n",
      "1/1 [==============================] - 0s 93ms/step - loss: 0.0039 - mae: 0.0622 - val_loss: 0.0335 - val_mae: 0.1546\n",
      "Epoch 39/100\n",
      "1/1 [==============================] - 0s 119ms/step - loss: 0.0110 - mae: 0.1049 - val_loss: 0.0344 - val_mae: 0.1570\n",
      "Epoch 40/100\n",
      "1/1 [==============================] - 0s 86ms/step - loss: 0.0011 - mae: 0.0335 - val_loss: 0.0356 - val_mae: 0.1594\n",
      "Epoch 41/100\n",
      "1/1 [==============================] - 0s 101ms/step - loss: 1.8598e-04 - mae: 0.0133 - val_loss: 0.0367 - val_mae: 0.1614\n",
      "Epoch 42/100\n",
      "1/1 [==============================] - 0s 107ms/step - loss: 6.0274e-04 - mae: 0.0244 - val_loss: 0.0378 - val_mae: 0.1631\n",
      "Epoch 43/100\n",
      "1/1 [==============================] - 0s 105ms/step - loss: 7.5214e-04 - mae: 0.0273 - val_loss: 0.0391 - val_mae: 0.1648\n",
      "Epoch 44/100\n",
      "1/1 [==============================] - 0s 109ms/step - loss: 3.8490e-04 - mae: 0.0194 - val_loss: 0.0402 - val_mae: 0.1661\n",
      "Epoch 45/100\n",
      "1/1 [==============================] - 0s 121ms/step - loss: 0.0021 - mae: 0.0455 - val_loss: 0.0409 - val_mae: 0.1670\n",
      "Epoch 46/100\n",
      "1/1 [==============================] - 0s 107ms/step - loss: 3.3349e-05 - mae: 0.0050 - val_loss: 0.0417 - val_mae: 0.1679\n",
      "Epoch 47/100\n",
      "1/1 [==============================] - 0s 116ms/step - loss: 9.9925e-04 - mae: 0.0315 - val_loss: 0.0422 - val_mae: 0.1684\n",
      "Epoch 48/100\n",
      "1/1 [==============================] - 0s 118ms/step - loss: 0.0038 - mae: 0.0619 - val_loss: 0.0422 - val_mae: 0.1684\n",
      "Epoch 49/100\n",
      "1/1 [==============================] - 0s 102ms/step - loss: 0.0034 - mae: 0.0580 - val_loss: 0.0425 - val_mae: 0.1687\n",
      "Epoch 50/100\n",
      "1/1 [==============================] - 0s 105ms/step - loss: 0.0025 - mae: 0.0503 - val_loss: 0.0430 - val_mae: 0.1694\n",
      "Epoch 51/100\n",
      "1/1 [==============================] - 0s 93ms/step - loss: 2.0376e-04 - mae: 0.0140 - val_loss: 0.0434 - val_mae: 0.1700\n",
      "Epoch 52/100\n",
      "1/1 [==============================] - 0s 98ms/step - loss: 0.0040 - mae: 0.0632 - val_loss: 0.0433 - val_mae: 0.1698\n",
      "Epoch 53/100\n",
      "1/1 [==============================] - 0s 116ms/step - loss: 0.0035 - mae: 0.0590 - val_loss: 0.0428 - val_mae: 0.1691\n",
      "Epoch 54/100\n",
      "1/1 [==============================] - 0s 100ms/step - loss: 0.0036 - mae: 0.0602 - val_loss: 0.0419 - val_mae: 0.1682\n",
      "Epoch 55/100\n",
      "1/1 [==============================] - 0s 132ms/step - loss: 1.0998e-04 - mae: 0.0101 - val_loss: 0.0412 - val_mae: 0.1674\n",
      "Epoch 56/100\n",
      "1/1 [==============================] - 0s 116ms/step - loss: 1.7506e-04 - mae: 0.0129 - val_loss: 0.0406 - val_mae: 0.1667\n",
      "Epoch 57/100\n",
      "1/1 [==============================] - 0s 93ms/step - loss: 3.0176e-04 - mae: 0.0171 - val_loss: 0.0401 - val_mae: 0.1661\n",
      "Epoch 58/100\n",
      "1/1 [==============================] - 0s 101ms/step - loss: 3.5045e-04 - mae: 0.0185 - val_loss: 0.0395 - val_mae: 0.1654\n",
      "Epoch 59/100\n",
      "1/1 [==============================] - 0s 122ms/step - loss: 9.3488e-05 - mae: 0.0092 - val_loss: 0.0390 - val_mae: 0.1648\n",
      "Epoch 60/100\n",
      "1/1 [==============================] - 0s 140ms/step - loss: 3.8482e-04 - mae: 0.0194 - val_loss: 0.0386 - val_mae: 0.1643\n",
      "Epoch 61/100\n",
      "1/1 [==============================] - 0s 119ms/step - loss: 0.0011 - mae: 0.0332 - val_loss: 0.0382 - val_mae: 0.1636\n",
      "Epoch 62/100\n",
      "1/1 [==============================] - 0s 128ms/step - loss: 6.6810e-04 - mae: 0.0257 - val_loss: 0.0376 - val_mae: 0.1628\n",
      "Epoch 63/100\n",
      "1/1 [==============================] - 0s 103ms/step - loss: 0.0018 - mae: 0.0421 - val_loss: 0.0373 - val_mae: 0.1624\n",
      "Epoch 64/100\n",
      "1/1 [==============================] - 0s 127ms/step - loss: 1.0825e-04 - mae: 0.0100 - val_loss: 0.0371 - val_mae: 0.1621\n",
      "Epoch 65/100\n",
      "1/1 [==============================] - 0s 121ms/step - loss: 3.7174e-04 - mae: 0.0191 - val_loss: 0.0368 - val_mae: 0.1616\n",
      "Epoch 66/100\n",
      "1/1 [==============================] - 0s 122ms/step - loss: 0.0027 - mae: 0.0515 - val_loss: 0.0368 - val_mae: 0.1616\n",
      "Epoch 67/100\n",
      "1/1 [==============================] - 0s 118ms/step - loss: 0.0020 - mae: 0.0449 - val_loss: 0.0369 - val_mae: 0.1618\n",
      "Epoch 68/100\n",
      "1/1 [==============================] - 0s 110ms/step - loss: 8.5580e-04 - mae: 0.0291 - val_loss: 0.0371 - val_mae: 0.1621\n",
      "Epoch 69/100\n",
      "1/1 [==============================] - 0s 112ms/step - loss: 1.4661e-04 - mae: 0.0118 - val_loss: 0.0374 - val_mae: 0.1625\n",
      "Epoch 70/100\n",
      "1/1 [==============================] - 0s 102ms/step - loss: 0.0012 - mae: 0.0340 - val_loss: 0.0377 - val_mae: 0.1630\n",
      "Epoch 71/100\n",
      "1/1 [==============================] - 0s 110ms/step - loss: 3.9810e-04 - mae: 0.0197 - val_loss: 0.0380 - val_mae: 0.1634\n",
      "Epoch 72/100\n",
      "1/1 [==============================] - 0s 102ms/step - loss: 1.4160e-05 - mae: 0.0028 - val_loss: 0.0382 - val_mae: 0.1637\n",
      "Epoch 73/100\n",
      "1/1 [==============================] - 0s 116ms/step - loss: 0.0015 - mae: 0.0384 - val_loss: 0.0386 - val_mae: 0.1642\n",
      "Epoch 74/100\n",
      "1/1 [==============================] - 0s 112ms/step - loss: 8.1116e-06 - mae: 0.0028 - val_loss: 0.0389 - val_mae: 0.1647\n",
      "Epoch 75/100\n",
      "1/1 [==============================] - 0s 108ms/step - loss: 9.8003e-04 - mae: 0.0312 - val_loss: 0.0391 - val_mae: 0.1649\n",
      "Epoch 76/100\n",
      "1/1 [==============================] - 0s 109ms/step - loss: 0.0010 - mae: 0.0320 - val_loss: 0.0390 - val_mae: 0.1648\n",
      "Epoch 77/100\n",
      "1/1 [==============================] - 0s 101ms/step - loss: 0.0010 - mae: 0.0318 - val_loss: 0.0391 - val_mae: 0.1649\n",
      "Epoch 78/100\n",
      "1/1 [==============================] - 0s 109ms/step - loss: 8.0611e-06 - mae: 0.0028 - val_loss: 0.0392 - val_mae: 0.1651\n",
      "Epoch 79/100\n",
      "1/1 [==============================] - 0s 105ms/step - loss: 0.0011 - mae: 0.0324 - val_loss: 0.0391 - val_mae: 0.1649\n",
      "Epoch 80/100\n",
      "1/1 [==============================] - 0s 106ms/step - loss: 1.0513e-05 - mae: 0.0028 - val_loss: 0.0390 - val_mae: 0.1648\n",
      "Epoch 81/100\n",
      "1/1 [==============================] - 0s 108ms/step - loss: 7.5716e-04 - mae: 0.0274 - val_loss: 0.0388 - val_mae: 0.1645\n",
      "Epoch 82/100\n",
      "1/1 [==============================] - 0s 106ms/step - loss: 0.0049 - mae: 0.0700 - val_loss: 0.0388 - val_mae: 0.1646\n",
      "Epoch 83/100\n",
      "1/1 [==============================] - 0s 123ms/step - loss: 2.9077e-05 - mae: 0.0046 - val_loss: 0.0388 - val_mae: 0.1646\n",
      "Epoch 84/100\n",
      "1/1 [==============================] - 0s 118ms/step - loss: 6.6659e-05 - mae: 0.0077 - val_loss: 0.0388 - val_mae: 0.1646\n",
      "Epoch 85/100\n",
      "1/1 [==============================] - 0s 118ms/step - loss: 0.0034 - mae: 0.0585 - val_loss: 0.0390 - val_mae: 0.1649\n",
      "Epoch 86/100\n",
      "1/1 [==============================] - 0s 118ms/step - loss: 1.1527e-05 - mae: 0.0028 - val_loss: 0.0393 - val_mae: 0.1652\n",
      "Epoch 87/100\n",
      "1/1 [==============================] - 0s 109ms/step - loss: 1.4268e-05 - mae: 0.0028 - val_loss: 0.0395 - val_mae: 0.1654\n",
      "Epoch 88/100\n",
      "1/1 [==============================] - 0s 117ms/step - loss: 2.3349e-05 - mae: 0.0039 - val_loss: 0.0397 - val_mae: 0.1657\n",
      "Epoch 89/100\n",
      "1/1 [==============================] - 0s 113ms/step - loss: 0.0057 - mae: 0.0753 - val_loss: 0.0401 - val_mae: 0.1662\n",
      "Epoch 90/100\n",
      "1/1 [==============================] - 0s 114ms/step - loss: 0.0015 - mae: 0.0390 - val_loss: 0.0408 - val_mae: 0.1670\n",
      "Epoch 91/100\n",
      "1/1 [==============================] - 0s 110ms/step - loss: 9.2891e-05 - mae: 0.0092 - val_loss: 0.0413 - val_mae: 0.1676\n",
      "Epoch 92/100\n",
      "1/1 [==============================] - 0s 106ms/step - loss: 0.0018 - mae: 0.0422 - val_loss: 0.0415 - val_mae: 0.1678\n",
      "Epoch 93/100\n",
      "1/1 [==============================] - 0s 108ms/step - loss: 0.0010 - mae: 0.0320 - val_loss: 0.0418 - val_mae: 0.1682\n",
      "Epoch 94/100\n",
      "1/1 [==============================] - 0s 129ms/step - loss: 4.9229e-04 - mae: 0.0220 - val_loss: 0.0420 - val_mae: 0.1684\n",
      "Epoch 95/100\n",
      "1/1 [==============================] - 0s 112ms/step - loss: 6.9700e-04 - mae: 0.0262 - val_loss: 0.0423 - val_mae: 0.1687\n",
      "Epoch 96/100\n",
      "1/1 [==============================] - 0s 105ms/step - loss: 1.7586e-04 - mae: 0.0130 - val_loss: 0.0426 - val_mae: 0.1691\n",
      "Epoch 97/100\n",
      "1/1 [==============================] - 0s 119ms/step - loss: 2.0478e-04 - mae: 0.0140 - val_loss: 0.0429 - val_mae: 0.1693\n",
      "Epoch 98/100\n",
      "1/1 [==============================] - 0s 110ms/step - loss: 0.0017 - mae: 0.0413 - val_loss: 0.0428 - val_mae: 0.1692\n",
      "Epoch 99/100\n",
      "1/1 [==============================] - 0s 113ms/step - loss: 3.9720e-04 - mae: 0.0197 - val_loss: 0.0426 - val_mae: 0.1690\n",
      "Epoch 100/100\n",
      "1/1 [==============================] - 0s 119ms/step - loss: 3.3390e-05 - mae: 0.0050 - val_loss: 0.0424 - val_mae: 0.1689\n"
     ]
    }
   ],
   "source": [
    "#Using mae and mse\n",
    "model.compile(optimizer=tf.keras.optimizers.SGD(learning_rate=0.01, momentum=0.9),metrics=['mae'],loss='mse')\n",
    "model.summary()\n",
    "hist=model.fit(train_set,epochs=100,validation_data=valid_set)"
   ]
  },
  {
   "cell_type": "code",
   "execution_count": 20,
   "metadata": {},
   "outputs": [
    {
     "data": {
      "image/png": "[encoded data removed]",
      "text/plain": [
       "<Figure size 432x288 with 1 Axes>"
      ]
     },
     "metadata": {
      "needs_background": "light"
     },
     "output_type": "display_data"
    }
   ],
   "source": [
    "import matplotlib.pyplot as plt\n",
    "plt.plot(hist.history['mae'], label='MAE (training data)')\n",
    "plt.plot(hist.history['val_mae'], label='MAE (validation data)')\n",
    "\n",
    "plt.ylabel('MAE value')\n",
    "plt.xlabel('No. epoch')\n",
    "plt.legend(loc=\"upper left\")\n",
    "plt.show()"
   ]
  },
  {
   "cell_type": "code",
   "execution_count": 21,
   "metadata": {},
   "outputs": [
    {
     "data": {
      "text/plain": [
       "array([[0.43625715],\n",
       "       [0.4360152 ],\n",
       "       [0.43598562]], dtype=float32)"
      ]
     },
     "execution_count": 21,
     "metadata": {},
     "output_type": "execute_result"
    }
   ],
   "source": [
    "prediksi=model.predict([21, 22, 23])\n",
    "prediksi"
   ]
  },
  {
   "cell_type": "code",
   "execution_count": 22,
   "metadata": {},
   "outputs": [
    {
     "data": {
      "text/plain": [
       "[<matplotlib.lines.Line2D at 0x1a513802fa0>]"
      ]
     },
     "execution_count": 22,
     "metadata": {},
     "output_type": "execute_result"
    },
    {
     "data": {
      "image/png": "[encoded data removed]",
      "text/plain": [
       "<Figure size 432x288 with 1 Axes>"
      ]
     },
     "metadata": {
      "needs_background": "light"
     },
     "output_type": "display_data"
    }
   ],
   "source": [
    "#data asli\n",
    "series = series * max\n",
    "series = series + min\n",
    "plt.plot(series)"
   ]
  },
  {
   "cell_type": "code",
   "execution_count": 23,
   "metadata": {},
   "outputs": [
    {
     "data": {
      "text/plain": [
       "array([[25.801407],\n",
       "       [25.793417],\n",
       "       [25.792442]], dtype=float32)"
      ]
     },
     "execution_count": 23,
     "metadata": {},
     "output_type": "execute_result"
    }
   ],
   "source": [
    "prediksi = prediksi * max\n",
    "prediksi = prediksi + min\n",
    "prediksi"
   ]
  },
  {
   "cell_type": "code",
   "execution_count": 24,
   "metadata": {},
   "outputs": [],
   "source": [
    "prediksi=prediksi.flatten()"
   ]
  },
  {
   "cell_type": "code",
   "execution_count": 25,
   "metadata": {},
   "outputs": [],
   "source": [
    "hasil=np.concatenate((series[:-split_time],prediksi))"
   ]
  },
  {
   "cell_type": "code",
   "execution_count": 26,
   "metadata": {},
   "outputs": [
    {
     "data": {
      "text/plain": [
       "array([28.01041667, 25.8125    , 26.        , 24.8125    , 28.42708333,\n",
       "       15.79166667, 31.25      , 22.51041667, 30.76041667, 33.02083333,\n",
       "       28.02083333, 23.67708333, 27.67708333, 26.78125   , 26.27083333,\n",
       "       19.11458333, 11.39583333, 13.27083333, 20.38541667, 22.08333333,\n",
       "       21.53125   , 25.80140686, 25.79341698, 25.79244232])"
      ]
     },
     "execution_count": 26,
     "metadata": {},
     "output_type": "execute_result"
    }
   ],
   "source": [
    "hasil"
   ]
  },
  {
   "cell_type": "code",
   "execution_count": 27,
   "metadata": {},
   "outputs": [
    {
     "data": {
      "text/plain": [
       "[<matplotlib.lines.Line2D at 0x1a513864d30>]"
      ]
     },
     "execution_count": 27,
     "metadata": {},
     "output_type": "execute_result"
    },
    {
     "data": {
      "image/png": "[encoded data removed]",
      "text/plain": [
       "<Figure size 432x288 with 1 Axes>"
      ]
     },
     "metadata": {
      "needs_background": "light"
     },
     "output_type": "display_data"
    }
   ],
   "source": [
    "#data prediksi\n",
    "plt.plot(hasil)"
   ]
  },
  {
   "cell_type": "code",
   "execution_count": 28,
   "metadata": {},
   "outputs": [],
   "source": [
    "#simpan model, biar gak lama latih ulang pake data p1 yang baru\n",
    "model.save('cluster0.h5')"
   ]
  },
  {
   "cell_type": "code",
   "execution_count": 10,
   "metadata": {},
   "outputs": [],
   "source": [
    "## sekarang, kita ambil model khusus cluster 0, terus kita latih ulang lagi dikiit dengan data p1\n",
    "model0=tf.keras.models.load_model('cluster0.h5')"
   ]
  },
  {
   "cell_type": "code",
   "execution_count": 23,
   "metadata": {},
   "outputs": [],
   "source": [
    "#normalisasi, karena gap nya ada yang sampe ribuan, biar lebih gampang tugas ann nya\n",
    "series=p1\n",
    "min = np.min(series)\n",
    "max = np.max(series)\n",
    "series = series - min\n",
    "series = series / max\n",
    "time = np.array(time)"
   ]
  },
  {
   "cell_type": "code",
   "execution_count": 24,
   "metadata": {},
   "outputs": [
    {
     "data": {
      "text/plain": [
       "array([0.64935065, 0.01298701, 0.02597403, 0.1038961 , 0.12987013,\n",
       "       0.05194805, 0.19480519, 0.18181818, 0.80519481, 0.19480519,\n",
       "       0.4025974 , 0.63636364, 0.67532468, 0.01298701, 0.68831169,\n",
       "       0.14285714, 0.        , 0.03896104, 0.72727273, 0.79220779,\n",
       "       0.72727273, 0.79220779, 0.92207792, 0.06493506])"
      ]
     },
     "execution_count": 24,
     "metadata": {},
     "output_type": "execute_result"
    }
   ],
   "source": [
    "series"
   ]
  },
  {
   "cell_type": "code",
   "execution_count": 33,
   "metadata": {},
   "outputs": [
    {
     "data": {
      "text/plain": [
       "array([ 0,  1,  2,  3,  4,  5,  6,  7,  8,  9, 10, 11, 12, 13, 14, 15, 16,\n",
       "       17, 18, 19, 20, 21, 22, 23])"
      ]
     },
     "execution_count": 33,
     "metadata": {},
     "output_type": "execute_result"
    }
   ],
   "source": [
    "time"
   ]
  },
  {
   "cell_type": "code",
   "execution_count": 25,
   "metadata": {},
   "outputs": [],
   "source": [
    "split_time = 3 # ini berapa bulan terkahir yang mau di potong buat pengujian?\n",
    "\n",
    "time_train = time[:split_time]\n",
    "x_train =  series[:split_time]\n",
    "time_valid =  time[split_time:]\n",
    "x_valid =  series[split_time:]"
   ]
  },
  {
   "cell_type": "code",
   "execution_count": 26,
   "metadata": {},
   "outputs": [],
   "source": [
    "#buat data biar dibagi per window, jadi me masang masangkan waktu dan value,\n",
    "window_size = 2\n",
    "batch_size = 2\n",
    "shuffle_buffer_size = 10\n",
    "\n",
    "train_set = windowed_dataset(x_train, window_size, batch_size, shuffle_buffer_size)\n",
    "valid_set = windowed_dataset(x_valid, window_size, batch_size, shuffle_buffer_size)"
   ]
  },
  {
   "cell_type": "code",
   "execution_count": 34,
   "metadata": {},
   "outputs": [],
   "source": [
    "model_for_p1 = tf.keras.Sequential([\n",
    "        model0, \n",
    "        tf.keras.layers.Dense(64, activation='relu'),\n",
    "        tf.keras.layers.Dense(1)\n",
    "    ])\n",
    "\n",
    "    #the blstm part, same thing, but retrained on ONLY THIS PRODUCT\n",
    "    "
   ]
  },
  {
   "cell_type": "code",
   "execution_count": 35,
   "metadata": {},
   "outputs": [
    {
     "name": "stdout",
     "output_type": "stream",
     "text": [
      "Model: \"sequential_2\"\n",
      "_________________________________________________________________\n",
      "Layer (type)                 Output Shape              Param #   \n",
      "=================================================================\n",
      "sequential (Sequential)      (None, 1)                 44165     \n",
      "_________________________________________________________________\n",
      "dense_4 (Dense)              (None, 64)                128       \n",
      "_________________________________________________________________\n",
      "dense_5 (Dense)              (None, 1)                 65        \n",
      "=================================================================\n",
      "Total params: 44,358\n",
      "Trainable params: 44,358\n",
      "Non-trainable params: 0\n",
      "_________________________________________________________________\n",
      "Epoch 1/20\n",
      "1/1 [==============================] - 4s 4s/step - loss: 0.0072 - mae: 0.0847 - val_loss: 0.2140 - val_mae: 0.3602\n",
      "Epoch 2/20\n",
      "1/1 [==============================] - 0s 135ms/step - loss: 0.0069 - mae: 0.0828 - val_loss: 0.2140 - val_mae: 0.3603\n",
      "Epoch 3/20\n",
      "1/1 [==============================] - 0s 113ms/step - loss: 0.0062 - mae: 0.0783 - val_loss: 0.2141 - val_mae: 0.3603\n",
      "Epoch 4/20\n",
      "1/1 [==============================] - 0s 132ms/step - loss: 0.0063 - mae: 0.0792 - val_loss: 0.2142 - val_mae: 0.3604\n",
      "Epoch 5/20\n",
      "1/1 [==============================] - 0s 124ms/step - loss: 0.0066 - mae: 0.0807 - val_loss: 0.2143 - val_mae: 0.3605\n",
      "Epoch 6/20\n",
      "1/1 [==============================] - 0s 134ms/step - loss: 0.0069 - mae: 0.0830 - val_loss: 0.2144 - val_mae: 0.3606\n",
      "Epoch 7/20\n",
      "1/1 [==============================] - 0s 111ms/step - loss: 0.0052 - mae: 0.0720 - val_loss: 0.2145 - val_mae: 0.3607\n",
      "Epoch 8/20\n",
      "1/1 [==============================] - 0s 123ms/step - loss: 0.0063 - mae: 0.0792 - val_loss: 0.2146 - val_mae: 0.3608\n",
      "Epoch 9/20\n",
      "1/1 [==============================] - 0s 145ms/step - loss: 0.0067 - mae: 0.0817 - val_loss: 0.2148 - val_mae: 0.3609\n",
      "Epoch 10/20\n",
      "1/1 [==============================] - 0s 123ms/step - loss: 0.0049 - mae: 0.0697 - val_loss: 0.2149 - val_mae: 0.3610\n",
      "Epoch 11/20\n",
      "1/1 [==============================] - 0s 117ms/step - loss: 0.0068 - mae: 0.0823 - val_loss: 0.2151 - val_mae: 0.3611\n",
      "Epoch 12/20\n",
      "1/1 [==============================] - 0s 118ms/step - loss: 0.0062 - mae: 0.0784 - val_loss: 0.2153 - val_mae: 0.3613\n",
      "Epoch 13/20\n",
      "1/1 [==============================] - 0s 107ms/step - loss: 0.0050 - mae: 0.0704 - val_loss: 0.2154 - val_mae: 0.3614\n",
      "Epoch 14/20\n",
      "1/1 [==============================] - 0s 107ms/step - loss: 0.0051 - mae: 0.0710 - val_loss: 0.2156 - val_mae: 0.3616\n",
      "Epoch 15/20\n",
      "1/1 [==============================] - 0s 110ms/step - loss: 0.0057 - mae: 0.0755 - val_loss: 0.2158 - val_mae: 0.3617\n",
      "Epoch 16/20\n",
      "1/1 [==============================] - 0s 127ms/step - loss: 0.0067 - mae: 0.0817 - val_loss: 0.2160 - val_mae: 0.3619\n",
      "Epoch 17/20\n",
      "1/1 [==============================] - 0s 126ms/step - loss: 0.0064 - mae: 0.0797 - val_loss: 0.2162 - val_mae: 0.3620\n",
      "Epoch 18/20\n",
      "1/1 [==============================] - 0s 111ms/step - loss: 0.0057 - mae: 0.0755 - val_loss: 0.2164 - val_mae: 0.3622\n",
      "Epoch 19/20\n",
      "1/1 [==============================] - 0s 103ms/step - loss: 0.0049 - mae: 0.0696 - val_loss: 0.2166 - val_mae: 0.3623\n",
      "Epoch 20/20\n",
      "1/1 [==============================] - 0s 106ms/step - loss: 0.0048 - mae: 0.0689 - val_loss: 0.2168 - val_mae: 0.3625\n"
     ]
    }
   ],
   "source": [
    "#Using mae and mse\n",
    "model_for_p1.compile(optimizer=tf.keras.optimizers.SGD(learning_rate=0.0001, momentum=0.9),metrics=['mae'],loss='mse')\n",
    "model_for_p1.summary()\n",
    "hist_p1=model_for_p1.fit(train_set,epochs=20,validation_data=valid_set)"
   ]
  },
  {
   "cell_type": "code",
   "execution_count": 36,
   "metadata": {},
   "outputs": [
    {
     "data": {
      "image/png": "[encoded data removed]",
      "text/plain": [
       "<Figure size 432x288 with 1 Axes>"
      ]
     },
     "metadata": {
      "needs_background": "light"
     },
     "output_type": "display_data"
    }
   ],
   "source": [
    "import matplotlib.pyplot as plt\n",
    "plt.plot(hist_p1.history['mae'], label='MAE (training data)')\n",
    "plt.plot(hist_p1.history['val_mae'], label='MAE (validation data)')\n",
    "\n",
    "plt.ylabel('MAE value')\n",
    "plt.xlabel('No. epoch')\n",
    "plt.legend(loc=\"upper left\")\n",
    "plt.show()"
   ]
  },
  {
   "cell_type": "code",
   "execution_count": 37,
   "metadata": {},
   "outputs": [],
   "source": [
    "prediksi_p1=model_for_p1.predict([0, 1, 2, 3, 4, 5, 6, 7, 8, 9, 10, 11, 12, 13, 14, 15, 16, 17, 18, 19, 20, 21, 22, 23])"
   ]
  },
  {
   "cell_type": "code",
   "execution_count": 38,
   "metadata": {},
   "outputs": [
    {
     "data": {
      "text/plain": [
       "array([[0.09047335],\n",
       "       [0.09272551],\n",
       "       [0.09458651],\n",
       "       [0.09567694],\n",
       "       [0.09711609],\n",
       "       [0.09780953],\n",
       "       [0.09767339],\n",
       "       [0.09691504],\n",
       "       [0.09613707],\n",
       "       [0.09559619],\n",
       "       [0.09506046],\n",
       "       [0.09439807],\n",
       "       [0.09382953],\n",
       "       [0.09304179],\n",
       "       [0.09224264],\n",
       "       [0.09165154],\n",
       "       [0.09118205],\n",
       "       [0.0906985 ],\n",
       "       [0.09036816],\n",
       "       [0.09013461],\n",
       "       [0.08999298],\n",
       "       [0.08993283],\n",
       "       [0.08988097],\n",
       "       [0.08987553]], dtype=float32)"
      ]
     },
     "execution_count": 38,
     "metadata": {},
     "output_type": "execute_result"
    }
   ],
   "source": [
    "prediksi_p1"
   ]
  },
  {
   "cell_type": "code",
   "execution_count": 39,
   "metadata": {},
   "outputs": [
    {
     "data": {
      "text/plain": [
       "array([[12.966448 ],\n",
       "       [13.139864 ],\n",
       "       [13.283161 ],\n",
       "       [13.367125 ],\n",
       "       [13.47794  ],\n",
       "       [13.531334 ],\n",
       "       [13.520851 ],\n",
       "       [13.462458 ],\n",
       "       [13.4025545],\n",
       "       [13.360907 ],\n",
       "       [13.319655 ],\n",
       "       [13.268652 ],\n",
       "       [13.224874 ],\n",
       "       [13.164217 ],\n",
       "       [13.102683 ],\n",
       "       [13.057169 ],\n",
       "       [13.021017 ],\n",
       "       [12.983785 ],\n",
       "       [12.958348 ],\n",
       "       [12.940365 ],\n",
       "       [12.929459 ],\n",
       "       [12.924828 ],\n",
       "       [12.920835 ],\n",
       "       [12.920416 ]], dtype=float32)"
      ]
     },
     "execution_count": 39,
     "metadata": {},
     "output_type": "execute_result"
    }
   ],
   "source": [
    "prediksi_p1 = prediksi_p1 * max\n",
    "prediksi_p1 = prediksi_p1 + min\n",
    "prediksi_p1"
   ]
  },
  {
   "cell_type": "code",
   "execution_count": 41,
   "metadata": {},
   "outputs": [
    {
     "data": {
      "image/png": "[encoded data removed]",
      "text/plain": [
       "<Figure size 432x288 with 1 Axes>"
      ]
     },
     "metadata": {
      "needs_background": "light"
     },
     "output_type": "display_data"
    }
   ],
   "source": [
    "plt.plot(prediksi_p1, label='prediksi')\n",
    "plt.plot(p1, label='asli')\n",
    "plt.legend(loc=\"upper left\")\n",
    "plt.show()"
   ]
  },
  {
   "cell_type": "markdown",
   "metadata": {},
   "source": [
    "# C1"
   ]
  },
  {
   "cell_type": "code",
   "execution_count": 131,
   "metadata": {},
   "outputs": [],
   "source": [
    "## do the same for the others, tapi karena yang lain punya beberapa anggota, nah itu di average dulu per tanggalnya\n",
    "c1=c1.drop(columns=['Kode Produk', 'Cluster'])"
   ]
  },
  {
   "cell_type": "code",
   "execution_count": 132,
   "metadata": {},
   "outputs": [],
   "source": [
    "#next, buat dia kayak mejeneng time series seperti biasanya, which is datanya ke bawah, tapi di average per tanggal \n",
    "new_c1=[]\n",
    "time=[]\n",
    "for idx,a in enumerate(c0):\n",
    "    new_c1.append(c1[a].mean())\n",
    "    time.append(idx)\n"
   ]
  },
  {
   "cell_type": "code",
   "execution_count": 133,
   "metadata": {},
   "outputs": [
    {
     "data": {
      "text/plain": [
       "[28.010416666666668,\n",
       " 25.8125,\n",
       " 26.0,\n",
       " 24.8125,\n",
       " 28.427083333333332,\n",
       " 15.791666666666666,\n",
       " 31.25,\n",
       " 22.510416666666668,\n",
       " 30.760416666666668,\n",
       " 33.020833333333336,\n",
       " 28.020833333333332,\n",
       " 23.677083333333332,\n",
       " 27.677083333333332,\n",
       " 26.78125,\n",
       " 26.270833333333332,\n",
       " 19.114583333333332,\n",
       " 11.395833333333334,\n",
       " 13.270833333333334,\n",
       " 20.385416666666668,\n",
       " 22.083333333333332,\n",
       " 21.53125,\n",
       " 15.895833333333334,\n",
       " 19.885416666666668,\n",
       " 19.5625]"
      ]
     },
     "execution_count": 133,
     "metadata": {},
     "output_type": "execute_result"
    }
   ],
   "source": [
    "values"
   ]
  },
  {
   "cell_type": "code",
   "execution_count": 134,
   "metadata": {},
   "outputs": [],
   "source": [
    "#normalisasi, karena gap nya ada yang sampe ribuan, biar lebih gampang tugas ann nya\n",
    "series=new_c1\n",
    "min = np.min(series)\n",
    "max = np.max(series)\n",
    "series = series - min\n",
    "series = series / max\n",
    "time = np.array(time)"
   ]
  },
  {
   "cell_type": "code",
   "execution_count": 135,
   "metadata": {},
   "outputs": [],
   "source": [
    "split_time = 3 # ini berapa bulan terkahir yang mau di potong buat pengujian?\n",
    "\n",
    "time_train = time[:split_time]\n",
    "x_train =  series[:split_time]\n",
    "time_valid =  time[split_time:]\n",
    "x_valid =  series[split_time:]"
   ]
  },
  {
   "cell_type": "code",
   "execution_count": 136,
   "metadata": {},
   "outputs": [],
   "source": [
    "#buat data biar dibagi per window, jadi me masang masangkan waktu dan value,\n",
    "window_size = 2\n",
    "batch_size = 2\n",
    "shuffle_buffer_size = 10\n",
    "\n",
    "train_set = windowed_dataset(x_train, window_size, batch_size, shuffle_buffer_size)\n",
    "valid_set = windowed_dataset(x_valid, window_size, batch_size, shuffle_buffer_size)"
   ]
  },
  {
   "cell_type": "code",
   "execution_count": 137,
   "metadata": {},
   "outputs": [
    {
     "name": "stdout",
     "output_type": "stream",
     "text": [
      "Model: \"sequential_9\"\n",
      "_________________________________________________________________\n",
      "Layer (type)                 Output Shape              Param #   \n",
      "=================================================================\n",
      "dense_50 (Dense)             (None, None, 2)           4         \n",
      "_________________________________________________________________\n",
      "bidirectional_18 (Bidirectio (None, 64)                8960      \n",
      "_________________________________________________________________\n",
      "flatten_9 (Flatten)          (None, 64)                0         \n",
      "_________________________________________________________________\n",
      "dense_51 (Dense)             (None, 256)               16640     \n",
      "_________________________________________________________________\n",
      "dense_52 (Dense)             (None, 64)                16448     \n",
      "_________________________________________________________________\n",
      "dense_53 (Dense)             (None, 32)                2080      \n",
      "_________________________________________________________________\n",
      "dropout_4 (Dropout)          (None, 32)                0         \n",
      "_________________________________________________________________\n",
      "dense_54 (Dense)             (None, 1)                 33        \n",
      "=================================================================\n",
      "Total params: 44,165\n",
      "Trainable params: 44,165\n",
      "Non-trainable params: 0\n",
      "_________________________________________________________________\n",
      "Epoch 1/100\n",
      "1/1 [==============================] - 4s 4s/step - loss: 0.0045 - mae: 0.0600 - val_loss: 0.0648 - val_mae: 0.2142\n",
      "Epoch 2/100\n",
      "1/1 [==============================] - 0s 134ms/step - loss: 0.0040 - mae: 0.0563 - val_loss: 0.0632 - val_mae: 0.2111\n",
      "Epoch 3/100\n",
      "1/1 [==============================] - 0s 114ms/step - loss: 0.0032 - mae: 0.0485 - val_loss: 0.0611 - val_mae: 0.2070\n",
      "Epoch 4/100\n",
      "1/1 [==============================] - 0s 116ms/step - loss: 9.0985e-04 - mae: 0.0296 - val_loss: 0.0593 - val_mae: 0.2032\n",
      "Epoch 5/100\n",
      "1/1 [==============================] - 0s 111ms/step - loss: 8.9864e-04 - mae: 0.0296 - val_loss: 0.0577 - val_mae: 0.1999\n",
      "Epoch 6/100\n",
      "1/1 [==============================] - 0s 117ms/step - loss: 0.0011 - mae: 0.0296 - val_loss: 0.0564 - val_mae: 0.1972\n",
      "Epoch 7/100\n",
      "1/1 [==============================] - 0s 110ms/step - loss: 0.0012 - mae: 0.0296 - val_loss: 0.0551 - val_mae: 0.1944\n",
      "Epoch 8/100\n",
      "1/1 [==============================] - 0s 97ms/step - loss: 0.0012 - mae: 0.0296 - val_loss: 0.0537 - val_mae: 0.1914\n",
      "Epoch 9/100\n",
      "1/1 [==============================] - 0s 137ms/step - loss: 8.8429e-04 - mae: 0.0296 - val_loss: 0.0525 - val_mae: 0.1888\n",
      "Epoch 10/100\n",
      "1/1 [==============================] - 0s 115ms/step - loss: 0.0010 - mae: 0.0296 - val_loss: 0.0515 - val_mae: 0.1869\n",
      "Epoch 11/100\n",
      "1/1 [==============================] - 0s 113ms/step - loss: 0.0011 - mae: 0.0296 - val_loss: 0.0508 - val_mae: 0.1855\n",
      "Epoch 12/100\n",
      "1/1 [==============================] - 0s 124ms/step - loss: 8.8279e-04 - mae: 0.0296 - val_loss: 0.0501 - val_mae: 0.1841\n",
      "Epoch 13/100\n",
      "1/1 [==============================] - 0s 102ms/step - loss: 0.0011 - mae: 0.0296 - val_loss: 0.0497 - val_mae: 0.1833\n",
      "Epoch 14/100\n",
      "1/1 [==============================] - 0s 104ms/step - loss: 9.5209e-04 - mae: 0.0296 - val_loss: 0.0492 - val_mae: 0.1824\n",
      "Epoch 15/100\n",
      "1/1 [==============================] - 0s 117ms/step - loss: 0.0014 - mae: 0.0296 - val_loss: 0.0490 - val_mae: 0.1820\n",
      "Epoch 16/100\n",
      "1/1 [==============================] - 0s 128ms/step - loss: 0.0010 - mae: 0.0296 - val_loss: 0.0489 - val_mae: 0.1818\n",
      "Epoch 17/100\n",
      "1/1 [==============================] - 0s 102ms/step - loss: 0.0010 - mae: 0.0296 - val_loss: 0.0489 - val_mae: 0.1819\n",
      "Epoch 18/100\n",
      "1/1 [==============================] - 0s 108ms/step - loss: 9.0613e-04 - mae: 0.0296 - val_loss: 0.0490 - val_mae: 0.1821\n",
      "Epoch 19/100\n",
      "1/1 [==============================] - 0s 98ms/step - loss: 0.0011 - mae: 0.0296 - val_loss: 0.0493 - val_mae: 0.1825\n",
      "Epoch 20/100\n",
      "1/1 [==============================] - 0s 132ms/step - loss: 8.7822e-04 - mae: 0.0296 - val_loss: 0.0495 - val_mae: 0.1829\n",
      "Epoch 21/100\n",
      "1/1 [==============================] - 0s 132ms/step - loss: 9.5940e-04 - mae: 0.0296 - val_loss: 0.0497 - val_mae: 0.1833\n",
      "Epoch 22/100\n",
      "1/1 [==============================] - 0s 119ms/step - loss: 0.0011 - mae: 0.0296 - val_loss: 0.0501 - val_mae: 0.1841\n",
      "Epoch 23/100\n",
      "1/1 [==============================] - 0s 129ms/step - loss: 9.4469e-04 - mae: 0.0296 - val_loss: 0.0506 - val_mae: 0.1850\n",
      "Epoch 24/100\n",
      "1/1 [==============================] - 0s 108ms/step - loss: 0.0011 - mae: 0.0296 - val_loss: 0.0511 - val_mae: 0.1861\n",
      "Epoch 25/100\n",
      "1/1 [==============================] - 0s 120ms/step - loss: 8.9285e-04 - mae: 0.0296 - val_loss: 0.0516 - val_mae: 0.1870\n",
      "Epoch 26/100\n",
      "1/1 [==============================] - 0s 111ms/step - loss: 0.0012 - mae: 0.0296 - val_loss: 0.0518 - val_mae: 0.1874\n",
      "Epoch 27/100\n",
      "1/1 [==============================] - 0s 122ms/step - loss: 8.9761e-04 - mae: 0.0296 - val_loss: 0.0519 - val_mae: 0.1877\n",
      "Epoch 28/100\n",
      "1/1 [==============================] - 0s 119ms/step - loss: 9.3837e-04 - mae: 0.0296 - val_loss: 0.0519 - val_mae: 0.1877\n",
      "Epoch 29/100\n",
      "1/1 [==============================] - 0s 115ms/step - loss: 8.7501e-04 - mae: 0.0296 - val_loss: 0.0519 - val_mae: 0.1877\n",
      "Epoch 30/100\n",
      "1/1 [==============================] - 0s 125ms/step - loss: 0.0014 - mae: 0.0296 - val_loss: 0.0521 - val_mae: 0.1881\n",
      "Epoch 31/100\n",
      "1/1 [==============================] - 0s 133ms/step - loss: 9.2830e-04 - mae: 0.0296 - val_loss: 0.0522 - val_mae: 0.1883\n",
      "Epoch 32/100\n",
      "1/1 [==============================] - 0s 133ms/step - loss: 8.7377e-04 - mae: 0.0296 - val_loss: 0.0523 - val_mae: 0.1885\n",
      "Epoch 33/100\n",
      "1/1 [==============================] - 0s 130ms/step - loss: 0.0011 - mae: 0.0296 - val_loss: 0.0526 - val_mae: 0.1890\n",
      "Epoch 34/100\n",
      "1/1 [==============================] - 0s 114ms/step - loss: 0.0019 - mae: 0.0313 - val_loss: 0.0531 - val_mae: 0.1899\n",
      "Epoch 35/100\n",
      "1/1 [==============================] - 0s 117ms/step - loss: 8.9031e-04 - mae: 0.0296 - val_loss: 0.0535 - val_mae: 0.1910\n",
      "Epoch 36/100\n",
      "1/1 [==============================] - 0s 109ms/step - loss: 0.0011 - mae: 0.0296 - val_loss: 0.0538 - val_mae: 0.1916\n",
      "Epoch 37/100\n",
      "1/1 [==============================] - 0s 111ms/step - loss: 8.8178e-04 - mae: 0.0296 - val_loss: 0.0540 - val_mae: 0.1920\n",
      "Epoch 38/100\n",
      "1/1 [==============================] - 0s 111ms/step - loss: 0.0011 - mae: 0.0296 - val_loss: 0.0540 - val_mae: 0.1920\n",
      "Epoch 39/100\n",
      "1/1 [==============================] - 0s 120ms/step - loss: 0.0010 - mae: 0.0296 - val_loss: 0.0538 - val_mae: 0.1916\n",
      "Epoch 40/100\n",
      "1/1 [==============================] - 0s 108ms/step - loss: 9.2787e-04 - mae: 0.0296 - val_loss: 0.0538 - val_mae: 0.1915\n",
      "Epoch 41/100\n",
      "1/1 [==============================] - 0s 101ms/step - loss: 0.0013 - mae: 0.0296 - val_loss: 0.0539 - val_mae: 0.1918\n",
      "Epoch 42/100\n",
      "1/1 [==============================] - 0s 136ms/step - loss: 0.0010 - mae: 0.0296 - val_loss: 0.0539 - val_mae: 0.1918\n",
      "Epoch 43/100\n",
      "1/1 [==============================] - 0s 122ms/step - loss: 9.4560e-04 - mae: 0.0296 - val_loss: 0.0538 - val_mae: 0.1915\n",
      "Epoch 44/100\n",
      "1/1 [==============================] - 0s 117ms/step - loss: 0.0014 - mae: 0.0296 - val_loss: 0.0534 - val_mae: 0.1907\n",
      "Epoch 45/100\n",
      "1/1 [==============================] - 0s 135ms/step - loss: 0.0010 - mae: 0.0296 - val_loss: 0.0532 - val_mae: 0.1902\n",
      "Epoch 46/100\n",
      "1/1 [==============================] - 0s 112ms/step - loss: 0.0012 - mae: 0.0296 - val_loss: 0.0532 - val_mae: 0.1901\n",
      "Epoch 47/100\n",
      "1/1 [==============================] - 0s 113ms/step - loss: 8.7485e-04 - mae: 0.0296 - val_loss: 0.0531 - val_mae: 0.1901\n",
      "Epoch 48/100\n",
      "1/1 [==============================] - 0s 102ms/step - loss: 0.0011 - mae: 0.0296 - val_loss: 0.0530 - val_mae: 0.1897\n",
      "Epoch 49/100\n",
      "1/1 [==============================] - 0s 133ms/step - loss: 9.6541e-04 - mae: 0.0296 - val_loss: 0.0527 - val_mae: 0.1892\n",
      "Epoch 50/100\n",
      "1/1 [==============================] - 0s 106ms/step - loss: 8.8705e-04 - mae: 0.0296 - val_loss: 0.0524 - val_mae: 0.1886\n",
      "Epoch 51/100\n",
      "1/1 [==============================] - 0s 107ms/step - loss: 0.0011 - mae: 0.0296 - val_loss: 0.0523 - val_mae: 0.1884\n",
      "Epoch 52/100\n",
      "1/1 [==============================] - 0s 125ms/step - loss: 8.7876e-04 - mae: 0.0296 - val_loss: 0.0522 - val_mae: 0.1883\n",
      "Epoch 53/100\n",
      "1/1 [==============================] - 0s 110ms/step - loss: 0.0024 - mae: 0.0386 - val_loss: 0.0525 - val_mae: 0.1888\n",
      "Epoch 54/100\n",
      "1/1 [==============================] - 0s 108ms/step - loss: 8.7488e-04 - mae: 0.0296 - val_loss: 0.0527 - val_mae: 0.1892\n",
      "Epoch 55/100\n",
      "1/1 [==============================] - 0s 140ms/step - loss: 0.0012 - mae: 0.0296 - val_loss: 0.0527 - val_mae: 0.1891\n",
      "Epoch 56/100\n",
      "1/1 [==============================] - 0s 100ms/step - loss: 0.0011 - mae: 0.0296 - val_loss: 0.0528 - val_mae: 0.1894\n",
      "Epoch 57/100\n",
      "1/1 [==============================] - 0s 100ms/step - loss: 8.7470e-04 - mae: 0.0296 - val_loss: 0.0529 - val_mae: 0.1896\n",
      "Epoch 58/100\n",
      "1/1 [==============================] - 0s 135ms/step - loss: 9.7845e-04 - mae: 0.0296 - val_loss: 0.0531 - val_mae: 0.1900\n",
      "Epoch 59/100\n",
      "1/1 [==============================] - 0s 110ms/step - loss: 8.7371e-04 - mae: 0.0296 - val_loss: 0.0533 - val_mae: 0.1904\n",
      "Epoch 60/100\n",
      "1/1 [==============================] - 0s 107ms/step - loss: 0.0010 - mae: 0.0296 - val_loss: 0.0533 - val_mae: 0.1905\n",
      "Epoch 61/100\n",
      "1/1 [==============================] - 0s 131ms/step - loss: 8.9011e-04 - mae: 0.0296 - val_loss: 0.0534 - val_mae: 0.1906\n",
      "Epoch 62/100\n",
      "1/1 [==============================] - 0s 124ms/step - loss: 0.0021 - mae: 0.0345 - val_loss: 0.0537 - val_mae: 0.1914\n",
      "Epoch 63/100\n",
      "1/1 [==============================] - 0s 108ms/step - loss: 8.7349e-04 - mae: 0.0296 - val_loss: 0.0540 - val_mae: 0.1920\n",
      "Epoch 64/100\n",
      "1/1 [==============================] - 0s 114ms/step - loss: 0.0013 - mae: 0.0296 - val_loss: 0.0540 - val_mae: 0.1920\n",
      "Epoch 65/100\n",
      "1/1 [==============================] - 0s 117ms/step - loss: 8.7546e-04 - mae: 0.0296 - val_loss: 0.0540 - val_mae: 0.1920\n",
      "Epoch 66/100\n",
      "1/1 [==============================] - 0s 105ms/step - loss: 9.9658e-04 - mae: 0.0296 - val_loss: 0.0539 - val_mae: 0.1917\n",
      "Epoch 67/100\n",
      "1/1 [==============================] - 0s 107ms/step - loss: 9.1771e-04 - mae: 0.0296 - val_loss: 0.0538 - val_mae: 0.1916\n",
      "Epoch 68/100\n",
      "1/1 [==============================] - 0s 87ms/step - loss: 0.0011 - mae: 0.0296 - val_loss: 0.0539 - val_mae: 0.1917\n",
      "Epoch 69/100\n",
      "1/1 [==============================] - 0s 90ms/step - loss: 9.0690e-04 - mae: 0.0296 - val_loss: 0.0540 - val_mae: 0.1920\n",
      "Epoch 70/100\n",
      "1/1 [==============================] - 0s 120ms/step - loss: 8.7744e-04 - mae: 0.0296 - val_loss: 0.0541 - val_mae: 0.1922\n",
      "Epoch 71/100\n",
      "1/1 [==============================] - 0s 98ms/step - loss: 9.8814e-04 - mae: 0.0296 - val_loss: 0.0543 - val_mae: 0.1927\n",
      "Epoch 72/100\n",
      "1/1 [==============================] - 0s 102ms/step - loss: 0.0010 - mae: 0.0296 - val_loss: 0.0546 - val_mae: 0.1933\n",
      "Epoch 73/100\n",
      "1/1 [==============================] - 0s 118ms/step - loss: 0.0012 - mae: 0.0296 - val_loss: 0.0550 - val_mae: 0.1942\n",
      "Epoch 74/100\n",
      "1/1 [==============================] - 0s 106ms/step - loss: 0.0016 - mae: 0.0296 - val_loss: 0.0557 - val_mae: 0.1956\n",
      "Epoch 75/100\n",
      "1/1 [==============================] - 0s 113ms/step - loss: 9.3466e-04 - mae: 0.0296 - val_loss: 0.0561 - val_mae: 0.1966\n",
      "Epoch 76/100\n",
      "1/1 [==============================] - 0s 137ms/step - loss: 9.8201e-04 - mae: 0.0296 - val_loss: 0.0564 - val_mae: 0.1973\n",
      "Epoch 77/100\n",
      "1/1 [==============================] - 0s 126ms/step - loss: 9.5924e-04 - mae: 0.0296 - val_loss: 0.0568 - val_mae: 0.1981\n",
      "Epoch 78/100\n",
      "1/1 [==============================] - 0s 109ms/step - loss: 0.0018 - mae: 0.0300 - val_loss: 0.0568 - val_mae: 0.1980\n",
      "Epoch 79/100\n",
      "1/1 [==============================] - 0s 132ms/step - loss: 9.1819e-04 - mae: 0.0296 - val_loss: 0.0568 - val_mae: 0.1981\n",
      "Epoch 80/100\n",
      "1/1 [==============================] - 0s 145ms/step - loss: 0.0017 - mae: 0.0296 - val_loss: 0.0565 - val_mae: 0.1973\n",
      "Epoch 81/100\n",
      "1/1 [==============================] - 0s 124ms/step - loss: 9.7730e-04 - mae: 0.0296 - val_loss: 0.0562 - val_mae: 0.1969\n",
      "Epoch 82/100\n",
      "1/1 [==============================] - 0s 106ms/step - loss: 0.0011 - mae: 0.0296 - val_loss: 0.0559 - val_mae: 0.1961\n",
      "Epoch 83/100\n",
      "1/1 [==============================] - 0s 94ms/step - loss: 8.9248e-04 - mae: 0.0296 - val_loss: 0.0555 - val_mae: 0.1952\n",
      "Epoch 84/100\n",
      "1/1 [==============================] - 0s 109ms/step - loss: 0.0011 - mae: 0.0296 - val_loss: 0.0550 - val_mae: 0.1941\n",
      "Epoch 85/100\n",
      "1/1 [==============================] - 0s 113ms/step - loss: 0.0012 - mae: 0.0296 - val_loss: 0.0543 - val_mae: 0.1926\n",
      "Epoch 86/100\n",
      "1/1 [==============================] - 0s 108ms/step - loss: 8.9236e-04 - mae: 0.0296 - val_loss: 0.0537 - val_mae: 0.1914\n",
      "Epoch 87/100\n",
      "1/1 [==============================] - 0s 102ms/step - loss: 9.9895e-04 - mae: 0.0296 - val_loss: 0.0533 - val_mae: 0.1905\n",
      "Epoch 88/100\n",
      "1/1 [==============================] - 0s 127ms/step - loss: 0.0012 - mae: 0.0296 - val_loss: 0.0531 - val_mae: 0.1901\n",
      "Epoch 89/100\n",
      "1/1 [==============================] - 0s 143ms/step - loss: 8.8200e-04 - mae: 0.0296 - val_loss: 0.0529 - val_mae: 0.1897\n",
      "Epoch 90/100\n",
      "1/1 [==============================] - 0s 105ms/step - loss: 9.1053e-04 - mae: 0.0296 - val_loss: 0.0527 - val_mae: 0.1892\n",
      "Epoch 91/100\n",
      "1/1 [==============================] - 0s 114ms/step - loss: 0.0013 - mae: 0.0296 - val_loss: 0.0527 - val_mae: 0.1891\n",
      "Epoch 92/100\n",
      "1/1 [==============================] - 0s 123ms/step - loss: 8.7399e-04 - mae: 0.0296 - val_loss: 0.0526 - val_mae: 0.1891\n",
      "Epoch 93/100\n",
      "1/1 [==============================] - 0s 108ms/step - loss: 9.3714e-04 - mae: 0.0296 - val_loss: 0.0526 - val_mae: 0.1891\n",
      "Epoch 94/100\n",
      "1/1 [==============================] - 0s 97ms/step - loss: 8.7934e-04 - mae: 0.0296 - val_loss: 0.0526 - val_mae: 0.1891\n",
      "Epoch 95/100\n",
      "1/1 [==============================] - 0s 108ms/step - loss: 8.8164e-04 - mae: 0.0296 - val_loss: 0.0526 - val_mae: 0.1891\n",
      "Epoch 96/100\n",
      "1/1 [==============================] - 0s 133ms/step - loss: 8.7917e-04 - mae: 0.0296 - val_loss: 0.0526 - val_mae: 0.1891\n",
      "Epoch 97/100\n",
      "1/1 [==============================] - 0s 104ms/step - loss: 9.0173e-04 - mae: 0.0296 - val_loss: 0.0526 - val_mae: 0.1889\n",
      "Epoch 98/100\n",
      "1/1 [==============================] - 0s 105ms/step - loss: 9.7344e-04 - mae: 0.0296 - val_loss: 0.0526 - val_mae: 0.1890\n",
      "Epoch 99/100\n",
      "1/1 [==============================] - 0s 124ms/step - loss: 9.2088e-04 - mae: 0.0296 - val_loss: 0.0525 - val_mae: 0.1889\n",
      "Epoch 100/100\n",
      "1/1 [==============================] - 0s 99ms/step - loss: 8.7359e-04 - mae: 0.0296 - val_loss: 0.0525 - val_mae: 0.1888\n"
     ]
    }
   ],
   "source": [
    "#Using mae and mse\n",
    "model.compile(optimizer=tf.keras.optimizers.SGD(learning_rate=0.01, momentum=0.9),metrics=['mae'],loss='mse')\n",
    "model.summary()\n",
    "hist=model.fit(train_set,epochs=100,validation_data=valid_set)"
   ]
  },
  {
   "cell_type": "code",
   "execution_count": 138,
   "metadata": {},
   "outputs": [
    {
     "data": {
      "image/png": "[encoded data removed]",
      "text/plain": [
       "<Figure size 432x288 with 1 Axes>"
      ]
     },
     "metadata": {
      "needs_background": "light"
     },
     "output_type": "display_data"
    }
   ],
   "source": [
    "plt.plot(hist.history['mae'], label='MAE (training data)')\n",
    "plt.plot(hist.history['val_mae'], label='MAE (validation data)')\n",
    "\n",
    "plt.ylabel('MAE value')\n",
    "plt.xlabel('No. epoch')\n",
    "plt.legend(loc=\"upper left\")\n",
    "plt.show()"
   ]
  },
  {
   "cell_type": "code",
   "execution_count": 139,
   "metadata": {},
   "outputs": [
    {
     "data": {
      "text/plain": [
       "array([[0.4270295],\n",
       "       [0.4262946],\n",
       "       [0.4255798]], dtype=float32)"
      ]
     },
     "execution_count": 139,
     "metadata": {},
     "output_type": "execute_result"
    }
   ],
   "source": [
    "prediksi=model.predict([21, 22, 23])\n",
    "prediksi"
   ]
  },
  {
   "cell_type": "code",
   "execution_count": 140,
   "metadata": {},
   "outputs": [
    {
     "data": {
      "text/plain": [
       "[<matplotlib.lines.Line2D at 0x1f2af5b70a0>]"
      ]
     },
     "execution_count": 140,
     "metadata": {},
     "output_type": "execute_result"
    },
    {
     "data": {
      "image/png": "[encoded data removed]",
      "text/plain": [
       "<Figure size 432x288 with 1 Axes>"
      ]
     },
     "metadata": {
      "needs_background": "light"
     },
     "output_type": "display_data"
    }
   ],
   "source": [
    "#data asli\n",
    "series = series * max\n",
    "series = series + min\n",
    "plt.plot(series)"
   ]
  },
  {
   "cell_type": "code",
   "execution_count": 141,
   "metadata": {},
   "outputs": [
    {
     "data": {
      "text/plain": [
       "array([[188.26645],\n",
       "       [188.11505],\n",
       "       [187.96777]], dtype=float32)"
      ]
     },
     "execution_count": 141,
     "metadata": {},
     "output_type": "execute_result"
    }
   ],
   "source": [
    "prediksi = prediksi * max\n",
    "prediksi = prediksi + min\n",
    "prediksi"
   ]
  },
  {
   "cell_type": "code",
   "execution_count": 142,
   "metadata": {},
   "outputs": [],
   "source": [
    "prediksi=prediksi.flatten()"
   ]
  },
  {
   "cell_type": "code",
   "execution_count": 143,
   "metadata": {},
   "outputs": [],
   "source": [
    "hasil=np.concatenate((series[:-split_time],prediksi))"
   ]
  },
  {
   "cell_type": "code",
   "execution_count": 144,
   "metadata": {},
   "outputs": [
    {
     "data": {
      "text/plain": [
       "array([183.8       , 191.73333333, 179.55555556, 181.24444444,\n",
       "       182.8       , 137.68888889, 185.73333333, 194.46666667,\n",
       "       145.06666667, 143.48888889, 175.04444444, 122.86666667,\n",
       "       177.8       , 147.6       , 206.02222222, 141.91111111,\n",
       "       100.28888889, 101.15555556, 141.55555556, 105.88888889,\n",
       "       123.93333333, 188.26644897, 188.11505127, 187.96777344])"
      ]
     },
     "execution_count": 144,
     "metadata": {},
     "output_type": "execute_result"
    }
   ],
   "source": [
    "hasil"
   ]
  },
  {
   "cell_type": "code",
   "execution_count": 145,
   "metadata": {},
   "outputs": [
    {
     "data": {
      "text/plain": [
       "[<matplotlib.lines.Line2D at 0x1f2c0d54130>]"
      ]
     },
     "execution_count": 145,
     "metadata": {},
     "output_type": "execute_result"
    },
    {
     "data": {
      "image/png": "[encoded data removed]",
      "text/plain": [
       "<Figure size 432x288 with 1 Axes>"
      ]
     },
     "metadata": {
      "needs_background": "light"
     },
     "output_type": "display_data"
    }
   ],
   "source": [
    "#data prediksi\n",
    "plt.plot(hasil)"
   ]
  },
  {
   "cell_type": "markdown",
   "metadata": {},
   "source": [
    "# C3"
   ]
  },
  {
   "cell_type": "code",
   "execution_count": 146,
   "metadata": {},
   "outputs": [],
   "source": [
    "## do the same for the others, tapi karena yang lain punya beberapa anggota, nah itu di average dulu per tanggalnya\n",
    "c3=c3.drop(columns=['Kode Produk', 'Cluster'])"
   ]
  },
  {
   "cell_type": "code",
   "execution_count": 147,
   "metadata": {},
   "outputs": [],
   "source": [
    "#next, buat dia kayak mejeneng time series seperti biasanya, which is datanya ke bawah, tapi di average per tanggal \n",
    "new_c3=[]\n",
    "time=[]\n",
    "for idx,a in enumerate(c0):\n",
    "    new_c3.append(c3[a].mean())\n",
    "    time.append(idx)\n"
   ]
  },
  {
   "cell_type": "code",
   "execution_count": 148,
   "metadata": {},
   "outputs": [
    {
     "data": {
      "text/plain": [
       "[28.010416666666668,\n",
       " 25.8125,\n",
       " 26.0,\n",
       " 24.8125,\n",
       " 28.427083333333332,\n",
       " 15.791666666666666,\n",
       " 31.25,\n",
       " 22.510416666666668,\n",
       " 30.760416666666668,\n",
       " 33.020833333333336,\n",
       " 28.020833333333332,\n",
       " 23.677083333333332,\n",
       " 27.677083333333332,\n",
       " 26.78125,\n",
       " 26.270833333333332,\n",
       " 19.114583333333332,\n",
       " 11.395833333333334,\n",
       " 13.270833333333334,\n",
       " 20.385416666666668,\n",
       " 22.083333333333332,\n",
       " 21.53125,\n",
       " 15.895833333333334,\n",
       " 19.885416666666668,\n",
       " 19.5625]"
      ]
     },
     "execution_count": 148,
     "metadata": {},
     "output_type": "execute_result"
    }
   ],
   "source": [
    "values"
   ]
  },
  {
   "cell_type": "code",
   "execution_count": 149,
   "metadata": {},
   "outputs": [],
   "source": [
    "#normalisasi, karena gap nya ada yang sampe ribuan, biar lebih gampang tugas ann nya\n",
    "series=new_c3\n",
    "min = np.min(series)\n",
    "max = np.max(series)\n",
    "series = series - min\n",
    "series = series / max\n",
    "time = np.array(time)"
   ]
  },
  {
   "cell_type": "code",
   "execution_count": 150,
   "metadata": {},
   "outputs": [],
   "source": [
    "split_time = 3 # ini berapa bulan terkahir yang mau di potong buat pengujian?\n",
    "\n",
    "time_train = time[:split_time]\n",
    "x_train =  series[:split_time]\n",
    "time_valid =  time[split_time:]\n",
    "x_valid =  series[split_time:]"
   ]
  },
  {
   "cell_type": "code",
   "execution_count": 151,
   "metadata": {},
   "outputs": [],
   "source": [
    "#buat data biar dibagi per window, jadi me masang masangkan waktu dan value,\n",
    "window_size = 2\n",
    "batch_size = 2\n",
    "shuffle_buffer_size = 10\n",
    "\n",
    "train_set = windowed_dataset(x_train, window_size, batch_size, shuffle_buffer_size)\n",
    "valid_set = windowed_dataset(x_valid, window_size, batch_size, shuffle_buffer_size)"
   ]
  },
  {
   "cell_type": "code",
   "execution_count": 152,
   "metadata": {},
   "outputs": [
    {
     "name": "stdout",
     "output_type": "stream",
     "text": [
      "Model: \"sequential_9\"\n",
      "_________________________________________________________________\n",
      "Layer (type)                 Output Shape              Param #   \n",
      "=================================================================\n",
      "dense_50 (Dense)             (None, None, 2)           4         \n",
      "_________________________________________________________________\n",
      "bidirectional_18 (Bidirectio (None, 64)                8960      \n",
      "_________________________________________________________________\n",
      "flatten_9 (Flatten)          (None, 64)                0         \n",
      "_________________________________________________________________\n",
      "dense_51 (Dense)             (None, 256)               16640     \n",
      "_________________________________________________________________\n",
      "dense_52 (Dense)             (None, 64)                16448     \n",
      "_________________________________________________________________\n",
      "dense_53 (Dense)             (None, 32)                2080      \n",
      "_________________________________________________________________\n",
      "dropout_4 (Dropout)          (None, 32)                0         \n",
      "_________________________________________________________________\n",
      "dense_54 (Dense)             (None, 1)                 33        \n",
      "=================================================================\n",
      "Total params: 44,165\n",
      "Trainable params: 44,165\n",
      "Non-trainable params: 0\n",
      "_________________________________________________________________\n",
      "Epoch 1/100\n",
      "1/1 [==============================] - 4s 4s/step - loss: 0.2209 - mae: 0.4538 - val_loss: 0.1507 - val_mae: 0.3736\n",
      "Epoch 2/100\n",
      "1/1 [==============================] - 0s 145ms/step - loss: 0.1945 - mae: 0.4236 - val_loss: 0.1576 - val_mae: 0.3817\n",
      "Epoch 3/100\n",
      "1/1 [==============================] - 0s 113ms/step - loss: 0.1986 - mae: 0.4285 - val_loss: 0.1686 - val_mae: 0.3924\n",
      "Epoch 4/100\n",
      "1/1 [==============================] - 0s 123ms/step - loss: 0.1483 - mae: 0.3651 - val_loss: 0.1858 - val_mae: 0.4057\n",
      "Epoch 5/100\n",
      "1/1 [==============================] - 0s 124ms/step - loss: 0.1254 - mae: 0.3322 - val_loss: 0.2102 - val_mae: 0.4212\n",
      "Epoch 6/100\n",
      "1/1 [==============================] - 0s 120ms/step - loss: 0.1369 - mae: 0.3491 - val_loss: 0.2417 - val_mae: 0.4388\n",
      "Epoch 7/100\n",
      "1/1 [==============================] - 0s 131ms/step - loss: 0.0506 - mae: 0.1887 - val_loss: 0.2805 - val_mae: 0.4619\n",
      "Epoch 8/100\n",
      "1/1 [==============================] - 0s 123ms/step - loss: 0.0692 - mae: 0.2328 - val_loss: 0.3260 - val_mae: 0.4938\n",
      "Epoch 9/100\n",
      "1/1 [==============================] - 0s 122ms/step - loss: 0.0215 - mae: 0.1226 - val_loss: 0.3755 - val_mae: 0.5275\n",
      "Epoch 10/100\n",
      "1/1 [==============================] - 0s 124ms/step - loss: 0.0174 - mae: 0.1226 - val_loss: 0.4271 - val_mae: 0.5615\n",
      "Epoch 11/100\n",
      "1/1 [==============================] - 0s 117ms/step - loss: 0.0150 - mae: 0.1226 - val_loss: 0.4779 - val_mae: 0.5963\n",
      "Epoch 12/100\n",
      "1/1 [==============================] - 0s 121ms/step - loss: 0.0176 - mae: 0.1226 - val_loss: 0.5251 - val_mae: 0.6290\n",
      "Epoch 13/100\n",
      "1/1 [==============================] - 0s 129ms/step - loss: 0.0232 - mae: 0.1226 - val_loss: 0.5659 - val_mae: 0.6575\n",
      "Epoch 14/100\n",
      "1/1 [==============================] - 0s 131ms/step - loss: 0.0421 - mae: 0.1645 - val_loss: 0.5954 - val_mae: 0.6781\n",
      "Epoch 15/100\n",
      "1/1 [==============================] - 0s 117ms/step - loss: 0.0289 - mae: 0.1226 - val_loss: 0.6169 - val_mae: 0.6937\n",
      "Epoch 16/100\n",
      "1/1 [==============================] - 0s 126ms/step - loss: 0.0454 - mae: 0.1744 - val_loss: 0.6271 - val_mae: 0.7010\n",
      "Epoch 17/100\n",
      "1/1 [==============================] - 0s 125ms/step - loss: 0.0626 - mae: 0.2181 - val_loss: 0.6237 - val_mae: 0.6985\n",
      "Epoch 18/100\n",
      "1/1 [==============================] - 0s 134ms/step - loss: 0.0354 - mae: 0.1428 - val_loss: 0.6136 - val_mae: 0.6913\n",
      "Epoch 19/100\n",
      "1/1 [==============================] - 0s 132ms/step - loss: 0.0530 - mae: 0.1948 - val_loss: 0.5939 - val_mae: 0.6768\n",
      "Epoch 20/100\n",
      "1/1 [==============================] - 0s 124ms/step - loss: 0.0230 - mae: 0.1226 - val_loss: 0.5730 - val_mae: 0.6621\n",
      "Epoch 21/100\n",
      "1/1 [==============================] - 0s 92ms/step - loss: 0.0224 - mae: 0.1226 - val_loss: 0.5509 - val_mae: 0.6470\n",
      "Epoch 22/100\n",
      "1/1 [==============================] - 0s 111ms/step - loss: 0.0213 - mae: 0.1226 - val_loss: 0.5283 - val_mae: 0.6310\n",
      "Epoch 23/100\n",
      "1/1 [==============================] - 0s 96ms/step - loss: 0.0182 - mae: 0.1226 - val_loss: 0.5063 - val_mae: 0.6151\n",
      "Epoch 24/100\n",
      "1/1 [==============================] - 0s 116ms/step - loss: 0.0306 - mae: 0.1248 - val_loss: 0.4813 - val_mae: 0.5985\n",
      "Epoch 25/100\n",
      "1/1 [==============================] - 0s 129ms/step - loss: 0.0177 - mae: 0.1226 - val_loss: 0.4579 - val_mae: 0.5824\n",
      "Epoch 26/100\n",
      "1/1 [==============================] - 0s 103ms/step - loss: 0.0163 - mae: 0.1226 - val_loss: 0.4362 - val_mae: 0.5672\n",
      "Epoch 27/100\n",
      "1/1 [==============================] - 0s 130ms/step - loss: 0.0164 - mae: 0.1226 - val_loss: 0.4160 - val_mae: 0.5544\n",
      "Epoch 28/100\n",
      "1/1 [==============================] - 0s 109ms/step - loss: 0.0155 - mae: 0.1226 - val_loss: 0.3993 - val_mae: 0.5434\n",
      "Epoch 29/100\n",
      "1/1 [==============================] - 0s 120ms/step - loss: 0.0156 - mae: 0.1226 - val_loss: 0.3840 - val_mae: 0.5330\n",
      "Epoch 30/100\n",
      "1/1 [==============================] - 0s 127ms/step - loss: 0.0173 - mae: 0.1226 - val_loss: 0.3722 - val_mae: 0.5254\n",
      "Epoch 31/100\n",
      "1/1 [==============================] - 0s 127ms/step - loss: 0.0200 - mae: 0.1226 - val_loss: 0.3638 - val_mae: 0.5199\n",
      "Epoch 32/100\n",
      "1/1 [==============================] - 0s 119ms/step - loss: 0.0262 - mae: 0.1226 - val_loss: 0.3594 - val_mae: 0.5170\n",
      "Epoch 33/100\n",
      "1/1 [==============================] - 0s 122ms/step - loss: 0.0367 - mae: 0.1472 - val_loss: 0.3592 - val_mae: 0.5168\n",
      "Epoch 34/100\n",
      "1/1 [==============================] - 0s 118ms/step - loss: 0.0214 - mae: 0.1226 - val_loss: 0.3609 - val_mae: 0.5180\n",
      "Epoch 35/100\n",
      "1/1 [==============================] - 0s 97ms/step - loss: 0.0231 - mae: 0.1226 - val_loss: 0.3653 - val_mae: 0.5208\n",
      "Epoch 36/100\n",
      "1/1 [==============================] - 0s 119ms/step - loss: 0.0237 - mae: 0.1226 - val_loss: 0.3717 - val_mae: 0.5251\n",
      "Epoch 37/100\n",
      "1/1 [==============================] - 0s 110ms/step - loss: 0.0192 - mae: 0.1226 - val_loss: 0.3794 - val_mae: 0.5301\n",
      "Epoch 38/100\n",
      "1/1 [==============================] - 0s 145ms/step - loss: 0.0202 - mae: 0.1226 - val_loss: 0.3889 - val_mae: 0.5364\n",
      "Epoch 39/100\n",
      "1/1 [==============================] - 0s 130ms/step - loss: 0.0150 - mae: 0.1226 - val_loss: 0.3974 - val_mae: 0.5422\n",
      "Epoch 40/100\n",
      "1/1 [==============================] - 0s 111ms/step - loss: 0.0157 - mae: 0.1226 - val_loss: 0.4061 - val_mae: 0.5479\n",
      "Epoch 41/100\n",
      "1/1 [==============================] - 0s 88ms/step - loss: 0.0180 - mae: 0.1226 - val_loss: 0.4159 - val_mae: 0.5543\n",
      "Epoch 42/100\n",
      "1/1 [==============================] - 0s 118ms/step - loss: 0.0165 - mae: 0.1226 - val_loss: 0.4261 - val_mae: 0.5608\n",
      "Epoch 43/100\n",
      "1/1 [==============================] - 0s 116ms/step - loss: 0.0186 - mae: 0.1226 - val_loss: 0.4371 - val_mae: 0.5678\n",
      "Epoch 44/100\n",
      "1/1 [==============================] - 0s 113ms/step - loss: 0.0150 - mae: 0.1226 - val_loss: 0.4471 - val_mae: 0.5748\n",
      "Epoch 45/100\n",
      "1/1 [==============================] - 0s 104ms/step - loss: 0.0154 - mae: 0.1226 - val_loss: 0.4570 - val_mae: 0.5817\n",
      "Epoch 46/100\n",
      "1/1 [==============================] - 0s 115ms/step - loss: 0.0153 - mae: 0.1226 - val_loss: 0.4666 - val_mae: 0.5884\n",
      "Epoch 47/100\n",
      "1/1 [==============================] - 0s 104ms/step - loss: 0.0203 - mae: 0.1226 - val_loss: 0.4723 - val_mae: 0.5923\n",
      "Epoch 48/100\n",
      "1/1 [==============================] - 0s 99ms/step - loss: 0.0163 - mae: 0.1226 - val_loss: 0.4760 - val_mae: 0.5948\n",
      "Epoch 49/100\n",
      "1/1 [==============================] - 0s 121ms/step - loss: 0.0155 - mae: 0.1226 - val_loss: 0.4786 - val_mae: 0.5966\n",
      "Epoch 50/100\n",
      "1/1 [==============================] - 0s 133ms/step - loss: 0.0153 - mae: 0.1226 - val_loss: 0.4815 - val_mae: 0.5985\n",
      "Epoch 51/100\n",
      "1/1 [==============================] - 0s 102ms/step - loss: 0.0155 - mae: 0.1226 - val_loss: 0.4832 - val_mae: 0.5997\n",
      "Epoch 52/100\n",
      "1/1 [==============================] - 0s 119ms/step - loss: 0.0169 - mae: 0.1226 - val_loss: 0.4831 - val_mae: 0.5996\n",
      "Epoch 53/100\n",
      "1/1 [==============================] - 0s 113ms/step - loss: 0.0150 - mae: 0.1226 - val_loss: 0.4829 - val_mae: 0.5995\n",
      "Epoch 54/100\n",
      "1/1 [==============================] - 0s 122ms/step - loss: 0.0154 - mae: 0.1226 - val_loss: 0.4821 - val_mae: 0.5989\n",
      "Epoch 55/100\n",
      "1/1 [==============================] - 0s 124ms/step - loss: 0.0199 - mae: 0.1226 - val_loss: 0.4784 - val_mae: 0.5964\n",
      "Epoch 56/100\n",
      "1/1 [==============================] - 0s 109ms/step - loss: 0.0202 - mae: 0.1226 - val_loss: 0.4721 - val_mae: 0.5922\n",
      "Epoch 57/100\n",
      "1/1 [==============================] - 0s 117ms/step - loss: 0.0200 - mae: 0.1226 - val_loss: 0.4636 - val_mae: 0.5863\n",
      "Epoch 58/100\n",
      "1/1 [==============================] - 0s 104ms/step - loss: 0.0163 - mae: 0.1226 - val_loss: 0.4546 - val_mae: 0.5801\n",
      "Epoch 59/100\n",
      "1/1 [==============================] - 0s 112ms/step - loss: 0.0154 - mae: 0.1226 - val_loss: 0.4461 - val_mae: 0.5740\n",
      "Epoch 60/100\n",
      "1/1 [==============================] - 0s 131ms/step - loss: 0.0152 - mae: 0.1226 - val_loss: 0.4380 - val_mae: 0.5684\n",
      "Epoch 61/100\n",
      "1/1 [==============================] - 0s 118ms/step - loss: 0.0151 - mae: 0.1226 - val_loss: 0.4312 - val_mae: 0.5641\n",
      "Epoch 62/100\n",
      "1/1 [==============================] - 0s 149ms/step - loss: 0.0153 - mae: 0.1226 - val_loss: 0.4245 - val_mae: 0.5599\n",
      "Epoch 63/100\n",
      "1/1 [==============================] - 0s 112ms/step - loss: 0.0158 - mae: 0.1226 - val_loss: 0.4196 - val_mae: 0.5567\n",
      "Epoch 64/100\n",
      "1/1 [==============================] - 0s 108ms/step - loss: 0.0161 - mae: 0.1226 - val_loss: 0.4162 - val_mae: 0.5545\n",
      "Epoch 65/100\n",
      "1/1 [==============================] - 0s 133ms/step - loss: 0.0152 - mae: 0.1226 - val_loss: 0.4127 - val_mae: 0.5523\n",
      "Epoch 66/100\n",
      "1/1 [==============================] - 0s 120ms/step - loss: 0.0158 - mae: 0.1226 - val_loss: 0.4106 - val_mae: 0.5509\n",
      "Epoch 67/100\n",
      "1/1 [==============================] - 0s 118ms/step - loss: 0.0158 - mae: 0.1226 - val_loss: 0.4096 - val_mae: 0.5502\n",
      "Epoch 68/100\n",
      "1/1 [==============================] - 0s 102ms/step - loss: 0.0156 - mae: 0.1226 - val_loss: 0.4095 - val_mae: 0.5501\n",
      "Epoch 69/100\n",
      "1/1 [==============================] - 0s 114ms/step - loss: 0.0218 - mae: 0.1226 - val_loss: 0.4117 - val_mae: 0.5516\n",
      "Epoch 70/100\n",
      "1/1 [==============================] - 0s 126ms/step - loss: 0.0161 - mae: 0.1226 - val_loss: 0.4149 - val_mae: 0.5537\n",
      "Epoch 71/100\n",
      "1/1 [==============================] - 0s 105ms/step - loss: 0.0159 - mae: 0.1226 - val_loss: 0.4189 - val_mae: 0.5562\n",
      "Epoch 72/100\n",
      "1/1 [==============================] - 0s 103ms/step - loss: 0.0154 - mae: 0.1226 - val_loss: 0.4218 - val_mae: 0.5581\n",
      "Epoch 73/100\n",
      "1/1 [==============================] - 0s 97ms/step - loss: 0.0152 - mae: 0.1226 - val_loss: 0.4239 - val_mae: 0.5595\n",
      "Epoch 74/100\n",
      "1/1 [==============================] - 0s 98ms/step - loss: 0.0151 - mae: 0.1226 - val_loss: 0.4262 - val_mae: 0.5609\n",
      "Epoch 75/100\n",
      "1/1 [==============================] - 0s 91ms/step - loss: 0.0163 - mae: 0.1226 - val_loss: 0.4294 - val_mae: 0.5630\n",
      "Epoch 76/100\n",
      "1/1 [==============================] - 0s 107ms/step - loss: 0.0151 - mae: 0.1226 - val_loss: 0.4326 - val_mae: 0.5650\n",
      "Epoch 77/100\n",
      "1/1 [==============================] - 0s 119ms/step - loss: 0.0153 - mae: 0.1226 - val_loss: 0.4348 - val_mae: 0.5664\n",
      "Epoch 78/100\n",
      "1/1 [==============================] - 0s 115ms/step - loss: 0.0182 - mae: 0.1226 - val_loss: 0.4384 - val_mae: 0.5686\n",
      "Epoch 79/100\n",
      "1/1 [==============================] - 0s 125ms/step - loss: 0.0180 - mae: 0.1226 - val_loss: 0.4433 - val_mae: 0.5721\n",
      "Epoch 80/100\n",
      "1/1 [==============================] - 0s 117ms/step - loss: 0.0160 - mae: 0.1226 - val_loss: 0.4466 - val_mae: 0.5744\n",
      "Epoch 81/100\n",
      "1/1 [==============================] - 0s 97ms/step - loss: 0.0163 - mae: 0.1226 - val_loss: 0.4483 - val_mae: 0.5756\n",
      "Epoch 82/100\n",
      "1/1 [==============================] - 0s 127ms/step - loss: 0.0151 - mae: 0.1226 - val_loss: 0.4501 - val_mae: 0.5769\n",
      "Epoch 83/100\n",
      "1/1 [==============================] - 0s 118ms/step - loss: 0.0150 - mae: 0.1226 - val_loss: 0.4516 - val_mae: 0.5780\n",
      "Epoch 84/100\n",
      "1/1 [==============================] - 0s 113ms/step - loss: 0.0150 - mae: 0.1226 - val_loss: 0.4530 - val_mae: 0.5789\n",
      "Epoch 85/100\n",
      "1/1 [==============================] - 0s 112ms/step - loss: 0.0151 - mae: 0.1226 - val_loss: 0.4540 - val_mae: 0.5796\n",
      "Epoch 86/100\n",
      "1/1 [==============================] - 0s 109ms/step - loss: 0.0157 - mae: 0.1226 - val_loss: 0.4557 - val_mae: 0.5808\n",
      "Epoch 87/100\n",
      "1/1 [==============================] - 0s 110ms/step - loss: 0.0159 - mae: 0.1226 - val_loss: 0.4562 - val_mae: 0.5812\n",
      "Epoch 88/100\n",
      "1/1 [==============================] - 0s 107ms/step - loss: 0.0153 - mae: 0.1226 - val_loss: 0.4561 - val_mae: 0.5811\n",
      "Epoch 89/100\n",
      "1/1 [==============================] - 0s 111ms/step - loss: 0.0179 - mae: 0.1226 - val_loss: 0.4539 - val_mae: 0.5796\n",
      "Epoch 90/100\n",
      "1/1 [==============================] - 0s 106ms/step - loss: 0.0157 - mae: 0.1226 - val_loss: 0.4510 - val_mae: 0.5775\n",
      "Epoch 91/100\n",
      "1/1 [==============================] - 0s 109ms/step - loss: 0.0177 - mae: 0.1226 - val_loss: 0.4464 - val_mae: 0.5743\n",
      "Epoch 92/100\n",
      "1/1 [==============================] - 0s 129ms/step - loss: 0.0172 - mae: 0.1226 - val_loss: 0.4406 - val_mae: 0.5702\n",
      "Epoch 93/100\n",
      "1/1 [==============================] - 0s 131ms/step - loss: 0.0168 - mae: 0.1226 - val_loss: 0.4368 - val_mae: 0.5676\n",
      "Epoch 94/100\n",
      "1/1 [==============================] - 0s 112ms/step - loss: 0.0155 - mae: 0.1226 - val_loss: 0.4341 - val_mae: 0.5659\n",
      "Epoch 95/100\n",
      "1/1 [==============================] - 0s 130ms/step - loss: 0.0150 - mae: 0.1226 - val_loss: 0.4316 - val_mae: 0.5643\n",
      "Epoch 96/100\n",
      "1/1 [==============================] - 0s 103ms/step - loss: 0.0158 - mae: 0.1226 - val_loss: 0.4302 - val_mae: 0.5634\n",
      "Epoch 97/100\n",
      "1/1 [==============================] - 0s 117ms/step - loss: 0.0173 - mae: 0.1226 - val_loss: 0.4305 - val_mae: 0.5636\n",
      "Epoch 98/100\n",
      "1/1 [==============================] - 0s 117ms/step - loss: 0.0157 - mae: 0.1226 - val_loss: 0.4316 - val_mae: 0.5643\n",
      "Epoch 99/100\n",
      "1/1 [==============================] - 0s 121ms/step - loss: 0.0160 - mae: 0.1226 - val_loss: 0.4337 - val_mae: 0.5656\n",
      "Epoch 100/100\n",
      "1/1 [==============================] - 0s 110ms/step - loss: 0.0150 - mae: 0.1226 - val_loss: 0.4353 - val_mae: 0.5667\n"
     ]
    }
   ],
   "source": [
    "#Using mae and mse\n",
    "model.compile(optimizer=tf.keras.optimizers.SGD(learning_rate=0.01, momentum=0.9),metrics=['mae'],loss='mse')\n",
    "model.summary()\n",
    "hist=model.fit(train_set,epochs=100,validation_data=valid_set)"
   ]
  },
  {
   "cell_type": "code",
   "execution_count": 153,
   "metadata": {},
   "outputs": [
    {
     "data": {
      "image/png": "[encoded data removed]",
      "text/plain": [
       "<Figure size 432x288 with 1 Axes>"
      ]
     },
     "metadata": {
      "needs_background": "light"
     },
     "output_type": "display_data"
    }
   ],
   "source": [
    "plt.plot(hist.history['mae'], label='MAE (training data)')\n",
    "plt.plot(hist.history['val_mae'], label='MAE (validation data)')\n",
    "\n",
    "plt.ylabel('MAE value')\n",
    "plt.xlabel('No. epoch')\n",
    "plt.legend(loc=\"upper left\")\n",
    "plt.show()"
   ]
  },
  {
   "cell_type": "code",
   "execution_count": 154,
   "metadata": {},
   "outputs": [
    {
     "data": {
      "text/plain": [
       "array([[0.8535772 ],\n",
       "       [0.8526803 ],\n",
       "       [0.85180783]], dtype=float32)"
      ]
     },
     "execution_count": 154,
     "metadata": {},
     "output_type": "execute_result"
    }
   ],
   "source": [
    "prediksi=model.predict([21, 22, 23])\n",
    "prediksi"
   ]
  },
  {
   "cell_type": "code",
   "execution_count": 155,
   "metadata": {},
   "outputs": [
    {
     "data": {
      "text/plain": [
       "[<matplotlib.lines.Line2D at 0x1f2c78dca90>]"
      ]
     },
     "execution_count": 155,
     "metadata": {},
     "output_type": "execute_result"
    },
    {
     "data": {
      "image/png": "[encoded data removed]",
      "text/plain": [
       "<Figure size 432x288 with 1 Axes>"
      ]
     },
     "metadata": {
      "needs_background": "light"
     },
     "output_type": "display_data"
    }
   ],
   "source": [
    "#data asli\n",
    "series = series * max\n",
    "series = series + min\n",
    "plt.plot(series)"
   ]
  },
  {
   "cell_type": "code",
   "execution_count": 156,
   "metadata": {},
   "outputs": [
    {
     "data": {
      "text/plain": [
       "array([[2483.0034],\n",
       "       [2480.441 ],\n",
       "       [2477.9482]], dtype=float32)"
      ]
     },
     "execution_count": 156,
     "metadata": {},
     "output_type": "execute_result"
    }
   ],
   "source": [
    "prediksi = prediksi * max\n",
    "prediksi = prediksi + min\n",
    "prediksi"
   ]
  },
  {
   "cell_type": "code",
   "execution_count": 157,
   "metadata": {},
   "outputs": [],
   "source": [
    "prediksi=prediksi.flatten()"
   ]
  },
  {
   "cell_type": "code",
   "execution_count": 158,
   "metadata": {},
   "outputs": [],
   "source": [
    "hasil=np.concatenate((series[:-split_time],prediksi))"
   ]
  },
  {
   "cell_type": "code",
   "execution_count": 159,
   "metadata": {},
   "outputs": [
    {
     "data": {
      "text/plain": [
       "array([1844.66666667, 2857.        , 2156.66666667, 2060.66666667,\n",
       "       2336.33333333, 2655.33333333, 2044.        , 2490.66666667,\n",
       "       1824.33333333, 2065.33333333, 2837.33333333, 1107.        ,\n",
       "        138.66666667,  113.33333333,   68.        ,   44.33333333,\n",
       "        194.66666667,   68.        ,   74.66666667,   91.66666667,\n",
       "        145.66666667, 2483.00341797, 2480.44091797, 2477.94824219])"
      ]
     },
     "execution_count": 159,
     "metadata": {},
     "output_type": "execute_result"
    }
   ],
   "source": [
    "hasil"
   ]
  },
  {
   "cell_type": "code",
   "execution_count": 160,
   "metadata": {},
   "outputs": [
    {
     "data": {
      "text/plain": [
       "[<matplotlib.lines.Line2D at 0x1f2b3d558e0>]"
      ]
     },
     "execution_count": 160,
     "metadata": {},
     "output_type": "execute_result"
    },
    {
     "data": {
      "image/png": "[encoded data removed]",
      "text/plain": [
       "<Figure size 432x288 with 1 Axes>"
      ]
     },
     "metadata": {
      "needs_background": "light"
     },
     "output_type": "display_data"
    }
   ],
   "source": [
    "#data prediksi\n",
    "plt.plot(hasil)"
   ]
  },
  {
   "cell_type": "markdown",
   "metadata": {},
   "source": [
    "# C4"
   ]
  },
  {
   "cell_type": "code",
   "execution_count": 161,
   "metadata": {},
   "outputs": [],
   "source": [
    "## do the same for the others, tapi karena yang lain punya beberapa anggota, nah itu di average dulu per tanggalnya\n",
    "c4=c4.drop(columns=['Kode Produk', 'Cluster'])"
   ]
  },
  {
   "cell_type": "code",
   "execution_count": 162,
   "metadata": {},
   "outputs": [],
   "source": [
    "#next, buat dia kayak mejeneng time series seperti biasanya, which is datanya ke bawah, tapi di average per tanggal \n",
    "new_c4=[]\n",
    "time=[]\n",
    "for idx,a in enumerate(c0):\n",
    "    new_c4.append(c4[a].mean())\n",
    "    time.append(idx)\n"
   ]
  },
  {
   "cell_type": "code",
   "execution_count": 163,
   "metadata": {},
   "outputs": [
    {
     "data": {
      "text/plain": [
       "[28.010416666666668,\n",
       " 25.8125,\n",
       " 26.0,\n",
       " 24.8125,\n",
       " 28.427083333333332,\n",
       " 15.791666666666666,\n",
       " 31.25,\n",
       " 22.510416666666668,\n",
       " 30.760416666666668,\n",
       " 33.020833333333336,\n",
       " 28.020833333333332,\n",
       " 23.677083333333332,\n",
       " 27.677083333333332,\n",
       " 26.78125,\n",
       " 26.270833333333332,\n",
       " 19.114583333333332,\n",
       " 11.395833333333334,\n",
       " 13.270833333333334,\n",
       " 20.385416666666668,\n",
       " 22.083333333333332,\n",
       " 21.53125,\n",
       " 15.895833333333334,\n",
       " 19.885416666666668,\n",
       " 19.5625]"
      ]
     },
     "execution_count": 163,
     "metadata": {},
     "output_type": "execute_result"
    }
   ],
   "source": [
    "values"
   ]
  },
  {
   "cell_type": "code",
   "execution_count": 164,
   "metadata": {},
   "outputs": [],
   "source": [
    "#normalisasi, karena gap nya ada yang sampe ribuan, biar lebih gampang tugas ann nya\n",
    "series=new_c0\n",
    "min = np.min(series)\n",
    "max = np.max(series)\n",
    "series = series - min\n",
    "series = series / max\n",
    "time = np.array(time)"
   ]
  },
  {
   "cell_type": "code",
   "execution_count": 165,
   "metadata": {},
   "outputs": [],
   "source": [
    "split_time = 3 # ini berapa bulan terkahir yang mau di potong buat pengujian?\n",
    "\n",
    "time_train = time[:split_time]\n",
    "x_train =  series[:split_time]\n",
    "time_valid =  time[split_time:]\n",
    "x_valid =  series[split_time:]"
   ]
  },
  {
   "cell_type": "code",
   "execution_count": 166,
   "metadata": {},
   "outputs": [],
   "source": [
    "#buat data biar dibagi per window, jadi me masang masangkan waktu dan value,\n",
    "window_size = 2\n",
    "batch_size = 2\n",
    "shuffle_buffer_size = 10\n",
    "\n",
    "train_set = windowed_dataset(x_train, window_size, batch_size, shuffle_buffer_size)\n",
    "valid_set = windowed_dataset(x_valid, window_size, batch_size, shuffle_buffer_size)"
   ]
  },
  {
   "cell_type": "code",
   "execution_count": 167,
   "metadata": {},
   "outputs": [
    {
     "name": "stdout",
     "output_type": "stream",
     "text": [
      "Model: \"sequential_9\"\n",
      "_________________________________________________________________\n",
      "Layer (type)                 Output Shape              Param #   \n",
      "=================================================================\n",
      "dense_50 (Dense)             (None, None, 2)           4         \n",
      "_________________________________________________________________\n",
      "bidirectional_18 (Bidirectio (None, 64)                8960      \n",
      "_________________________________________________________________\n",
      "flatten_9 (Flatten)          (None, 64)                0         \n",
      "_________________________________________________________________\n",
      "dense_51 (Dense)             (None, 256)               16640     \n",
      "_________________________________________________________________\n",
      "dense_52 (Dense)             (None, 64)                16448     \n",
      "_________________________________________________________________\n",
      "dense_53 (Dense)             (None, 32)                2080      \n",
      "_________________________________________________________________\n",
      "dropout_4 (Dropout)          (None, 32)                0         \n",
      "_________________________________________________________________\n",
      "dense_54 (Dense)             (None, 1)                 33        \n",
      "=================================================================\n",
      "Total params: 44,165\n",
      "Trainable params: 44,165\n",
      "Non-trainable params: 0\n",
      "_________________________________________________________________\n",
      "Epoch 1/100\n",
      "1/1 [==============================] - 4s 4s/step - loss: 0.1750 - mae: 0.4183 - val_loss: 0.2755 - val_mae: 0.4924\n",
      "Epoch 2/100\n",
      "1/1 [==============================] - 0s 136ms/step - loss: 0.1843 - mae: 0.4292 - val_loss: 0.2513 - val_mae: 0.4672\n",
      "Epoch 3/100\n",
      "1/1 [==============================] - 0s 139ms/step - loss: 0.1633 - mae: 0.4040 - val_loss: 0.2211 - val_mae: 0.4336\n",
      "Epoch 4/100\n",
      "1/1 [==============================] - 0s 101ms/step - loss: 0.0962 - mae: 0.3101 - val_loss: 0.1884 - val_mae: 0.3941\n",
      "Epoch 5/100\n",
      "1/1 [==============================] - 0s 110ms/step - loss: 0.1016 - mae: 0.3187 - val_loss: 0.1550 - val_mae: 0.3491\n",
      "Epoch 6/100\n",
      "1/1 [==============================] - 0s 119ms/step - loss: 0.0733 - mae: 0.2707 - val_loss: 0.1233 - val_mae: 0.3012\n",
      "Epoch 7/100\n",
      "1/1 [==============================] - 0s 117ms/step - loss: 0.0367 - mae: 0.1916 - val_loss: 0.0967 - val_mae: 0.2584\n",
      "Epoch 8/100\n",
      "1/1 [==============================] - 0s 103ms/step - loss: 0.0218 - mae: 0.1476 - val_loss: 0.0753 - val_mae: 0.2252\n",
      "Epoch 9/100\n",
      "1/1 [==============================] - 0s 103ms/step - loss: 0.0188 - mae: 0.1372 - val_loss: 0.0594 - val_mae: 0.1959\n",
      "Epoch 10/100\n",
      "1/1 [==============================] - 0s 119ms/step - loss: 0.0037 - mae: 0.0607 - val_loss: 0.0483 - val_mae: 0.1777\n",
      "Epoch 11/100\n",
      "1/1 [==============================] - 0s 109ms/step - loss: 1.9081e-04 - mae: 0.0135 - val_loss: 0.0410 - val_mae: 0.1682\n",
      "Epoch 12/100\n",
      "1/1 [==============================] - 0s 128ms/step - loss: 0.0012 - mae: 0.0347 - val_loss: 0.0366 - val_mae: 0.1619\n",
      "Epoch 13/100\n",
      "1/1 [==============================] - 0s 112ms/step - loss: 3.8063e-04 - mae: 0.0193 - val_loss: 0.0342 - val_mae: 0.1564\n",
      "Epoch 14/100\n",
      "1/1 [==============================] - 0s 84ms/step - loss: 0.0023 - mae: 0.0484 - val_loss: 0.0333 - val_mae: 0.1535\n",
      "Epoch 15/100\n",
      "1/1 [==============================] - 0s 100ms/step - loss: 0.0050 - mae: 0.0709 - val_loss: 0.0333 - val_mae: 0.1515\n",
      "Epoch 16/100\n",
      "1/1 [==============================] - 0s 112ms/step - loss: 0.0175 - mae: 0.1321 - val_loss: 0.0337 - val_mae: 0.1515\n",
      "Epoch 17/100\n",
      "1/1 [==============================] - 0s 121ms/step - loss: 0.0082 - mae: 0.0907 - val_loss: 0.0342 - val_mae: 0.1525\n",
      "Epoch 18/100\n",
      "1/1 [==============================] - 0s 111ms/step - loss: 0.0246 - mae: 0.1568 - val_loss: 0.0344 - val_mae: 0.1528\n",
      "Epoch 19/100\n",
      "1/1 [==============================] - 0s 115ms/step - loss: 0.0128 - mae: 0.1131 - val_loss: 0.0344 - val_mae: 0.1529\n",
      "Epoch 20/100\n",
      "1/1 [==============================] - 0s 127ms/step - loss: 0.0261 - mae: 0.1615 - val_loss: 0.0341 - val_mae: 0.1524\n",
      "Epoch 21/100\n",
      "1/1 [==============================] - 0s 116ms/step - loss: 0.0093 - mae: 0.0964 - val_loss: 0.0338 - val_mae: 0.1517\n",
      "Epoch 22/100\n",
      "1/1 [==============================] - 0s 113ms/step - loss: 0.0223 - mae: 0.1494 - val_loss: 0.0334 - val_mae: 0.1515\n",
      "Epoch 23/100\n",
      "1/1 [==============================] - 0s 116ms/step - loss: 0.0168 - mae: 0.1297 - val_loss: 0.0332 - val_mae: 0.1523\n",
      "Epoch 24/100\n",
      "1/1 [==============================] - 0s 114ms/step - loss: 0.0069 - mae: 0.0831 - val_loss: 0.0334 - val_mae: 0.1538\n",
      "Epoch 25/100\n",
      "1/1 [==============================] - 0s 122ms/step - loss: 0.0110 - mae: 0.1049 - val_loss: 0.0340 - val_mae: 0.1555\n",
      "Epoch 26/100\n",
      "1/1 [==============================] - 0s 121ms/step - loss: 0.0097 - mae: 0.0987 - val_loss: 0.0352 - val_mae: 0.1590\n",
      "Epoch 27/100\n",
      "1/1 [==============================] - 0s 117ms/step - loss: 0.0042 - mae: 0.0644 - val_loss: 0.0369 - val_mae: 0.1625\n",
      "Epoch 28/100\n",
      "1/1 [==============================] - 0s 112ms/step - loss: 2.6046e-04 - mae: 0.0159 - val_loss: 0.0390 - val_mae: 0.1657\n",
      "Epoch 29/100\n",
      "1/1 [==============================] - 0s 111ms/step - loss: 0.0019 - mae: 0.0431 - val_loss: 0.0415 - val_mae: 0.1688\n",
      "Epoch 30/100\n",
      "1/1 [==============================] - 0s 101ms/step - loss: 1.7712e-04 - mae: 0.0130 - val_loss: 0.0442 - val_mae: 0.1717\n",
      "Epoch 31/100\n",
      "1/1 [==============================] - 0s 102ms/step - loss: 2.9418e-04 - mae: 0.0169 - val_loss: 0.0470 - val_mae: 0.1757\n",
      "Epoch 32/100\n",
      "1/1 [==============================] - 0s 104ms/step - loss: 3.5972e-05 - mae: 0.0053 - val_loss: 0.0498 - val_mae: 0.1802\n",
      "Epoch 33/100\n",
      "1/1 [==============================] - 0s 97ms/step - loss: 0.0025 - mae: 0.0502 - val_loss: 0.0522 - val_mae: 0.1839\n",
      "Epoch 34/100\n",
      "1/1 [==============================] - 0s 109ms/step - loss: 0.0018 - mae: 0.0418 - val_loss: 0.0541 - val_mae: 0.1868\n",
      "Epoch 35/100\n",
      "1/1 [==============================] - 0s 119ms/step - loss: 0.0025 - mae: 0.0498 - val_loss: 0.0555 - val_mae: 0.1890\n",
      "Epoch 36/100\n",
      "1/1 [==============================] - 0s 118ms/step - loss: 0.0038 - mae: 0.0614 - val_loss: 0.0563 - val_mae: 0.1905\n",
      "Epoch 37/100\n",
      "1/1 [==============================] - 0s 113ms/step - loss: 0.0047 - mae: 0.0682 - val_loss: 0.0566 - val_mae: 0.1909\n",
      "Epoch 38/100\n",
      "1/1 [==============================] - 0s 124ms/step - loss: 0.0020 - mae: 0.0446 - val_loss: 0.0565 - val_mae: 0.1907\n",
      "Epoch 39/100\n",
      "1/1 [==============================] - 0s 127ms/step - loss: 0.0045 - mae: 0.0670 - val_loss: 0.0558 - val_mae: 0.1896\n",
      "Epoch 40/100\n",
      "1/1 [==============================] - 0s 122ms/step - loss: 0.0026 - mae: 0.0513 - val_loss: 0.0549 - val_mae: 0.1879\n",
      "Epoch 41/100\n",
      "1/1 [==============================] - 0s 111ms/step - loss: 0.0012 - mae: 0.0340 - val_loss: 0.0538 - val_mae: 0.1863\n",
      "Epoch 42/100\n",
      "1/1 [==============================] - 0s 113ms/step - loss: 0.0015 - mae: 0.0382 - val_loss: 0.0525 - val_mae: 0.1845\n",
      "Epoch 43/100\n",
      "1/1 [==============================] - 0s 121ms/step - loss: 0.0016 - mae: 0.0400 - val_loss: 0.0512 - val_mae: 0.1824\n",
      "Epoch 44/100\n",
      "1/1 [==============================] - 0s 134ms/step - loss: 0.0017 - mae: 0.0410 - val_loss: 0.0497 - val_mae: 0.1800\n",
      "Epoch 45/100\n",
      "1/1 [==============================] - 0s 132ms/step - loss: 6.4894e-04 - mae: 0.0253 - val_loss: 0.0482 - val_mae: 0.1776\n",
      "Epoch 46/100\n",
      "1/1 [==============================] - 0s 101ms/step - loss: 0.0011 - mae: 0.0338 - val_loss: 0.0468 - val_mae: 0.1754\n",
      "Epoch 47/100\n",
      "1/1 [==============================] - 0s 107ms/step - loss: 3.6072e-04 - mae: 0.0188 - val_loss: 0.0455 - val_mae: 0.1736\n",
      "Epoch 48/100\n",
      "1/1 [==============================] - 0s 97ms/step - loss: 2.1429e-05 - mae: 0.0037 - val_loss: 0.0443 - val_mae: 0.1719\n",
      "Epoch 49/100\n",
      "1/1 [==============================] - 0s 117ms/step - loss: 2.6307e-04 - mae: 0.0160 - val_loss: 0.0432 - val_mae: 0.1707\n",
      "Epoch 50/100\n",
      "1/1 [==============================] - 0s 91ms/step - loss: 0.0012 - mae: 0.0346 - val_loss: 0.0421 - val_mae: 0.1696\n",
      "Epoch 51/100\n",
      "1/1 [==============================] - 0s 98ms/step - loss: 3.4278e-04 - mae: 0.0183 - val_loss: 0.0413 - val_mae: 0.1686\n",
      "Epoch 52/100\n",
      "1/1 [==============================] - 0s 116ms/step - loss: 1.7198e-04 - mae: 0.0128 - val_loss: 0.0406 - val_mae: 0.1677\n",
      "Epoch 53/100\n",
      "1/1 [==============================] - 0s 114ms/step - loss: 5.3607e-04 - mae: 0.0230 - val_loss: 0.0398 - val_mae: 0.1668\n",
      "Epoch 54/100\n",
      "1/1 [==============================] - 0s 118ms/step - loss: 5.9234e-04 - mae: 0.0242 - val_loss: 0.0393 - val_mae: 0.1661\n",
      "Epoch 55/100\n",
      "1/1 [==============================] - 0s 122ms/step - loss: 4.5447e-04 - mae: 0.0211 - val_loss: 0.0389 - val_mae: 0.1656\n",
      "Epoch 56/100\n",
      "1/1 [==============================] - 0s 113ms/step - loss: 0.0013 - mae: 0.0362 - val_loss: 0.0388 - val_mae: 0.1653\n",
      "Epoch 57/100\n",
      "1/1 [==============================] - 0s 121ms/step - loss: 7.5261e-04 - mae: 0.0273 - val_loss: 0.0387 - val_mae: 0.1653\n",
      "Epoch 58/100\n",
      "1/1 [==============================] - 0s 145ms/step - loss: 6.9317e-04 - mae: 0.0262 - val_loss: 0.0388 - val_mae: 0.1654\n",
      "Epoch 59/100\n",
      "1/1 [==============================] - 0s 116ms/step - loss: 1.7263e-05 - mae: 0.0030 - val_loss: 0.0389 - val_mae: 0.1655\n",
      "Epoch 60/100\n",
      "1/1 [==============================] - 0s 111ms/step - loss: 3.8889e-04 - mae: 0.0195 - val_loss: 0.0390 - val_mae: 0.1657\n",
      "Epoch 61/100\n",
      "1/1 [==============================] - 0s 111ms/step - loss: 6.7017e-05 - mae: 0.0077 - val_loss: 0.0391 - val_mae: 0.1658\n",
      "Epoch 62/100\n",
      "1/1 [==============================] - 0s 106ms/step - loss: 8.0626e-06 - mae: 0.0028 - val_loss: 0.0392 - val_mae: 0.1659\n",
      "Epoch 63/100\n",
      "1/1 [==============================] - 0s 121ms/step - loss: 8.2094e-06 - mae: 0.0028 - val_loss: 0.0393 - val_mae: 0.1660\n",
      "Epoch 64/100\n",
      "1/1 [==============================] - 0s 150ms/step - loss: 2.2267e-04 - mae: 0.0146 - val_loss: 0.0394 - val_mae: 0.1662\n",
      "Epoch 65/100\n",
      "1/1 [==============================] - 0s 105ms/step - loss: 3.3464e-04 - mae: 0.0181 - val_loss: 0.0396 - val_mae: 0.1665\n",
      "Epoch 66/100\n",
      "1/1 [==============================] - 0s 109ms/step - loss: 3.9245e-04 - mae: 0.0196 - val_loss: 0.0399 - val_mae: 0.1668\n",
      "Epoch 67/100\n",
      "1/1 [==============================] - 0s 105ms/step - loss: 3.7559e-04 - mae: 0.0192 - val_loss: 0.0402 - val_mae: 0.1672\n",
      "Epoch 68/100\n",
      "1/1 [==============================] - 0s 101ms/step - loss: 7.3375e-04 - mae: 0.0269 - val_loss: 0.0406 - val_mae: 0.1677\n",
      "Epoch 69/100\n",
      "1/1 [==============================] - 0s 98ms/step - loss: 2.2620e-05 - mae: 0.0038 - val_loss: 0.0410 - val_mae: 0.1682\n",
      "Epoch 70/100\n",
      "1/1 [==============================] - 0s 100ms/step - loss: 4.6839e-04 - mae: 0.0215 - val_loss: 0.0413 - val_mae: 0.1685\n",
      "Epoch 71/100\n",
      "1/1 [==============================] - 0s 118ms/step - loss: 3.5850e-04 - mae: 0.0187 - val_loss: 0.0414 - val_mae: 0.1688\n",
      "Epoch 72/100\n",
      "1/1 [==============================] - 0s 116ms/step - loss: 4.4039e-05 - mae: 0.0060 - val_loss: 0.0416 - val_mae: 0.1689\n",
      "Epoch 73/100\n",
      "1/1 [==============================] - 0s 123ms/step - loss: 3.7778e-05 - mae: 0.0055 - val_loss: 0.0417 - val_mae: 0.1691\n",
      "Epoch 74/100\n",
      "1/1 [==============================] - 0s 102ms/step - loss: 2.9807e-04 - mae: 0.0170 - val_loss: 0.0420 - val_mae: 0.1694\n",
      "Epoch 75/100\n",
      "1/1 [==============================] - 0s 113ms/step - loss: 5.0050e-05 - mae: 0.0065 - val_loss: 0.0421 - val_mae: 0.1696\n",
      "Epoch 76/100\n",
      "1/1 [==============================] - 0s 121ms/step - loss: 1.0358e-05 - mae: 0.0028 - val_loss: 0.0423 - val_mae: 0.1697\n",
      "Epoch 77/100\n",
      "1/1 [==============================] - 0s 137ms/step - loss: 1.2063e-04 - mae: 0.0106 - val_loss: 0.0424 - val_mae: 0.1698\n",
      "Epoch 78/100\n",
      "1/1 [==============================] - 0s 105ms/step - loss: 1.8809e-04 - mae: 0.0134 - val_loss: 0.0425 - val_mae: 0.1699\n",
      "Epoch 79/100\n",
      "1/1 [==============================] - 0s 117ms/step - loss: 4.4803e-05 - mae: 0.0061 - val_loss: 0.0425 - val_mae: 0.1699\n",
      "Epoch 80/100\n",
      "1/1 [==============================] - 0s 109ms/step - loss: 1.5406e-04 - mae: 0.0121 - val_loss: 0.0425 - val_mae: 0.1700\n",
      "Epoch 81/100\n",
      "1/1 [==============================] - 0s 111ms/step - loss: 1.4772e-04 - mae: 0.0118 - val_loss: 0.0426 - val_mae: 0.1701\n",
      "Epoch 82/100\n",
      "1/1 [==============================] - 0s 112ms/step - loss: 5.6460e-04 - mae: 0.0236 - val_loss: 0.0427 - val_mae: 0.1701\n",
      "Epoch 83/100\n",
      "1/1 [==============================] - 0s 118ms/step - loss: 2.2819e-04 - mae: 0.0148 - val_loss: 0.0427 - val_mae: 0.1702\n",
      "Epoch 84/100\n",
      "1/1 [==============================] - 0s 112ms/step - loss: 2.8110e-05 - mae: 0.0045 - val_loss: 0.0428 - val_mae: 0.1703\n",
      "Epoch 85/100\n",
      "1/1 [==============================] - 0s 125ms/step - loss: 3.1762e-05 - mae: 0.0049 - val_loss: 0.0429 - val_mae: 0.1704\n",
      "Epoch 86/100\n",
      "1/1 [==============================] - 0s 114ms/step - loss: 2.9560e-05 - mae: 0.0046 - val_loss: 0.0430 - val_mae: 0.1705\n",
      "Epoch 87/100\n",
      "1/1 [==============================] - 0s 122ms/step - loss: 7.3890e-05 - mae: 0.0081 - val_loss: 0.0431 - val_mae: 0.1706\n",
      "Epoch 88/100\n",
      "1/1 [==============================] - 0s 117ms/step - loss: 1.5166e-04 - mae: 0.0120 - val_loss: 0.0432 - val_mae: 0.1706\n",
      "Epoch 89/100\n",
      "1/1 [==============================] - 0s 118ms/step - loss: 8.0538e-05 - mae: 0.0085 - val_loss: 0.0432 - val_mae: 0.1707\n",
      "Epoch 90/100\n",
      "1/1 [==============================] - 0s 127ms/step - loss: 1.0054e-05 - mae: 0.0028 - val_loss: 0.0433 - val_mae: 0.1708\n",
      "Epoch 91/100\n",
      "1/1 [==============================] - 0s 115ms/step - loss: 8.0373e-05 - mae: 0.0085 - val_loss: 0.0434 - val_mae: 0.1709\n",
      "Epoch 92/100\n",
      "1/1 [==============================] - 0s 119ms/step - loss: 8.4172e-05 - mae: 0.0087 - val_loss: 0.0435 - val_mae: 0.1710\n",
      "Epoch 93/100\n",
      "1/1 [==============================] - 0s 115ms/step - loss: 4.7170e-04 - mae: 0.0215 - val_loss: 0.0434 - val_mae: 0.1709\n",
      "Epoch 94/100\n",
      "1/1 [==============================] - 0s 113ms/step - loss: 2.5666e-05 - mae: 0.0042 - val_loss: 0.0434 - val_mae: 0.1709\n",
      "Epoch 95/100\n",
      "1/1 [==============================] - 0s 126ms/step - loss: 9.4336e-06 - mae: 0.0028 - val_loss: 0.0433 - val_mae: 0.1708\n",
      "Epoch 96/100\n",
      "1/1 [==============================] - 0s 123ms/step - loss: 4.8459e-04 - mae: 0.0218 - val_loss: 0.0431 - val_mae: 0.1706\n",
      "Epoch 97/100\n",
      "1/1 [==============================] - 0s 114ms/step - loss: 5.3931e-05 - mae: 0.0068 - val_loss: 0.0430 - val_mae: 0.1704\n",
      "Epoch 98/100\n",
      "1/1 [==============================] - 0s 114ms/step - loss: 6.3357e-05 - mae: 0.0074 - val_loss: 0.0428 - val_mae: 0.1702\n",
      "Epoch 99/100\n",
      "1/1 [==============================] - 0s 114ms/step - loss: 4.8370e-05 - mae: 0.0063 - val_loss: 0.0426 - val_mae: 0.1701\n",
      "Epoch 100/100\n",
      "1/1 [==============================] - 0s 122ms/step - loss: 6.3435e-05 - mae: 0.0074 - val_loss: 0.0425 - val_mae: 0.1699\n"
     ]
    }
   ],
   "source": [
    "#Using mae and mse\n",
    "model.compile(optimizer=tf.keras.optimizers.SGD(learning_rate=0.01, momentum=0.9),metrics=['mae'],loss='mse')\n",
    "model.summary()\n",
    "hist=model.fit(train_set,epochs=100,validation_data=valid_set)"
   ]
  },
  {
   "cell_type": "code",
   "execution_count": 168,
   "metadata": {},
   "outputs": [
    {
     "data": {
      "image/png": "[encoded data removed]",
      "text/plain": [
       "<Figure size 432x288 with 1 Axes>"
      ]
     },
     "metadata": {
      "needs_background": "light"
     },
     "output_type": "display_data"
    }
   ],
   "source": [
    "plt.plot(hist.history['mae'], label='MAE (training data)')\n",
    "plt.plot(hist.history['val_mae'], label='MAE (validation data)')\n",
    "\n",
    "plt.ylabel('MAE value')\n",
    "plt.xlabel('No. epoch')\n",
    "plt.legend(loc=\"upper left\")\n",
    "plt.show()"
   ]
  },
  {
   "cell_type": "code",
   "execution_count": 169,
   "metadata": {},
   "outputs": [
    {
     "data": {
      "text/plain": [
       "array([[0.431027  ],\n",
       "       [0.43004647],\n",
       "       [0.42912573]], dtype=float32)"
      ]
     },
     "execution_count": 169,
     "metadata": {},
     "output_type": "execute_result"
    }
   ],
   "source": [
    "prediksi=model.predict([21, 22, 23])\n",
    "prediksi"
   ]
  },
  {
   "cell_type": "code",
   "execution_count": 170,
   "metadata": {},
   "outputs": [
    {
     "data": {
      "text/plain": [
       "[<matplotlib.lines.Line2D at 0x1f2c20a04f0>]"
      ]
     },
     "execution_count": 170,
     "metadata": {},
     "output_type": "execute_result"
    },
    {
     "data": {
      "image/png": "[encoded data removed]",
      "text/plain": [
       "<Figure size 432x288 with 1 Axes>"
      ]
     },
     "metadata": {
      "needs_background": "light"
     },
     "output_type": "display_data"
    }
   ],
   "source": [
    "#data asli\n",
    "series = series * max\n",
    "series = series + min\n",
    "plt.plot(series)"
   ]
  },
  {
   "cell_type": "code",
   "execution_count": 171,
   "metadata": {},
   "outputs": [
    {
     "data": {
      "text/plain": [
       "array([[25.628704],\n",
       "       [25.596325],\n",
       "       [25.565922]], dtype=float32)"
      ]
     },
     "execution_count": 171,
     "metadata": {},
     "output_type": "execute_result"
    }
   ],
   "source": [
    "prediksi = prediksi * max\n",
    "prediksi = prediksi + min\n",
    "prediksi"
   ]
  },
  {
   "cell_type": "code",
   "execution_count": 172,
   "metadata": {},
   "outputs": [],
   "source": [
    "prediksi=prediksi.flatten()"
   ]
  },
  {
   "cell_type": "code",
   "execution_count": 173,
   "metadata": {},
   "outputs": [],
   "source": [
    "hasil=np.concatenate((series[:-split_time],prediksi))"
   ]
  },
  {
   "cell_type": "code",
   "execution_count": 174,
   "metadata": {},
   "outputs": [
    {
     "data": {
      "text/plain": [
       "array([28.01041667, 25.8125    , 26.        , 24.8125    , 28.42708333,\n",
       "       15.79166667, 31.25      , 22.51041667, 30.76041667, 33.02083333,\n",
       "       28.02083333, 23.67708333, 27.67708333, 26.78125   , 26.27083333,\n",
       "       19.11458333, 11.39583333, 13.27083333, 20.38541667, 22.08333333,\n",
       "       21.53125   , 25.62870407, 25.59632492, 25.56592178])"
      ]
     },
     "execution_count": 174,
     "metadata": {},
     "output_type": "execute_result"
    }
   ],
   "source": [
    "hasil"
   ]
  },
  {
   "cell_type": "code",
   "execution_count": 175,
   "metadata": {},
   "outputs": [
    {
     "data": {
      "text/plain": [
       "[<matplotlib.lines.Line2D at 0x1f2ad0e8bb0>]"
      ]
     },
     "execution_count": 175,
     "metadata": {},
     "output_type": "execute_result"
    },
    {
     "data": {
      "image/png": "[encoded data removed]",
      "text/plain": [
       "<Figure size 432x288 with 1 Axes>"
      ]
     },
     "metadata": {
      "needs_background": "light"
     },
     "output_type": "display_data"
    }
   ],
   "source": [
    "#data prediksi\n",
    "plt.plot(hasil)"
   ]
  }
 ],
 "metadata": {
  "interpreter": {
   "hash": "afeb0a5d6bb323ad18feb1b5918323875d02a8f396872f34a26389813d209932"
  },
  "kernelspec": {
   "display_name": "Python 3.8.12 64-bit ('skripsi': conda)",
   "language": "python",
   "name": "python3"
  },
  "language_info": {
   "codemirror_mode": {
    "name": "ipython",
    "version": 3
   },
   "file_extension": ".py",
   "mimetype": "text/x-python",
   "name": "python",
   "nbconvert_exporter": "python",
   "pygments_lexer": "ipython3",
   "version": "3.8.12"
  },
  "orig_nbformat": 4
 },
 "nbformat": 4,
 "nbformat_minor": 2
}
