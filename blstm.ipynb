{
 "cells": [
  {
   "cell_type": "code",
   "execution_count": 1,
   "metadata": {},
   "outputs": [],
   "source": [
    "import pandas as pd\n",
    "import numpy as np\n",
    "import tensorflow as tf"
   ]
  },
  {
   "cell_type": "code",
   "execution_count": 2,
   "metadata": {},
   "outputs": [
    {
     "data": {
      "text/html": [
       "<div>\n",
       "<style scoped>\n",
       "    .dataframe tbody tr th:only-of-type {\n",
       "        vertical-align: middle;\n",
       "    }\n",
       "\n",
       "    .dataframe tbody tr th {\n",
       "        vertical-align: top;\n",
       "    }\n",
       "\n",
       "    .dataframe thead th {\n",
       "        text-align: right;\n",
       "    }\n",
       "</style>\n",
       "<table border=\"1\" class=\"dataframe\">\n",
       "  <thead>\n",
       "    <tr style=\"text-align: right;\">\n",
       "      <th></th>\n",
       "      <th>Kode Produk</th>\n",
       "      <th>19-Jan</th>\n",
       "      <th>19-Feb</th>\n",
       "      <th>19-Mar</th>\n",
       "      <th>19-Apr</th>\n",
       "      <th>19-May</th>\n",
       "      <th>19-Jun</th>\n",
       "      <th>19-Jul</th>\n",
       "      <th>19-Aug</th>\n",
       "      <th>19-Sep</th>\n",
       "      <th>...</th>\n",
       "      <th>20-Apr</th>\n",
       "      <th>20-May</th>\n",
       "      <th>20-Jun</th>\n",
       "      <th>20-Jul</th>\n",
       "      <th>20-Aug</th>\n",
       "      <th>20-Sep</th>\n",
       "      <th>20-Oct</th>\n",
       "      <th>20-Nov</th>\n",
       "      <th>20-Dec</th>\n",
       "      <th>Cluster</th>\n",
       "    </tr>\n",
       "  </thead>\n",
       "  <tbody>\n",
       "    <tr>\n",
       "      <th>0</th>\n",
       "      <td>P1</td>\n",
       "      <td>56</td>\n",
       "      <td>7</td>\n",
       "      <td>8</td>\n",
       "      <td>14</td>\n",
       "      <td>16</td>\n",
       "      <td>10</td>\n",
       "      <td>21</td>\n",
       "      <td>20</td>\n",
       "      <td>68</td>\n",
       "      <td>...</td>\n",
       "      <td>17</td>\n",
       "      <td>6</td>\n",
       "      <td>9</td>\n",
       "      <td>62</td>\n",
       "      <td>67</td>\n",
       "      <td>62</td>\n",
       "      <td>67</td>\n",
       "      <td>77</td>\n",
       "      <td>11</td>\n",
       "      <td>0</td>\n",
       "    </tr>\n",
       "    <tr>\n",
       "      <th>1</th>\n",
       "      <td>P2</td>\n",
       "      <td>164</td>\n",
       "      <td>190</td>\n",
       "      <td>188</td>\n",
       "      <td>164</td>\n",
       "      <td>235</td>\n",
       "      <td>139</td>\n",
       "      <td>662</td>\n",
       "      <td>240</td>\n",
       "      <td>138</td>\n",
       "      <td>...</td>\n",
       "      <td>367</td>\n",
       "      <td>227</td>\n",
       "      <td>55</td>\n",
       "      <td>222</td>\n",
       "      <td>220</td>\n",
       "      <td>85</td>\n",
       "      <td>336</td>\n",
       "      <td>153</td>\n",
       "      <td>103</td>\n",
       "      <td>1</td>\n",
       "    </tr>\n",
       "    <tr>\n",
       "      <th>2</th>\n",
       "      <td>P3</td>\n",
       "      <td>65</td>\n",
       "      <td>58</td>\n",
       "      <td>79</td>\n",
       "      <td>109</td>\n",
       "      <td>50</td>\n",
       "      <td>51</td>\n",
       "      <td>73</td>\n",
       "      <td>92</td>\n",
       "      <td>28</td>\n",
       "      <td>...</td>\n",
       "      <td>121</td>\n",
       "      <td>23</td>\n",
       "      <td>30</td>\n",
       "      <td>26</td>\n",
       "      <td>19</td>\n",
       "      <td>23</td>\n",
       "      <td>21</td>\n",
       "      <td>20</td>\n",
       "      <td>7</td>\n",
       "      <td>0</td>\n",
       "    </tr>\n",
       "    <tr>\n",
       "      <th>3</th>\n",
       "      <td>P4</td>\n",
       "      <td>243</td>\n",
       "      <td>304</td>\n",
       "      <td>321</td>\n",
       "      <td>241</td>\n",
       "      <td>191</td>\n",
       "      <td>97</td>\n",
       "      <td>276</td>\n",
       "      <td>165</td>\n",
       "      <td>170</td>\n",
       "      <td>...</td>\n",
       "      <td>304</td>\n",
       "      <td>72</td>\n",
       "      <td>102</td>\n",
       "      <td>102</td>\n",
       "      <td>113</td>\n",
       "      <td>112</td>\n",
       "      <td>102</td>\n",
       "      <td>118</td>\n",
       "      <td>120</td>\n",
       "      <td>1</td>\n",
       "    </tr>\n",
       "    <tr>\n",
       "      <th>4</th>\n",
       "      <td>P5</td>\n",
       "      <td>10</td>\n",
       "      <td>13</td>\n",
       "      <td>24</td>\n",
       "      <td>14</td>\n",
       "      <td>28</td>\n",
       "      <td>9</td>\n",
       "      <td>19</td>\n",
       "      <td>10</td>\n",
       "      <td>24</td>\n",
       "      <td>...</td>\n",
       "      <td>16</td>\n",
       "      <td>11</td>\n",
       "      <td>7</td>\n",
       "      <td>10</td>\n",
       "      <td>16</td>\n",
       "      <td>18</td>\n",
       "      <td>18</td>\n",
       "      <td>23</td>\n",
       "      <td>22</td>\n",
       "      <td>0</td>\n",
       "    </tr>\n",
       "    <tr>\n",
       "      <th>...</th>\n",
       "      <td>...</td>\n",
       "      <td>...</td>\n",
       "      <td>...</td>\n",
       "      <td>...</td>\n",
       "      <td>...</td>\n",
       "      <td>...</td>\n",
       "      <td>...</td>\n",
       "      <td>...</td>\n",
       "      <td>...</td>\n",
       "      <td>...</td>\n",
       "      <td>...</td>\n",
       "      <td>...</td>\n",
       "      <td>...</td>\n",
       "      <td>...</td>\n",
       "      <td>...</td>\n",
       "      <td>...</td>\n",
       "      <td>...</td>\n",
       "      <td>...</td>\n",
       "      <td>...</td>\n",
       "      <td>...</td>\n",
       "      <td>...</td>\n",
       "    </tr>\n",
       "    <tr>\n",
       "      <th>153</th>\n",
       "      <td>P154</td>\n",
       "      <td>243</td>\n",
       "      <td>379</td>\n",
       "      <td>292</td>\n",
       "      <td>232</td>\n",
       "      <td>287</td>\n",
       "      <td>107</td>\n",
       "      <td>344</td>\n",
       "      <td>455</td>\n",
       "      <td>436</td>\n",
       "      <td>...</td>\n",
       "      <td>129</td>\n",
       "      <td>85</td>\n",
       "      <td>115</td>\n",
       "      <td>232</td>\n",
       "      <td>79</td>\n",
       "      <td>112</td>\n",
       "      <td>450</td>\n",
       "      <td>498</td>\n",
       "      <td>254</td>\n",
       "      <td>1</td>\n",
       "    </tr>\n",
       "    <tr>\n",
       "      <th>154</th>\n",
       "      <td>P155</td>\n",
       "      <td>-5</td>\n",
       "      <td>0</td>\n",
       "      <td>0</td>\n",
       "      <td>10</td>\n",
       "      <td>0</td>\n",
       "      <td>0</td>\n",
       "      <td>0</td>\n",
       "      <td>0</td>\n",
       "      <td>0</td>\n",
       "      <td>...</td>\n",
       "      <td>0</td>\n",
       "      <td>0</td>\n",
       "      <td>0</td>\n",
       "      <td>0</td>\n",
       "      <td>0</td>\n",
       "      <td>0</td>\n",
       "      <td>0</td>\n",
       "      <td>0</td>\n",
       "      <td>0</td>\n",
       "      <td>0</td>\n",
       "    </tr>\n",
       "    <tr>\n",
       "      <th>155</th>\n",
       "      <td>P156</td>\n",
       "      <td>101</td>\n",
       "      <td>65</td>\n",
       "      <td>117</td>\n",
       "      <td>94</td>\n",
       "      <td>197</td>\n",
       "      <td>151</td>\n",
       "      <td>157</td>\n",
       "      <td>159</td>\n",
       "      <td>144</td>\n",
       "      <td>...</td>\n",
       "      <td>152</td>\n",
       "      <td>129</td>\n",
       "      <td>136</td>\n",
       "      <td>177</td>\n",
       "      <td>120</td>\n",
       "      <td>167</td>\n",
       "      <td>153</td>\n",
       "      <td>130</td>\n",
       "      <td>121</td>\n",
       "      <td>1</td>\n",
       "    </tr>\n",
       "    <tr>\n",
       "      <th>156</th>\n",
       "      <td>P157</td>\n",
       "      <td>0</td>\n",
       "      <td>0</td>\n",
       "      <td>0</td>\n",
       "      <td>0</td>\n",
       "      <td>0</td>\n",
       "      <td>8</td>\n",
       "      <td>49</td>\n",
       "      <td>93</td>\n",
       "      <td>103</td>\n",
       "      <td>...</td>\n",
       "      <td>19</td>\n",
       "      <td>26</td>\n",
       "      <td>29</td>\n",
       "      <td>49</td>\n",
       "      <td>43</td>\n",
       "      <td>34</td>\n",
       "      <td>51</td>\n",
       "      <td>51</td>\n",
       "      <td>43</td>\n",
       "      <td>0</td>\n",
       "    </tr>\n",
       "    <tr>\n",
       "      <th>157</th>\n",
       "      <td>P158</td>\n",
       "      <td>0</td>\n",
       "      <td>0</td>\n",
       "      <td>0</td>\n",
       "      <td>0</td>\n",
       "      <td>0</td>\n",
       "      <td>7</td>\n",
       "      <td>67</td>\n",
       "      <td>78</td>\n",
       "      <td>156</td>\n",
       "      <td>...</td>\n",
       "      <td>64</td>\n",
       "      <td>55</td>\n",
       "      <td>63</td>\n",
       "      <td>98</td>\n",
       "      <td>57</td>\n",
       "      <td>81</td>\n",
       "      <td>132</td>\n",
       "      <td>79</td>\n",
       "      <td>80</td>\n",
       "      <td>1</td>\n",
       "    </tr>\n",
       "  </tbody>\n",
       "</table>\n",
       "<p>158 rows × 26 columns</p>\n",
       "</div>"
      ],
      "text/plain": [
       "    Kode Produk  19-Jan  19-Feb  19-Mar  19-Apr  19-May  19-Jun  19-Jul  \\\n",
       "0            P1      56       7       8      14      16      10      21   \n",
       "1            P2     164     190     188     164     235     139     662   \n",
       "2            P3      65      58      79     109      50      51      73   \n",
       "3            P4     243     304     321     241     191      97     276   \n",
       "4            P5      10      13      24      14      28       9      19   \n",
       "..          ...     ...     ...     ...     ...     ...     ...     ...   \n",
       "153        P154     243     379     292     232     287     107     344   \n",
       "154        P155      -5       0       0      10       0       0       0   \n",
       "155        P156     101      65     117      94     197     151     157   \n",
       "156        P157       0       0       0       0       0       8      49   \n",
       "157        P158       0       0       0       0       0       7      67   \n",
       "\n",
       "     19-Aug  19-Sep  ...  20-Apr  20-May  20-Jun  20-Jul  20-Aug  20-Sep  \\\n",
       "0        20      68  ...      17       6       9      62      67      62   \n",
       "1       240     138  ...     367     227      55     222     220      85   \n",
       "2        92      28  ...     121      23      30      26      19      23   \n",
       "3       165     170  ...     304      72     102     102     113     112   \n",
       "4        10      24  ...      16      11       7      10      16      18   \n",
       "..      ...     ...  ...     ...     ...     ...     ...     ...     ...   \n",
       "153     455     436  ...     129      85     115     232      79     112   \n",
       "154       0       0  ...       0       0       0       0       0       0   \n",
       "155     159     144  ...     152     129     136     177     120     167   \n",
       "156      93     103  ...      19      26      29      49      43      34   \n",
       "157      78     156  ...      64      55      63      98      57      81   \n",
       "\n",
       "     20-Oct  20-Nov  20-Dec  Cluster  \n",
       "0        67      77      11        0  \n",
       "1       336     153     103        1  \n",
       "2        21      20       7        0  \n",
       "3       102     118     120        1  \n",
       "4        18      23      22        0  \n",
       "..      ...     ...     ...      ...  \n",
       "153     450     498     254        1  \n",
       "154       0       0       0        0  \n",
       "155     153     130     121        1  \n",
       "156      51      51      43        0  \n",
       "157     132      79      80        1  \n",
       "\n",
       "[158 rows x 26 columns]"
      ]
     },
     "execution_count": 2,
     "metadata": {},
     "output_type": "execute_result"
    }
   ],
   "source": [
    "data=pd.read_csv('dataset.csv')\n",
    "data"
   ]
  },
  {
   "cell_type": "code",
   "execution_count": 6,
   "metadata": {},
   "outputs": [
    {
     "data": {
      "text/plain": [
       "5"
      ]
     },
     "execution_count": 6,
     "metadata": {},
     "output_type": "execute_result"
    }
   ],
   "source": [
    "len(data['Cluster'].unique())"
   ]
  },
  {
   "cell_type": "code",
   "execution_count": 7,
   "metadata": {},
   "outputs": [
    {
     "name": "stdout",
     "output_type": "stream",
     "text": [
      "Jumlah Produk:\n",
      "96\n",
      "Jumlah Produk:\n",
      "45\n",
      "Jumlah Produk:\n",
      "1\n",
      "Jumlah Produk:\n",
      "3\n",
      "Jumlah Produk:\n",
      "13\n"
     ]
    }
   ],
   "source": [
    "#now lets take clusters\n",
    "c0 = data.query(\"Cluster == 0\")\n",
    "print(\"Jumlah Produk:\")\n",
    "print(c0['Kode Produk'].size)\n",
    "c1 = data.query(\"Cluster == 1\")\n",
    "print(\"Jumlah Produk:\")\n",
    "print(c1['Kode Produk'].size)\n",
    "c2 = data.query(\"Cluster == 2\")\n",
    "print(\"Jumlah Produk:\")\n",
    "print(c2['Kode Produk'].size)\n",
    "c3 = data.query(\"Cluster == 3\")\n",
    "print(\"Jumlah Produk:\")\n",
    "print(c3['Kode Produk'].size)\n",
    "c4 = data.query(\"Cluster == 4\")\n",
    "print(\"Jumlah Produk:\")\n",
    "print(c4['Kode Produk'].size)"
   ]
  },
  {
   "cell_type": "code",
   "execution_count": 8,
   "metadata": {},
   "outputs": [],
   "source": [
    "#oke ada ternyata yang cuman sendirian (1 product di cluster tersebut), kita beresin dia dulu, the easiest, dan biar keliatan kita\n",
    "#ngapain aja di time series ini\n",
    "def windowed_dataset(series, window_size, batch_size, shuffle_buffer):\n",
    "    series = tf.expand_dims(series, axis=-1)\n",
    "    ds = tf.data.Dataset.from_tensor_slices(series)\n",
    "    ds = ds.window(window_size + 1, shift=1, drop_remainder=True)\n",
    "    ds = ds.flat_map(lambda w: w.batch(window_size + 1))\n",
    "    ds = ds.shuffle(shuffle_buffer)\n",
    "    ds = ds.map(lambda w: (w[:-1], w[1:]))\n",
    "    return ds.batch(batch_size).prefetch(1)\n",
    "# ini fungsinya buat nge ubah dataset jadi windowed"
   ]
  },
  {
   "cell_type": "code",
   "execution_count": 9,
   "metadata": {},
   "outputs": [
    {
     "data": {
      "text/html": [
       "<div>\n",
       "<style scoped>\n",
       "    .dataframe tbody tr th:only-of-type {\n",
       "        vertical-align: middle;\n",
       "    }\n",
       "\n",
       "    .dataframe tbody tr th {\n",
       "        vertical-align: top;\n",
       "    }\n",
       "\n",
       "    .dataframe thead th {\n",
       "        text-align: right;\n",
       "    }\n",
       "</style>\n",
       "<table border=\"1\" class=\"dataframe\">\n",
       "  <thead>\n",
       "    <tr style=\"text-align: right;\">\n",
       "      <th></th>\n",
       "      <th>19-Jan</th>\n",
       "      <th>19-Feb</th>\n",
       "      <th>19-Mar</th>\n",
       "      <th>19-Apr</th>\n",
       "      <th>19-May</th>\n",
       "      <th>19-Jun</th>\n",
       "      <th>19-Jul</th>\n",
       "      <th>19-Aug</th>\n",
       "      <th>19-Sep</th>\n",
       "      <th>19-Oct</th>\n",
       "      <th>...</th>\n",
       "      <th>20-Mar</th>\n",
       "      <th>20-Apr</th>\n",
       "      <th>20-May</th>\n",
       "      <th>20-Jun</th>\n",
       "      <th>20-Jul</th>\n",
       "      <th>20-Aug</th>\n",
       "      <th>20-Sep</th>\n",
       "      <th>20-Oct</th>\n",
       "      <th>20-Nov</th>\n",
       "      <th>20-Dec</th>\n",
       "    </tr>\n",
       "  </thead>\n",
       "  <tbody>\n",
       "    <tr>\n",
       "      <th>79</th>\n",
       "      <td>4624</td>\n",
       "      <td>959</td>\n",
       "      <td>1500</td>\n",
       "      <td>4900</td>\n",
       "      <td>1812</td>\n",
       "      <td>2128</td>\n",
       "      <td>3913</td>\n",
       "      <td>5320</td>\n",
       "      <td>2657</td>\n",
       "      <td>4730</td>\n",
       "      <td>...</td>\n",
       "      <td>3682</td>\n",
       "      <td>3585</td>\n",
       "      <td>6316</td>\n",
       "      <td>2531</td>\n",
       "      <td>3752</td>\n",
       "      <td>2508</td>\n",
       "      <td>3637</td>\n",
       "      <td>3854</td>\n",
       "      <td>3951</td>\n",
       "      <td>3220</td>\n",
       "    </tr>\n",
       "  </tbody>\n",
       "</table>\n",
       "<p>1 rows × 24 columns</p>\n",
       "</div>"
      ],
      "text/plain": [
       "    19-Jan  19-Feb  19-Mar  19-Apr  19-May  19-Jun  19-Jul  19-Aug  19-Sep  \\\n",
       "79    4624     959    1500    4900    1812    2128    3913    5320    2657   \n",
       "\n",
       "    19-Oct  ...  20-Mar  20-Apr  20-May  20-Jun  20-Jul  20-Aug  20-Sep  \\\n",
       "79    4730  ...    3682    3585    6316    2531    3752    2508    3637   \n",
       "\n",
       "    20-Oct  20-Nov  20-Dec  \n",
       "79    3854    3951    3220  \n",
       "\n",
       "[1 rows x 24 columns]"
      ]
     },
     "execution_count": 9,
     "metadata": {},
     "output_type": "execute_result"
    }
   ],
   "source": [
    "#next kita ubah bentuk data nya dari yang tadinya kesamping jadi ke bawah, tapi pertama mau aku drop dulu cluster sama kode produknya\n",
    "c2=c2.drop(columns=['Kode Produk','Cluster'])\n",
    "c2"
   ]
  },
  {
   "cell_type": "code",
   "execution_count": 71,
   "metadata": {},
   "outputs": [
    {
     "name": "stdout",
     "output_type": "stream",
     "text": [
      "[0, 1, 2, 3, 4, 5, 6, 7, 8, 9, 10, 11, 12, 13, 14, 15, 16, 17, 18, 19, 20, 21, 22, 23] [4624, 959, 1500, 4900, 1812, 2128, 3913, 5320, 2657, 4730, 181, 2337, 2382, 1005, 3682, 3585, 6316, 2531, 3752, 2508, 3637, 3854, 3951, 3220]\n"
     ]
    }
   ],
   "source": [
    "#next, buat dia kayak mejeneng time series seperti biasanya, which is datanya ke bawah, \n",
    "new_c2=[]\n",
    "time=[]\n",
    "for idx,_ in enumerate(c2):\n",
    "    new_c2.append(c2.iloc[0,idx])\n",
    "    time.append(idx)\n",
    "print(time,new_c2)"
   ]
  },
  {
   "cell_type": "code",
   "execution_count": 72,
   "metadata": {},
   "outputs": [],
   "source": [
    "#normalisasi, karena gap nya ada yang sampe ribuan, biar lebih gampang tugas ann nya\n",
    "series=new_c2\n",
    "min = np.min(series)\n",
    "max = np.max(series)\n",
    "series = series - min\n",
    "series = series / max\n",
    "time = np.array(time)"
   ]
  },
  {
   "cell_type": "code",
   "execution_count": 73,
   "metadata": {},
   "outputs": [
    {
     "data": {
      "text/plain": [
       "array([0.70345155, 0.12317923, 0.20883471, 0.74715009, 0.25823306,\n",
       "       0.30826472, 0.5908803 , 0.81364788, 0.39202027, 0.72023433,\n",
       "       0.        , 0.34135529, 0.34848005, 0.13046232, 0.55430652,\n",
       "       0.5389487 , 0.97134262, 0.37207093, 0.56538949, 0.36842939,\n",
       "       0.54718176, 0.58153895, 0.59689677, 0.48115896])"
      ]
     },
     "execution_count": 73,
     "metadata": {},
     "output_type": "execute_result"
    }
   ],
   "source": [
    "series"
   ]
  },
  {
   "cell_type": "code",
   "execution_count": 74,
   "metadata": {},
   "outputs": [],
   "source": [
    "split_time = 3 # ini berapa bulan terkahir yang mau di potong buat pengujian?\n",
    "\n",
    "time_train = time[:split_time]\n",
    "x_train =  series[:split_time]\n",
    "time_valid =  time[split_time:]\n",
    "x_valid =  series[split_time:]"
   ]
  },
  {
   "cell_type": "code",
   "execution_count": 75,
   "metadata": {},
   "outputs": [],
   "source": [
    "#buat data biar dibagi per window, jadi me masang masangkan waktu dan value,\n",
    "window_size = 2\n",
    "batch_size = 2\n",
    "shuffle_buffer_size = 10\n",
    "\n",
    "train_set = windowed_dataset(x_train, window_size, batch_size, shuffle_buffer_size)\n",
    "valid_set = windowed_dataset(x_valid, window_size, batch_size, shuffle_buffer_size)"
   ]
  },
  {
   "cell_type": "code",
   "execution_count": 93,
   "metadata": {},
   "outputs": [],
   "source": [
    "model = tf.keras.Sequential([\n",
    "        tf.keras.layers.Dense(2, input_shape=[None, 1], activation=\"relu\"),\n",
    "        #tf.keras.layers.Bidirectional(tf.keras.layers.LSTM(64,return_sequences=True)),\n",
    "        tf.keras.layers.Bidirectional(tf.keras.layers.LSTM(32)),\n",
    "        tf.keras.layers.Flatten(),\n",
    "        #tf.keras.layers.GlobalAveragePooling1D(),\n",
    "        tf.keras.layers.Dense(256, activation='relu'),\n",
    "        #tf.keras.layers.Dropout(0.2),\n",
    "        tf.keras.layers.Dense(64, activation='relu'),\n",
    "        tf.keras.layers.Dense(32, activation='relu'),\n",
    "        tf.keras.layers.Dropout(0.3),\n",
    "        tf.keras.layers.Dense(1)\n",
    "    ])\n",
    "\n",
    "    #the blstm part"
   ]
  },
  {
   "cell_type": "code",
   "execution_count": 94,
   "metadata": {},
   "outputs": [
    {
     "name": "stdout",
     "output_type": "stream",
     "text": [
      "Model: \"sequential_9\"\n",
      "_________________________________________________________________\n",
      "Layer (type)                 Output Shape              Param #   \n",
      "=================================================================\n",
      "dense_50 (Dense)             (None, None, 2)           4         \n",
      "_________________________________________________________________\n",
      "bidirectional_18 (Bidirectio (None, 64)                8960      \n",
      "_________________________________________________________________\n",
      "flatten_9 (Flatten)          (None, 64)                0         \n",
      "_________________________________________________________________\n",
      "dense_51 (Dense)             (None, 256)               16640     \n",
      "_________________________________________________________________\n",
      "dense_52 (Dense)             (None, 64)                16448     \n",
      "_________________________________________________________________\n",
      "dense_53 (Dense)             (None, 32)                2080      \n",
      "_________________________________________________________________\n",
      "dropout_4 (Dropout)          (None, 32)                0         \n",
      "_________________________________________________________________\n",
      "dense_54 (Dense)             (None, 1)                 33        \n",
      "=================================================================\n",
      "Total params: 44,165\n",
      "Trainable params: 44,165\n",
      "Non-trainable params: 0\n",
      "_________________________________________________________________\n",
      "Epoch 1/100\n",
      "1/1 [==============================] - 3s 3s/step - loss: 0.0295 - mae: 0.1664 - val_loss: 0.2728 - val_mae: 0.4732\n",
      "Epoch 2/100\n",
      "1/1 [==============================] - 0s 75ms/step - loss: 0.0265 - mae: 0.1572 - val_loss: 0.2609 - val_mae: 0.4619\n",
      "Epoch 3/100\n",
      "1/1 [==============================] - 0s 82ms/step - loss: 0.0235 - mae: 0.1472 - val_loss: 0.2466 - val_mae: 0.4477\n",
      "Epoch 4/100\n",
      "1/1 [==============================] - 0s 94ms/step - loss: 0.0183 - mae: 0.1282 - val_loss: 0.2296 - val_mae: 0.4301\n",
      "Epoch 5/100\n",
      "1/1 [==============================] - 0s 94ms/step - loss: 0.0156 - mae: 0.1172 - val_loss: 0.2121 - val_mae: 0.4113\n",
      "Epoch 6/100\n",
      "1/1 [==============================] - 0s 96ms/step - loss: 0.0110 - mae: 0.0955 - val_loss: 0.1948 - val_mae: 0.3916\n",
      "Epoch 7/100\n",
      "1/1 [==============================] - 0s 97ms/step - loss: 0.0064 - mae: 0.0675 - val_loss: 0.1782 - val_mae: 0.3715\n",
      "Epoch 8/100\n",
      "1/1 [==============================] - 0s 95ms/step - loss: 0.0029 - mae: 0.0428 - val_loss: 0.1632 - val_mae: 0.3534\n",
      "Epoch 9/100\n",
      "1/1 [==============================] - 0s 84ms/step - loss: 0.0019 - mae: 0.0428 - val_loss: 0.1504 - val_mae: 0.3379\n",
      "Epoch 10/100\n",
      "1/1 [==============================] - 0s 92ms/step - loss: 0.0019 - mae: 0.0428 - val_loss: 0.1393 - val_mae: 0.3238\n",
      "Epoch 11/100\n",
      "1/1 [==============================] - 0s 107ms/step - loss: 0.0022 - mae: 0.0428 - val_loss: 0.1303 - val_mae: 0.3116\n",
      "Epoch 12/100\n",
      "1/1 [==============================] - 0s 83ms/step - loss: 0.0023 - mae: 0.0428 - val_loss: 0.1230 - val_mae: 0.3012\n",
      "Epoch 13/100\n",
      "1/1 [==============================] - 0s 87ms/step - loss: 0.0057 - mae: 0.0618 - val_loss: 0.1180 - val_mae: 0.2939\n",
      "Epoch 14/100\n",
      "1/1 [==============================] - 0s 94ms/step - loss: 0.0060 - mae: 0.0646 - val_loss: 0.1151 - val_mae: 0.2894\n",
      "Epoch 15/100\n",
      "1/1 [==============================] - 0s 90ms/step - loss: 0.0096 - mae: 0.0881 - val_loss: 0.1144 - val_mae: 0.2883\n",
      "Epoch 16/100\n",
      "1/1 [==============================] - 0s 89ms/step - loss: 0.0121 - mae: 0.1016 - val_loss: 0.1162 - val_mae: 0.2911\n",
      "Epoch 17/100\n",
      "1/1 [==============================] - 0s 93ms/step - loss: 0.0020 - mae: 0.0428 - val_loss: 0.1180 - val_mae: 0.2938\n",
      "Epoch 18/100\n",
      "1/1 [==============================] - 0s 80ms/step - loss: 0.0044 - mae: 0.0507 - val_loss: 0.1206 - val_mae: 0.2978\n",
      "Epoch 19/100\n",
      "1/1 [==============================] - 0s 88ms/step - loss: 0.0059 - mae: 0.0636 - val_loss: 0.1244 - val_mae: 0.3032\n",
      "Epoch 20/100\n",
      "1/1 [==============================] - 0s 89ms/step - loss: 0.0028 - mae: 0.0428 - val_loss: 0.1284 - val_mae: 0.3090\n",
      "Epoch 21/100\n",
      "1/1 [==============================] - 0s 87ms/step - loss: 0.0036 - mae: 0.0428 - val_loss: 0.1331 - val_mae: 0.3154\n",
      "Epoch 22/100\n",
      "1/1 [==============================] - 0s 93ms/step - loss: 0.0034 - mae: 0.0428 - val_loss: 0.1383 - val_mae: 0.3224\n",
      "Epoch 23/100\n",
      "1/1 [==============================] - 0s 83ms/step - loss: 0.0022 - mae: 0.0428 - val_loss: 0.1435 - val_mae: 0.3292\n",
      "Epoch 24/100\n",
      "1/1 [==============================] - 0s 94ms/step - loss: 0.0018 - mae: 0.0428 - val_loss: 0.1483 - val_mae: 0.3354\n",
      "Epoch 25/100\n",
      "1/1 [==============================] - 0s 98ms/step - loss: 0.0024 - mae: 0.0428 - val_loss: 0.1534 - val_mae: 0.3416\n",
      "Epoch 26/100\n",
      "1/1 [==============================] - 0s 90ms/step - loss: 0.0021 - mae: 0.0428 - val_loss: 0.1584 - val_mae: 0.3477\n",
      "Epoch 27/100\n",
      "1/1 [==============================] - 0s 84ms/step - loss: 0.0018 - mae: 0.0428 - val_loss: 0.1630 - val_mae: 0.3531\n",
      "Epoch 28/100\n",
      "1/1 [==============================] - 0s 87ms/step - loss: 0.0028 - mae: 0.0428 - val_loss: 0.1665 - val_mae: 0.3572\n",
      "Epoch 29/100\n",
      "1/1 [==============================] - 0s 93ms/step - loss: 0.0027 - mae: 0.0428 - val_loss: 0.1689 - val_mae: 0.3599\n",
      "Epoch 30/100\n",
      "1/1 [==============================] - 0s 91ms/step - loss: 0.0036 - mae: 0.0428 - val_loss: 0.1701 - val_mae: 0.3613\n",
      "Epoch 31/100\n",
      "1/1 [==============================] - 0s 99ms/step - loss: 0.0030 - mae: 0.0428 - val_loss: 0.1704 - val_mae: 0.3617\n",
      "Epoch 32/100\n",
      "1/1 [==============================] - 0s 100ms/step - loss: 0.0022 - mae: 0.0428 - val_loss: 0.1702 - val_mae: 0.3614\n",
      "Epoch 33/100\n",
      "1/1 [==============================] - 0s 88ms/step - loss: 0.0034 - mae: 0.0428 - val_loss: 0.1691 - val_mae: 0.3602\n",
      "Epoch 34/100\n",
      "1/1 [==============================] - 0s 98ms/step - loss: 0.0050 - mae: 0.0562 - val_loss: 0.1670 - val_mae: 0.3578\n",
      "Epoch 35/100\n",
      "1/1 [==============================] - 0s 100ms/step - loss: 0.0043 - mae: 0.0498 - val_loss: 0.1641 - val_mae: 0.3544\n",
      "Epoch 36/100\n",
      "1/1 [==============================] - 0s 91ms/step - loss: 0.0030 - mae: 0.0428 - val_loss: 0.1608 - val_mae: 0.3505\n",
      "Epoch 37/100\n",
      "1/1 [==============================] - 0s 87ms/step - loss: 0.0022 - mae: 0.0428 - val_loss: 0.1575 - val_mae: 0.3466\n",
      "Epoch 38/100\n",
      "1/1 [==============================] - 0s 93ms/step - loss: 0.0034 - mae: 0.0428 - val_loss: 0.1538 - val_mae: 0.3421\n",
      "Epoch 39/100\n",
      "1/1 [==============================] - 0s 83ms/step - loss: 0.0019 - mae: 0.0428 - val_loss: 0.1504 - val_mae: 0.3379\n",
      "Epoch 40/100\n",
      "1/1 [==============================] - 0s 91ms/step - loss: 0.0021 - mae: 0.0428 - val_loss: 0.1477 - val_mae: 0.3346\n",
      "Epoch 41/100\n",
      "1/1 [==============================] - 0s 93ms/step - loss: 0.0022 - mae: 0.0428 - val_loss: 0.1450 - val_mae: 0.3312\n",
      "Epoch 42/100\n",
      "1/1 [==============================] - 0s 103ms/step - loss: 0.0019 - mae: 0.0428 - val_loss: 0.1427 - val_mae: 0.3282\n",
      "Epoch 43/100\n",
      "1/1 [==============================] - 0s 91ms/step - loss: 0.0023 - mae: 0.0428 - val_loss: 0.1411 - val_mae: 0.3261\n",
      "Epoch 44/100\n",
      "1/1 [==============================] - 0s 93ms/step - loss: 0.0029 - mae: 0.0428 - val_loss: 0.1391 - val_mae: 0.3235\n",
      "Epoch 45/100\n",
      "1/1 [==============================] - 0s 92ms/step - loss: 0.0019 - mae: 0.0428 - val_loss: 0.1375 - val_mae: 0.3213\n",
      "Epoch 46/100\n",
      "1/1 [==============================] - 0s 99ms/step - loss: 0.0018 - mae: 0.0428 - val_loss: 0.1360 - val_mae: 0.3194\n",
      "Epoch 47/100\n",
      "1/1 [==============================] - 0s 102ms/step - loss: 0.0030 - mae: 0.0428 - val_loss: 0.1355 - val_mae: 0.3186\n",
      "Epoch 48/100\n",
      "1/1 [==============================] - 0s 87ms/step - loss: 0.0033 - mae: 0.0428 - val_loss: 0.1358 - val_mae: 0.3191\n",
      "Epoch 49/100\n",
      "1/1 [==============================] - 0s 92ms/step - loss: 0.0021 - mae: 0.0428 - val_loss: 0.1364 - val_mae: 0.3198\n",
      "Epoch 50/100\n",
      "1/1 [==============================] - 0s 93ms/step - loss: 0.0018 - mae: 0.0428 - val_loss: 0.1370 - val_mae: 0.3206\n",
      "Epoch 51/100\n",
      "1/1 [==============================] - 0s 94ms/step - loss: 0.0019 - mae: 0.0428 - val_loss: 0.1374 - val_mae: 0.3212\n",
      "Epoch 52/100\n",
      "1/1 [==============================] - 0s 96ms/step - loss: 0.0019 - mae: 0.0428 - val_loss: 0.1379 - val_mae: 0.3219\n",
      "Epoch 53/100\n",
      "1/1 [==============================] - 0s 98ms/step - loss: 0.0027 - mae: 0.0428 - val_loss: 0.1390 - val_mae: 0.3233\n",
      "Epoch 54/100\n",
      "1/1 [==============================] - 0s 91ms/step - loss: 0.0027 - mae: 0.0428 - val_loss: 0.1407 - val_mae: 0.3255\n",
      "Epoch 55/100\n",
      "1/1 [==============================] - 0s 92ms/step - loss: 0.0019 - mae: 0.0428 - val_loss: 0.1421 - val_mae: 0.3274\n",
      "Epoch 56/100\n",
      "1/1 [==============================] - 0s 84ms/step - loss: 0.0023 - mae: 0.0428 - val_loss: 0.1439 - val_mae: 0.3296\n",
      "Epoch 57/100\n",
      "1/1 [==============================] - 0s 99ms/step - loss: 0.0025 - mae: 0.0428 - val_loss: 0.1450 - val_mae: 0.3311\n",
      "Epoch 58/100\n",
      "1/1 [==============================] - 0s 86ms/step - loss: 0.0021 - mae: 0.0428 - val_loss: 0.1464 - val_mae: 0.3329\n",
      "Epoch 59/100\n",
      "1/1 [==============================] - 0s 84ms/step - loss: 0.0019 - mae: 0.0428 - val_loss: 0.1478 - val_mae: 0.3347\n",
      "Epoch 60/100\n",
      "1/1 [==============================] - 0s 91ms/step - loss: 0.0033 - mae: 0.0428 - val_loss: 0.1485 - val_mae: 0.3356\n",
      "Epoch 61/100\n",
      "1/1 [==============================] - 0s 97ms/step - loss: 0.0018 - mae: 0.0428 - val_loss: 0.1491 - val_mae: 0.3363\n",
      "Epoch 62/100\n",
      "1/1 [==============================] - 0s 87ms/step - loss: 0.0018 - mae: 0.0428 - val_loss: 0.1495 - val_mae: 0.3368\n",
      "Epoch 63/100\n",
      "1/1 [==============================] - 0s 90ms/step - loss: 0.0020 - mae: 0.0428 - val_loss: 0.1497 - val_mae: 0.3371\n",
      "Epoch 64/100\n",
      "1/1 [==============================] - 0s 99ms/step - loss: 0.0019 - mae: 0.0428 - val_loss: 0.1498 - val_mae: 0.3371\n",
      "Epoch 65/100\n",
      "1/1 [==============================] - 0s 90ms/step - loss: 0.0025 - mae: 0.0428 - val_loss: 0.1494 - val_mae: 0.3367\n",
      "Epoch 66/100\n",
      "1/1 [==============================] - 0s 88ms/step - loss: 0.0018 - mae: 0.0428 - val_loss: 0.1490 - val_mae: 0.3362\n",
      "Epoch 67/100\n",
      "1/1 [==============================] - 0s 87ms/step - loss: 0.0019 - mae: 0.0428 - val_loss: 0.1485 - val_mae: 0.3355\n",
      "Epoch 68/100\n",
      "1/1 [==============================] - 0s 85ms/step - loss: 0.0018 - mae: 0.0428 - val_loss: 0.1479 - val_mae: 0.3348\n",
      "Epoch 69/100\n",
      "1/1 [==============================] - 0s 117ms/step - loss: 0.0020 - mae: 0.0428 - val_loss: 0.1473 - val_mae: 0.3340\n",
      "Epoch 70/100\n",
      "1/1 [==============================] - 0s 86ms/step - loss: 0.0028 - mae: 0.0428 - val_loss: 0.1462 - val_mae: 0.3326\n",
      "Epoch 71/100\n",
      "1/1 [==============================] - 0s 96ms/step - loss: 0.0019 - mae: 0.0428 - val_loss: 0.1451 - val_mae: 0.3312\n",
      "Epoch 72/100\n",
      "1/1 [==============================] - 0s 84ms/step - loss: 0.0018 - mae: 0.0428 - val_loss: 0.1441 - val_mae: 0.3300\n",
      "Epoch 73/100\n",
      "1/1 [==============================] - 0s 86ms/step - loss: 0.0018 - mae: 0.0428 - val_loss: 0.1432 - val_mae: 0.3288\n",
      "Epoch 74/100\n",
      "1/1 [==============================] - 0s 84ms/step - loss: 0.0019 - mae: 0.0428 - val_loss: 0.1426 - val_mae: 0.3281\n",
      "Epoch 75/100\n",
      "1/1 [==============================] - 0s 83ms/step - loss: 0.0019 - mae: 0.0428 - val_loss: 0.1419 - val_mae: 0.3271\n",
      "Epoch 76/100\n",
      "1/1 [==============================] - 0s 91ms/step - loss: 0.0019 - mae: 0.0428 - val_loss: 0.1411 - val_mae: 0.3261\n",
      "Epoch 77/100\n",
      "1/1 [==============================] - 0s 100ms/step - loss: 0.0019 - mae: 0.0428 - val_loss: 0.1405 - val_mae: 0.3254\n",
      "Epoch 78/100\n",
      "1/1 [==============================] - 0s 99ms/step - loss: 0.0020 - mae: 0.0428 - val_loss: 0.1403 - val_mae: 0.3250\n",
      "Epoch 79/100\n",
      "1/1 [==============================] - 0s 87ms/step - loss: 0.0019 - mae: 0.0428 - val_loss: 0.1402 - val_mae: 0.3249\n",
      "Epoch 80/100\n",
      "1/1 [==============================] - 0s 92ms/step - loss: 0.0024 - mae: 0.0428 - val_loss: 0.1405 - val_mae: 0.3253\n",
      "Epoch 81/100\n",
      "1/1 [==============================] - 0s 86ms/step - loss: 0.0019 - mae: 0.0428 - val_loss: 0.1410 - val_mae: 0.3260\n",
      "Epoch 82/100\n",
      "1/1 [==============================] - 0s 100ms/step - loss: 0.0019 - mae: 0.0428 - val_loss: 0.1416 - val_mae: 0.3267\n",
      "Epoch 83/100\n",
      "1/1 [==============================] - 0s 78ms/step - loss: 0.0027 - mae: 0.0428 - val_loss: 0.1427 - val_mae: 0.3282\n",
      "Epoch 84/100\n",
      "1/1 [==============================] - 0s 93ms/step - loss: 0.0018 - mae: 0.0428 - val_loss: 0.1438 - val_mae: 0.3296\n",
      "Epoch 85/100\n",
      "1/1 [==============================] - 0s 102ms/step - loss: 0.0019 - mae: 0.0428 - val_loss: 0.1449 - val_mae: 0.3310\n",
      "Epoch 86/100\n",
      "1/1 [==============================] - 0s 97ms/step - loss: 0.0018 - mae: 0.0428 - val_loss: 0.1459 - val_mae: 0.3322\n",
      "Epoch 87/100\n",
      "1/1 [==============================] - 0s 85ms/step - loss: 0.0024 - mae: 0.0428 - val_loss: 0.1464 - val_mae: 0.3328\n",
      "Epoch 88/100\n",
      "1/1 [==============================] - 0s 99ms/step - loss: 0.0019 - mae: 0.0428 - val_loss: 0.1467 - val_mae: 0.3333\n",
      "Epoch 89/100\n",
      "1/1 [==============================] - 0s 91ms/step - loss: 0.0020 - mae: 0.0428 - val_loss: 0.1473 - val_mae: 0.3340\n",
      "Epoch 90/100\n",
      "1/1 [==============================] - 0s 91ms/step - loss: 0.0024 - mae: 0.0428 - val_loss: 0.1474 - val_mae: 0.3342\n",
      "Epoch 91/100\n",
      "1/1 [==============================] - 0s 99ms/step - loss: 0.0018 - mae: 0.0428 - val_loss: 0.1476 - val_mae: 0.3344\n",
      "Epoch 92/100\n",
      "1/1 [==============================] - 0s 107ms/step - loss: 0.0021 - mae: 0.0428 - val_loss: 0.1474 - val_mae: 0.3342\n",
      "Epoch 93/100\n",
      "1/1 [==============================] - 0s 89ms/step - loss: 0.0020 - mae: 0.0428 - val_loss: 0.1476 - val_mae: 0.3345\n",
      "Epoch 94/100\n",
      "1/1 [==============================] - 0s 91ms/step - loss: 0.0020 - mae: 0.0428 - val_loss: 0.1476 - val_mae: 0.3344\n",
      "Epoch 95/100\n",
      "1/1 [==============================] - 0s 93ms/step - loss: 0.0018 - mae: 0.0428 - val_loss: 0.1475 - val_mae: 0.3343\n",
      "Epoch 96/100\n",
      "1/1 [==============================] - 0s 89ms/step - loss: 0.0019 - mae: 0.0428 - val_loss: 0.1473 - val_mae: 0.3340\n",
      "Epoch 97/100\n",
      "1/1 [==============================] - 0s 96ms/step - loss: 0.0020 - mae: 0.0428 - val_loss: 0.1468 - val_mae: 0.3334\n",
      "Epoch 98/100\n",
      "1/1 [==============================] - 0s 95ms/step - loss: 0.0019 - mae: 0.0428 - val_loss: 0.1463 - val_mae: 0.3328\n",
      "Epoch 99/100\n",
      "1/1 [==============================] - 0s 97ms/step - loss: 0.0020 - mae: 0.0428 - val_loss: 0.1462 - val_mae: 0.3326\n",
      "Epoch 100/100\n",
      "1/1 [==============================] - 0s 100ms/step - loss: 0.0018 - mae: 0.0428 - val_loss: 0.1460 - val_mae: 0.3324\n"
     ]
    }
   ],
   "source": [
    "#Using mae and mse\n",
    "model.compile(optimizer=tf.keras.optimizers.SGD(learning_rate=0.01, momentum=0.9),metrics=['mae'],loss='mse')\n",
    "model.summary()\n",
    "hist=model.fit(train_set,epochs=100,validation_data=valid_set)"
   ]
  },
  {
   "cell_type": "code",
   "execution_count": 91,
   "metadata": {},
   "outputs": [
    {
     "data": {
      "image/png": "[encoded data removed]",
      "text/plain": [
       "<Figure size 432x288 with 1 Axes>"
      ]
     },
     "metadata": {
      "needs_background": "light"
     },
     "output_type": "display_data"
    }
   ],
   "source": [
    "plt.plot(hist.history['mae'], label='MAE (training data)')\n",
    "plt.plot(hist.history['val_mae'], label='MAE (validation data)')\n",
    "\n",
    "plt.ylabel('MAE value')\n",
    "plt.xlabel('No. epoch')\n",
    "plt.legend(loc=\"upper left\")\n",
    "plt.show()"
   ]
  },
  {
   "cell_type": "code",
   "execution_count": 95,
   "metadata": {},
   "outputs": [
    {
     "name": "stdout",
     "output_type": "stream",
     "text": [
      "WARNING:tensorflow:5 out of the last 12 calls to <function Model.make_predict_function.<locals>.predict_function at 0x000001F2D6CE1AF0> triggered tf.function retracing. Tracing is expensive and the excessive number of tracings could be due to (1) creating @tf.function repeatedly in a loop, (2) passing tensors with different shapes, (3) passing Python objects instead of tensors. For (1), please define your @tf.function outside of the loop. For (2), @tf.function has experimental_relax_shapes=True option that relaxes argument shapes that can avoid unnecessary retracing. For (3), please refer to https://www.tensorflow.org/guide/function#controlling_retracing and https://www.tensorflow.org/api_docs/python/tf/function for  more details.\n"
     ]
    },
    {
     "data": {
      "text/plain": [
       "array([[0.18251646],\n",
       "       [0.18189527],\n",
       "       [0.1812896 ]], dtype=float32)"
      ]
     },
     "execution_count": 95,
     "metadata": {},
     "output_type": "execute_result"
    }
   ],
   "source": [
    "prediksi=model.predict([21, 22, 23])\n",
    "prediksi"
   ]
  },
  {
   "cell_type": "code",
   "execution_count": 96,
   "metadata": {},
   "outputs": [],
   "source": [
    "import matplotlib.pyplot as plt\n"
   ]
  },
  {
   "cell_type": "code",
   "execution_count": 97,
   "metadata": {},
   "outputs": [
    {
     "data": {
      "text/plain": [
       "[<matplotlib.lines.Line2D at 0x1f2d904caf0>]"
      ]
     },
     "execution_count": 97,
     "metadata": {},
     "output_type": "execute_result"
    },
    {
     "data": {
      "image/png": "[encoded data removed]",
      "text/plain": [
       "<Figure size 432x288 with 1 Axes>"
      ]
     },
     "metadata": {
      "needs_background": "light"
     },
     "output_type": "display_data"
    }
   ],
   "source": [
    "series = series * max\n",
    "series = series + min\n",
    "plt.plot(series)"
   ]
  },
  {
   "cell_type": "code",
   "execution_count": 98,
   "metadata": {},
   "outputs": [
    {
     "data": {
      "text/plain": [
       "array([[1333.7739],\n",
       "       [1329.8506],\n",
       "       [1326.0251]], dtype=float32)"
      ]
     },
     "execution_count": 98,
     "metadata": {},
     "output_type": "execute_result"
    }
   ],
   "source": [
    "prediksi = prediksi * max\n",
    "prediksi = prediksi + min\n",
    "prediksi"
   ]
  },
  {
   "cell_type": "code",
   "execution_count": 99,
   "metadata": {},
   "outputs": [],
   "source": [
    "prediksi=prediksi.flatten()"
   ]
  },
  {
   "cell_type": "code",
   "execution_count": 100,
   "metadata": {},
   "outputs": [],
   "source": [
    "hasil=np.concatenate((series[:-split_time],prediksi))"
   ]
  },
  {
   "cell_type": "code",
   "execution_count": 101,
   "metadata": {},
   "outputs": [
    {
     "data": {
      "text/plain": [
       "array([4624.        ,  959.        , 1500.        , 4900.        ,\n",
       "       1812.        , 2128.        , 3913.        , 5320.        ,\n",
       "       2657.        , 4730.        ,  181.        , 2337.        ,\n",
       "       2382.        , 1005.        , 3682.        , 3585.        ,\n",
       "       6316.        , 2531.        , 3752.        , 2508.        ,\n",
       "       3637.        , 1333.77392578, 1329.85058594, 1326.02514648])"
      ]
     },
     "execution_count": 101,
     "metadata": {},
     "output_type": "execute_result"
    }
   ],
   "source": [
    "hasil"
   ]
  },
  {
   "cell_type": "code",
   "execution_count": 102,
   "metadata": {},
   "outputs": [
    {
     "data": {
      "text/plain": [
       "[<matplotlib.lines.Line2D at 0x1f2d3645190>]"
      ]
     },
     "execution_count": 102,
     "metadata": {},
     "output_type": "execute_result"
    },
    {
     "data": {
      "image/png": "[encoded data removed]",
      "text/plain": [
       "<Figure size 432x288 with 1 Axes>"
      ]
     },
     "metadata": {
      "needs_background": "light"
     },
     "output_type": "display_data"
    }
   ],
   "source": [
    "plt.plot(hasil)"
   ]
  },
  {
   "cell_type": "code",
   "execution_count": null,
   "metadata": {},
   "outputs": [],
   "source": [
    "## do the same for the others, tapi karena yang lain punya beberapa anggota, nah itu di average dulu per tanggalnya\n",
    "c0=c0.drop(columns=['Kode Produk', 'Cluster'])"
   ]
  },
  {
   "cell_type": "code",
   "execution_count": 116,
   "metadata": {},
   "outputs": [],
   "source": [
    "#next, buat dia kayak mejeneng time series seperti biasanya, which is datanya ke bawah, tapi di average per tanggal \n",
    "new_c0=[]\n",
    "time=[]\n",
    "for idx,a in enumerate(c0):\n",
    "    new_c0.append(c0[a].mean())\n",
    "    time.append(idx)\n"
   ]
  },
  {
   "cell_type": "code",
   "execution_count": 117,
   "metadata": {},
   "outputs": [
    {
     "data": {
      "text/plain": [
       "[28.010416666666668,\n",
       " 25.8125,\n",
       " 26.0,\n",
       " 24.8125,\n",
       " 28.427083333333332,\n",
       " 15.791666666666666,\n",
       " 31.25,\n",
       " 22.510416666666668,\n",
       " 30.760416666666668,\n",
       " 33.020833333333336,\n",
       " 28.020833333333332,\n",
       " 23.677083333333332,\n",
       " 27.677083333333332,\n",
       " 26.78125,\n",
       " 26.270833333333332,\n",
       " 19.114583333333332,\n",
       " 11.395833333333334,\n",
       " 13.270833333333334,\n",
       " 20.385416666666668,\n",
       " 22.083333333333332,\n",
       " 21.53125,\n",
       " 15.895833333333334,\n",
       " 19.885416666666668,\n",
       " 19.5625]"
      ]
     },
     "execution_count": 117,
     "metadata": {},
     "output_type": "execute_result"
    }
   ],
   "source": [
    "values"
   ]
  },
  {
   "cell_type": "code",
   "execution_count": 118,
   "metadata": {},
   "outputs": [],
   "source": [
    "#normalisasi, karena gap nya ada yang sampe ribuan, biar lebih gampang tugas ann nya\n",
    "series=new_c0\n",
    "min = np.min(series)\n",
    "max = np.max(series)\n",
    "series = series - min\n",
    "series = series / max\n",
    "time = np.array(time)"
   ]
  },
  {
   "cell_type": "code",
   "execution_count": 119,
   "metadata": {},
   "outputs": [],
   "source": [
    "split_time = 3 # ini berapa bulan terkahir yang mau di potong buat pengujian?\n",
    "\n",
    "time_train = time[:split_time]\n",
    "x_train =  series[:split_time]\n",
    "time_valid =  time[split_time:]\n",
    "x_valid =  series[split_time:]"
   ]
  },
  {
   "cell_type": "code",
   "execution_count": 120,
   "metadata": {},
   "outputs": [],
   "source": [
    "#buat data biar dibagi per window, jadi me masang masangkan waktu dan value,\n",
    "window_size = 2\n",
    "batch_size = 2\n",
    "shuffle_buffer_size = 10\n",
    "\n",
    "train_set = windowed_dataset(x_train, window_size, batch_size, shuffle_buffer_size)\n",
    "valid_set = windowed_dataset(x_valid, window_size, batch_size, shuffle_buffer_size)"
   ]
  },
  {
   "cell_type": "code",
   "execution_count": 121,
   "metadata": {},
   "outputs": [
    {
     "name": "stdout",
     "output_type": "stream",
     "text": [
      "Model: \"sequential_9\"\n",
      "_________________________________________________________________\n",
      "Layer (type)                 Output Shape              Param #   \n",
      "=================================================================\n",
      "dense_50 (Dense)             (None, None, 2)           4         \n",
      "_________________________________________________________________\n",
      "bidirectional_18 (Bidirectio (None, 64)                8960      \n",
      "_________________________________________________________________\n",
      "flatten_9 (Flatten)          (None, 64)                0         \n",
      "_________________________________________________________________\n",
      "dense_51 (Dense)             (None, 256)               16640     \n",
      "_________________________________________________________________\n",
      "dense_52 (Dense)             (None, 64)                16448     \n",
      "_________________________________________________________________\n",
      "dense_53 (Dense)             (None, 32)                2080      \n",
      "_________________________________________________________________\n",
      "dropout_4 (Dropout)          (None, 32)                0         \n",
      "_________________________________________________________________\n",
      "dense_54 (Dense)             (None, 1)                 33        \n",
      "=================================================================\n",
      "Total params: 44,165\n",
      "Trainable params: 44,165\n",
      "Non-trainable params: 0\n",
      "_________________________________________________________________\n",
      "Epoch 1/100\n",
      "1/1 [==============================] - 4s 4s/step - loss: 0.0755 - mae: 0.2748 - val_loss: 0.0616 - val_mae: 0.2088\n",
      "Epoch 2/100\n",
      "1/1 [==============================] - 0s 111ms/step - loss: 0.0681 - mae: 0.2610 - val_loss: 0.0565 - val_mae: 0.1996\n",
      "Epoch 3/100\n",
      "1/1 [==============================] - 0s 152ms/step - loss: 0.0607 - mae: 0.2464 - val_loss: 0.0500 - val_mae: 0.1864\n",
      "Epoch 4/100\n",
      "1/1 [==============================] - 0s 92ms/step - loss: 0.0463 - mae: 0.2151 - val_loss: 0.0435 - val_mae: 0.1712\n",
      "Epoch 5/100\n",
      "1/1 [==============================] - 0s 101ms/step - loss: 0.0425 - mae: 0.2063 - val_loss: 0.0380 - val_mae: 0.1595\n",
      "Epoch 6/100\n",
      "1/1 [==============================] - 0s 106ms/step - loss: 0.0460 - mae: 0.2144 - val_loss: 0.0343 - val_mae: 0.1525\n",
      "Epoch 7/100\n",
      "1/1 [==============================] - 0s 100ms/step - loss: 0.0216 - mae: 0.1469 - val_loss: 0.0330 - val_mae: 0.1517\n",
      "Epoch 8/100\n",
      "1/1 [==============================] - 0s 108ms/step - loss: 0.0022 - mae: 0.0470 - val_loss: 0.0341 - val_mae: 0.1561\n",
      "Epoch 9/100\n",
      "1/1 [==============================] - 0s 93ms/step - loss: 0.0089 - mae: 0.0941 - val_loss: 0.0375 - val_mae: 0.1632\n",
      "Epoch 10/100\n",
      "1/1 [==============================] - 0s 93ms/step - loss: 6.7255e-04 - mae: 0.0258 - val_loss: 0.0427 - val_mae: 0.1698\n",
      "Epoch 11/100\n",
      "1/1 [==============================] - 0s 105ms/step - loss: 0.0019 - mae: 0.0434 - val_loss: 0.0494 - val_mae: 0.1795\n",
      "Epoch 12/100\n",
      "1/1 [==============================] - 0s 107ms/step - loss: 0.0010 - mae: 0.0315 - val_loss: 0.0573 - val_mae: 0.1921\n",
      "Epoch 13/100\n",
      "1/1 [==============================] - 0s 111ms/step - loss: 0.0184 - mae: 0.1355 - val_loss: 0.0637 - val_mae: 0.2046\n",
      "Epoch 14/100\n",
      "1/1 [==============================] - 0s 107ms/step - loss: 0.0150 - mae: 0.1226 - val_loss: 0.0682 - val_mae: 0.2130\n",
      "Epoch 15/100\n",
      "1/1 [==============================] - 0s 111ms/step - loss: 0.0028 - mae: 0.0525 - val_loss: 0.0718 - val_mae: 0.2194\n",
      "Epoch 16/100\n",
      "1/1 [==============================] - 0s 106ms/step - loss: 0.0174 - mae: 0.1318 - val_loss: 0.0731 - val_mae: 0.2217\n",
      "Epoch 17/100\n",
      "1/1 [==============================] - 0s 109ms/step - loss: 0.0071 - mae: 0.0844 - val_loss: 0.0732 - val_mae: 0.2219\n",
      "Epoch 18/100\n",
      "1/1 [==============================] - 0s 107ms/step - loss: 5.6240e-05 - mae: 0.0069 - val_loss: 0.0732 - val_mae: 0.2219\n",
      "Epoch 19/100\n",
      "1/1 [==============================] - 0s 116ms/step - loss: 0.0219 - mae: 0.1480 - val_loss: 0.0709 - val_mae: 0.2180\n",
      "Epoch 20/100\n",
      "1/1 [==============================] - 0s 112ms/step - loss: 0.0106 - mae: 0.1029 - val_loss: 0.0676 - val_mae: 0.2119\n",
      "Epoch 21/100\n",
      "1/1 [==============================] - 0s 107ms/step - loss: 0.0075 - mae: 0.0864 - val_loss: 0.0636 - val_mae: 0.2045\n",
      "Epoch 22/100\n",
      "1/1 [==============================] - 0s 125ms/step - loss: 0.0033 - mae: 0.0575 - val_loss: 0.0607 - val_mae: 0.1988\n",
      "Epoch 23/100\n",
      "1/1 [==============================] - 0s 100ms/step - loss: 0.0118 - mae: 0.1084 - val_loss: 0.0570 - val_mae: 0.1916\n",
      "Epoch 24/100\n",
      "1/1 [==============================] - 0s 115ms/step - loss: 0.0120 - mae: 0.1096 - val_loss: 0.0527 - val_mae: 0.1846\n",
      "Epoch 25/100\n",
      "1/1 [==============================] - 0s 122ms/step - loss: 4.9360e-04 - mae: 0.0220 - val_loss: 0.0490 - val_mae: 0.1789\n",
      "Epoch 26/100\n",
      "1/1 [==============================] - 0s 101ms/step - loss: 8.7356e-04 - mae: 0.0294 - val_loss: 0.0463 - val_mae: 0.1746\n",
      "Epoch 27/100\n",
      "1/1 [==============================] - 0s 105ms/step - loss: 0.0011 - mae: 0.0332 - val_loss: 0.0438 - val_mae: 0.1710\n",
      "Epoch 28/100\n",
      "1/1 [==============================] - 0s 137ms/step - loss: 5.8812e-04 - mae: 0.0241 - val_loss: 0.0416 - val_mae: 0.1687\n",
      "Epoch 29/100\n",
      "1/1 [==============================] - 0s 109ms/step - loss: 0.0033 - mae: 0.0576 - val_loss: 0.0402 - val_mae: 0.1670\n",
      "Epoch 30/100\n",
      "1/1 [==============================] - 0s 105ms/step - loss: 2.4238e-04 - mae: 0.0153 - val_loss: 0.0391 - val_mae: 0.1655\n",
      "Epoch 31/100\n",
      "1/1 [==============================] - 0s 126ms/step - loss: 9.1692e-05 - mae: 0.0091 - val_loss: 0.0381 - val_mae: 0.1642\n",
      "Epoch 32/100\n",
      "1/1 [==============================] - 0s 132ms/step - loss: 1.0836e-05 - mae: 0.0028 - val_loss: 0.0373 - val_mae: 0.1629\n",
      "Epoch 33/100\n",
      "1/1 [==============================] - 0s 103ms/step - loss: 0.0027 - mae: 0.0516 - val_loss: 0.0368 - val_mae: 0.1622\n",
      "Epoch 34/100\n",
      "1/1 [==============================] - 0s 100ms/step - loss: 0.0094 - mae: 0.0969 - val_loss: 0.0367 - val_mae: 0.1620\n",
      "Epoch 35/100\n",
      "1/1 [==============================] - 0s 129ms/step - loss: 5.4381e-04 - mae: 0.0231 - val_loss: 0.0367 - val_mae: 0.1620\n",
      "Epoch 36/100\n",
      "1/1 [==============================] - 0s 110ms/step - loss: 0.0133 - mae: 0.1151 - val_loss: 0.0370 - val_mae: 0.1625\n",
      "Epoch 37/100\n",
      "1/1 [==============================] - 0s 105ms/step - loss: 2.1238e-05 - mae: 0.0036 - val_loss: 0.0373 - val_mae: 0.1629\n",
      "Epoch 38/100\n",
      "1/1 [==============================] - 0s 105ms/step - loss: 1.9043e-05 - mae: 0.0033 - val_loss: 0.0375 - val_mae: 0.1633\n",
      "Epoch 39/100\n",
      "1/1 [==============================] - 0s 116ms/step - loss: 0.0014 - mae: 0.0367 - val_loss: 0.0378 - val_mae: 0.1638\n",
      "Epoch 40/100\n",
      "1/1 [==============================] - 0s 135ms/step - loss: 1.9842e-04 - mae: 0.0138 - val_loss: 0.0383 - val_mae: 0.1644\n",
      "Epoch 41/100\n",
      "1/1 [==============================] - 0s 117ms/step - loss: 0.0024 - mae: 0.0494 - val_loss: 0.0389 - val_mae: 0.1653\n",
      "Epoch 42/100\n",
      "1/1 [==============================] - 0s 126ms/step - loss: 4.5700e-04 - mae: 0.0212 - val_loss: 0.0393 - val_mae: 0.1659\n",
      "Epoch 43/100\n",
      "1/1 [==============================] - 0s 107ms/step - loss: 5.0819e-04 - mae: 0.0224 - val_loss: 0.0398 - val_mae: 0.1666\n",
      "Epoch 44/100\n",
      "1/1 [==============================] - 0s 103ms/step - loss: 0.0041 - mae: 0.0637 - val_loss: 0.0406 - val_mae: 0.1675\n",
      "Epoch 45/100\n",
      "1/1 [==============================] - 0s 114ms/step - loss: 6.8937e-05 - mae: 0.0078 - val_loss: 0.0413 - val_mae: 0.1684\n",
      "Epoch 46/100\n",
      "1/1 [==============================] - 0s 111ms/step - loss: 5.2653e-04 - mae: 0.0228 - val_loss: 0.0422 - val_mae: 0.1694\n",
      "Epoch 47/100\n",
      "1/1 [==============================] - 0s 112ms/step - loss: 0.0010 - mae: 0.0320 - val_loss: 0.0432 - val_mae: 0.1704\n",
      "Epoch 48/100\n",
      "1/1 [==============================] - 0s 108ms/step - loss: 9.7415e-04 - mae: 0.0311 - val_loss: 0.0439 - val_mae: 0.1711\n",
      "Epoch 49/100\n",
      "1/1 [==============================] - 0s 121ms/step - loss: 1.1205e-04 - mae: 0.0102 - val_loss: 0.0446 - val_mae: 0.1722\n",
      "Epoch 50/100\n",
      "1/1 [==============================] - 0s 138ms/step - loss: 0.0019 - mae: 0.0440 - val_loss: 0.0449 - val_mae: 0.1727\n",
      "Epoch 51/100\n",
      "1/1 [==============================] - 0s 120ms/step - loss: 0.0034 - mae: 0.0585 - val_loss: 0.0447 - val_mae: 0.1724\n",
      "Epoch 52/100\n",
      "1/1 [==============================] - 0s 113ms/step - loss: 1.9913e-04 - mae: 0.0138 - val_loss: 0.0446 - val_mae: 0.1723\n",
      "Epoch 53/100\n",
      "1/1 [==============================] - 0s 113ms/step - loss: 0.0029 - mae: 0.0538 - val_loss: 0.0441 - val_mae: 0.1715\n",
      "Epoch 54/100\n",
      "1/1 [==============================] - 0s 119ms/step - loss: 0.0013 - mae: 0.0353 - val_loss: 0.0439 - val_mae: 0.1712\n",
      "Epoch 55/100\n",
      "1/1 [==============================] - 0s 115ms/step - loss: 0.0010 - mae: 0.0321 - val_loss: 0.0434 - val_mae: 0.1707\n",
      "Epoch 56/100\n",
      "1/1 [==============================] - 0s 104ms/step - loss: 3.8650e-04 - mae: 0.0195 - val_loss: 0.0429 - val_mae: 0.1701\n",
      "Epoch 57/100\n",
      "1/1 [==============================] - 0s 113ms/step - loss: 3.2215e-04 - mae: 0.0177 - val_loss: 0.0425 - val_mae: 0.1698\n",
      "Epoch 58/100\n",
      "1/1 [==============================] - 0s 106ms/step - loss: 0.0018 - mae: 0.0422 - val_loss: 0.0419 - val_mae: 0.1691\n",
      "Epoch 59/100\n",
      "1/1 [==============================] - 0s 104ms/step - loss: 9.1524e-04 - mae: 0.0301 - val_loss: 0.0415 - val_mae: 0.1686\n",
      "Epoch 60/100\n",
      "1/1 [==============================] - 0s 100ms/step - loss: 8.0722e-06 - mae: 0.0028 - val_loss: 0.0412 - val_mae: 0.1682\n",
      "Epoch 61/100\n",
      "1/1 [==============================] - 0s 103ms/step - loss: 0.0013 - mae: 0.0355 - val_loss: 0.0411 - val_mae: 0.1681\n",
      "Epoch 62/100\n",
      "1/1 [==============================] - 0s 111ms/step - loss: 7.4263e-05 - mae: 0.0081 - val_loss: 0.0410 - val_mae: 0.1680\n",
      "Epoch 63/100\n",
      "1/1 [==============================] - 0s 107ms/step - loss: 8.9437e-04 - mae: 0.0298 - val_loss: 0.0408 - val_mae: 0.1677\n",
      "Epoch 64/100\n",
      "1/1 [==============================] - 0s 133ms/step - loss: 7.8233e-04 - mae: 0.0278 - val_loss: 0.0404 - val_mae: 0.1673\n",
      "Epoch 65/100\n",
      "1/1 [==============================] - 0s 133ms/step - loss: 3.1224e-04 - mae: 0.0174 - val_loss: 0.0401 - val_mae: 0.1669\n",
      "Epoch 66/100\n",
      "1/1 [==============================] - 0s 119ms/step - loss: 1.2264e-04 - mae: 0.0107 - val_loss: 0.0398 - val_mae: 0.1666\n",
      "Epoch 67/100\n",
      "1/1 [==============================] - 0s 123ms/step - loss: 2.1322e-05 - mae: 0.0036 - val_loss: 0.0396 - val_mae: 0.1662\n",
      "Epoch 68/100\n",
      "1/1 [==============================] - 0s 101ms/step - loss: 5.4131e-05 - mae: 0.0068 - val_loss: 0.0393 - val_mae: 0.1659\n",
      "Epoch 69/100\n",
      "1/1 [==============================] - 0s 108ms/step - loss: 4.7240e-05 - mae: 0.0063 - val_loss: 0.0391 - val_mae: 0.1657\n",
      "Epoch 70/100\n",
      "1/1 [==============================] - 0s 119ms/step - loss: 2.7051e-05 - mae: 0.0044 - val_loss: 0.0390 - val_mae: 0.1655\n",
      "Epoch 71/100\n",
      "1/1 [==============================] - 0s 114ms/step - loss: 8.1305e-06 - mae: 0.0028 - val_loss: 0.0389 - val_mae: 0.1653\n",
      "Epoch 72/100\n",
      "1/1 [==============================] - 0s 119ms/step - loss: 1.6223e-04 - mae: 0.0124 - val_loss: 0.0388 - val_mae: 0.1652\n",
      "Epoch 73/100\n",
      "1/1 [==============================] - 0s 124ms/step - loss: 0.0016 - mae: 0.0405 - val_loss: 0.0389 - val_mae: 0.1654\n",
      "Epoch 74/100\n",
      "1/1 [==============================] - 0s 135ms/step - loss: 2.0096e-04 - mae: 0.0139 - val_loss: 0.0390 - val_mae: 0.1655\n",
      "Epoch 75/100\n",
      "1/1 [==============================] - 0s 135ms/step - loss: 4.2583e-04 - mae: 0.0204 - val_loss: 0.0391 - val_mae: 0.1656\n",
      "Epoch 76/100\n",
      "1/1 [==============================] - 0s 132ms/step - loss: 1.0958e-05 - mae: 0.0028 - val_loss: 0.0392 - val_mae: 0.1658\n",
      "Epoch 77/100\n",
      "1/1 [==============================] - 0s 125ms/step - loss: 0.0015 - mae: 0.0381 - val_loss: 0.0395 - val_mae: 0.1662\n",
      "Epoch 78/100\n",
      "1/1 [==============================] - 0s 124ms/step - loss: 8.8628e-06 - mae: 0.0028 - val_loss: 0.0398 - val_mae: 0.1666\n",
      "Epoch 79/100\n",
      "1/1 [==============================] - 0s 115ms/step - loss: 1.1611e-05 - mae: 0.0028 - val_loss: 0.0401 - val_mae: 0.1669\n",
      "Epoch 80/100\n",
      "1/1 [==============================] - 0s 125ms/step - loss: 2.0416e-05 - mae: 0.0035 - val_loss: 0.0403 - val_mae: 0.1671\n",
      "Epoch 81/100\n",
      "1/1 [==============================] - 0s 117ms/step - loss: 8.8448e-06 - mae: 0.0028 - val_loss: 0.0405 - val_mae: 0.1674\n",
      "Epoch 82/100\n",
      "1/1 [==============================] - 0s 134ms/step - loss: 5.8360e-04 - mae: 0.0240 - val_loss: 0.0408 - val_mae: 0.1677\n",
      "Epoch 83/100\n",
      "1/1 [==============================] - 0s 134ms/step - loss: 4.6595e-04 - mae: 0.0214 - val_loss: 0.0411 - val_mae: 0.1682\n",
      "Epoch 84/100\n",
      "1/1 [==============================] - 0s 117ms/step - loss: 4.9247e-04 - mae: 0.0220 - val_loss: 0.0416 - val_mae: 0.1687\n",
      "Epoch 85/100\n",
      "1/1 [==============================] - 0s 119ms/step - loss: 1.7289e-04 - mae: 0.0128 - val_loss: 0.0421 - val_mae: 0.1693\n",
      "Epoch 86/100\n",
      "1/1 [==============================] - 0s 125ms/step - loss: 2.0360e-05 - mae: 0.0035 - val_loss: 0.0426 - val_mae: 0.1698\n",
      "Epoch 87/100\n",
      "1/1 [==============================] - 0s 118ms/step - loss: 3.5518e-04 - mae: 0.0186 - val_loss: 0.0431 - val_mae: 0.1703\n",
      "Epoch 88/100\n",
      "1/1 [==============================] - 0s 115ms/step - loss: 2.1125e-05 - mae: 0.0036 - val_loss: 0.0435 - val_mae: 0.1708\n",
      "Epoch 89/100\n",
      "1/1 [==============================] - 0s 119ms/step - loss: 1.5853e-04 - mae: 0.0123 - val_loss: 0.0439 - val_mae: 0.1711\n",
      "Epoch 90/100\n",
      "1/1 [==============================] - 0s 131ms/step - loss: 3.0208e-04 - mae: 0.0171 - val_loss: 0.0443 - val_mae: 0.1717\n",
      "Epoch 91/100\n",
      "1/1 [==============================] - 0s 117ms/step - loss: 5.9814e-04 - mae: 0.0243 - val_loss: 0.0445 - val_mae: 0.1720\n",
      "Epoch 92/100\n",
      "1/1 [==============================] - 0s 126ms/step - loss: 5.1664e-04 - mae: 0.0226 - val_loss: 0.0445 - val_mae: 0.1720\n",
      "Epoch 93/100\n",
      "1/1 [==============================] - 0s 105ms/step - loss: 5.0376e-04 - mae: 0.0223 - val_loss: 0.0443 - val_mae: 0.1718\n",
      "Epoch 94/100\n",
      "1/1 [==============================] - 0s 111ms/step - loss: 2.1015e-04 - mae: 0.0142 - val_loss: 0.0441 - val_mae: 0.1715\n",
      "Epoch 95/100\n",
      "1/1 [==============================] - 0s 117ms/step - loss: 0.0011 - mae: 0.0328 - val_loss: 0.0441 - val_mae: 0.1715\n",
      "Epoch 96/100\n",
      "1/1 [==============================] - 0s 114ms/step - loss: 8.5139e-04 - mae: 0.0290 - val_loss: 0.0439 - val_mae: 0.1712\n",
      "Epoch 97/100\n",
      "1/1 [==============================] - 0s 115ms/step - loss: 1.3234e-04 - mae: 0.0111 - val_loss: 0.0436 - val_mae: 0.1709\n",
      "Epoch 98/100\n",
      "1/1 [==============================] - 0s 115ms/step - loss: 0.0014 - mae: 0.0374 - val_loss: 0.0435 - val_mae: 0.1708\n",
      "Epoch 99/100\n",
      "1/1 [==============================] - 0s 121ms/step - loss: 2.1649e-04 - mae: 0.0144 - val_loss: 0.0434 - val_mae: 0.1707\n",
      "Epoch 100/100\n",
      "1/1 [==============================] - 0s 123ms/step - loss: 6.0078e-04 - mae: 0.0243 - val_loss: 0.0434 - val_mae: 0.1707\n"
     ]
    }
   ],
   "source": [
    "#Using mae and mse\n",
    "model.compile(optimizer=tf.keras.optimizers.SGD(learning_rate=0.01, momentum=0.9),metrics=['mae'],loss='mse')\n",
    "model.summary()\n",
    "hist=model.fit(train_set,epochs=100,validation_data=valid_set)"
   ]
  },
  {
   "cell_type": "code",
   "execution_count": 122,
   "metadata": {},
   "outputs": [
    {
     "data": {
      "image/png": "[encoded data removed]",
      "text/plain": [
       "<Figure size 432x288 with 1 Axes>"
      ]
     },
     "metadata": {
      "needs_background": "light"
     },
     "output_type": "display_data"
    }
   ],
   "source": [
    "plt.plot(hist.history['mae'], label='MAE (training data)')\n",
    "plt.plot(hist.history['val_mae'], label='MAE (validation data)')\n",
    "\n",
    "plt.ylabel('MAE value')\n",
    "plt.xlabel('No. epoch')\n",
    "plt.legend(loc=\"upper left\")\n",
    "plt.show()"
   ]
  },
  {
   "cell_type": "code",
   "execution_count": null,
   "metadata": {},
   "outputs": [],
   "source": []
  },
  {
   "cell_type": "code",
   "execution_count": 123,
   "metadata": {},
   "outputs": [
    {
     "name": "stdout",
     "output_type": "stream",
     "text": [
      "WARNING:tensorflow:6 out of the last 13 calls to <function Model.make_predict_function.<locals>.predict_function at 0x000001F2BDA524C0> triggered tf.function retracing. Tracing is expensive and the excessive number of tracings could be due to (1) creating @tf.function repeatedly in a loop, (2) passing tensors with different shapes, (3) passing Python objects instead of tensors. For (1), please define your @tf.function outside of the loop. For (2), @tf.function has experimental_relax_shapes=True option that relaxes argument shapes that can avoid unnecessary retracing. For (3), please refer to https://www.tensorflow.org/guide/function#controlling_retracing and https://www.tensorflow.org/api_docs/python/tf/function for  more details.\n"
     ]
    },
    {
     "data": {
      "text/plain": [
       "array([[0.46173713],\n",
       "       [0.46095493],\n",
       "       [0.4601453 ]], dtype=float32)"
      ]
     },
     "execution_count": 123,
     "metadata": {},
     "output_type": "execute_result"
    }
   ],
   "source": [
    "prediksi=model.predict([21, 22, 23])\n",
    "prediksi"
   ]
  },
  {
   "cell_type": "code",
   "execution_count": 124,
   "metadata": {},
   "outputs": [
    {
     "data": {
      "text/plain": [
       "[<matplotlib.lines.Line2D at 0x1f2bb93e940>]"
      ]
     },
     "execution_count": 124,
     "metadata": {},
     "output_type": "execute_result"
    },
    {
     "data": {
      "image/png": "[encoded data removed]",
      "text/plain": [
       "<Figure size 432x288 with 1 Axes>"
      ]
     },
     "metadata": {
      "needs_background": "light"
     },
     "output_type": "display_data"
    }
   ],
   "source": [
    "#data asli\n",
    "series = series * max\n",
    "series = series + min\n",
    "plt.plot(series)"
   ]
  },
  {
   "cell_type": "code",
   "execution_count": 125,
   "metadata": {},
   "outputs": [
    {
     "data": {
      "text/plain": [
       "array([[26.642776],\n",
       "       [26.616947],\n",
       "       [26.590214]], dtype=float32)"
      ]
     },
     "execution_count": 125,
     "metadata": {},
     "output_type": "execute_result"
    }
   ],
   "source": [
    "prediksi = prediksi * max\n",
    "prediksi = prediksi + min\n",
    "prediksi"
   ]
  },
  {
   "cell_type": "code",
   "execution_count": 127,
   "metadata": {},
   "outputs": [],
   "source": [
    "prediksi=prediksi.flatten()"
   ]
  },
  {
   "cell_type": "code",
   "execution_count": 128,
   "metadata": {},
   "outputs": [],
   "source": [
    "hasil=np.concatenate((series[:-split_time],prediksi))"
   ]
  },
  {
   "cell_type": "code",
   "execution_count": 129,
   "metadata": {},
   "outputs": [
    {
     "data": {
      "text/plain": [
       "array([28.01041667, 25.8125    , 26.        , 24.8125    , 28.42708333,\n",
       "       15.79166667, 31.25      , 22.51041667, 30.76041667, 33.02083333,\n",
       "       28.02083333, 23.67708333, 27.67708333, 26.78125   , 26.27083333,\n",
       "       19.11458333, 11.39583333, 13.27083333, 20.38541667, 22.08333333,\n",
       "       21.53125   , 26.64277649, 26.61694717, 26.59021378])"
      ]
     },
     "execution_count": 129,
     "metadata": {},
     "output_type": "execute_result"
    }
   ],
   "source": [
    "hasil"
   ]
  },
  {
   "cell_type": "code",
   "execution_count": 130,
   "metadata": {},
   "outputs": [
    {
     "data": {
      "text/plain": [
       "[<matplotlib.lines.Line2D at 0x1f2d35dcb50>]"
      ]
     },
     "execution_count": 130,
     "metadata": {},
     "output_type": "execute_result"
    },
    {
     "data": {
      "image/png": "[encoded data removed]",
      "text/plain": [
       "<Figure size 432x288 with 1 Axes>"
      ]
     },
     "metadata": {
      "needs_background": "light"
     },
     "output_type": "display_data"
    }
   ],
   "source": [
    "#data prediksi\n",
    "plt.plot(hasil)"
   ]
  }
 ],
 "metadata": {
  "interpreter": {
   "hash": "afeb0a5d6bb323ad18feb1b5918323875d02a8f396872f34a26389813d209932"
  },
  "kernelspec": {
   "display_name": "Python 3.8.12 64-bit ('skripsi': conda)",
   "language": "python",
   "name": "python3"
  },
  "language_info": {
   "codemirror_mode": {
    "name": "ipython",
    "version": 3
   },
   "file_extension": ".py",
   "mimetype": "text/x-python",
   "name": "python",
   "nbconvert_exporter": "python",
   "pygments_lexer": "ipython3",
   "version": "3.8.12"
  },
  "orig_nbformat": 4
 },
 "nbformat": 4,
 "nbformat_minor": 2
}
