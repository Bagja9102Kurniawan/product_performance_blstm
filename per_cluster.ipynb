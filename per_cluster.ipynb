{
 "cells": [
  {
   "cell_type": "code",
   "execution_count": 1,
   "metadata": {},
   "outputs": [],
   "source": [
    "import pandas as pd\n",
    "import numpy as np\n",
    "import tensorflow as tf"
   ]
  },
  {
   "cell_type": "code",
   "execution_count": 2,
   "metadata": {},
   "outputs": [],
   "source": [
    "import matplotlib.pyplot as plt\n",
    "from sklearn.preprocessing import MinMaxScaler"
   ]
  },
  {
   "cell_type": "code",
   "execution_count": 3,
   "metadata": {},
   "outputs": [
    {
     "data": {
      "text/html": [
       "<div>\n",
       "<style scoped>\n",
       "    .dataframe tbody tr th:only-of-type {\n",
       "        vertical-align: middle;\n",
       "    }\n",
       "\n",
       "    .dataframe tbody tr th {\n",
       "        vertical-align: top;\n",
       "    }\n",
       "\n",
       "    .dataframe thead th {\n",
       "        text-align: right;\n",
       "    }\n",
       "</style>\n",
       "<table border=\"1\" class=\"dataframe\">\n",
       "  <thead>\n",
       "    <tr style=\"text-align: right;\">\n",
       "      <th></th>\n",
       "      <th>Kode Produk</th>\n",
       "      <th>19-Jan</th>\n",
       "      <th>19-Feb</th>\n",
       "      <th>19-Mar</th>\n",
       "      <th>19-Apr</th>\n",
       "      <th>19-May</th>\n",
       "      <th>19-Jun</th>\n",
       "      <th>19-Jul</th>\n",
       "      <th>19-Aug</th>\n",
       "      <th>19-Sep</th>\n",
       "      <th>...</th>\n",
       "      <th>20-Apr</th>\n",
       "      <th>20-May</th>\n",
       "      <th>20-Jun</th>\n",
       "      <th>20-Jul</th>\n",
       "      <th>20-Aug</th>\n",
       "      <th>20-Sep</th>\n",
       "      <th>20-Oct</th>\n",
       "      <th>20-Nov</th>\n",
       "      <th>20-Dec</th>\n",
       "      <th>Cluster</th>\n",
       "    </tr>\n",
       "  </thead>\n",
       "  <tbody>\n",
       "    <tr>\n",
       "      <th>0</th>\n",
       "      <td>P1</td>\n",
       "      <td>56</td>\n",
       "      <td>7</td>\n",
       "      <td>8</td>\n",
       "      <td>14</td>\n",
       "      <td>16</td>\n",
       "      <td>10</td>\n",
       "      <td>21</td>\n",
       "      <td>20</td>\n",
       "      <td>68</td>\n",
       "      <td>...</td>\n",
       "      <td>17</td>\n",
       "      <td>6</td>\n",
       "      <td>9</td>\n",
       "      <td>62</td>\n",
       "      <td>67</td>\n",
       "      <td>62</td>\n",
       "      <td>67</td>\n",
       "      <td>77</td>\n",
       "      <td>11</td>\n",
       "      <td>0</td>\n",
       "    </tr>\n",
       "    <tr>\n",
       "      <th>1</th>\n",
       "      <td>P2</td>\n",
       "      <td>164</td>\n",
       "      <td>190</td>\n",
       "      <td>188</td>\n",
       "      <td>164</td>\n",
       "      <td>235</td>\n",
       "      <td>139</td>\n",
       "      <td>662</td>\n",
       "      <td>240</td>\n",
       "      <td>138</td>\n",
       "      <td>...</td>\n",
       "      <td>367</td>\n",
       "      <td>227</td>\n",
       "      <td>55</td>\n",
       "      <td>222</td>\n",
       "      <td>220</td>\n",
       "      <td>85</td>\n",
       "      <td>336</td>\n",
       "      <td>153</td>\n",
       "      <td>103</td>\n",
       "      <td>1</td>\n",
       "    </tr>\n",
       "    <tr>\n",
       "      <th>2</th>\n",
       "      <td>P3</td>\n",
       "      <td>65</td>\n",
       "      <td>58</td>\n",
       "      <td>79</td>\n",
       "      <td>109</td>\n",
       "      <td>50</td>\n",
       "      <td>51</td>\n",
       "      <td>73</td>\n",
       "      <td>92</td>\n",
       "      <td>28</td>\n",
       "      <td>...</td>\n",
       "      <td>121</td>\n",
       "      <td>23</td>\n",
       "      <td>30</td>\n",
       "      <td>26</td>\n",
       "      <td>19</td>\n",
       "      <td>23</td>\n",
       "      <td>21</td>\n",
       "      <td>20</td>\n",
       "      <td>7</td>\n",
       "      <td>0</td>\n",
       "    </tr>\n",
       "    <tr>\n",
       "      <th>3</th>\n",
       "      <td>P4</td>\n",
       "      <td>243</td>\n",
       "      <td>304</td>\n",
       "      <td>321</td>\n",
       "      <td>241</td>\n",
       "      <td>191</td>\n",
       "      <td>97</td>\n",
       "      <td>276</td>\n",
       "      <td>165</td>\n",
       "      <td>170</td>\n",
       "      <td>...</td>\n",
       "      <td>304</td>\n",
       "      <td>72</td>\n",
       "      <td>102</td>\n",
       "      <td>102</td>\n",
       "      <td>113</td>\n",
       "      <td>112</td>\n",
       "      <td>102</td>\n",
       "      <td>118</td>\n",
       "      <td>120</td>\n",
       "      <td>1</td>\n",
       "    </tr>\n",
       "    <tr>\n",
       "      <th>4</th>\n",
       "      <td>P5</td>\n",
       "      <td>10</td>\n",
       "      <td>13</td>\n",
       "      <td>24</td>\n",
       "      <td>14</td>\n",
       "      <td>28</td>\n",
       "      <td>9</td>\n",
       "      <td>19</td>\n",
       "      <td>10</td>\n",
       "      <td>24</td>\n",
       "      <td>...</td>\n",
       "      <td>16</td>\n",
       "      <td>11</td>\n",
       "      <td>7</td>\n",
       "      <td>10</td>\n",
       "      <td>16</td>\n",
       "      <td>18</td>\n",
       "      <td>18</td>\n",
       "      <td>23</td>\n",
       "      <td>22</td>\n",
       "      <td>0</td>\n",
       "    </tr>\n",
       "    <tr>\n",
       "      <th>...</th>\n",
       "      <td>...</td>\n",
       "      <td>...</td>\n",
       "      <td>...</td>\n",
       "      <td>...</td>\n",
       "      <td>...</td>\n",
       "      <td>...</td>\n",
       "      <td>...</td>\n",
       "      <td>...</td>\n",
       "      <td>...</td>\n",
       "      <td>...</td>\n",
       "      <td>...</td>\n",
       "      <td>...</td>\n",
       "      <td>...</td>\n",
       "      <td>...</td>\n",
       "      <td>...</td>\n",
       "      <td>...</td>\n",
       "      <td>...</td>\n",
       "      <td>...</td>\n",
       "      <td>...</td>\n",
       "      <td>...</td>\n",
       "      <td>...</td>\n",
       "    </tr>\n",
       "    <tr>\n",
       "      <th>153</th>\n",
       "      <td>P154</td>\n",
       "      <td>243</td>\n",
       "      <td>379</td>\n",
       "      <td>292</td>\n",
       "      <td>232</td>\n",
       "      <td>287</td>\n",
       "      <td>107</td>\n",
       "      <td>344</td>\n",
       "      <td>455</td>\n",
       "      <td>436</td>\n",
       "      <td>...</td>\n",
       "      <td>129</td>\n",
       "      <td>85</td>\n",
       "      <td>115</td>\n",
       "      <td>232</td>\n",
       "      <td>79</td>\n",
       "      <td>112</td>\n",
       "      <td>450</td>\n",
       "      <td>498</td>\n",
       "      <td>254</td>\n",
       "      <td>1</td>\n",
       "    </tr>\n",
       "    <tr>\n",
       "      <th>154</th>\n",
       "      <td>P155</td>\n",
       "      <td>-5</td>\n",
       "      <td>0</td>\n",
       "      <td>0</td>\n",
       "      <td>10</td>\n",
       "      <td>0</td>\n",
       "      <td>0</td>\n",
       "      <td>0</td>\n",
       "      <td>0</td>\n",
       "      <td>0</td>\n",
       "      <td>...</td>\n",
       "      <td>0</td>\n",
       "      <td>0</td>\n",
       "      <td>0</td>\n",
       "      <td>0</td>\n",
       "      <td>0</td>\n",
       "      <td>0</td>\n",
       "      <td>0</td>\n",
       "      <td>0</td>\n",
       "      <td>0</td>\n",
       "      <td>0</td>\n",
       "    </tr>\n",
       "    <tr>\n",
       "      <th>155</th>\n",
       "      <td>P156</td>\n",
       "      <td>101</td>\n",
       "      <td>65</td>\n",
       "      <td>117</td>\n",
       "      <td>94</td>\n",
       "      <td>197</td>\n",
       "      <td>151</td>\n",
       "      <td>157</td>\n",
       "      <td>159</td>\n",
       "      <td>144</td>\n",
       "      <td>...</td>\n",
       "      <td>152</td>\n",
       "      <td>129</td>\n",
       "      <td>136</td>\n",
       "      <td>177</td>\n",
       "      <td>120</td>\n",
       "      <td>167</td>\n",
       "      <td>153</td>\n",
       "      <td>130</td>\n",
       "      <td>121</td>\n",
       "      <td>1</td>\n",
       "    </tr>\n",
       "    <tr>\n",
       "      <th>156</th>\n",
       "      <td>P157</td>\n",
       "      <td>0</td>\n",
       "      <td>0</td>\n",
       "      <td>0</td>\n",
       "      <td>0</td>\n",
       "      <td>0</td>\n",
       "      <td>8</td>\n",
       "      <td>49</td>\n",
       "      <td>93</td>\n",
       "      <td>103</td>\n",
       "      <td>...</td>\n",
       "      <td>19</td>\n",
       "      <td>26</td>\n",
       "      <td>29</td>\n",
       "      <td>49</td>\n",
       "      <td>43</td>\n",
       "      <td>34</td>\n",
       "      <td>51</td>\n",
       "      <td>51</td>\n",
       "      <td>43</td>\n",
       "      <td>0</td>\n",
       "    </tr>\n",
       "    <tr>\n",
       "      <th>157</th>\n",
       "      <td>P158</td>\n",
       "      <td>0</td>\n",
       "      <td>0</td>\n",
       "      <td>0</td>\n",
       "      <td>0</td>\n",
       "      <td>0</td>\n",
       "      <td>7</td>\n",
       "      <td>67</td>\n",
       "      <td>78</td>\n",
       "      <td>156</td>\n",
       "      <td>...</td>\n",
       "      <td>64</td>\n",
       "      <td>55</td>\n",
       "      <td>63</td>\n",
       "      <td>98</td>\n",
       "      <td>57</td>\n",
       "      <td>81</td>\n",
       "      <td>132</td>\n",
       "      <td>79</td>\n",
       "      <td>80</td>\n",
       "      <td>1</td>\n",
       "    </tr>\n",
       "  </tbody>\n",
       "</table>\n",
       "<p>158 rows × 26 columns</p>\n",
       "</div>"
      ],
      "text/plain": [
       "    Kode Produk  19-Jan  19-Feb  19-Mar  19-Apr  19-May  19-Jun  19-Jul  \\\n",
       "0            P1      56       7       8      14      16      10      21   \n",
       "1            P2     164     190     188     164     235     139     662   \n",
       "2            P3      65      58      79     109      50      51      73   \n",
       "3            P4     243     304     321     241     191      97     276   \n",
       "4            P5      10      13      24      14      28       9      19   \n",
       "..          ...     ...     ...     ...     ...     ...     ...     ...   \n",
       "153        P154     243     379     292     232     287     107     344   \n",
       "154        P155      -5       0       0      10       0       0       0   \n",
       "155        P156     101      65     117      94     197     151     157   \n",
       "156        P157       0       0       0       0       0       8      49   \n",
       "157        P158       0       0       0       0       0       7      67   \n",
       "\n",
       "     19-Aug  19-Sep  ...  20-Apr  20-May  20-Jun  20-Jul  20-Aug  20-Sep  \\\n",
       "0        20      68  ...      17       6       9      62      67      62   \n",
       "1       240     138  ...     367     227      55     222     220      85   \n",
       "2        92      28  ...     121      23      30      26      19      23   \n",
       "3       165     170  ...     304      72     102     102     113     112   \n",
       "4        10      24  ...      16      11       7      10      16      18   \n",
       "..      ...     ...  ...     ...     ...     ...     ...     ...     ...   \n",
       "153     455     436  ...     129      85     115     232      79     112   \n",
       "154       0       0  ...       0       0       0       0       0       0   \n",
       "155     159     144  ...     152     129     136     177     120     167   \n",
       "156      93     103  ...      19      26      29      49      43      34   \n",
       "157      78     156  ...      64      55      63      98      57      81   \n",
       "\n",
       "     20-Oct  20-Nov  20-Dec  Cluster  \n",
       "0        67      77      11        0  \n",
       "1       336     153     103        1  \n",
       "2        21      20       7        0  \n",
       "3       102     118     120        1  \n",
       "4        18      23      22        0  \n",
       "..      ...     ...     ...      ...  \n",
       "153     450     498     254        1  \n",
       "154       0       0       0        0  \n",
       "155     153     130     121        1  \n",
       "156      51      51      43        0  \n",
       "157     132      79      80        1  \n",
       "\n",
       "[158 rows x 26 columns]"
      ]
     },
     "execution_count": 3,
     "metadata": {},
     "output_type": "execute_result"
    }
   ],
   "source": [
    "data=pd.read_csv('dataset.csv')\n",
    "data"
   ]
  },
  {
   "cell_type": "code",
   "execution_count": 4,
   "metadata": {},
   "outputs": [
    {
     "data": {
      "text/plain": [
       "5"
      ]
     },
     "execution_count": 4,
     "metadata": {},
     "output_type": "execute_result"
    }
   ],
   "source": [
    "len(data['Cluster'].unique())"
   ]
  },
  {
   "cell_type": "code",
   "execution_count": 5,
   "metadata": {},
   "outputs": [
    {
     "name": "stdout",
     "output_type": "stream",
     "text": [
      "Jumlah Produk:\n",
      "96\n",
      "Jumlah Produk:\n",
      "45\n",
      "Jumlah Produk:\n",
      "1\n",
      "Jumlah Produk:\n",
      "3\n",
      "Jumlah Produk:\n",
      "13\n"
     ]
    }
   ],
   "source": [
    "#now lets take clusters\n",
    "c0 = data.query(\"Cluster == 0\")\n",
    "print(\"Jumlah Produk:\")\n",
    "print(c0['Kode Produk'].size)\n",
    "c1 = data.query(\"Cluster == 1\")\n",
    "print(\"Jumlah Produk:\")\n",
    "print(c1['Kode Produk'].size)\n",
    "c2 = data.query(\"Cluster == 2\")\n",
    "print(\"Jumlah Produk:\")\n",
    "print(c2['Kode Produk'].size)\n",
    "c3 = data.query(\"Cluster == 3\")\n",
    "print(\"Jumlah Produk:\")\n",
    "print(c3['Kode Produk'].size)\n",
    "c4 = data.query(\"Cluster == 4\")\n",
    "print(\"Jumlah Produk:\")\n",
    "print(c4['Kode Produk'].size)"
   ]
  },
  {
   "cell_type": "code",
   "execution_count": 6,
   "metadata": {},
   "outputs": [],
   "source": [
    "#oke ada ternyata yang cuman sendirian (1 product di cluster tersebut), kita beresin dia dulu, the easiest, dan biar keliatan kita\n",
    "#ngapain aja di time series ini\n",
    "def windowed_dataset(series, window_size, batch_size, shuffle_buffer):\n",
    "    series = tf.expand_dims(series, axis=-1)\n",
    "    ds = tf.data.Dataset.from_tensor_slices(series)\n",
    "    ds = ds.window(window_size + 1, shift=1, drop_remainder=True)\n",
    "    ds = ds.flat_map(lambda w: w.batch(window_size + 1))\n",
    "    ds = ds.shuffle(shuffle_buffer)\n",
    "    ds = ds.map(lambda w: (w[:-1], w[1:]))\n",
    "    return ds.batch(batch_size).prefetch(1)\n",
    "# ini fungsinya buat nge ubah dataset jadi windowed"
   ]
  },
  {
   "cell_type": "markdown",
   "metadata": {},
   "source": [
    "# C2"
   ]
  },
  {
   "cell_type": "code",
   "execution_count": 7,
   "metadata": {},
   "outputs": [
    {
     "data": {
      "text/html": [
       "<div>\n",
       "<style scoped>\n",
       "    .dataframe tbody tr th:only-of-type {\n",
       "        vertical-align: middle;\n",
       "    }\n",
       "\n",
       "    .dataframe tbody tr th {\n",
       "        vertical-align: top;\n",
       "    }\n",
       "\n",
       "    .dataframe thead th {\n",
       "        text-align: right;\n",
       "    }\n",
       "</style>\n",
       "<table border=\"1\" class=\"dataframe\">\n",
       "  <thead>\n",
       "    <tr style=\"text-align: right;\">\n",
       "      <th></th>\n",
       "      <th>19-Jan</th>\n",
       "      <th>19-Feb</th>\n",
       "      <th>19-Mar</th>\n",
       "      <th>19-Apr</th>\n",
       "      <th>19-May</th>\n",
       "      <th>19-Jun</th>\n",
       "      <th>19-Jul</th>\n",
       "      <th>19-Aug</th>\n",
       "      <th>19-Sep</th>\n",
       "      <th>19-Oct</th>\n",
       "      <th>...</th>\n",
       "      <th>20-Mar</th>\n",
       "      <th>20-Apr</th>\n",
       "      <th>20-May</th>\n",
       "      <th>20-Jun</th>\n",
       "      <th>20-Jul</th>\n",
       "      <th>20-Aug</th>\n",
       "      <th>20-Sep</th>\n",
       "      <th>20-Oct</th>\n",
       "      <th>20-Nov</th>\n",
       "      <th>20-Dec</th>\n",
       "    </tr>\n",
       "  </thead>\n",
       "  <tbody>\n",
       "    <tr>\n",
       "      <th>79</th>\n",
       "      <td>4624</td>\n",
       "      <td>959</td>\n",
       "      <td>1500</td>\n",
       "      <td>4900</td>\n",
       "      <td>1812</td>\n",
       "      <td>2128</td>\n",
       "      <td>3913</td>\n",
       "      <td>5320</td>\n",
       "      <td>2657</td>\n",
       "      <td>4730</td>\n",
       "      <td>...</td>\n",
       "      <td>3682</td>\n",
       "      <td>3585</td>\n",
       "      <td>6316</td>\n",
       "      <td>2531</td>\n",
       "      <td>3752</td>\n",
       "      <td>2508</td>\n",
       "      <td>3637</td>\n",
       "      <td>3854</td>\n",
       "      <td>3951</td>\n",
       "      <td>3220</td>\n",
       "    </tr>\n",
       "  </tbody>\n",
       "</table>\n",
       "<p>1 rows × 24 columns</p>\n",
       "</div>"
      ],
      "text/plain": [
       "    19-Jan  19-Feb  19-Mar  19-Apr  19-May  19-Jun  19-Jul  19-Aug  19-Sep  \\\n",
       "79    4624     959    1500    4900    1812    2128    3913    5320    2657   \n",
       "\n",
       "    19-Oct  ...  20-Mar  20-Apr  20-May  20-Jun  20-Jul  20-Aug  20-Sep  \\\n",
       "79    4730  ...    3682    3585    6316    2531    3752    2508    3637   \n",
       "\n",
       "    20-Oct  20-Nov  20-Dec  \n",
       "79    3854    3951    3220  \n",
       "\n",
       "[1 rows x 24 columns]"
      ]
     },
     "execution_count": 7,
     "metadata": {},
     "output_type": "execute_result"
    }
   ],
   "source": [
    "#next kita ubah bentuk data nya dari yang tadinya kesamping jadi ke bawah, tapi pertama mau aku drop dulu cluster sama kode produknya\n",
    "c2=c2.drop(columns=['Kode Produk','Cluster'])\n",
    "c2"
   ]
  },
  {
   "cell_type": "code",
   "execution_count": 8,
   "metadata": {},
   "outputs": [
    {
     "name": "stdout",
     "output_type": "stream",
     "text": [
      "[0, 1, 2, 3, 4, 5, 6, 7, 8, 9, 10, 11, 12, 13, 14, 15, 16, 17, 18, 19, 20, 21, 22, 23] [4624, 959, 1500, 4900, 1812, 2128, 3913, 5320, 2657, 4730, 181, 2337, 2382, 1005, 3682, 3585, 6316, 2531, 3752, 2508, 3637, 3854, 3951, 3220]\n"
     ]
    }
   ],
   "source": [
    "#next, buat dia kayak mejeneng time series seperti biasanya, which is datanya ke bawah, \n",
    "new_c2=[]\n",
    "time=[]\n",
    "for idx,_ in enumerate(c2):\n",
    "    new_c2.append(c2.iloc[0,idx])\n",
    "    time.append(idx)\n",
    "print(time,new_c2)"
   ]
  },
  {
   "cell_type": "code",
   "execution_count": 9,
   "metadata": {},
   "outputs": [],
   "source": [
    "#normalisasi, karena gap nya ada yang sampe ribuan, biar lebih gampang tugas ann nya\n",
    "series=new_c2\n",
    "min = np.min(series)\n",
    "max = np.max(series)\n",
    "series = series - min\n",
    "series = series / (max-min)\n",
    "\n",
    "# scaler = MinMaxScaler(feature_range=(0, 1))\n",
    "# series = scaler.fit_transform(series)\n",
    "\n",
    "time = np.array(time)"
   ]
  },
  {
   "cell_type": "code",
   "execution_count": 10,
   "metadata": {},
   "outputs": [
    {
     "data": {
      "text/plain": [
       "array([0.72420538, 0.12681337, 0.21499593, 0.76919315, 0.26585167,\n",
       "       0.31735941, 0.60831296, 0.83765281, 0.40358598, 0.74148329,\n",
       "       0.        , 0.35142624, 0.35876121, 0.13431133, 0.57066015,\n",
       "       0.55484923, 1.        , 0.38304808, 0.58207009, 0.3792991 ,\n",
       "       0.56332518, 0.59869601, 0.61450693, 0.49535452])"
      ]
     },
     "execution_count": 10,
     "metadata": {},
     "output_type": "execute_result"
    }
   ],
   "source": [
    "series"
   ]
  },
  {
   "cell_type": "code",
   "execution_count": 14,
   "metadata": {},
   "outputs": [],
   "source": [
    "split_time = 3 # ini berapa bulan terkahir yang mau di potong buat pengujian?\n",
    "\n",
    "time_train = time[:-split_time]\n",
    "x_train =  series[:-split_time]\n",
    "time_valid =  time[-split_time:]\n",
    "x_valid =  series[-split_time:]"
   ]
  },
  {
   "cell_type": "code",
   "execution_count": 15,
   "metadata": {},
   "outputs": [
    {
     "data": {
      "text/plain": [
       "array([0.59869601, 0.61450693, 0.49535452])"
      ]
     },
     "execution_count": 15,
     "metadata": {},
     "output_type": "execute_result"
    }
   ],
   "source": [
    "x_valid"
   ]
  },
  {
   "cell_type": "code",
   "execution_count": 16,
   "metadata": {},
   "outputs": [],
   "source": [
    "#buat data biar dibagi per window, jadi me masang masangkan waktu dan value,\n",
    "window_size = 2\n",
    "batch_size = 2\n",
    "shuffle_buffer_size = 10\n",
    "\n",
    "train_set = windowed_dataset(x_train, window_size, batch_size, shuffle_buffer_size)\n",
    "valid_set = windowed_dataset(x_valid, window_size, batch_size, shuffle_buffer_size)"
   ]
  },
  {
   "cell_type": "code",
   "execution_count": 30,
   "metadata": {},
   "outputs": [],
   "source": [
    "model = tf.keras.Sequential([\n",
    "        tf.keras.layers.Dense(2, input_shape=[None, 1]),\n",
    "        tf.keras.layers.Bidirectional(tf.keras.layers.LSTM(64,return_sequences=True)),\n",
    "        tf.keras.layers.Bidirectional(tf.keras.layers.LSTM(32)),\n",
    "        # tf.keras.layers.Bidirectional(tf.keras.layers.LSTM(4)),\n",
    "        tf.keras.layers.Flatten(),\n",
    "        #tf.keras.layers.GlobalAveragePooling1D(),\n",
    "        tf.keras.layers.Dense(512, activation='relu', kernel_regularizer=tf.keras.regularizers.l1(l1=0.001)),\n",
    "        tf.keras.layers.Dropout(0.2),\n",
    "        tf.keras.layers.Dense(64, activation='relu', kernel_regularizer=tf.keras.regularizers.l1_l2(l1=0.001, l2=0.001)),\n",
    "        tf.keras.layers.Dense(32, activation='relu'),\n",
    "        tf.keras.layers.Dropout(0.3),\n",
    "        tf.keras.layers.Dense(1)\n",
    "    ])\n",
    "\n",
    "    #the blstm part"
   ]
  },
  {
   "cell_type": "code",
   "execution_count": 31,
   "metadata": {},
   "outputs": [
    {
     "name": "stdout",
     "output_type": "stream",
     "text": [
      "Model: \"sequential_3\"\n",
      "_________________________________________________________________\n",
      "Layer (type)                 Output Shape              Param #   \n",
      "=================================================================\n",
      "dense_15 (Dense)             (None, None, 2)           4         \n",
      "_________________________________________________________________\n",
      "bidirectional_6 (Bidirection (None, None, 128)         34304     \n",
      "_________________________________________________________________\n",
      "bidirectional_7 (Bidirection (None, 64)                41216     \n",
      "_________________________________________________________________\n",
      "flatten_3 (Flatten)          (None, 64)                0         \n",
      "_________________________________________________________________\n",
      "dense_16 (Dense)             (None, 512)               33280     \n",
      "_________________________________________________________________\n",
      "dropout_6 (Dropout)          (None, 512)               0         \n",
      "_________________________________________________________________\n",
      "dense_17 (Dense)             (None, 64)                32832     \n",
      "_________________________________________________________________\n",
      "dense_18 (Dense)             (None, 32)                2080      \n",
      "_________________________________________________________________\n",
      "dropout_7 (Dropout)          (None, 32)                0         \n",
      "_________________________________________________________________\n",
      "dense_19 (Dense)             (None, 1)                 33        \n",
      "=================================================================\n",
      "Total params: 143,749\n",
      "Trainable params: 143,749\n",
      "Non-trainable params: 0\n",
      "_________________________________________________________________\n",
      "Epoch 1/150\n"
     ]
    },
    {
     "ename": "InternalError",
     "evalue": " Attempting to perform BLAS operation using StreamExecutor without BLAS support\n\t [[node sequential_3/dense_15/Tensordot/MatMul (defined at \\AppData\\Local\\Temp/ipykernel_6396/4280606705.py:5) ]] [Op:__inference_train_function_35351]\n\nFunction call stack:\ntrain_function\n",
     "output_type": "error",
     "traceback": [
      "\u001b[1;31m---------------------------------------------------------------------------\u001b[0m",
      "\u001b[1;31mInternalError\u001b[0m                             Traceback (most recent call last)",
      "\u001b[1;32m~\\AppData\\Local\\Temp/ipykernel_6396/4280606705.py\u001b[0m in \u001b[0;36m<module>\u001b[1;34m\u001b[0m\n\u001b[0;32m      3\u001b[0m \u001b[0mmodel\u001b[0m\u001b[1;33m.\u001b[0m\u001b[0mcompile\u001b[0m\u001b[1;33m(\u001b[0m\u001b[0moptimizer\u001b[0m\u001b[1;33m=\u001b[0m\u001b[0mtf\u001b[0m\u001b[1;33m.\u001b[0m\u001b[0mkeras\u001b[0m\u001b[1;33m.\u001b[0m\u001b[0moptimizers\u001b[0m\u001b[1;33m.\u001b[0m\u001b[0mAdam\u001b[0m\u001b[1;33m(\u001b[0m\u001b[1;33m)\u001b[0m\u001b[1;33m,\u001b[0m\u001b[0mmetrics\u001b[0m\u001b[1;33m=\u001b[0m\u001b[1;33m[\u001b[0m\u001b[1;34m'mae'\u001b[0m\u001b[1;33m]\u001b[0m\u001b[1;33m,\u001b[0m\u001b[0mloss\u001b[0m\u001b[1;33m=\u001b[0m\u001b[1;34m'mse'\u001b[0m\u001b[1;33m)\u001b[0m\u001b[1;33m\u001b[0m\u001b[1;33m\u001b[0m\u001b[0m\n\u001b[0;32m      4\u001b[0m \u001b[0mmodel\u001b[0m\u001b[1;33m.\u001b[0m\u001b[0msummary\u001b[0m\u001b[1;33m(\u001b[0m\u001b[1;33m)\u001b[0m\u001b[1;33m\u001b[0m\u001b[1;33m\u001b[0m\u001b[0m\n\u001b[1;32m----> 5\u001b[1;33m \u001b[0mhist\u001b[0m\u001b[1;33m=\u001b[0m\u001b[0mmodel\u001b[0m\u001b[1;33m.\u001b[0m\u001b[0mfit\u001b[0m\u001b[1;33m(\u001b[0m\u001b[0mvalid_set\u001b[0m\u001b[1;33m,\u001b[0m\u001b[0mepochs\u001b[0m\u001b[1;33m=\u001b[0m\u001b[1;36m150\u001b[0m\u001b[1;33m,\u001b[0m\u001b[0mvalidation_data\u001b[0m\u001b[1;33m=\u001b[0m\u001b[0mtrain_set\u001b[0m\u001b[1;33m,\u001b[0m \u001b[0mbatch_size\u001b[0m\u001b[1;33m=\u001b[0m\u001b[1;36m2\u001b[0m\u001b[1;33m)\u001b[0m\u001b[1;33m\u001b[0m\u001b[1;33m\u001b[0m\u001b[0m\n\u001b[0m",
      "\u001b[1;32m~\\anaconda3\\envs\\skripsi\\lib\\site-packages\\keras\\engine\\training.py\u001b[0m in \u001b[0;36mfit\u001b[1;34m(self, x, y, batch_size, epochs, verbose, callbacks, validation_split, validation_data, shuffle, class_weight, sample_weight, initial_epoch, steps_per_epoch, validation_steps, validation_batch_size, validation_freq, max_queue_size, workers, use_multiprocessing)\u001b[0m\n\u001b[0;32m   1182\u001b[0m                 _r=1):\n\u001b[0;32m   1183\u001b[0m               \u001b[0mcallbacks\u001b[0m\u001b[1;33m.\u001b[0m\u001b[0mon_train_batch_begin\u001b[0m\u001b[1;33m(\u001b[0m\u001b[0mstep\u001b[0m\u001b[1;33m)\u001b[0m\u001b[1;33m\u001b[0m\u001b[1;33m\u001b[0m\u001b[0m\n\u001b[1;32m-> 1184\u001b[1;33m               \u001b[0mtmp_logs\u001b[0m \u001b[1;33m=\u001b[0m \u001b[0mself\u001b[0m\u001b[1;33m.\u001b[0m\u001b[0mtrain_function\u001b[0m\u001b[1;33m(\u001b[0m\u001b[0miterator\u001b[0m\u001b[1;33m)\u001b[0m\u001b[1;33m\u001b[0m\u001b[1;33m\u001b[0m\u001b[0m\n\u001b[0m\u001b[0;32m   1185\u001b[0m               \u001b[1;32mif\u001b[0m \u001b[0mdata_handler\u001b[0m\u001b[1;33m.\u001b[0m\u001b[0mshould_sync\u001b[0m\u001b[1;33m:\u001b[0m\u001b[1;33m\u001b[0m\u001b[1;33m\u001b[0m\u001b[0m\n\u001b[0;32m   1186\u001b[0m                 \u001b[0mcontext\u001b[0m\u001b[1;33m.\u001b[0m\u001b[0masync_wait\u001b[0m\u001b[1;33m(\u001b[0m\u001b[1;33m)\u001b[0m\u001b[1;33m\u001b[0m\u001b[1;33m\u001b[0m\u001b[0m\n",
      "\u001b[1;32m~\\anaconda3\\envs\\skripsi\\lib\\site-packages\\tensorflow\\python\\eager\\def_function.py\u001b[0m in \u001b[0;36m__call__\u001b[1;34m(self, *args, **kwds)\u001b[0m\n\u001b[0;32m    883\u001b[0m \u001b[1;33m\u001b[0m\u001b[0m\n\u001b[0;32m    884\u001b[0m       \u001b[1;32mwith\u001b[0m \u001b[0mOptionalXlaContext\u001b[0m\u001b[1;33m(\u001b[0m\u001b[0mself\u001b[0m\u001b[1;33m.\u001b[0m\u001b[0m_jit_compile\u001b[0m\u001b[1;33m)\u001b[0m\u001b[1;33m:\u001b[0m\u001b[1;33m\u001b[0m\u001b[1;33m\u001b[0m\u001b[0m\n\u001b[1;32m--> 885\u001b[1;33m         \u001b[0mresult\u001b[0m \u001b[1;33m=\u001b[0m \u001b[0mself\u001b[0m\u001b[1;33m.\u001b[0m\u001b[0m_call\u001b[0m\u001b[1;33m(\u001b[0m\u001b[1;33m*\u001b[0m\u001b[0margs\u001b[0m\u001b[1;33m,\u001b[0m \u001b[1;33m**\u001b[0m\u001b[0mkwds\u001b[0m\u001b[1;33m)\u001b[0m\u001b[1;33m\u001b[0m\u001b[1;33m\u001b[0m\u001b[0m\n\u001b[0m\u001b[0;32m    886\u001b[0m \u001b[1;33m\u001b[0m\u001b[0m\n\u001b[0;32m    887\u001b[0m       \u001b[0mnew_tracing_count\u001b[0m \u001b[1;33m=\u001b[0m \u001b[0mself\u001b[0m\u001b[1;33m.\u001b[0m\u001b[0mexperimental_get_tracing_count\u001b[0m\u001b[1;33m(\u001b[0m\u001b[1;33m)\u001b[0m\u001b[1;33m\u001b[0m\u001b[1;33m\u001b[0m\u001b[0m\n",
      "\u001b[1;32m~\\anaconda3\\envs\\skripsi\\lib\\site-packages\\tensorflow\\python\\eager\\def_function.py\u001b[0m in \u001b[0;36m_call\u001b[1;34m(self, *args, **kwds)\u001b[0m\n\u001b[0;32m    948\u001b[0m         \u001b[1;31m# Lifting succeeded, so variables are initialized and we can run the\u001b[0m\u001b[1;33m\u001b[0m\u001b[1;33m\u001b[0m\u001b[1;33m\u001b[0m\u001b[0m\n\u001b[0;32m    949\u001b[0m         \u001b[1;31m# stateless function.\u001b[0m\u001b[1;33m\u001b[0m\u001b[1;33m\u001b[0m\u001b[1;33m\u001b[0m\u001b[0m\n\u001b[1;32m--> 950\u001b[1;33m         \u001b[1;32mreturn\u001b[0m \u001b[0mself\u001b[0m\u001b[1;33m.\u001b[0m\u001b[0m_stateless_fn\u001b[0m\u001b[1;33m(\u001b[0m\u001b[1;33m*\u001b[0m\u001b[0margs\u001b[0m\u001b[1;33m,\u001b[0m \u001b[1;33m**\u001b[0m\u001b[0mkwds\u001b[0m\u001b[1;33m)\u001b[0m\u001b[1;33m\u001b[0m\u001b[1;33m\u001b[0m\u001b[0m\n\u001b[0m\u001b[0;32m    951\u001b[0m     \u001b[1;32melse\u001b[0m\u001b[1;33m:\u001b[0m\u001b[1;33m\u001b[0m\u001b[1;33m\u001b[0m\u001b[0m\n\u001b[0;32m    952\u001b[0m       \u001b[0m_\u001b[0m\u001b[1;33m,\u001b[0m \u001b[0m_\u001b[0m\u001b[1;33m,\u001b[0m \u001b[0m_\u001b[0m\u001b[1;33m,\u001b[0m \u001b[0mfiltered_flat_args\u001b[0m \u001b[1;33m=\u001b[0m\u001b[0;31m \u001b[0m\u001b[0;31m\\\u001b[0m\u001b[1;33m\u001b[0m\u001b[1;33m\u001b[0m\u001b[0m\n",
      "\u001b[1;32m~\\anaconda3\\envs\\skripsi\\lib\\site-packages\\tensorflow\\python\\eager\\function.py\u001b[0m in \u001b[0;36m__call__\u001b[1;34m(self, *args, **kwargs)\u001b[0m\n\u001b[0;32m   3037\u001b[0m       (graph_function,\n\u001b[0;32m   3038\u001b[0m        filtered_flat_args) = self._maybe_define_function(args, kwargs)\n\u001b[1;32m-> 3039\u001b[1;33m     return graph_function._call_flat(\n\u001b[0m\u001b[0;32m   3040\u001b[0m         filtered_flat_args, captured_inputs=graph_function.captured_inputs)  # pylint: disable=protected-access\n\u001b[0;32m   3041\u001b[0m \u001b[1;33m\u001b[0m\u001b[0m\n",
      "\u001b[1;32m~\\anaconda3\\envs\\skripsi\\lib\\site-packages\\tensorflow\\python\\eager\\function.py\u001b[0m in \u001b[0;36m_call_flat\u001b[1;34m(self, args, captured_inputs, cancellation_manager)\u001b[0m\n\u001b[0;32m   1961\u001b[0m         and executing_eagerly):\n\u001b[0;32m   1962\u001b[0m       \u001b[1;31m# No tape is watching; skip to running the function.\u001b[0m\u001b[1;33m\u001b[0m\u001b[1;33m\u001b[0m\u001b[1;33m\u001b[0m\u001b[0m\n\u001b[1;32m-> 1963\u001b[1;33m       return self._build_call_outputs(self._inference_function.call(\n\u001b[0m\u001b[0;32m   1964\u001b[0m           ctx, args, cancellation_manager=cancellation_manager))\n\u001b[0;32m   1965\u001b[0m     forward_backward = self._select_forward_and_backward_functions(\n",
      "\u001b[1;32m~\\anaconda3\\envs\\skripsi\\lib\\site-packages\\tensorflow\\python\\eager\\function.py\u001b[0m in \u001b[0;36mcall\u001b[1;34m(self, ctx, args, cancellation_manager)\u001b[0m\n\u001b[0;32m    589\u001b[0m       \u001b[1;32mwith\u001b[0m \u001b[0m_InterpolateFunctionError\u001b[0m\u001b[1;33m(\u001b[0m\u001b[0mself\u001b[0m\u001b[1;33m)\u001b[0m\u001b[1;33m:\u001b[0m\u001b[1;33m\u001b[0m\u001b[1;33m\u001b[0m\u001b[0m\n\u001b[0;32m    590\u001b[0m         \u001b[1;32mif\u001b[0m \u001b[0mcancellation_manager\u001b[0m \u001b[1;32mis\u001b[0m \u001b[1;32mNone\u001b[0m\u001b[1;33m:\u001b[0m\u001b[1;33m\u001b[0m\u001b[1;33m\u001b[0m\u001b[0m\n\u001b[1;32m--> 591\u001b[1;33m           outputs = execute.execute(\n\u001b[0m\u001b[0;32m    592\u001b[0m               \u001b[0mstr\u001b[0m\u001b[1;33m(\u001b[0m\u001b[0mself\u001b[0m\u001b[1;33m.\u001b[0m\u001b[0msignature\u001b[0m\u001b[1;33m.\u001b[0m\u001b[0mname\u001b[0m\u001b[1;33m)\u001b[0m\u001b[1;33m,\u001b[0m\u001b[1;33m\u001b[0m\u001b[1;33m\u001b[0m\u001b[0m\n\u001b[0;32m    593\u001b[0m               \u001b[0mnum_outputs\u001b[0m\u001b[1;33m=\u001b[0m\u001b[0mself\u001b[0m\u001b[1;33m.\u001b[0m\u001b[0m_num_outputs\u001b[0m\u001b[1;33m,\u001b[0m\u001b[1;33m\u001b[0m\u001b[1;33m\u001b[0m\u001b[0m\n",
      "\u001b[1;32m~\\anaconda3\\envs\\skripsi\\lib\\site-packages\\tensorflow\\python\\eager\\execute.py\u001b[0m in \u001b[0;36mquick_execute\u001b[1;34m(op_name, num_outputs, inputs, attrs, ctx, name)\u001b[0m\n\u001b[0;32m     57\u001b[0m   \u001b[1;32mtry\u001b[0m\u001b[1;33m:\u001b[0m\u001b[1;33m\u001b[0m\u001b[1;33m\u001b[0m\u001b[0m\n\u001b[0;32m     58\u001b[0m     \u001b[0mctx\u001b[0m\u001b[1;33m.\u001b[0m\u001b[0mensure_initialized\u001b[0m\u001b[1;33m(\u001b[0m\u001b[1;33m)\u001b[0m\u001b[1;33m\u001b[0m\u001b[1;33m\u001b[0m\u001b[0m\n\u001b[1;32m---> 59\u001b[1;33m     tensors = pywrap_tfe.TFE_Py_Execute(ctx._handle, device_name, op_name,\n\u001b[0m\u001b[0;32m     60\u001b[0m                                         inputs, attrs, num_outputs)\n\u001b[0;32m     61\u001b[0m   \u001b[1;32mexcept\u001b[0m \u001b[0mcore\u001b[0m\u001b[1;33m.\u001b[0m\u001b[0m_NotOkStatusException\u001b[0m \u001b[1;32mas\u001b[0m \u001b[0me\u001b[0m\u001b[1;33m:\u001b[0m\u001b[1;33m\u001b[0m\u001b[1;33m\u001b[0m\u001b[0m\n",
      "\u001b[1;31mInternalError\u001b[0m:  Attempting to perform BLAS operation using StreamExecutor without BLAS support\n\t [[node sequential_3/dense_15/Tensordot/MatMul (defined at \\AppData\\Local\\Temp/ipykernel_6396/4280606705.py:5) ]] [Op:__inference_train_function_35351]\n\nFunction call stack:\ntrain_function\n"
     ]
    }
   ],
   "source": [
    "#Using mae and mse\n",
    "#model.compile(optimizer=tf.keras.optimizers.SGD(learning_rate=0.001, momentum=0.9),metrics=['mae'],loss='mse')\n",
    "model.compile(optimizer=tf.keras.optimizers.Adam(),metrics=['mae'],loss='mse')\n",
    "model.summary()\n",
    "hist=model.fit(valid_set,epochs=150,validation_data=train_set, batch_size=2)"
   ]
  },
  {
   "cell_type": "code",
   "execution_count": 15,
   "metadata": {},
   "outputs": [
    {
     "data": {
      "image/png": "[encoded data removed]",
      "text/plain": [
       "<Figure size 432x288 with 1 Axes>"
      ]
     },
     "metadata": {
      "needs_background": "light"
     },
     "output_type": "display_data"
    }
   ],
   "source": [
    "import matplotlib.pyplot as plt\n",
    "\n",
    "plt.plot(hist.history['mae'], label='MAE (training data)')\n",
    "plt.plot(hist.history['val_mae'], label='MAE (validation data)')\n",
    "\n",
    "plt.ylabel('MAE value')\n",
    "plt.xlabel('No. epoch')\n",
    "plt.legend(loc=\"upper left\")\n",
    "plt.show()"
   ]
  },
  {
   "cell_type": "code",
   "execution_count": 16,
   "metadata": {},
   "outputs": [
    {
     "data": {
      "image/png": "[encoded data removed]",
      "text/plain": [
       "<Figure size 432x288 with 1 Axes>"
      ]
     },
     "metadata": {
      "needs_background": "light"
     },
     "output_type": "display_data"
    }
   ],
   "source": [
    "plt.plot(hist.history['loss'], label='loss (training data)')\n",
    "plt.plot(hist.history['val_loss'], label='loss (validation data)')\n",
    "\n",
    "plt.ylabel('MAE value')\n",
    "plt.xlabel('No. epoch')\n",
    "plt.legend(loc=\"upper left\")\n",
    "plt.show()"
   ]
  },
  {
   "cell_type": "code",
   "execution_count": 17,
   "metadata": {},
   "outputs": [
    {
     "data": {
      "text/plain": [
       "array([[0.14843737],\n",
       "       [0.14843738],\n",
       "       [0.14843738]], dtype=float32)"
      ]
     },
     "execution_count": 17,
     "metadata": {},
     "output_type": "execute_result"
    }
   ],
   "source": [
    "prediksi=model.predict([21, 22, 23])\n",
    "prediksi"
   ]
  },
  {
   "cell_type": "code",
   "execution_count": 18,
   "metadata": {},
   "outputs": [
    {
     "data": {
      "text/plain": [
       "[<matplotlib.lines.Line2D at 0x1e796ee3760>]"
      ]
     },
     "execution_count": 18,
     "metadata": {},
     "output_type": "execute_result"
    },
    {
     "data": {
      "image/png": "[encoded data removed]",
      "text/plain": [
       "<Figure size 432x288 with 1 Axes>"
      ]
     },
     "metadata": {
      "needs_background": "light"
     },
     "output_type": "display_data"
    }
   ],
   "source": [
    "series = series * (max-min)\n",
    "series = series + min\n",
    "plt.plot(series)"
   ]
  },
  {
   "cell_type": "code",
   "execution_count": 19,
   "metadata": {},
   "outputs": [
    {
     "data": {
      "text/plain": [
       "array([[1091.6633],\n",
       "       [1091.6633],\n",
       "       [1091.6633]], dtype=float32)"
      ]
     },
     "execution_count": 19,
     "metadata": {},
     "output_type": "execute_result"
    }
   ],
   "source": [
    "prediksi = prediksi * (max-min)\n",
    "prediksi = prediksi + min\n",
    "prediksi"
   ]
  },
  {
   "cell_type": "code",
   "execution_count": 20,
   "metadata": {},
   "outputs": [],
   "source": [
    "prediksi=prediksi.flatten()"
   ]
  },
  {
   "cell_type": "code",
   "execution_count": 21,
   "metadata": {},
   "outputs": [],
   "source": [
    "hasil=np.concatenate((series[:-split_time],prediksi))"
   ]
  },
  {
   "cell_type": "code",
   "execution_count": 22,
   "metadata": {},
   "outputs": [
    {
     "data": {
      "text/plain": [
       "array([4624.        ,  959.        , 1500.        , 4900.        ,\n",
       "       1812.        , 2128.        , 3913.        , 5320.        ,\n",
       "       2657.        , 4730.        ,  181.        , 2337.        ,\n",
       "       2382.        , 1005.        , 3682.        , 3585.        ,\n",
       "       6316.        , 2531.        , 3752.        , 2508.        ,\n",
       "       3637.        , 1091.66333008, 1091.66333008, 1091.66333008])"
      ]
     },
     "execution_count": 22,
     "metadata": {},
     "output_type": "execute_result"
    }
   ],
   "source": [
    "hasil"
   ]
  },
  {
   "cell_type": "code",
   "execution_count": 23,
   "metadata": {},
   "outputs": [
    {
     "data": {
      "text/plain": [
       "[<matplotlib.lines.Line2D at 0x1e796f35fd0>]"
      ]
     },
     "execution_count": 23,
     "metadata": {},
     "output_type": "execute_result"
    },
    {
     "data": {
      "image/png": "[encoded data removed]",
      "text/plain": [
       "<Figure size 432x288 with 1 Axes>"
      ]
     },
     "metadata": {
      "needs_background": "light"
     },
     "output_type": "display_data"
    }
   ],
   "source": [
    "plt.plot(hasil)"
   ]
  },
  {
   "cell_type": "code",
   "execution_count": 124,
   "metadata": {},
   "outputs": [],
   "source": [
    "model.save('cluster2.h5')"
   ]
  },
  {
   "cell_type": "markdown",
   "metadata": {},
   "source": [
    "# C0"
   ]
  },
  {
   "cell_type": "code",
   "execution_count": 94,
   "metadata": {},
   "outputs": [],
   "source": [
    "## do the same for the others, tapi karena yang lain punya beberapa anggota, nah itu di average dulu per tanggalnya\n",
    "c0=c0.drop(columns=['Kode Produk', 'Cluster'])\n"
   ]
  },
  {
   "cell_type": "code",
   "execution_count": 95,
   "metadata": {},
   "outputs": [],
   "source": [
    "#next, buat dia kayak mejeneng time series seperti biasanya, which is datanya ke bawah, tapi di average per tanggal \n",
    "new_c0=[]\n",
    "time=[]\n",
    "for idx,a in enumerate(c0):\n",
    "    new_c0.append(c0[a].mean())\n",
    "    time.append(idx)\n"
   ]
  },
  {
   "cell_type": "code",
   "execution_count": 96,
   "metadata": {},
   "outputs": [
    {
     "data": {
      "text/plain": [
       "[28.010416666666668,\n",
       " 25.8125,\n",
       " 26.0,\n",
       " 24.8125,\n",
       " 28.427083333333332,\n",
       " 15.791666666666666,\n",
       " 31.25,\n",
       " 22.510416666666668,\n",
       " 30.760416666666668,\n",
       " 33.020833333333336,\n",
       " 28.020833333333332,\n",
       " 23.677083333333332,\n",
       " 27.677083333333332,\n",
       " 26.78125,\n",
       " 26.270833333333332,\n",
       " 19.114583333333332,\n",
       " 11.395833333333334,\n",
       " 13.270833333333334,\n",
       " 20.385416666666668,\n",
       " 22.083333333333332,\n",
       " 21.53125,\n",
       " 15.895833333333334,\n",
       " 19.885416666666668,\n",
       " 19.5625]"
      ]
     },
     "execution_count": 96,
     "metadata": {},
     "output_type": "execute_result"
    }
   ],
   "source": [
    "new_c0"
   ]
  },
  {
   "cell_type": "code",
   "execution_count": 97,
   "metadata": {},
   "outputs": [],
   "source": [
    "#normalisasi, karena gap nya ada yang sampe ribuan, biar lebih gampang tugas ann nya\n",
    "series=new_c0\n",
    "min = np.min(series)\n",
    "max = np.max(series)\n",
    "series = series - min\n",
    "series = series / (max-min)\n",
    "time = np.array(time)"
   ]
  },
  {
   "cell_type": "code",
   "execution_count": 98,
   "metadata": {},
   "outputs": [
    {
     "data": {
      "text/plain": [
       "array([0.76830443, 0.66666667, 0.67533719, 0.62042389, 0.78757225,\n",
       "       0.20327553, 0.91811175, 0.51396917, 0.89547206, 1.        ,\n",
       "       0.76878613, 0.56791908, 0.75289017, 0.71146435, 0.68786127,\n",
       "       0.35693642, 0.        , 0.0867052 , 0.41570328, 0.49421965,\n",
       "       0.46868979, 0.20809249, 0.39258189, 0.37764933])"
      ]
     },
     "execution_count": 98,
     "metadata": {},
     "output_type": "execute_result"
    }
   ],
   "source": [
    "series"
   ]
  },
  {
   "cell_type": "code",
   "execution_count": 99,
   "metadata": {},
   "outputs": [],
   "source": [
    "split_time = 3 # ini berapa bulan terkahir yang mau di potong buat pengujian?\n",
    "\n",
    "time_train = time[:-split_time]\n",
    "x_train =  series[:-split_time]\n",
    "time_valid =  time[-split_time:]\n",
    "x_valid =  series[-split_time:]"
   ]
  },
  {
   "cell_type": "code",
   "execution_count": 100,
   "metadata": {},
   "outputs": [],
   "source": [
    "#buat data biar dibagi per window, jadi me masang masangkan waktu dan value,\n",
    "window_size = 2\n",
    "batch_size = 2\n",
    "shuffle_buffer_size = 10\n",
    "\n",
    "train_set = windowed_dataset(x_train, window_size, batch_size, shuffle_buffer_size)\n",
    "valid_set = windowed_dataset(x_valid, window_size, batch_size, shuffle_buffer_size)"
   ]
  },
  {
   "cell_type": "code",
   "execution_count": 17,
   "metadata": {},
   "outputs": [],
   "source": [
    "model = tf.keras.Sequential([\n",
    "        tf.keras.layers.Dense(2, input_shape=[None, 1]),\n",
    "        tf.keras.layers.Bidirectional(tf.keras.layers.LSTM(64,return_sequences=True)),\n",
    "        tf.keras.layers.Bidirectional(tf.keras.layers.LSTM(32)),\n",
    "        # tf.keras.layers.Bidirectional(tf.keras.layers.LSTM(4)),\n",
    "        tf.keras.layers.Flatten(),\n",
    "        #tf.keras.layers.GlobalAveragePooling1D(),\n",
    "        tf.keras.layers.Dense(512, activation='relu', kernel_regularizer=tf.keras.regularizers.l1(l1=0.001)),\n",
    "        tf.keras.layers.Dropout(0.2),\n",
    "        tf.keras.layers.Dense(64, activation='relu', kernel_regularizer=tf.keras.regularizers.l1_l2(l1=0.001, l2=0.001)),\n",
    "        tf.keras.layers.Dense(32, activation='relu'),\n",
    "        tf.keras.layers.Dropout(0.3),\n",
    "        tf.keras.layers.Dense(1)\n",
    "    ])\n",
    "\n",
    "    #the blstm part"
   ]
  },
  {
   "cell_type": "code",
   "execution_count": 102,
   "metadata": {},
   "outputs": [
    {
     "name": "stdout",
     "output_type": "stream",
     "text": [
      "Model: \"sequential_6\"\n",
      "_________________________________________________________________\n",
      "Layer (type)                 Output Shape              Param #   \n",
      "=================================================================\n",
      "dense_30 (Dense)             (None, None, 2)           4         \n",
      "_________________________________________________________________\n",
      "bidirectional_12 (Bidirectio (None, None, 128)         34304     \n",
      "_________________________________________________________________\n",
      "bidirectional_13 (Bidirectio (None, 64)                41216     \n",
      "_________________________________________________________________\n",
      "flatten_6 (Flatten)          (None, 64)                0         \n",
      "_________________________________________________________________\n",
      "dense_31 (Dense)             (None, 512)               33280     \n",
      "_________________________________________________________________\n",
      "dropout_12 (Dropout)         (None, 512)               0         \n",
      "_________________________________________________________________\n",
      "dense_32 (Dense)             (None, 64)                32832     \n",
      "_________________________________________________________________\n",
      "dense_33 (Dense)             (None, 32)                2080      \n",
      "_________________________________________________________________\n",
      "dropout_13 (Dropout)         (None, 32)                0         \n",
      "_________________________________________________________________\n",
      "dense_34 (Dense)             (None, 1)                 33        \n",
      "=================================================================\n",
      "Total params: 143,749\n",
      "Trainable params: 143,749\n",
      "Non-trainable params: 0\n",
      "_________________________________________________________________\n",
      "Epoch 1/150\n",
      "1/1 [==============================] - 9s 9s/step - loss: 3.8994 - mae: 0.6715 - val_loss: 3.7303 - val_mae: 0.5191\n",
      "Epoch 2/150\n",
      "1/1 [==============================] - 0s 222ms/step - loss: 3.8240 - mae: 0.6627 - val_loss: 3.6553 - val_mae: 0.5097\n",
      "Epoch 3/150\n",
      "1/1 [==============================] - 0s 194ms/step - loss: 3.7361 - mae: 0.6442 - val_loss: 3.5798 - val_mae: 0.4980\n",
      "Epoch 4/150\n",
      "1/1 [==============================] - 0s 199ms/step - loss: 3.6453 - mae: 0.6214 - val_loss: 3.5047 - val_mae: 0.4848\n",
      "Epoch 5/150\n",
      "1/1 [==============================] - 0s 206ms/step - loss: 3.5886 - mae: 0.6242 - val_loss: 3.4303 - val_mae: 0.4712\n",
      "Epoch 6/150\n",
      "1/1 [==============================] - 0s 205ms/step - loss: 3.4935 - mae: 0.5950 - val_loss: 3.3557 - val_mae: 0.4559\n",
      "Epoch 7/150\n",
      "1/1 [==============================] - 0s 197ms/step - loss: 3.4668 - mae: 0.6211 - val_loss: 3.2826 - val_mae: 0.4407\n",
      "Epoch 8/150\n",
      "1/1 [==============================] - 0s 218ms/step - loss: 3.3287 - mae: 0.5525 - val_loss: 3.2089 - val_mae: 0.4234\n",
      "Epoch 9/150\n",
      "1/1 [==============================] - 0s 213ms/step - loss: 3.2643 - mae: 0.5453 - val_loss: 3.1351 - val_mae: 0.4054\n",
      "Epoch 10/150\n",
      "1/1 [==============================] - 0s 215ms/step - loss: 3.2069 - mae: 0.5438 - val_loss: 3.0610 - val_mae: 0.3856\n",
      "Epoch 11/150\n",
      "1/1 [==============================] - 0s 206ms/step - loss: 3.0611 - mae: 0.4526 - val_loss: 2.9866 - val_mae: 0.3631\n",
      "Epoch 12/150\n",
      "1/1 [==============================] - 0s 213ms/step - loss: 2.9996 - mae: 0.4441 - val_loss: 2.9119 - val_mae: 0.3396\n",
      "Epoch 13/150\n",
      "1/1 [==============================] - 0s 232ms/step - loss: 2.9125 - mae: 0.4040 - val_loss: 2.8376 - val_mae: 0.3163\n",
      "Epoch 14/150\n",
      "1/1 [==============================] - 0s 210ms/step - loss: 2.8952 - mae: 0.4449 - val_loss: 2.7644 - val_mae: 0.2912\n",
      "Epoch 15/150\n",
      "1/1 [==============================] - 0s 208ms/step - loss: 2.7472 - mae: 0.3179 - val_loss: 2.6930 - val_mae: 0.2638\n",
      "Epoch 16/150\n",
      "1/1 [==============================] - 0s 224ms/step - loss: 2.6881 - mae: 0.3037 - val_loss: 2.6248 - val_mae: 0.2359\n",
      "Epoch 17/150\n",
      "1/1 [==============================] - 0s 235ms/step - loss: 2.5908 - mae: 0.2105 - val_loss: 2.5610 - val_mae: 0.2064\n",
      "Epoch 18/150\n",
      "1/1 [==============================] - 0s 223ms/step - loss: 2.5054 - mae: 0.0878 - val_loss: 2.5036 - val_mae: 0.1854\n",
      "Epoch 19/150\n",
      "1/1 [==============================] - 0s 208ms/step - loss: 2.4521 - mae: 0.0512 - val_loss: 2.4535 - val_mae: 0.1822\n",
      "Epoch 20/150\n",
      "1/1 [==============================] - 0s 210ms/step - loss: 2.4636 - mae: 0.2497 - val_loss: 2.4127 - val_mae: 0.1899\n",
      "Epoch 21/150\n",
      "1/1 [==============================] - 0s 208ms/step - loss: 2.3539 - mae: 0.0052 - val_loss: 2.3805 - val_mae: 0.2165\n",
      "Epoch 22/150\n",
      "1/1 [==============================] - 0s 217ms/step - loss: 2.3200 - mae: 0.1154 - val_loss: 2.3595 - val_mae: 0.2608\n",
      "Epoch 23/150\n",
      "1/1 [==============================] - 0s 216ms/step - loss: 2.3425 - mae: 0.2875 - val_loss: 2.3256 - val_mae: 0.2806\n",
      "Epoch 24/150\n",
      "1/1 [==============================] - 0s 200ms/step - loss: 2.5045 - mae: 0.5401 - val_loss: 2.2680 - val_mae: 0.2634\n",
      "Epoch 25/150\n",
      "1/1 [==============================] - 0s 210ms/step - loss: 2.1725 - mae: 0.0767 - val_loss: 2.2115 - val_mae: 0.2468\n",
      "Epoch 26/150\n",
      "1/1 [==============================] - 0s 224ms/step - loss: 2.2223 - mae: 0.3184 - val_loss: 2.1610 - val_mae: 0.2371\n",
      "Epoch 27/150\n",
      "1/1 [==============================] - 0s 206ms/step - loss: 2.0946 - mae: 0.1360 - val_loss: 2.1093 - val_mae: 0.2236\n",
      "Epoch 28/150\n",
      "1/1 [==============================] - 0s 207ms/step - loss: 2.0647 - mae: 0.1817 - val_loss: 2.0573 - val_mae: 0.2098\n",
      "Epoch 29/150\n",
      "1/1 [==============================] - 0s 213ms/step - loss: 1.9879 - mae: 0.0130 - val_loss: 2.0082 - val_mae: 0.1993\n",
      "Epoch 30/150\n",
      "1/1 [==============================] - 0s 189ms/step - loss: 1.9444 - mae: 0.0099 - val_loss: 1.9615 - val_mae: 0.1914\n",
      "Epoch 31/150\n",
      "1/1 [==============================] - 0s 208ms/step - loss: 1.9032 - mae: 0.0440 - val_loss: 1.9162 - val_mae: 0.1880\n",
      "Epoch 32/150\n",
      "1/1 [==============================] - 0s 193ms/step - loss: 1.8607 - mae: 0.0445 - val_loss: 1.8723 - val_mae: 0.1877\n",
      "Epoch 33/150\n",
      "1/1 [==============================] - 0s 217ms/step - loss: 1.8175 - mae: 0.0283 - val_loss: 1.8298 - val_mae: 0.1877\n",
      "Epoch 34/150\n",
      "1/1 [==============================] - 0s 212ms/step - loss: 1.7752 - mae: 0.0086 - val_loss: 1.7885 - val_mae: 0.1877\n",
      "Epoch 35/150\n",
      "1/1 [==============================] - 0s 205ms/step - loss: 1.7456 - mae: 0.1077 - val_loss: 1.7484 - val_mae: 0.1876\n",
      "Epoch 36/150\n",
      "1/1 [==============================] - 0s 204ms/step - loss: 1.7091 - mae: 0.1253 - val_loss: 1.7099 - val_mae: 0.1895\n",
      "Epoch 37/150\n",
      "1/1 [==============================] - 0s 207ms/step - loss: 1.6571 - mae: 0.0608 - val_loss: 1.6723 - val_mae: 0.1931\n",
      "Epoch 38/150\n",
      "1/1 [==============================] - 0s 211ms/step - loss: 1.6191 - mae: 0.0721 - val_loss: 1.6359 - val_mae: 0.1984\n",
      "Epoch 39/150\n",
      "1/1 [==============================] - 0s 218ms/step - loss: 1.6008 - mae: 0.1613 - val_loss: 1.5994 - val_mae: 0.2030\n",
      "Epoch 40/150\n",
      "1/1 [==============================] - 0s 197ms/step - loss: 1.7361 - mae: 0.4470 - val_loss: 1.5626 - val_mae: 0.2051\n",
      "Epoch 41/150\n",
      "1/1 [==============================] - 0s 214ms/step - loss: 1.5112 - mae: 0.1126 - val_loss: 1.5257 - val_mae: 0.2057\n",
      "Epoch 42/150\n",
      "1/1 [==============================] - 0s 213ms/step - loss: 1.4788 - mae: 0.1322 - val_loss: 1.4885 - val_mae: 0.2045\n",
      "Epoch 43/150\n",
      "1/1 [==============================] - 0s 211ms/step - loss: 1.4591 - mae: 0.1855 - val_loss: 1.4512 - val_mae: 0.2016\n",
      "Epoch 44/150\n",
      "1/1 [==============================] - 0s 198ms/step - loss: 1.4027 - mae: 0.1185 - val_loss: 1.4143 - val_mae: 0.1981\n",
      "Epoch 45/150\n",
      "1/1 [==============================] - 0s 217ms/step - loss: 1.3562 - mae: 0.0545 - val_loss: 1.3780 - val_mae: 0.1952\n",
      "Epoch 46/150\n",
      "1/1 [==============================] - 0s 213ms/step - loss: 1.3266 - mae: 0.0906 - val_loss: 1.3425 - val_mae: 0.1927\n",
      "Epoch 47/150\n",
      "1/1 [==============================] - 0s 212ms/step - loss: 1.2904 - mae: 0.0786 - val_loss: 1.3078 - val_mae: 0.1911\n",
      "Epoch 48/150\n",
      "1/1 [==============================] - 0s 215ms/step - loss: 1.2542 - mae: 0.0602 - val_loss: 1.2739 - val_mae: 0.1904\n",
      "Epoch 49/150\n",
      "1/1 [==============================] - 0s 203ms/step - loss: 1.3445 - mae: 0.3564 - val_loss: 1.2413 - val_mae: 0.1908\n",
      "Epoch 50/150\n",
      "1/1 [==============================] - 0s 228ms/step - loss: 1.2108 - mae: 0.1598 - val_loss: 1.2095 - val_mae: 0.1911\n",
      "Epoch 51/150\n",
      "1/1 [==============================] - 0s 226ms/step - loss: 1.2125 - mae: 0.2431 - val_loss: 1.1788 - val_mae: 0.1916\n",
      "Epoch 52/150\n",
      "1/1 [==============================] - 0s 187ms/step - loss: 1.1740 - mae: 0.2274 - val_loss: 1.1493 - val_mae: 0.1921\n",
      "Epoch 53/150\n",
      "1/1 [==============================] - 0s 196ms/step - loss: 1.1031 - mae: 0.1066 - val_loss: 1.1212 - val_mae: 0.1933\n",
      "Epoch 54/150\n",
      "1/1 [==============================] - 0s 193ms/step - loss: 1.0651 - mae: 0.0570 - val_loss: 1.0943 - val_mae: 0.1960\n",
      "Epoch 55/150\n",
      "1/1 [==============================] - 0s 212ms/step - loss: 1.0387 - mae: 0.0794 - val_loss: 1.0690 - val_mae: 0.2022\n",
      "Epoch 56/150\n",
      "1/1 [==============================] - 0s 205ms/step - loss: 1.0039 - mae: 0.0222 - val_loss: 1.0440 - val_mae: 0.2093\n",
      "Epoch 57/150\n",
      "1/1 [==============================] - 0s 210ms/step - loss: 0.9839 - mae: 0.0954 - val_loss: 1.0206 - val_mae: 0.2178\n",
      "Epoch 58/150\n",
      "1/1 [==============================] - 0s 224ms/step - loss: 1.0320 - mae: 0.2922 - val_loss: 1.0001 - val_mae: 0.2290\n",
      "Epoch 59/150\n",
      "1/1 [==============================] - 0s 208ms/step - loss: 1.0839 - mae: 0.4058 - val_loss: 0.9703 - val_mae: 0.2257\n",
      "Epoch 60/150\n",
      "1/1 [==============================] - 0s 219ms/step - loss: 0.9303 - mae: 0.1964 - val_loss: 0.9433 - val_mae: 0.2252\n",
      "Epoch 61/150\n",
      "1/1 [==============================] - 0s 206ms/step - loss: 0.9108 - mae: 0.2142 - val_loss: 0.9129 - val_mae: 0.2188\n",
      "Epoch 62/150\n",
      "1/1 [==============================] - 0s 217ms/step - loss: 0.8847 - mae: 0.2151 - val_loss: 0.8814 - val_mae: 0.2085\n",
      "Epoch 63/150\n",
      "1/1 [==============================] - 0s 212ms/step - loss: 0.8193 - mae: 0.0826 - val_loss: 0.8514 - val_mae: 0.2002\n",
      "Epoch 64/150\n",
      "1/1 [==============================] - 0s 203ms/step - loss: 0.8160 - mae: 0.1697 - val_loss: 0.8244 - val_mae: 0.1981\n",
      "Epoch 65/150\n",
      "1/1 [==============================] - 0s 207ms/step - loss: 0.7639 - mae: 0.0352 - val_loss: 0.7985 - val_mae: 0.1967\n",
      "Epoch 66/150\n",
      "1/1 [==============================] - 0s 233ms/step - loss: 0.7441 - mae: 0.0744 - val_loss: 0.7740 - val_mae: 0.1959\n",
      "Epoch 67/150\n",
      "1/1 [==============================] - 0s 219ms/step - loss: 0.7190 - mae: 0.0636 - val_loss: 0.7505 - val_mae: 0.1955\n",
      "Epoch 68/150\n",
      "1/1 [==============================] - 0s 180ms/step - loss: 0.7012 - mae: 0.0967 - val_loss: 0.7275 - val_mae: 0.1950\n",
      "Epoch 69/150\n",
      "1/1 [==============================] - 0s 182ms/step - loss: 0.6783 - mae: 0.0945 - val_loss: 0.7052 - val_mae: 0.1946\n",
      "Epoch 70/150\n",
      "1/1 [==============================] - 0s 182ms/step - loss: 0.6783 - mae: 0.1764 - val_loss: 0.6838 - val_mae: 0.1945\n",
      "Epoch 71/150\n",
      "1/1 [==============================] - 0s 177ms/step - loss: 0.6699 - mae: 0.2105 - val_loss: 0.6628 - val_mae: 0.1946\n",
      "Epoch 72/150\n",
      "1/1 [==============================] - 0s 179ms/step - loss: 0.6050 - mae: 0.0230 - val_loss: 0.6423 - val_mae: 0.1947\n",
      "Epoch 73/150\n",
      "1/1 [==============================] - 0s 174ms/step - loss: 0.5844 - mae: 0.0243 - val_loss: 0.6223 - val_mae: 0.1948\n",
      "Epoch 74/150\n",
      "1/1 [==============================] - 0s 198ms/step - loss: 0.5740 - mae: 0.1012 - val_loss: 0.6030 - val_mae: 0.1950\n",
      "Epoch 75/150\n",
      "1/1 [==============================] - 0s 184ms/step - loss: 0.5931 - mae: 0.2212 - val_loss: 0.5840 - val_mae: 0.1951\n",
      "Epoch 76/150\n",
      "1/1 [==============================] - 0s 185ms/step - loss: 0.5435 - mae: 0.1353 - val_loss: 0.5655 - val_mae: 0.1951\n",
      "Epoch 77/150\n",
      "1/1 [==============================] - 0s 204ms/step - loss: 0.5224 - mae: 0.1248 - val_loss: 0.5476 - val_mae: 0.1951\n",
      "Epoch 78/150\n",
      "1/1 [==============================] - 0s 188ms/step - loss: 0.4912 - mae: 0.0468 - val_loss: 0.5303 - val_mae: 0.1953\n",
      "Epoch 79/150\n",
      "1/1 [==============================] - 0s 194ms/step - loss: 0.4736 - mae: 0.0424 - val_loss: 0.5137 - val_mae: 0.1955\n",
      "Epoch 80/150\n",
      "1/1 [==============================] - 0s 190ms/step - loss: 0.4560 - mae: 0.0293 - val_loss: 0.4977 - val_mae: 0.1958\n",
      "Epoch 81/150\n",
      "1/1 [==============================] - 0s 209ms/step - loss: 0.4481 - mae: 0.0949 - val_loss: 0.4823 - val_mae: 0.1961\n",
      "Epoch 82/150\n",
      "1/1 [==============================] - 0s 199ms/step - loss: 0.4700 - mae: 0.2153 - val_loss: 0.4680 - val_mae: 0.1970\n",
      "Epoch 83/150\n",
      "1/1 [==============================] - 0s 214ms/step - loss: 0.4151 - mae: 0.0784 - val_loss: 0.4539 - val_mae: 0.1975\n",
      "Epoch 84/150\n",
      "1/1 [==============================] - 0s 209ms/step - loss: 0.4258 - mae: 0.1767 - val_loss: 0.4409 - val_mae: 0.1985\n",
      "Epoch 85/150\n",
      "1/1 [==============================] - 0s 203ms/step - loss: 0.4198 - mae: 0.1977 - val_loss: 0.4290 - val_mae: 0.2002\n",
      "Epoch 86/150\n",
      "1/1 [==============================] - 0s 202ms/step - loss: 0.3768 - mae: 0.0960 - val_loss: 0.4170 - val_mae: 0.2012\n",
      "Epoch 87/150\n",
      "1/1 [==============================] - 0s 195ms/step - loss: 0.3611 - mae: 0.0801 - val_loss: 0.4058 - val_mae: 0.2023\n",
      "Epoch 88/150\n",
      "1/1 [==============================] - 0s 197ms/step - loss: 0.3427 - mae: 0.0206 - val_loss: 0.3948 - val_mae: 0.2031\n",
      "Epoch 89/150\n",
      "1/1 [==============================] - 0s 196ms/step - loss: 0.4144 - mae: 0.2899 - val_loss: 0.3813 - val_mae: 0.2021\n",
      "Epoch 90/150\n",
      "1/1 [==============================] - 0s 208ms/step - loss: 0.3375 - mae: 0.1385 - val_loss: 0.3680 - val_mae: 0.2005\n",
      "Epoch 91/150\n",
      "1/1 [==============================] - 0s 192ms/step - loss: 0.3221 - mae: 0.1237 - val_loss: 0.3559 - val_mae: 0.1986\n",
      "Epoch 92/150\n",
      "1/1 [==============================] - 0s 195ms/step - loss: 0.3705 - mae: 0.2729 - val_loss: 0.3454 - val_mae: 0.1980\n",
      "Epoch 93/150\n",
      "1/1 [==============================] - 0s 193ms/step - loss: 0.3034 - mae: 0.1324 - val_loss: 0.3358 - val_mae: 0.1978\n",
      "Epoch 94/150\n",
      "1/1 [==============================] - 0s 217ms/step - loss: 0.3523 - mae: 0.2756 - val_loss: 0.3270 - val_mae: 0.1981\n",
      "Epoch 95/150\n",
      "1/1 [==============================] - 0s 217ms/step - loss: 0.2722 - mae: 0.0688 - val_loss: 0.3187 - val_mae: 0.1984\n",
      "Epoch 96/150\n",
      "1/1 [==============================] - 0s 221ms/step - loss: 0.2596 - mae: 0.0234 - val_loss: 0.3108 - val_mae: 0.1987\n",
      "Epoch 97/150\n",
      "1/1 [==============================] - 0s 183ms/step - loss: 0.2758 - mae: 0.1573 - val_loss: 0.3035 - val_mae: 0.1992\n",
      "Epoch 98/150\n",
      "1/1 [==============================] - 0s 214ms/step - loss: 0.2668 - mae: 0.1525 - val_loss: 0.2971 - val_mae: 0.2000\n",
      "Epoch 99/150\n",
      "1/1 [==============================] - 0s 192ms/step - loss: 0.2389 - mae: 0.0468 - val_loss: 0.2912 - val_mae: 0.2007\n",
      "Epoch 100/150\n",
      "1/1 [==============================] - 0s 189ms/step - loss: 0.2452 - mae: 0.1219 - val_loss: 0.2852 - val_mae: 0.2008\n",
      "Epoch 101/150\n",
      "1/1 [==============================] - 0s 211ms/step - loss: 0.2552 - mae: 0.1756 - val_loss: 0.2790 - val_mae: 0.2002\n",
      "Epoch 102/150\n",
      "1/1 [==============================] - 0s 218ms/step - loss: 0.3009 - mae: 0.2868 - val_loss: 0.2740 - val_mae: 0.2001\n",
      "Epoch 103/150\n",
      "1/1 [==============================] - 0s 213ms/step - loss: 0.2137 - mae: 0.0078 - val_loss: 0.2694 - val_mae: 0.2000\n",
      "Epoch 104/150\n",
      "1/1 [==============================] - 0s 234ms/step - loss: 0.2122 - mae: 0.0567 - val_loss: 0.2650 - val_mae: 0.2001\n",
      "Epoch 105/150\n",
      "1/1 [==============================] - 0s 236ms/step - loss: 0.2106 - mae: 0.0772 - val_loss: 0.2610 - val_mae: 0.2004\n",
      "Epoch 106/150\n",
      "1/1 [==============================] - 0s 229ms/step - loss: 0.2156 - mae: 0.1230 - val_loss: 0.2575 - val_mae: 0.2010\n",
      "Epoch 107/150\n",
      "1/1 [==============================] - 0s 202ms/step - loss: 0.3277 - mae: 0.3620 - val_loss: 0.2547 - val_mae: 0.2025\n",
      "Epoch 108/150\n",
      "1/1 [==============================] - 0s 206ms/step - loss: 0.2420 - mae: 0.2209 - val_loss: 0.2528 - val_mae: 0.2043\n",
      "Epoch 109/150\n",
      "1/1 [==============================] - 0s 218ms/step - loss: 0.1931 - mae: 0.0554 - val_loss: 0.2505 - val_mae: 0.2057\n",
      "Epoch 110/150\n",
      "1/1 [==============================] - 0s 197ms/step - loss: 0.1882 - mae: 0.0405 - val_loss: 0.2483 - val_mae: 0.2070\n",
      "Epoch 111/150\n",
      "1/1 [==============================] - 0s 211ms/step - loss: 0.1994 - mae: 0.1282 - val_loss: 0.2469 - val_mae: 0.2087\n",
      "Epoch 112/150\n",
      "1/1 [==============================] - 0s 207ms/step - loss: 0.2214 - mae: 0.2046 - val_loss: 0.2428 - val_mae: 0.2088\n",
      "Epoch 113/150\n",
      "1/1 [==============================] - 0s 212ms/step - loss: 0.1786 - mae: 0.0553 - val_loss: 0.2383 - val_mae: 0.2085\n",
      "Epoch 114/150\n",
      "1/1 [==============================] - 0s 207ms/step - loss: 0.1847 - mae: 0.1138 - val_loss: 0.2348 - val_mae: 0.2087\n",
      "Epoch 115/150\n",
      "1/1 [==============================] - 0s 219ms/step - loss: 0.1701 - mae: 0.0438 - val_loss: 0.2310 - val_mae: 0.2087\n",
      "Epoch 116/150\n",
      "1/1 [==============================] - 0s 217ms/step - loss: 0.1683 - mae: 0.0605 - val_loss: 0.2271 - val_mae: 0.2083\n",
      "Epoch 117/150\n",
      "1/1 [==============================] - 0s 207ms/step - loss: 0.2110 - mae: 0.2229 - val_loss: 0.2243 - val_mae: 0.2087\n",
      "Epoch 118/150\n",
      "1/1 [==============================] - 0s 225ms/step - loss: 0.1817 - mae: 0.1531 - val_loss: 0.2226 - val_mae: 0.2096\n",
      "Epoch 119/150\n",
      "1/1 [==============================] - 0s 205ms/step - loss: 0.1557 - mae: 0.0115 - val_loss: 0.2208 - val_mae: 0.2103\n",
      "Epoch 120/150\n",
      "1/1 [==============================] - 0s 224ms/step - loss: 0.1635 - mae: 0.1024 - val_loss: 0.2180 - val_mae: 0.2104\n",
      "Epoch 121/150\n",
      "1/1 [==============================] - 0s 230ms/step - loss: 0.1508 - mae: 0.0207 - val_loss: 0.2150 - val_mae: 0.2103\n",
      "Epoch 122/150\n",
      "1/1 [==============================] - 0s 216ms/step - loss: 0.1599 - mae: 0.1106 - val_loss: 0.2112 - val_mae: 0.2095\n",
      "Epoch 123/150\n",
      "1/1 [==============================] - 0s 220ms/step - loss: 0.1530 - mae: 0.0895 - val_loss: 0.2073 - val_mae: 0.2084\n",
      "Epoch 124/150\n",
      "1/1 [==============================] - 0s 221ms/step - loss: 0.1899 - mae: 0.2179 - val_loss: 0.2045 - val_mae: 0.2081\n",
      "Epoch 125/150\n",
      "1/1 [==============================] - 0s 220ms/step - loss: 0.1401 - mae: 0.0084 - val_loss: 0.2018 - val_mae: 0.2079\n",
      "Epoch 126/150\n",
      "1/1 [==============================] - 0s 216ms/step - loss: 0.1415 - mae: 0.0630 - val_loss: 0.1994 - val_mae: 0.2079\n",
      "Epoch 127/150\n",
      "1/1 [==============================] - 0s 221ms/step - loss: 0.1357 - mae: 0.0233 - val_loss: 0.1973 - val_mae: 0.2081\n",
      "Epoch 128/150\n",
      "1/1 [==============================] - 0s 211ms/step - loss: 0.1903 - mae: 0.2394 - val_loss: 0.1960 - val_mae: 0.2089\n",
      "Epoch 129/150\n",
      "1/1 [==============================] - 0s 221ms/step - loss: 0.1339 - mae: 0.0541 - val_loss: 0.1951 - val_mae: 0.2099\n",
      "Epoch 130/150\n",
      "1/1 [==============================] - 0s 217ms/step - loss: 0.1300 - mae: 0.0263 - val_loss: 0.1939 - val_mae: 0.2106\n",
      "Epoch 131/150\n",
      "1/1 [==============================] - 0s 223ms/step - loss: 0.1620 - mae: 0.1857 - val_loss: 0.1911 - val_mae: 0.2100\n",
      "Epoch 132/150\n",
      "1/1 [==============================] - 0s 219ms/step - loss: 0.1318 - mae: 0.0798 - val_loss: 0.1880 - val_mae: 0.2091\n",
      "Epoch 133/150\n",
      "1/1 [==============================] - 0s 228ms/step - loss: 0.1354 - mae: 0.1097 - val_loss: 0.1858 - val_mae: 0.2087\n",
      "Epoch 134/150\n",
      "1/1 [==============================] - 0s 209ms/step - loss: 0.1229 - mae: 0.0380 - val_loss: 0.1834 - val_mae: 0.2081\n",
      "Epoch 135/150\n",
      "1/1 [==============================] - 0s 223ms/step - loss: 0.1196 - mae: 0.0077 - val_loss: 0.1812 - val_mae: 0.2075\n",
      "Epoch 136/150\n",
      "1/1 [==============================] - 0s 231ms/step - loss: 0.1181 - mae: 0.0215 - val_loss: 0.1791 - val_mae: 0.2069\n",
      "Epoch 137/150\n",
      "1/1 [==============================] - 0s 204ms/step - loss: 0.1158 - mae: 0.0043 - val_loss: 0.1771 - val_mae: 0.2064\n",
      "Epoch 138/150\n",
      "1/1 [==============================] - 0s 209ms/step - loss: 0.1198 - mae: 0.0766 - val_loss: 0.1753 - val_mae: 0.2062\n",
      "Epoch 139/150\n",
      "1/1 [==============================] - 0s 194ms/step - loss: 0.1487 - mae: 0.1911 - val_loss: 0.1739 - val_mae: 0.2066\n",
      "Epoch 140/150\n",
      "1/1 [==============================] - 0s 184ms/step - loss: 0.1107 - mae: 0.0096 - val_loss: 0.1726 - val_mae: 0.2070\n",
      "Epoch 141/150\n",
      "1/1 [==============================] - 0s 181ms/step - loss: 0.1096 - mae: 0.0217 - val_loss: 0.1712 - val_mae: 0.2072\n",
      "Epoch 142/150\n",
      "1/1 [==============================] - 0s 206ms/step - loss: 0.1186 - mae: 0.1042 - val_loss: 0.1701 - val_mae: 0.2077\n",
      "Epoch 143/150\n",
      "1/1 [==============================] - 0s 205ms/step - loss: 0.1504 - mae: 0.2097 - val_loss: 0.1695 - val_mae: 0.2087\n",
      "Epoch 144/150\n",
      "1/1 [==============================] - 0s 219ms/step - loss: 0.1118 - mae: 0.0799 - val_loss: 0.1692 - val_mae: 0.2099\n",
      "Epoch 145/150\n",
      "1/1 [==============================] - 0s 217ms/step - loss: 0.1541 - mae: 0.2228 - val_loss: 0.1698 - val_mae: 0.2117\n",
      "Epoch 146/150\n",
      "1/1 [==============================] - 0s 215ms/step - loss: 0.1065 - mae: 0.0515 - val_loss: 0.1706 - val_mae: 0.2134\n",
      "Epoch 147/150\n",
      "1/1 [==============================] - 0s 222ms/step - loss: 0.1235 - mae: 0.1427 - val_loss: 0.1698 - val_mae: 0.2139\n",
      "Epoch 148/150\n",
      "1/1 [==============================] - 0s 228ms/step - loss: 0.1075 - mae: 0.0749 - val_loss: 0.1682 - val_mae: 0.2139\n",
      "Epoch 149/150\n",
      "1/1 [==============================] - 0s 197ms/step - loss: 0.1098 - mae: 0.0967 - val_loss: 0.1673 - val_mae: 0.2143\n",
      "Epoch 150/150\n",
      "1/1 [==============================] - 0s 209ms/step - loss: 0.1045 - mae: 0.0723 - val_loss: 0.1658 - val_mae: 0.2142\n"
     ]
    }
   ],
   "source": [
    "#Using mae and mse\n",
    "model.compile(optimizer=tf.keras.optimizers.Adam(),metrics=['mae'],loss='mse')\n",
    "model.summary()\n",
    "hist=model.fit(valid_set,epochs=150,validation_data=train_set)"
   ]
  },
  {
   "cell_type": "code",
   "execution_count": 103,
   "metadata": {},
   "outputs": [
    {
     "data": {
      "image/png": "[encoded data removed]",
      "text/plain": [
       "<Figure size 432x288 with 1 Axes>"
      ]
     },
     "metadata": {
      "needs_background": "light"
     },
     "output_type": "display_data"
    }
   ],
   "source": [
    "import matplotlib.pyplot as plt\n",
    "plt.plot(hist.history['mae'], label='MAE (training data)')\n",
    "plt.plot(hist.history['val_mae'], label='MAE (validation data)')\n",
    "\n",
    "plt.ylabel('MAE value')\n",
    "plt.xlabel('No. epoch')\n",
    "plt.legend(loc=\"upper left\")\n",
    "plt.show()"
   ]
  },
  {
   "cell_type": "code",
   "execution_count": 104,
   "metadata": {},
   "outputs": [
    {
     "name": "stdout",
     "output_type": "stream",
     "text": [
      "WARNING:tensorflow:5 out of the last 5 calls to <function Model.make_predict_function.<locals>.predict_function at 0x000001E935E209D0> triggered tf.function retracing. Tracing is expensive and the excessive number of tracings could be due to (1) creating @tf.function repeatedly in a loop, (2) passing tensors with different shapes, (3) passing Python objects instead of tensors. For (1), please define your @tf.function outside of the loop. For (2), @tf.function has experimental_relax_shapes=True option that relaxes argument shapes that can avoid unnecessary retracing. For (3), please refer to https://www.tensorflow.org/guide/function#controlling_retracing and https://www.tensorflow.org/api_docs/python/tf/function for  more details.\n"
     ]
    },
    {
     "data": {
      "text/plain": [
       "array([[1.0907921],\n",
       "       [1.0933269],\n",
       "       [1.095494 ]], dtype=float32)"
      ]
     },
     "execution_count": 104,
     "metadata": {},
     "output_type": "execute_result"
    }
   ],
   "source": [
    "prediksi=model.predict([21, 22, 23])\n",
    "prediksi"
   ]
  },
  {
   "cell_type": "code",
   "execution_count": 105,
   "metadata": {},
   "outputs": [
    {
     "data": {
      "text/plain": [
       "[<matplotlib.lines.Line2D at 0x1e92f54b430>]"
      ]
     },
     "execution_count": 105,
     "metadata": {},
     "output_type": "execute_result"
    },
    {
     "data": {
      "image/png": "[encoded data removed]",
      "text/plain": [
       "<Figure size 432x288 with 1 Axes>"
      ]
     },
     "metadata": {
      "needs_background": "light"
     },
     "output_type": "display_data"
    }
   ],
   "source": [
    "#data asli\n",
    "series = series * (max-min)\n",
    "series = series + min\n",
    "plt.plot(series)"
   ]
  },
  {
   "cell_type": "code",
   "execution_count": 106,
   "metadata": {},
   "outputs": [
    {
     "data": {
      "text/plain": [
       "array([[34.98421],\n",
       "       [35.03903],\n",
       "       [35.08589]], dtype=float32)"
      ]
     },
     "execution_count": 106,
     "metadata": {},
     "output_type": "execute_result"
    }
   ],
   "source": [
    "prediksi = prediksi * (max-min)\n",
    "prediksi = prediksi + min\n",
    "prediksi"
   ]
  },
  {
   "cell_type": "code",
   "execution_count": 107,
   "metadata": {},
   "outputs": [],
   "source": [
    "prediksi=prediksi.flatten()"
   ]
  },
  {
   "cell_type": "code",
   "execution_count": 108,
   "metadata": {},
   "outputs": [],
   "source": [
    "hasil=np.concatenate((series[:-split_time],prediksi))"
   ]
  },
  {
   "cell_type": "code",
   "execution_count": 109,
   "metadata": {},
   "outputs": [
    {
     "data": {
      "text/plain": [
       "array([28.01041667, 25.8125    , 26.        , 24.8125    , 28.42708333,\n",
       "       15.79166667, 31.25      , 22.51041667, 30.76041667, 33.02083333,\n",
       "       28.02083333, 23.67708333, 27.67708333, 26.78125   , 26.27083333,\n",
       "       19.11458333, 11.39583333, 13.27083333, 20.38541667, 22.08333333,\n",
       "       21.53125   , 34.98421097, 35.03902817, 35.08589172])"
      ]
     },
     "execution_count": 109,
     "metadata": {},
     "output_type": "execute_result"
    }
   ],
   "source": [
    "hasil"
   ]
  },
  {
   "cell_type": "code",
   "execution_count": 110,
   "metadata": {},
   "outputs": [
    {
     "data": {
      "text/plain": [
       "[<matplotlib.lines.Line2D at 0x1e92aef2880>]"
      ]
     },
     "execution_count": 110,
     "metadata": {},
     "output_type": "execute_result"
    },
    {
     "data": {
      "image/png": "[encoded data removed]",
      "text/plain": [
       "<Figure size 432x288 with 1 Axes>"
      ]
     },
     "metadata": {
      "needs_background": "light"
     },
     "output_type": "display_data"
    }
   ],
   "source": [
    "#data prediksi\n",
    "plt.plot(hasil)"
   ]
  },
  {
   "cell_type": "code",
   "execution_count": 112,
   "metadata": {},
   "outputs": [],
   "source": [
    "model.save('cluster0.h5')"
   ]
  },
  {
   "cell_type": "markdown",
   "metadata": {},
   "source": [
    "# C1"
   ]
  },
  {
   "cell_type": "code",
   "execution_count": 128,
   "metadata": {},
   "outputs": [],
   "source": [
    "## do the same for the others, tapi karena yang lain punya beberapa anggota, nah itu di average dulu per tanggalnya\n",
    "c1=c1.drop(columns=['Kode Produk', 'Cluster'])"
   ]
  },
  {
   "cell_type": "code",
   "execution_count": 129,
   "metadata": {},
   "outputs": [],
   "source": [
    "#next, buat dia kayak mejeneng time series seperti biasanya, which is datanya ke bawah, tapi di average per tanggal \n",
    "new_c1=[]\n",
    "time=[]\n",
    "for idx,a in enumerate(c1):\n",
    "    new_c1.append(c1[a].mean())\n",
    "    time.append(idx)\n"
   ]
  },
  {
   "cell_type": "code",
   "execution_count": 130,
   "metadata": {},
   "outputs": [
    {
     "data": {
      "text/plain": [
       "[183.8,\n",
       " 191.73333333333332,\n",
       " 179.55555555555554,\n",
       " 181.24444444444444,\n",
       " 182.8,\n",
       " 137.6888888888889,\n",
       " 185.73333333333332,\n",
       " 194.46666666666667,\n",
       " 145.06666666666666,\n",
       " 143.48888888888888,\n",
       " 175.04444444444445,\n",
       " 122.86666666666666,\n",
       " 177.8,\n",
       " 147.6,\n",
       " 206.0222222222222,\n",
       " 141.9111111111111,\n",
       " 100.28888888888889,\n",
       " 101.15555555555555,\n",
       " 141.55555555555554,\n",
       " 105.88888888888889,\n",
       " 123.93333333333334,\n",
       " 183.64444444444445,\n",
       " 147.73333333333332,\n",
       " 135.24444444444444]"
      ]
     },
     "execution_count": 130,
     "metadata": {},
     "output_type": "execute_result"
    }
   ],
   "source": [
    "new_c1"
   ]
  },
  {
   "cell_type": "code",
   "execution_count": 131,
   "metadata": {},
   "outputs": [],
   "source": [
    "#normalisasi, karena gap nya ada yang sampe ribuan, biar lebih gampang tugas ann nya\n",
    "series=new_c1\n",
    "min = np.min(series)\n",
    "max = np.max(series)\n",
    "series = series - min\n",
    "series = series / (max-min)\n",
    "time = np.array(time)"
   ]
  },
  {
   "cell_type": "code",
   "execution_count": 132,
   "metadata": {},
   "outputs": [],
   "source": [
    "split_time = 3 # ini berapa bulan terkahir yang mau di potong buat pengujian?\n",
    "\n",
    "time_train = time[:-split_time]\n",
    "x_train =  series[:-split_time]\n",
    "time_valid =  time[-split_time:]\n",
    "x_valid =  series[-split_time:]"
   ]
  },
  {
   "cell_type": "code",
   "execution_count": 133,
   "metadata": {},
   "outputs": [],
   "source": [
    "#buat data biar dibagi per window, jadi me masang masangkan waktu dan value,\n",
    "window_size = 2\n",
    "batch_size = 2\n",
    "shuffle_buffer_size = 10\n",
    "\n",
    "train_set = windowed_dataset(x_train, window_size, batch_size, shuffle_buffer_size)\n",
    "valid_set = windowed_dataset(x_valid, window_size, batch_size, shuffle_buffer_size)"
   ]
  },
  {
   "cell_type": "code",
   "execution_count": 134,
   "metadata": {},
   "outputs": [],
   "source": [
    "model = tf.keras.Sequential([\n",
    "        tf.keras.layers.Dense(2, input_shape=[None, 1]),\n",
    "        tf.keras.layers.Bidirectional(tf.keras.layers.LSTM(64,return_sequences=True)),\n",
    "        tf.keras.layers.Bidirectional(tf.keras.layers.LSTM(32)),\n",
    "        # tf.keras.layers.Bidirectional(tf.keras.layers.LSTM(4)),\n",
    "        tf.keras.layers.Flatten(),\n",
    "        #tf.keras.layers.GlobalAveragePooling1D(),\n",
    "        tf.keras.layers.Dense(512, activation='relu', kernel_regularizer=tf.keras.regularizers.l1(l1=0.001)),\n",
    "        tf.keras.layers.Dropout(0.2),\n",
    "        tf.keras.layers.Dense(64, activation='relu', kernel_regularizer=tf.keras.regularizers.l1_l2(l1=0.001, l2=0.001)),\n",
    "        tf.keras.layers.Dense(32, activation='relu'),\n",
    "        tf.keras.layers.Dropout(0.3),\n",
    "        tf.keras.layers.Dense(1)\n",
    "    ])\n",
    "\n",
    "    #the blstm part"
   ]
  },
  {
   "cell_type": "code",
   "execution_count": 135,
   "metadata": {},
   "outputs": [
    {
     "name": "stdout",
     "output_type": "stream",
     "text": [
      "Model: \"sequential_8\"\n",
      "_________________________________________________________________\n",
      "Layer (type)                 Output Shape              Param #   \n",
      "=================================================================\n",
      "dense_40 (Dense)             (None, None, 2)           4         \n",
      "_________________________________________________________________\n",
      "bidirectional_16 (Bidirectio (None, None, 128)         34304     \n",
      "_________________________________________________________________\n",
      "bidirectional_17 (Bidirectio (None, 64)                41216     \n",
      "_________________________________________________________________\n",
      "flatten_8 (Flatten)          (None, 64)                0         \n",
      "_________________________________________________________________\n",
      "dense_41 (Dense)             (None, 512)               33280     \n",
      "_________________________________________________________________\n",
      "dropout_16 (Dropout)         (None, 512)               0         \n",
      "_________________________________________________________________\n",
      "dense_42 (Dense)             (None, 64)                32832     \n",
      "_________________________________________________________________\n",
      "dense_43 (Dense)             (None, 32)                2080      \n",
      "_________________________________________________________________\n",
      "dropout_17 (Dropout)         (None, 32)                0         \n",
      "_________________________________________________________________\n",
      "dense_44 (Dense)             (None, 1)                 33        \n",
      "=================================================================\n",
      "Total params: 143,749\n",
      "Trainable params: 143,749\n",
      "Non-trainable params: 0\n",
      "_________________________________________________________________\n",
      "Epoch 1/150\n",
      "1/1 [==============================] - 7s 7s/step - loss: 4.1135 - mae: 0.8101 - val_loss: 3.6779 - val_mae: 0.4483\n",
      "Epoch 2/150\n",
      "1/1 [==============================] - 0s 173ms/step - loss: 4.0336 - mae: 0.7973 - val_loss: 3.6025 - val_mae: 0.4326\n",
      "Epoch 3/150\n",
      "1/1 [==============================] - 0s 217ms/step - loss: 3.9298 - mae: 0.7679 - val_loss: 3.5299 - val_mae: 0.4176\n",
      "Epoch 4/150\n",
      "1/1 [==============================] - 0s 202ms/step - loss: 3.8268 - mae: 0.7371 - val_loss: 3.4562 - val_mae: 0.4004\n",
      "Epoch 5/150\n",
      "1/1 [==============================] - 0s 158ms/step - loss: 3.7010 - mae: 0.6878 - val_loss: 3.3827 - val_mae: 0.3823\n",
      "Epoch 6/150\n",
      "1/1 [==============================] - 0s 205ms/step - loss: 3.6449 - mae: 0.6865 - val_loss: 3.3089 - val_mae: 0.3617\n",
      "Epoch 7/150\n",
      "1/1 [==============================] - 0s 165ms/step - loss: 3.4587 - mae: 0.5818 - val_loss: 3.2345 - val_mae: 0.3374\n",
      "Epoch 8/150\n",
      "1/1 [==============================] - 0s 172ms/step - loss: 3.4630 - mae: 0.6287 - val_loss: 3.1616 - val_mae: 0.3109\n",
      "Epoch 9/150\n",
      "1/1 [==============================] - 0s 150ms/step - loss: 3.2947 - mae: 0.5276 - val_loss: 3.0900 - val_mae: 0.2839\n",
      "Epoch 10/150\n",
      "1/1 [==============================] - 0s 170ms/step - loss: 3.2340 - mae: 0.5177 - val_loss: 3.0205 - val_mae: 0.2546\n",
      "Epoch 11/150\n",
      "1/1 [==============================] - 0s 163ms/step - loss: 3.2300 - mae: 0.5600 - val_loss: 2.9539 - val_mae: 0.2320\n",
      "Epoch 12/150\n",
      "1/1 [==============================] - 0s 172ms/step - loss: 3.0276 - mae: 0.4000 - val_loss: 2.8926 - val_mae: 0.2255\n",
      "Epoch 13/150\n",
      "1/1 [==============================] - 0s 168ms/step - loss: 2.8717 - mae: 0.2289 - val_loss: 2.8393 - val_mae: 0.2315\n",
      "Epoch 14/150\n",
      "1/1 [==============================] - 0s 145ms/step - loss: 2.9017 - mae: 0.3607 - val_loss: 2.7976 - val_mae: 0.2473\n",
      "Epoch 15/150\n",
      "1/1 [==============================] - 0s 194ms/step - loss: 2.7267 - mae: 0.0576 - val_loss: 2.7669 - val_mae: 0.2650\n",
      "Epoch 16/150\n",
      "1/1 [==============================] - 0s 213ms/step - loss: 2.6776 - mae: 0.0576 - val_loss: 2.7463 - val_mae: 0.2897\n",
      "Epoch 17/150\n",
      "1/1 [==============================] - 0s 154ms/step - loss: 2.6332 - mae: 0.0576 - val_loss: 2.7370 - val_mae: 0.3239\n",
      "Epoch 18/150\n",
      "1/1 [==============================] - 0s 224ms/step - loss: 3.0385 - mae: 0.6745 - val_loss: 2.6858 - val_mae: 0.3187\n",
      "Epoch 19/150\n",
      "1/1 [==============================] - 0s 130ms/step - loss: 2.8031 - mae: 0.5157 - val_loss: 2.6197 - val_mae: 0.3014\n",
      "Epoch 20/150\n",
      "1/1 [==============================] - 0s 171ms/step - loss: 2.4920 - mae: 0.0576 - val_loss: 2.5586 - val_mae: 0.2869\n",
      "Epoch 21/150\n",
      "1/1 [==============================] - 0s 170ms/step - loss: 2.5051 - mae: 0.2443 - val_loss: 2.4984 - val_mae: 0.2736\n",
      "Epoch 22/150\n",
      "1/1 [==============================] - 0s 198ms/step - loss: 2.4137 - mae: 0.1162 - val_loss: 2.4419 - val_mae: 0.2634\n",
      "Epoch 23/150\n",
      "1/1 [==============================] - 0s 170ms/step - loss: 2.3812 - mae: 0.1609 - val_loss: 2.3888 - val_mae: 0.2547\n",
      "Epoch 24/150\n",
      "1/1 [==============================] - 0s 119ms/step - loss: 2.3206 - mae: 0.0986 - val_loss: 2.3400 - val_mae: 0.2478\n",
      "Epoch 25/150\n",
      "1/1 [==============================] - 0s 209ms/step - loss: 2.2880 - mae: 0.1448 - val_loss: 2.2941 - val_mae: 0.2427\n",
      "Epoch 26/150\n",
      "1/1 [==============================] - 0s 177ms/step - loss: 2.3577 - mae: 0.3662 - val_loss: 2.2503 - val_mae: 0.2402\n",
      "Epoch 27/150\n",
      "1/1 [==============================] - 0s 122ms/step - loss: 2.1842 - mae: 0.0595 - val_loss: 2.2072 - val_mae: 0.2377\n",
      "Epoch 28/150\n",
      "1/1 [==============================] - 0s 210ms/step - loss: 2.1383 - mae: 0.0576 - val_loss: 2.1649 - val_mae: 0.2355\n",
      "Epoch 29/150\n",
      "1/1 [==============================] - 0s 142ms/step - loss: 2.1655 - mae: 0.2632 - val_loss: 2.1234 - val_mae: 0.2345\n",
      "Epoch 30/150\n",
      "1/1 [==============================] - 0s 211ms/step - loss: 2.0558 - mae: 0.0576 - val_loss: 2.0825 - val_mae: 0.2335\n",
      "Epoch 31/150\n",
      "1/1 [==============================] - 0s 204ms/step - loss: 2.0828 - mae: 0.2627 - val_loss: 2.0421 - val_mae: 0.2335\n",
      "Epoch 32/150\n",
      "1/1 [==============================] - 0s 198ms/step - loss: 2.0554 - mae: 0.2865 - val_loss: 2.0023 - val_mae: 0.2346\n",
      "Epoch 33/150\n",
      "1/1 [==============================] - 0s 163ms/step - loss: 2.0546 - mae: 0.3479 - val_loss: 1.9633 - val_mae: 0.2366\n",
      "Epoch 34/150\n",
      "1/1 [==============================] - 0s 196ms/step - loss: 1.9065 - mae: 0.1109 - val_loss: 1.9250 - val_mae: 0.2390\n",
      "Epoch 35/150\n",
      "1/1 [==============================] - 0s 195ms/step - loss: 1.9771 - mae: 0.3488 - val_loss: 1.8880 - val_mae: 0.2429\n",
      "Epoch 36/150\n",
      "1/1 [==============================] - 0s 169ms/step - loss: 1.9566 - mae: 0.3734 - val_loss: 1.8527 - val_mae: 0.2480\n",
      "Epoch 37/150\n",
      "1/1 [==============================] - 0s 210ms/step - loss: 1.7950 - mae: 0.1240 - val_loss: 1.8190 - val_mae: 0.2535\n",
      "Epoch 38/150\n",
      "1/1 [==============================] - 0s 158ms/step - loss: 1.7428 - mae: 0.0576 - val_loss: 1.7865 - val_mae: 0.2586\n",
      "Epoch 39/150\n",
      "1/1 [==============================] - 0s 205ms/step - loss: 1.7081 - mae: 0.0576 - val_loss: 1.7552 - val_mae: 0.2637\n",
      "Epoch 40/150\n",
      "1/1 [==============================] - 0s 166ms/step - loss: 1.6901 - mae: 0.1435 - val_loss: 1.7261 - val_mae: 0.2696\n",
      "Epoch 41/150\n",
      "1/1 [==============================] - 0s 209ms/step - loss: 1.6341 - mae: 0.0576 - val_loss: 1.6980 - val_mae: 0.2759\n",
      "Epoch 42/150\n",
      "1/1 [==============================] - 0s 164ms/step - loss: 1.6070 - mae: 0.0914 - val_loss: 1.6690 - val_mae: 0.2813\n",
      "Epoch 43/150\n",
      "1/1 [==============================] - 0s 180ms/step - loss: 1.5638 - mae: 0.0576 - val_loss: 1.6401 - val_mae: 0.2862\n",
      "Epoch 44/150\n",
      "1/1 [==============================] - 0s 168ms/step - loss: 1.5316 - mae: 0.0576 - val_loss: 1.6120 - val_mae: 0.2918\n",
      "Epoch 45/150\n",
      "1/1 [==============================] - 0s 141ms/step - loss: 1.5030 - mae: 0.0887 - val_loss: 1.5822 - val_mae: 0.2955\n",
      "Epoch 46/150\n",
      "1/1 [==============================] - 0s 166ms/step - loss: 1.4667 - mae: 0.0733 - val_loss: 1.5538 - val_mae: 0.3003\n",
      "Epoch 47/150\n",
      "1/1 [==============================] - 0s 198ms/step - loss: 1.4488 - mae: 0.1436 - val_loss: 1.5277 - val_mae: 0.3066\n",
      "Epoch 48/150\n",
      "1/1 [==============================] - 0s 159ms/step - loss: 1.3979 - mae: 0.0576 - val_loss: 1.5001 - val_mae: 0.3110\n",
      "Epoch 49/150\n",
      "1/1 [==============================] - 0s 211ms/step - loss: 1.3725 - mae: 0.0991 - val_loss: 1.4701 - val_mae: 0.3129\n",
      "Epoch 50/150\n",
      "1/1 [==============================] - 0s 156ms/step - loss: 1.3705 - mae: 0.1997 - val_loss: 1.4348 - val_mae: 0.3097\n",
      "Epoch 51/150\n",
      "1/1 [==============================] - 0s 160ms/step - loss: 1.3825 - mae: 0.2891 - val_loss: 1.4043 - val_mae: 0.3101\n",
      "Epoch 52/150\n",
      "1/1 [==============================] - 0s 174ms/step - loss: 1.2702 - mae: 0.0576 - val_loss: 1.3749 - val_mae: 0.3111\n",
      "Epoch 53/150\n",
      "1/1 [==============================] - 0s 166ms/step - loss: 1.3430 - mae: 0.3248 - val_loss: 1.3365 - val_mae: 0.3037\n",
      "Epoch 54/150\n",
      "1/1 [==============================] - 0s 173ms/step - loss: 1.3397 - mae: 0.3639 - val_loss: 1.2918 - val_mae: 0.2899\n",
      "Epoch 55/150\n",
      "1/1 [==============================] - 0s 176ms/step - loss: 1.2145 - mae: 0.1920 - val_loss: 1.2487 - val_mae: 0.2773\n",
      "Epoch 56/150\n",
      "1/1 [==============================] - 0s 205ms/step - loss: 1.2144 - mae: 0.2567 - val_loss: 1.2073 - val_mae: 0.2659\n",
      "Epoch 57/150\n",
      "1/1 [==============================] - 0s 164ms/step - loss: 1.1212 - mae: 0.0576 - val_loss: 1.1710 - val_mae: 0.2564\n",
      "Epoch 58/150\n",
      "1/1 [==============================] - 0s 167ms/step - loss: 1.0945 - mae: 0.0576 - val_loss: 1.1388 - val_mae: 0.2491\n",
      "Epoch 59/150\n",
      "1/1 [==============================] - 0s 192ms/step - loss: 1.0676 - mae: 0.0576 - val_loss: 1.1091 - val_mae: 0.2423\n",
      "Epoch 60/150\n",
      "1/1 [==============================] - 0s 188ms/step - loss: 1.0507 - mae: 0.1125 - val_loss: 1.0817 - val_mae: 0.2371\n",
      "Epoch 61/150\n",
      "1/1 [==============================] - 0s 161ms/step - loss: 1.1105 - mae: 0.3147 - val_loss: 1.0555 - val_mae: 0.2343\n",
      "Epoch 62/150\n",
      "1/1 [==============================] - 0s 130ms/step - loss: 0.9885 - mae: 0.0576 - val_loss: 1.0300 - val_mae: 0.2323\n",
      "Epoch 63/150\n",
      "1/1 [==============================] - 0s 163ms/step - loss: 0.9932 - mae: 0.1828 - val_loss: 1.0049 - val_mae: 0.2315\n",
      "Epoch 64/150\n",
      "1/1 [==============================] - 0s 158ms/step - loss: 1.0128 - mae: 0.2795 - val_loss: 0.9803 - val_mae: 0.2318\n",
      "Epoch 65/150\n",
      "1/1 [==============================] - 0s 199ms/step - loss: 0.9403 - mae: 0.1741 - val_loss: 0.9560 - val_mae: 0.2331\n",
      "Epoch 66/150\n",
      "1/1 [==============================] - 0s 141ms/step - loss: 0.9782 - mae: 0.3039 - val_loss: 0.9324 - val_mae: 0.2356\n",
      "Epoch 67/150\n",
      "1/1 [==============================] - 0s 230ms/step - loss: 0.8760 - mae: 0.1176 - val_loss: 0.9097 - val_mae: 0.2391\n",
      "Epoch 68/150\n",
      "1/1 [==============================] - 0s 169ms/step - loss: 0.9024 - mae: 0.2519 - val_loss: 0.8885 - val_mae: 0.2435\n",
      "Epoch 69/150\n",
      "1/1 [==============================] - 0s 191ms/step - loss: 0.8475 - mae: 0.1755 - val_loss: 0.8688 - val_mae: 0.2483\n",
      "Epoch 70/150\n",
      "1/1 [==============================] - 0s 157ms/step - loss: 0.8790 - mae: 0.2896 - val_loss: 0.8515 - val_mae: 0.2543\n",
      "Epoch 71/150\n",
      "1/1 [==============================] - 0s 206ms/step - loss: 0.8165 - mae: 0.2056 - val_loss: 0.8366 - val_mae: 0.2617\n",
      "Epoch 72/150\n",
      "1/1 [==============================] - 0s 186ms/step - loss: 0.7701 - mae: 0.1264 - val_loss: 0.8244 - val_mae: 0.2698\n",
      "Epoch 73/150\n",
      "1/1 [==============================] - 0s 205ms/step - loss: 0.7400 - mae: 0.0745 - val_loss: 0.8123 - val_mae: 0.2765\n",
      "Epoch 74/150\n",
      "1/1 [==============================] - 0s 169ms/step - loss: 0.7373 - mae: 0.1490 - val_loss: 0.8029 - val_mae: 0.2844\n",
      "Epoch 75/150\n",
      "1/1 [==============================] - 0s 162ms/step - loss: 0.7020 - mae: 0.0761 - val_loss: 0.7928 - val_mae: 0.2918\n",
      "Epoch 76/150\n",
      "1/1 [==============================] - 0s 191ms/step - loss: 0.6792 - mae: 0.0576 - val_loss: 0.7822 - val_mae: 0.2986\n",
      "Epoch 77/150\n",
      "1/1 [==============================] - 0s 165ms/step - loss: 0.6821 - mae: 0.1506 - val_loss: 0.7679 - val_mae: 0.3017\n",
      "Epoch 78/150\n",
      "1/1 [==============================] - 0s 146ms/step - loss: 0.6544 - mae: 0.1132 - val_loss: 0.7509 - val_mae: 0.3023\n",
      "Epoch 79/150\n",
      "1/1 [==============================] - 0s 201ms/step - loss: 0.6240 - mae: 0.0576 - val_loss: 0.7342 - val_mae: 0.3029\n",
      "Epoch 80/150\n",
      "1/1 [==============================] - 0s 146ms/step - loss: 0.6098 - mae: 0.0576 - val_loss: 0.7163 - val_mae: 0.3023\n",
      "Epoch 81/150\n",
      "1/1 [==============================] - 0s 220ms/step - loss: 0.6073 - mae: 0.1336 - val_loss: 0.7012 - val_mae: 0.3034\n",
      "Epoch 82/150\n",
      "1/1 [==============================] - 0s 138ms/step - loss: 0.5750 - mae: 0.0576 - val_loss: 0.6853 - val_mae: 0.3035\n",
      "Epoch 83/150\n",
      "1/1 [==============================] - 0s 171ms/step - loss: 0.5577 - mae: 0.0576 - val_loss: 0.6701 - val_mae: 0.3038\n",
      "Epoch 84/150\n",
      "1/1 [==============================] - 0s 187ms/step - loss: 0.5567 - mae: 0.1235 - val_loss: 0.6525 - val_mae: 0.3018\n",
      "Epoch 85/150\n",
      "1/1 [==============================] - 0s 165ms/step - loss: 0.5268 - mae: 0.0576 - val_loss: 0.6360 - val_mae: 0.3001\n",
      "Epoch 86/150\n",
      "1/1 [==============================] - 0s 156ms/step - loss: 0.5470 - mae: 0.1873 - val_loss: 0.6163 - val_mae: 0.2951\n",
      "Epoch 87/150\n",
      "1/1 [==============================] - 0s 196ms/step - loss: 0.5047 - mae: 0.0822 - val_loss: 0.5992 - val_mae: 0.2918\n",
      "Epoch 88/150\n",
      "1/1 [==============================] - 0s 189ms/step - loss: 0.5111 - mae: 0.1628 - val_loss: 0.5800 - val_mae: 0.2864\n",
      "Epoch 89/150\n",
      "1/1 [==============================] - 0s 168ms/step - loss: 0.4880 - mae: 0.1281 - val_loss: 0.5605 - val_mae: 0.2809\n",
      "Epoch 90/150\n",
      "1/1 [==============================] - 0s 141ms/step - loss: 0.4787 - mae: 0.1404 - val_loss: 0.5411 - val_mae: 0.2748\n",
      "Epoch 91/150\n",
      "1/1 [==============================] - 0s 213ms/step - loss: 0.4557 - mae: 0.0932 - val_loss: 0.5248 - val_mae: 0.2702\n",
      "Epoch 92/150\n",
      "1/1 [==============================] - 0s 163ms/step - loss: 0.4663 - mae: 0.1754 - val_loss: 0.5113 - val_mae: 0.2675\n",
      "Epoch 93/150\n",
      "1/1 [==============================] - 0s 205ms/step - loss: 0.4786 - mae: 0.2323 - val_loss: 0.5001 - val_mae: 0.2666\n",
      "Epoch 94/150\n",
      "1/1 [==============================] - 0s 164ms/step - loss: 0.4156 - mae: 0.0576 - val_loss: 0.4898 - val_mae: 0.2662\n",
      "Epoch 95/150\n",
      "1/1 [==============================] - 0s 132ms/step - loss: 0.4347 - mae: 0.1744 - val_loss: 0.4812 - val_mae: 0.2671\n",
      "Epoch 96/150\n",
      "1/1 [==============================] - 0s 215ms/step - loss: 0.3964 - mae: 0.0576 - val_loss: 0.4733 - val_mae: 0.2682\n",
      "Epoch 97/150\n",
      "1/1 [==============================] - 0s 163ms/step - loss: 0.4916 - mae: 0.3248 - val_loss: 0.4618 - val_mae: 0.2648\n",
      "Epoch 98/150\n",
      "1/1 [==============================] - 0s 147ms/step - loss: 0.4522 - mae: 0.2733 - val_loss: 0.4527 - val_mae: 0.2636\n",
      "Epoch 99/150\n",
      "1/1 [==============================] - 0s 158ms/step - loss: 0.3695 - mae: 0.0576 - val_loss: 0.4442 - val_mae: 0.2624\n",
      "Epoch 100/150\n",
      "1/1 [==============================] - 0s 209ms/step - loss: 0.3884 - mae: 0.1628 - val_loss: 0.4375 - val_mae: 0.2627\n",
      "Epoch 101/150\n",
      "1/1 [==============================] - 0s 202ms/step - loss: 0.7251 - mae: 0.6084 - val_loss: 0.4326 - val_mae: 0.2643\n",
      "Epoch 102/150\n",
      "1/1 [==============================] - 0s 154ms/step - loss: 0.3695 - mae: 0.1438 - val_loss: 0.4291 - val_mae: 0.2669\n",
      "Epoch 103/150\n",
      "1/1 [==============================] - 0s 214ms/step - loss: 0.3653 - mae: 0.1486 - val_loss: 0.4272 - val_mae: 0.2704\n",
      "Epoch 104/150\n",
      "1/1 [==============================] - 0s 192ms/step - loss: 0.3387 - mae: 0.0576 - val_loss: 0.4249 - val_mae: 0.2732\n",
      "Epoch 105/150\n",
      "1/1 [==============================] - 0s 148ms/step - loss: 0.3332 - mae: 0.0576 - val_loss: 0.4226 - val_mae: 0.2756\n",
      "Epoch 106/150\n",
      "1/1 [==============================] - 0s 205ms/step - loss: 0.4280 - mae: 0.3157 - val_loss: 0.4227 - val_mae: 0.2797\n",
      "Epoch 107/150\n",
      "1/1 [==============================] - 0s 161ms/step - loss: 0.3337 - mae: 0.0994 - val_loss: 0.4207 - val_mae: 0.2821\n",
      "Epoch 108/150\n",
      "1/1 [==============================] - 0s 202ms/step - loss: 0.3198 - mae: 0.0576 - val_loss: 0.4186 - val_mae: 0.2843\n",
      "Epoch 109/150\n",
      "1/1 [==============================] - 0s 189ms/step - loss: 0.3399 - mae: 0.1605 - val_loss: 0.4130 - val_mae: 0.2840\n",
      "Epoch 110/150\n",
      "1/1 [==============================] - 0s 211ms/step - loss: 0.3123 - mae: 0.0578 - val_loss: 0.4081 - val_mae: 0.2843\n",
      "Epoch 111/150\n",
      "1/1 [==============================] - 0s 160ms/step - loss: 0.4127 - mae: 0.3300 - val_loss: 0.4062 - val_mae: 0.2865\n",
      "Epoch 112/150\n",
      "1/1 [==============================] - 0s 184ms/step - loss: 0.3132 - mae: 0.1192 - val_loss: 0.4057 - val_mae: 0.2896\n",
      "Epoch 113/150\n",
      "1/1 [==============================] - 0s 197ms/step - loss: 0.2979 - mae: 0.0589 - val_loss: 0.4059 - val_mae: 0.2937\n",
      "Epoch 114/150\n",
      "1/1 [==============================] - 0s 170ms/step - loss: 0.3249 - mae: 0.1868 - val_loss: 0.4087 - val_mae: 0.3000\n",
      "Epoch 115/150\n",
      "1/1 [==============================] - 0s 204ms/step - loss: 0.3159 - mae: 0.1732 - val_loss: 0.4065 - val_mae: 0.3019\n",
      "Epoch 116/150\n",
      "1/1 [==============================] - 0s 161ms/step - loss: 0.3481 - mae: 0.2582 - val_loss: 0.3973 - val_mae: 0.2979\n",
      "Epoch 117/150\n",
      "1/1 [==============================] - 0s 207ms/step - loss: 0.2826 - mae: 0.0759 - val_loss: 0.3876 - val_mae: 0.2930\n",
      "Epoch 118/150\n",
      "1/1 [==============================] - 0s 179ms/step - loss: 0.2957 - mae: 0.1521 - val_loss: 0.3765 - val_mae: 0.2874\n",
      "Epoch 119/150\n",
      "1/1 [==============================] - 0s 161ms/step - loss: 0.2972 - mae: 0.1691 - val_loss: 0.3644 - val_mae: 0.2808\n",
      "Epoch 120/150\n",
      "1/1 [==============================] - 0s 155ms/step - loss: 0.2662 - mae: 0.0576 - val_loss: 0.3541 - val_mae: 0.2747\n",
      "Epoch 121/150\n",
      "1/1 [==============================] - 0s 194ms/step - loss: 0.2831 - mae: 0.1472 - val_loss: 0.3442 - val_mae: 0.2676\n",
      "Epoch 122/150\n",
      "1/1 [==============================] - 0s 173ms/step - loss: 0.2584 - mae: 0.0576 - val_loss: 0.3362 - val_mae: 0.2613\n",
      "Epoch 123/150\n",
      "1/1 [==============================] - 0s 170ms/step - loss: 0.2563 - mae: 0.0576 - val_loss: 0.3297 - val_mae: 0.2563\n",
      "Epoch 124/150\n",
      "1/1 [==============================] - 0s 199ms/step - loss: 0.2525 - mae: 0.0576 - val_loss: 0.3243 - val_mae: 0.2524\n",
      "Epoch 125/150\n",
      "1/1 [==============================] - 0s 157ms/step - loss: 0.3354 - mae: 0.2958 - val_loss: 0.3201 - val_mae: 0.2510\n",
      "Epoch 126/150\n",
      "1/1 [==============================] - 0s 177ms/step - loss: 0.2738 - mae: 0.1718 - val_loss: 0.3167 - val_mae: 0.2513\n",
      "Epoch 127/150\n",
      "1/1 [==============================] - 0s 180ms/step - loss: 0.3007 - mae: 0.2447 - val_loss: 0.3143 - val_mae: 0.2532\n",
      "Epoch 128/150\n",
      "1/1 [==============================] - 0s 135ms/step - loss: 0.2442 - mae: 0.0816 - val_loss: 0.3123 - val_mae: 0.2556\n",
      "Epoch 129/150\n",
      "1/1 [==============================] - 0s 197ms/step - loss: 0.2580 - mae: 0.1536 - val_loss: 0.3111 - val_mae: 0.2588\n",
      "Epoch 130/150\n",
      "1/1 [==============================] - 0s 197ms/step - loss: 0.3068 - mae: 0.2746 - val_loss: 0.3114 - val_mae: 0.2634\n",
      "Epoch 131/150\n",
      "1/1 [==============================] - 0s 183ms/step - loss: 0.2440 - mae: 0.1237 - val_loss: 0.3130 - val_mae: 0.2685\n",
      "Epoch 132/150\n",
      "1/1 [==============================] - 0s 207ms/step - loss: 0.3264 - mae: 0.3162 - val_loss: 0.3170 - val_mae: 0.2749\n",
      "Epoch 133/150\n",
      "1/1 [==============================] - 0s 173ms/step - loss: 0.2527 - mae: 0.1678 - val_loss: 0.3232 - val_mae: 0.2821\n",
      "Epoch 134/150\n",
      "1/1 [==============================] - 0s 202ms/step - loss: 0.2231 - mae: 0.0576 - val_loss: 0.3294 - val_mae: 0.2884\n",
      "Epoch 135/150\n",
      "1/1 [==============================] - 0s 172ms/step - loss: 0.2215 - mae: 0.0576 - val_loss: 0.3353 - val_mae: 0.2940\n",
      "Epoch 136/150\n",
      "1/1 [==============================] - 0s 128ms/step - loss: 0.2240 - mae: 0.0660 - val_loss: 0.3392 - val_mae: 0.2993\n",
      "Epoch 137/150\n",
      "1/1 [==============================] - 0s 212ms/step - loss: 0.2273 - mae: 0.0986 - val_loss: 0.3401 - val_mae: 0.3022\n",
      "Epoch 138/150\n",
      "1/1 [==============================] - 0s 160ms/step - loss: 0.2873 - mae: 0.2683 - val_loss: 0.3332 - val_mae: 0.2987\n",
      "Epoch 139/150\n",
      "1/1 [==============================] - 0s 214ms/step - loss: 0.2132 - mae: 0.0576 - val_loss: 0.3272 - val_mae: 0.2957\n",
      "Epoch 140/150\n",
      "1/1 [==============================] - 0s 176ms/step - loss: 0.2138 - mae: 0.0651 - val_loss: 0.3226 - val_mae: 0.2943\n",
      "Epoch 141/150\n",
      "1/1 [==============================] - 0s 168ms/step - loss: 0.2257 - mae: 0.1376 - val_loss: 0.3201 - val_mae: 0.2943\n",
      "Epoch 142/150\n",
      "1/1 [==============================] - 0s 158ms/step - loss: 0.2410 - mae: 0.1918 - val_loss: 0.3133 - val_mae: 0.2917\n",
      "Epoch 143/150\n",
      "1/1 [==============================] - 0s 214ms/step - loss: 0.2471 - mae: 0.2139 - val_loss: 0.3035 - val_mae: 0.2864\n",
      "Epoch 144/150\n",
      "1/1 [==============================] - 0s 158ms/step - loss: 0.1998 - mae: 0.0576 - val_loss: 0.2949 - val_mae: 0.2815\n",
      "Epoch 145/150\n",
      "1/1 [==============================] - 0s 163ms/step - loss: 0.3215 - mae: 0.3543 - val_loss: 0.2900 - val_mae: 0.2793\n",
      "Epoch 146/150\n",
      "1/1 [==============================] - 0s 191ms/step - loss: 0.1939 - mae: 0.0576 - val_loss: 0.2854 - val_mae: 0.2772\n",
      "Epoch 147/150\n",
      "1/1 [==============================] - 0s 175ms/step - loss: 0.2094 - mae: 0.1348 - val_loss: 0.2824 - val_mae: 0.2765\n",
      "Epoch 148/150\n",
      "1/1 [==============================] - 0s 188ms/step - loss: 0.2424 - mae: 0.2313 - val_loss: 0.2813 - val_mae: 0.2776\n",
      "Epoch 149/150\n",
      "1/1 [==============================] - 0s 157ms/step - loss: 0.2006 - mae: 0.1180 - val_loss: 0.2787 - val_mae: 0.2772\n",
      "Epoch 150/150\n",
      "1/1 [==============================] - 0s 211ms/step - loss: 0.1920 - mae: 0.0869 - val_loss: 0.2768 - val_mae: 0.2776\n"
     ]
    }
   ],
   "source": [
    "#Using mae and mse\n",
    "model.compile(optimizer=tf.keras.optimizers.Adam(),metrics=['mae'],loss='mse')\n",
    "model.summary()\n",
    "hist=model.fit(valid_set,epochs=150,validation_data=train_set)"
   ]
  },
  {
   "cell_type": "code",
   "execution_count": 136,
   "metadata": {},
   "outputs": [
    {
     "data": {
      "image/png": "[encoded data removed]",
      "text/plain": [
       "<Figure size 432x288 with 1 Axes>"
      ]
     },
     "metadata": {
      "needs_background": "light"
     },
     "output_type": "display_data"
    }
   ],
   "source": [
    "plt.plot(hist.history['mae'], label='MAE (training data)')\n",
    "plt.plot(hist.history['val_mae'], label='MAE (validation data)')\n",
    "\n",
    "plt.ylabel('MAE value')\n",
    "plt.xlabel('No. epoch')\n",
    "plt.legend(loc=\"upper left\")\n",
    "plt.show()"
   ]
  },
  {
   "cell_type": "code",
   "execution_count": 137,
   "metadata": {},
   "outputs": [
    {
     "data": {
      "image/png": "[encoded data removed]",
      "text/plain": [
       "<Figure size 432x288 with 1 Axes>"
      ]
     },
     "metadata": {
      "needs_background": "light"
     },
     "output_type": "display_data"
    }
   ],
   "source": [
    "plt.plot(hist.history['loss'], label='loss (training data)')\n",
    "plt.plot(hist.history['val_loss'], label='loss (validation data)')\n",
    "\n",
    "plt.ylabel('MAE value')\n",
    "plt.xlabel('No. epoch')\n",
    "plt.legend(loc=\"upper left\")\n",
    "plt.show()"
   ]
  },
  {
   "cell_type": "code",
   "execution_count": 138,
   "metadata": {},
   "outputs": [
    {
     "name": "stdout",
     "output_type": "stream",
     "text": [
      "WARNING:tensorflow:6 out of the last 6 calls to <function Model.make_predict_function.<locals>.predict_function at 0x000001E931917430> triggered tf.function retracing. Tracing is expensive and the excessive number of tracings could be due to (1) creating @tf.function repeatedly in a loop, (2) passing tensors with different shapes, (3) passing Python objects instead of tensors. For (1), please define your @tf.function outside of the loop. For (2), @tf.function has experimental_relax_shapes=True option that relaxes argument shapes that can avoid unnecessary retracing. For (3), please refer to https://www.tensorflow.org/guide/function#controlling_retracing and https://www.tensorflow.org/api_docs/python/tf/function for  more details.\n"
     ]
    },
    {
     "data": {
      "text/plain": [
       "array([[1.0382313],\n",
       "       [1.0362958],\n",
       "       [1.0342647]], dtype=float32)"
      ]
     },
     "execution_count": 138,
     "metadata": {},
     "output_type": "execute_result"
    }
   ],
   "source": [
    "prediksi=model.predict([21, 22, 23])\n",
    "prediksi"
   ]
  },
  {
   "cell_type": "code",
   "execution_count": 139,
   "metadata": {},
   "outputs": [
    {
     "data": {
      "text/plain": [
       "[<matplotlib.lines.Line2D at 0x1e795e30f70>]"
      ]
     },
     "execution_count": 139,
     "metadata": {},
     "output_type": "execute_result"
    },
    {
     "data": {
      "image/png": "[encoded data removed]",
      "text/plain": [
       "<Figure size 432x288 with 1 Axes>"
      ]
     },
     "metadata": {
      "needs_background": "light"
     },
     "output_type": "display_data"
    }
   ],
   "source": [
    "#data asli\n",
    "series = series * (max-min)\n",
    "series = series + min\n",
    "plt.plot(series)"
   ]
  },
  {
   "cell_type": "code",
   "execution_count": 140,
   "metadata": {},
   "outputs": [
    {
     "data": {
      "text/plain": [
       "array([[210.06454],\n",
       "       [209.8599 ],\n",
       "       [209.64514]], dtype=float32)"
      ]
     },
     "execution_count": 140,
     "metadata": {},
     "output_type": "execute_result"
    }
   ],
   "source": [
    "prediksi = prediksi * (max-min)\n",
    "prediksi = prediksi + min\n",
    "prediksi"
   ]
  },
  {
   "cell_type": "code",
   "execution_count": 141,
   "metadata": {},
   "outputs": [],
   "source": [
    "prediksi=prediksi.flatten()"
   ]
  },
  {
   "cell_type": "code",
   "execution_count": 142,
   "metadata": {},
   "outputs": [],
   "source": [
    "hasil=np.concatenate((series[:-split_time],prediksi))"
   ]
  },
  {
   "cell_type": "code",
   "execution_count": 143,
   "metadata": {},
   "outputs": [
    {
     "data": {
      "text/plain": [
       "array([183.8       , 191.73333333, 179.55555556, 181.24444444,\n",
       "       182.8       , 137.68888889, 185.73333333, 194.46666667,\n",
       "       145.06666667, 143.48888889, 175.04444444, 122.86666667,\n",
       "       177.8       , 147.6       , 206.02222222, 141.91111111,\n",
       "       100.28888889, 101.15555556, 141.55555556, 105.88888889,\n",
       "       123.93333333, 210.06454468, 209.8598938 , 209.6451416 ])"
      ]
     },
     "execution_count": 143,
     "metadata": {},
     "output_type": "execute_result"
    }
   ],
   "source": [
    "hasil"
   ]
  },
  {
   "cell_type": "code",
   "execution_count": 144,
   "metadata": {},
   "outputs": [
    {
     "data": {
      "text/plain": [
       "[<matplotlib.lines.Line2D at 0x1e92af48b50>]"
      ]
     },
     "execution_count": 144,
     "metadata": {},
     "output_type": "execute_result"
    },
    {
     "data": {
      "image/png": "[encoded data removed]",
      "text/plain": [
       "<Figure size 432x288 with 1 Axes>"
      ]
     },
     "metadata": {
      "needs_background": "light"
     },
     "output_type": "display_data"
    }
   ],
   "source": [
    "#data prediksi\n",
    "plt.plot(hasil)"
   ]
  },
  {
   "cell_type": "code",
   "execution_count": 145,
   "metadata": {},
   "outputs": [],
   "source": [
    "model.save('cluster1.h5')"
   ]
  },
  {
   "cell_type": "markdown",
   "metadata": {},
   "source": [
    "# C3"
   ]
  },
  {
   "cell_type": "code",
   "execution_count": 149,
   "metadata": {},
   "outputs": [],
   "source": [
    "## do the same for the others, tapi karena yang lain punya beberapa anggota, nah itu di average dulu per tanggalnya\n",
    "c3=c3.drop(columns=['Kode Produk', 'Cluster'])"
   ]
  },
  {
   "cell_type": "code",
   "execution_count": 150,
   "metadata": {},
   "outputs": [],
   "source": [
    "#next, buat dia kayak mejeneng time series seperti biasanya, which is datanya ke bawah, tapi di average per tanggal \n",
    "new_c3=[]\n",
    "time=[]\n",
    "for idx,a in enumerate(c3):\n",
    "    new_c3.append(c3[a].mean())\n",
    "    time.append(idx)"
   ]
  },
  {
   "cell_type": "code",
   "execution_count": 151,
   "metadata": {},
   "outputs": [
    {
     "data": {
      "text/plain": [
       "[1844.6666666666667,\n",
       " 2857.0,\n",
       " 2156.6666666666665,\n",
       " 2060.6666666666665,\n",
       " 2336.3333333333335,\n",
       " 2655.3333333333335,\n",
       " 2044.0,\n",
       " 2490.6666666666665,\n",
       " 1824.3333333333333,\n",
       " 2065.3333333333335,\n",
       " 2837.3333333333335,\n",
       " 1107.0,\n",
       " 138.66666666666666,\n",
       " 113.33333333333333,\n",
       " 68.0,\n",
       " 44.333333333333336,\n",
       " 194.66666666666666,\n",
       " 68.0,\n",
       " 74.66666666666667,\n",
       " 91.66666666666667,\n",
       " 145.66666666666666,\n",
       " 110.0,\n",
       " 114.0,\n",
       " 64.66666666666667]"
      ]
     },
     "execution_count": 151,
     "metadata": {},
     "output_type": "execute_result"
    }
   ],
   "source": [
    "new_c3"
   ]
  },
  {
   "cell_type": "code",
   "execution_count": 152,
   "metadata": {},
   "outputs": [],
   "source": [
    "#normalisasi, karena gap nya ada yang sampe ribuan, biar lebih gampang tugas ann nya\n",
    "series=new_c3\n",
    "min = np.min(series)\n",
    "max = np.max(series)\n",
    "series = series - min\n",
    "series = series / (max-min)\n",
    "time = np.array(time)"
   ]
  },
  {
   "cell_type": "code",
   "execution_count": 153,
   "metadata": {},
   "outputs": [],
   "source": [
    "split_time = 3 # ini berapa bulan terkahir yang mau di potong buat pengujian?\n",
    "\n",
    "time_train = time[:-split_time]\n",
    "x_train =  series[:-split_time]\n",
    "time_valid =  time[-split_time:]\n",
    "x_valid =  series[-split_time:]"
   ]
  },
  {
   "cell_type": "code",
   "execution_count": 154,
   "metadata": {},
   "outputs": [],
   "source": [
    "#buat data biar dibagi per window, jadi me masang masangkan waktu dan value,\n",
    "window_size = 2\n",
    "batch_size = 2\n",
    "shuffle_buffer_size = 10\n",
    "\n",
    "train_set = windowed_dataset(x_train, window_size, batch_size, shuffle_buffer_size)\n",
    "valid_set = windowed_dataset(x_valid, window_size, batch_size, shuffle_buffer_size)"
   ]
  },
  {
   "cell_type": "code",
   "execution_count": 155,
   "metadata": {},
   "outputs": [],
   "source": [
    "model = tf.keras.Sequential([\n",
    "        tf.keras.layers.Dense(2, input_shape=[None, 1]),\n",
    "        tf.keras.layers.Bidirectional(tf.keras.layers.LSTM(64,return_sequences=True)),\n",
    "        tf.keras.layers.Bidirectional(tf.keras.layers.LSTM(32)),\n",
    "        # tf.keras.layers.Bidirectional(tf.keras.layers.LSTM(4)),\n",
    "        tf.keras.layers.Flatten(),\n",
    "        #tf.keras.layers.GlobalAveragePooling1D(),\n",
    "        tf.keras.layers.Dense(512, activation='relu', kernel_regularizer=tf.keras.regularizers.l1(l1=0.001)),\n",
    "        tf.keras.layers.Dropout(0.2),\n",
    "        tf.keras.layers.Dense(64, activation='relu', kernel_regularizer=tf.keras.regularizers.l1_l2(l1=0.001, l2=0.001)),\n",
    "        tf.keras.layers.Dense(32, activation='relu'),\n",
    "        tf.keras.layers.Dropout(0.3),\n",
    "        tf.keras.layers.Dense(1)\n",
    "    ])\n",
    "\n",
    "    #the blstm part"
   ]
  },
  {
   "cell_type": "code",
   "execution_count": 156,
   "metadata": {},
   "outputs": [
    {
     "name": "stdout",
     "output_type": "stream",
     "text": [
      "Model: \"sequential_9\"\n",
      "_________________________________________________________________\n",
      "Layer (type)                 Output Shape              Param #   \n",
      "=================================================================\n",
      "dense_45 (Dense)             (None, None, 2)           4         \n",
      "_________________________________________________________________\n",
      "bidirectional_18 (Bidirectio (None, None, 128)         34304     \n",
      "_________________________________________________________________\n",
      "bidirectional_19 (Bidirectio (None, 64)                41216     \n",
      "_________________________________________________________________\n",
      "flatten_9 (Flatten)          (None, 64)                0         \n",
      "_________________________________________________________________\n",
      "dense_46 (Dense)             (None, 512)               33280     \n",
      "_________________________________________________________________\n",
      "dropout_18 (Dropout)         (None, 512)               0         \n",
      "_________________________________________________________________\n",
      "dense_47 (Dense)             (None, 64)                32832     \n",
      "_________________________________________________________________\n",
      "dense_48 (Dense)             (None, 32)                2080      \n",
      "_________________________________________________________________\n",
      "dropout_19 (Dropout)         (None, 32)                0         \n",
      "_________________________________________________________________\n",
      "dense_49 (Dense)             (None, 1)                 33        \n",
      "=================================================================\n",
      "Total params: 143,749\n",
      "Trainable params: 143,749\n",
      "Non-trainable params: 0\n",
      "_________________________________________________________________\n",
      "Epoch 1/150\n",
      "1/1 [==============================] - 7s 7s/step - loss: 4.2524 - mae: 0.8840 - val_loss: 3.6296 - val_mae: 0.3064\n",
      "Epoch 2/150\n",
      "1/1 [==============================] - 0s 189ms/step - loss: 4.1720 - mae: 0.8728 - val_loss: 3.5635 - val_mae: 0.3010\n",
      "Epoch 3/150\n",
      "1/1 [==============================] - 0s 163ms/step - loss: 4.0864 - mae: 0.8588 - val_loss: 3.4983 - val_mae: 0.2966\n",
      "Epoch 4/150\n",
      "1/1 [==============================] - 0s 219ms/step - loss: 4.0144 - mae: 0.8521 - val_loss: 3.4332 - val_mae: 0.2923\n",
      "Epoch 5/150\n",
      "1/1 [==============================] - 0s 199ms/step - loss: 3.9567 - mae: 0.8533 - val_loss: 3.3686 - val_mae: 0.2891\n",
      "Epoch 6/150\n",
      "1/1 [==============================] - 0s 208ms/step - loss: 3.8759 - mae: 0.8407 - val_loss: 3.3044 - val_mae: 0.2877\n",
      "Epoch 7/150\n",
      "1/1 [==============================] - 0s 214ms/step - loss: 3.7739 - mae: 0.8147 - val_loss: 3.2406 - val_mae: 0.2868\n",
      "Epoch 8/150\n",
      "1/1 [==============================] - 0s 203ms/step - loss: 3.7351 - mae: 0.8265 - val_loss: 3.1774 - val_mae: 0.2862\n",
      "Epoch 9/150\n",
      "1/1 [==============================] - 0s 201ms/step - loss: 3.6921 - mae: 0.8351 - val_loss: 3.1148 - val_mae: 0.2856\n",
      "Epoch 10/150\n",
      "1/1 [==============================] - 0s 187ms/step - loss: 3.5565 - mae: 0.7865 - val_loss: 3.0527 - val_mae: 0.2857\n",
      "Epoch 11/150\n",
      "1/1 [==============================] - 0s 204ms/step - loss: 3.5629 - mae: 0.8251 - val_loss: 2.9912 - val_mae: 0.2861\n",
      "Epoch 12/150\n",
      "1/1 [==============================] - 0s 205ms/step - loss: 3.3719 - mae: 0.7383 - val_loss: 2.9298 - val_mae: 0.2861\n",
      "Epoch 13/150\n",
      "1/1 [==============================] - 0s 207ms/step - loss: 3.4460 - mae: 0.8207 - val_loss: 2.8689 - val_mae: 0.2858\n",
      "Epoch 14/150\n",
      "1/1 [==============================] - 0s 189ms/step - loss: 3.2560 - mae: 0.7329 - val_loss: 2.8083 - val_mae: 0.2853\n",
      "Epoch 15/150\n",
      "1/1 [==============================] - 0s 226ms/step - loss: 3.0913 - mae: 0.6519 - val_loss: 2.7479 - val_mae: 0.2844\n",
      "Epoch 16/150\n",
      "1/1 [==============================] - 0s 174ms/step - loss: 3.2740 - mae: 0.8119 - val_loss: 2.6883 - val_mae: 0.2834\n",
      "Epoch 17/150\n",
      "1/1 [==============================] - 0s 168ms/step - loss: 3.0073 - mae: 0.6661 - val_loss: 2.6292 - val_mae: 0.2820\n",
      "Epoch 18/150\n",
      "1/1 [==============================] - 0s 196ms/step - loss: 2.8784 - mae: 0.6042 - val_loss: 2.5707 - val_mae: 0.2803\n",
      "Epoch 19/150\n",
      "1/1 [==============================] - 0s 207ms/step - loss: 2.7611 - mae: 0.5447 - val_loss: 2.5129 - val_mae: 0.2777\n",
      "Epoch 20/150\n",
      "1/1 [==============================] - 0s 201ms/step - loss: 2.8218 - mae: 0.6368 - val_loss: 2.4563 - val_mae: 0.2747\n",
      "Epoch 21/150\n",
      "1/1 [==============================] - 0s 195ms/step - loss: 2.5808 - mae: 0.4602 - val_loss: 2.4014 - val_mae: 0.2717\n",
      "Epoch 22/150\n",
      "1/1 [==============================] - 0s 198ms/step - loss: 2.7493 - mae: 0.6531 - val_loss: 2.3485 - val_mae: 0.2706\n",
      "Epoch 23/150\n",
      "1/1 [==============================] - 0s 185ms/step - loss: 2.4434 - mae: 0.4076 - val_loss: 2.2991 - val_mae: 0.2705\n",
      "Epoch 24/150\n",
      "1/1 [==============================] - 0s 202ms/step - loss: 2.3248 - mae: 0.3033 - val_loss: 2.2537 - val_mae: 0.2697\n",
      "Epoch 25/150\n",
      "1/1 [==============================] - 0s 207ms/step - loss: 2.2141 - mae: 0.1580 - val_loss: 2.2140 - val_mae: 0.2688\n",
      "Epoch 26/150\n",
      "1/1 [==============================] - 0s 223ms/step - loss: 2.1521 - mae: 0.1245 - val_loss: 2.1805 - val_mae: 0.2762\n",
      "Epoch 27/150\n",
      "1/1 [==============================] - 0s 195ms/step - loss: 2.1047 - mae: 0.1245 - val_loss: 2.1521 - val_mae: 0.2922\n",
      "Epoch 28/150\n",
      "1/1 [==============================] - 0s 168ms/step - loss: 2.0883 - mae: 0.1669 - val_loss: 2.1225 - val_mae: 0.3076\n",
      "Epoch 29/150\n",
      "1/1 [==============================] - 0s 223ms/step - loss: 2.0417 - mae: 0.1563 - val_loss: 2.0892 - val_mae: 0.3194\n",
      "Epoch 30/150\n",
      "1/1 [==============================] - 0s 215ms/step - loss: 2.0017 - mae: 0.1670 - val_loss: 2.0601 - val_mae: 0.3377\n",
      "Epoch 31/150\n",
      "1/1 [==============================] - 0s 206ms/step - loss: 1.9846 - mae: 0.2310 - val_loss: 2.0214 - val_mae: 0.3430\n",
      "Epoch 32/150\n",
      "1/1 [==============================] - 0s 207ms/step - loss: 1.8924 - mae: 0.1245 - val_loss: 1.9805 - val_mae: 0.3446\n",
      "Epoch 33/150\n",
      "1/1 [==============================] - 0s 183ms/step - loss: 2.0094 - mae: 0.4040 - val_loss: 1.9273 - val_mae: 0.3285\n",
      "Epoch 34/150\n",
      "1/1 [==============================] - 0s 202ms/step - loss: 1.8544 - mae: 0.2236 - val_loss: 1.8729 - val_mae: 0.3142\n",
      "Epoch 35/150\n",
      "1/1 [==============================] - 0s 194ms/step - loss: 1.9205 - mae: 0.3969 - val_loss: 1.8175 - val_mae: 0.2983\n",
      "Epoch 36/150\n",
      "1/1 [==============================] - 0s 211ms/step - loss: 1.7239 - mae: 0.1245 - val_loss: 1.7681 - val_mae: 0.2888\n",
      "Epoch 37/150\n",
      "1/1 [==============================] - 0s 208ms/step - loss: 1.6921 - mae: 0.1245 - val_loss: 1.7236 - val_mae: 0.2854\n",
      "Epoch 38/150\n",
      "1/1 [==============================] - 0s 204ms/step - loss: 1.9962 - mae: 0.5942 - val_loss: 1.6830 - val_mae: 0.2859\n",
      "Epoch 39/150\n",
      "1/1 [==============================] - 0s 198ms/step - loss: 1.8896 - mae: 0.5337 - val_loss: 1.6449 - val_mae: 0.2872\n",
      "Epoch 40/150\n",
      "1/1 [==============================] - 0s 192ms/step - loss: 1.6105 - mae: 0.2082 - val_loss: 1.6082 - val_mae: 0.2883\n",
      "Epoch 41/150\n",
      "1/1 [==============================] - 0s 207ms/step - loss: 1.5774 - mae: 0.2173 - val_loss: 1.5724 - val_mae: 0.2892\n",
      "Epoch 42/150\n",
      "1/1 [==============================] - 0s 212ms/step - loss: 1.4940 - mae: 0.1245 - val_loss: 1.5371 - val_mae: 0.2901\n",
      "Epoch 43/150\n",
      "1/1 [==============================] - 0s 211ms/step - loss: 1.5007 - mae: 0.2069 - val_loss: 1.5026 - val_mae: 0.2909\n",
      "Epoch 44/150\n",
      "1/1 [==============================] - 0s 212ms/step - loss: 1.4245 - mae: 0.1245 - val_loss: 1.4687 - val_mae: 0.2915\n",
      "Epoch 45/150\n",
      "1/1 [==============================] - 0s 191ms/step - loss: 1.4069 - mae: 0.1393 - val_loss: 1.4356 - val_mae: 0.2918\n",
      "Epoch 46/150\n",
      "1/1 [==============================] - 0s 188ms/step - loss: 1.3583 - mae: 0.1245 - val_loss: 1.4033 - val_mae: 0.2922\n",
      "Epoch 47/150\n",
      "1/1 [==============================] - 0s 216ms/step - loss: 1.3218 - mae: 0.1245 - val_loss: 1.3711 - val_mae: 0.2929\n",
      "Epoch 48/150\n",
      "1/1 [==============================] - 0s 200ms/step - loss: 1.2940 - mae: 0.1245 - val_loss: 1.3398 - val_mae: 0.2938\n",
      "Epoch 49/150\n",
      "1/1 [==============================] - 0s 206ms/step - loss: 1.2558 - mae: 0.1245 - val_loss: 1.3094 - val_mae: 0.2953\n",
      "Epoch 50/150\n",
      "1/1 [==============================] - 0s 177ms/step - loss: 1.2326 - mae: 0.1245 - val_loss: 1.2803 - val_mae: 0.2971\n",
      "Epoch 51/150\n",
      "1/1 [==============================] - 0s 199ms/step - loss: 1.2017 - mae: 0.1245 - val_loss: 1.2525 - val_mae: 0.2999\n",
      "Epoch 52/150\n",
      "1/1 [==============================] - 0s 209ms/step - loss: 1.2175 - mae: 0.2428 - val_loss: 1.2268 - val_mae: 0.3043\n",
      "Epoch 53/150\n",
      "1/1 [==============================] - 0s 205ms/step - loss: 1.1803 - mae: 0.2279 - val_loss: 1.2036 - val_mae: 0.3105\n",
      "Epoch 54/150\n",
      "1/1 [==============================] - 0s 174ms/step - loss: 1.2044 - mae: 0.3247 - val_loss: 1.1836 - val_mae: 0.3197\n",
      "Epoch 55/150\n",
      "1/1 [==============================] - 0s 211ms/step - loss: 1.2305 - mae: 0.4001 - val_loss: 1.1679 - val_mae: 0.3324\n",
      "Epoch 56/150\n",
      "1/1 [==============================] - 0s 202ms/step - loss: 1.0519 - mae: 0.1245 - val_loss: 1.1511 - val_mae: 0.3436\n",
      "Epoch 57/150\n",
      "1/1 [==============================] - 0s 188ms/step - loss: 1.0919 - mae: 0.2771 - val_loss: 1.1385 - val_mae: 0.3608\n",
      "Epoch 58/150\n",
      "1/1 [==============================] - 0s 206ms/step - loss: 1.0060 - mae: 0.1334 - val_loss: 1.1230 - val_mae: 0.3752\n",
      "Epoch 59/150\n",
      "1/1 [==============================] - 0s 206ms/step - loss: 1.0765 - mae: 0.3392 - val_loss: 1.0957 - val_mae: 0.3749\n",
      "Epoch 60/150\n",
      "1/1 [==============================] - 0s 193ms/step - loss: 0.9502 - mae: 0.1256 - val_loss: 1.0710 - val_mae: 0.3769\n",
      "Epoch 61/150\n",
      "1/1 [==============================] - 0s 196ms/step - loss: 0.9080 - mae: 0.1245 - val_loss: 1.0461 - val_mae: 0.3780\n",
      "Epoch 62/150\n",
      "1/1 [==============================] - 0s 200ms/step - loss: 1.1181 - mae: 0.4859 - val_loss: 1.0066 - val_mae: 0.3605\n",
      "Epoch 63/150\n",
      "1/1 [==============================] - 0s 186ms/step - loss: 0.8631 - mae: 0.1245 - val_loss: 0.9718 - val_mae: 0.3494\n",
      "Epoch 64/150\n",
      "1/1 [==============================] - 0s 176ms/step - loss: 1.0253 - mae: 0.4413 - val_loss: 0.9426 - val_mae: 0.3444\n",
      "Epoch 65/150\n",
      "1/1 [==============================] - 0s 215ms/step - loss: 1.0250 - mae: 0.4678 - val_loss: 0.9177 - val_mae: 0.3432\n",
      "Epoch 66/150\n",
      "1/1 [==============================] - 0s 189ms/step - loss: 0.8010 - mae: 0.1364 - val_loss: 0.8951 - val_mae: 0.3438\n",
      "Epoch 67/150\n",
      "1/1 [==============================] - 0s 178ms/step - loss: 0.9324 - mae: 0.4161 - val_loss: 0.8759 - val_mae: 0.3474\n",
      "Epoch 68/150\n",
      "1/1 [==============================] - 0s 206ms/step - loss: 0.7632 - mae: 0.1629 - val_loss: 0.8537 - val_mae: 0.3476\n",
      "Epoch 69/150\n",
      "1/1 [==============================] - 0s 201ms/step - loss: 0.7319 - mae: 0.1323 - val_loss: 0.8338 - val_mae: 0.3495\n",
      "Epoch 70/150\n",
      "1/1 [==============================] - 0s 206ms/step - loss: 0.7015 - mae: 0.1245 - val_loss: 0.8124 - val_mae: 0.3494\n",
      "Epoch 71/150\n",
      "1/1 [==============================] - 0s 195ms/step - loss: 0.6935 - mae: 0.1487 - val_loss: 0.7934 - val_mae: 0.3512\n",
      "Epoch 72/150\n",
      "1/1 [==============================] - 0s 189ms/step - loss: 0.6509 - mae: 0.1245 - val_loss: 0.7743 - val_mae: 0.3523\n",
      "Epoch 73/150\n",
      "1/1 [==============================] - 0s 198ms/step - loss: 0.6424 - mae: 0.1245 - val_loss: 0.7572 - val_mae: 0.3548\n",
      "Epoch 74/150\n",
      "1/1 [==============================] - 0s 189ms/step - loss: 0.6521 - mae: 0.2033 - val_loss: 0.7430 - val_mae: 0.3603\n",
      "Epoch 75/150\n",
      "1/1 [==============================] - 0s 193ms/step - loss: 0.6183 - mae: 0.1628 - val_loss: 0.7252 - val_mae: 0.3612\n",
      "Epoch 76/150\n",
      "1/1 [==============================] - 0s 210ms/step - loss: 0.5822 - mae: 0.1245 - val_loss: 0.7055 - val_mae: 0.3596\n",
      "Epoch 77/150\n",
      "1/1 [==============================] - 0s 201ms/step - loss: 0.5574 - mae: 0.1245 - val_loss: 0.6873 - val_mae: 0.3589\n",
      "Epoch 78/150\n",
      "1/1 [==============================] - 0s 198ms/step - loss: 0.5441 - mae: 0.1245 - val_loss: 0.6678 - val_mae: 0.3564\n",
      "Epoch 79/150\n",
      "1/1 [==============================] - 0s 195ms/step - loss: 0.5590 - mae: 0.1978 - val_loss: 0.6449 - val_mae: 0.3503\n",
      "Epoch 80/150\n",
      "1/1 [==============================] - 0s 206ms/step - loss: 0.5670 - mae: 0.2528 - val_loss: 0.6185 - val_mae: 0.3404\n",
      "Epoch 81/150\n",
      "1/1 [==============================] - 0s 218ms/step - loss: 0.5095 - mae: 0.1512 - val_loss: 0.5964 - val_mae: 0.3340\n",
      "Epoch 82/150\n",
      "1/1 [==============================] - 0s 188ms/step - loss: 0.4839 - mae: 0.1245 - val_loss: 0.5773 - val_mae: 0.3297\n",
      "Epoch 83/150\n",
      "1/1 [==============================] - 0s 173ms/step - loss: 0.6068 - mae: 0.3888 - val_loss: 0.5618 - val_mae: 0.3287\n",
      "Epoch 84/150\n",
      "1/1 [==============================] - 0s 182ms/step - loss: 0.4457 - mae: 0.1245 - val_loss: 0.5475 - val_mae: 0.3284\n",
      "Epoch 85/150\n",
      "1/1 [==============================] - 0s 189ms/step - loss: 0.5067 - mae: 0.2821 - val_loss: 0.5361 - val_mae: 0.3305\n",
      "Epoch 86/150\n",
      "1/1 [==============================] - 0s 176ms/step - loss: 0.4138 - mae: 0.1245 - val_loss: 0.5250 - val_mae: 0.3324\n",
      "Epoch 87/150\n",
      "1/1 [==============================] - 0s 178ms/step - loss: 0.4091 - mae: 0.1245 - val_loss: 0.5152 - val_mae: 0.3351\n",
      "Epoch 88/150\n",
      "1/1 [==============================] - 0s 186ms/step - loss: 0.3970 - mae: 0.1245 - val_loss: 0.5068 - val_mae: 0.3386\n",
      "Epoch 89/150\n",
      "1/1 [==============================] - 0s 182ms/step - loss: 0.4573 - mae: 0.2834 - val_loss: 0.5012 - val_mae: 0.3440\n",
      "Epoch 90/150\n",
      "1/1 [==============================] - 0s 196ms/step - loss: 0.3723 - mae: 0.1245 - val_loss: 0.4970 - val_mae: 0.3500\n",
      "Epoch 91/150\n",
      "1/1 [==============================] - 0s 209ms/step - loss: 0.7676 - mae: 0.6419 - val_loss: 0.4954 - val_mae: 0.3583\n",
      "Epoch 92/150\n",
      "1/1 [==============================] - 0s 207ms/step - loss: 0.5091 - mae: 0.4040 - val_loss: 0.4982 - val_mae: 0.3713\n",
      "Epoch 93/150\n",
      "1/1 [==============================] - 0s 217ms/step - loss: 0.4003 - mae: 0.2515 - val_loss: 0.4934 - val_mae: 0.3766\n",
      "Epoch 94/150\n",
      "1/1 [==============================] - 0s 187ms/step - loss: 0.3343 - mae: 0.1245 - val_loss: 0.4865 - val_mae: 0.3789\n",
      "Epoch 95/150\n",
      "1/1 [==============================] - 0s 208ms/step - loss: 0.5268 - mae: 0.4558 - val_loss: 0.4661 - val_mae: 0.3651\n",
      "Epoch 96/150\n",
      "1/1 [==============================] - 0s 199ms/step - loss: 0.3793 - mae: 0.2632 - val_loss: 0.4435 - val_mae: 0.3506\n",
      "Epoch 97/150\n",
      "1/1 [==============================] - 0s 214ms/step - loss: 0.3949 - mae: 0.3053 - val_loss: 0.4204 - val_mae: 0.3349\n",
      "Epoch 98/150\n",
      "1/1 [==============================] - 0s 212ms/step - loss: 0.3085 - mae: 0.1245 - val_loss: 0.4036 - val_mae: 0.3248\n",
      "Epoch 99/150\n",
      "1/1 [==============================] - 0s 203ms/step - loss: 0.2934 - mae: 0.1245 - val_loss: 0.3908 - val_mae: 0.3187\n",
      "Epoch 100/150\n",
      "1/1 [==============================] - 0s 209ms/step - loss: 0.3125 - mae: 0.1765 - val_loss: 0.3783 - val_mae: 0.3141\n",
      "Epoch 101/150\n",
      "1/1 [==============================] - 0s 208ms/step - loss: 0.2790 - mae: 0.1245 - val_loss: 0.3681 - val_mae: 0.3116\n",
      "Epoch 102/150\n",
      "1/1 [==============================] - 0s 207ms/step - loss: 0.3901 - mae: 0.3462 - val_loss: 0.3607 - val_mae: 0.3118\n",
      "Epoch 103/150\n",
      "1/1 [==============================] - 0s 185ms/step - loss: 0.4283 - mae: 0.4039 - val_loss: 0.3552 - val_mae: 0.3121\n",
      "Epoch 104/150\n",
      "1/1 [==============================] - 0s 196ms/step - loss: 0.2798 - mae: 0.1394 - val_loss: 0.3505 - val_mae: 0.3126\n",
      "Epoch 105/150\n",
      "1/1 [==============================] - 0s 181ms/step - loss: 0.2677 - mae: 0.1245 - val_loss: 0.3463 - val_mae: 0.3131\n",
      "Epoch 106/150\n",
      "1/1 [==============================] - 0s 204ms/step - loss: 0.2625 - mae: 0.1245 - val_loss: 0.3428 - val_mae: 0.3136\n",
      "Epoch 107/150\n",
      "1/1 [==============================] - 0s 180ms/step - loss: 0.2885 - mae: 0.2041 - val_loss: 0.3401 - val_mae: 0.3143\n",
      "Epoch 108/150\n",
      "1/1 [==============================] - 0s 176ms/step - loss: 0.2675 - mae: 0.1577 - val_loss: 0.3382 - val_mae: 0.3152\n",
      "Epoch 109/150\n",
      "1/1 [==============================] - 0s 202ms/step - loss: 0.3030 - mae: 0.2538 - val_loss: 0.3376 - val_mae: 0.3166\n",
      "Epoch 110/150\n",
      "1/1 [==============================] - 0s 195ms/step - loss: 0.4052 - mae: 0.4127 - val_loss: 0.3392 - val_mae: 0.3199\n",
      "Epoch 111/150\n",
      "1/1 [==============================] - 0s 190ms/step - loss: 0.2531 - mae: 0.1470 - val_loss: 0.3424 - val_mae: 0.3244\n",
      "Epoch 112/150\n",
      "1/1 [==============================] - 0s 206ms/step - loss: 0.2437 - mae: 0.1245 - val_loss: 0.3471 - val_mae: 0.3311\n",
      "Epoch 113/150\n",
      "1/1 [==============================] - 0s 202ms/step - loss: 0.2768 - mae: 0.2254 - val_loss: 0.3541 - val_mae: 0.3400\n",
      "Epoch 114/150\n",
      "1/1 [==============================] - 0s 204ms/step - loss: 0.2261 - mae: 0.1245 - val_loss: 0.3619 - val_mae: 0.3503\n",
      "Epoch 115/150\n",
      "1/1 [==============================] - 0s 211ms/step - loss: 0.2215 - mae: 0.1245 - val_loss: 0.3697 - val_mae: 0.3601\n",
      "Epoch 116/150\n",
      "1/1 [==============================] - 0s 209ms/step - loss: 0.2198 - mae: 0.1245 - val_loss: 0.3765 - val_mae: 0.3690\n",
      "Epoch 117/150\n",
      "1/1 [==============================] - 0s 205ms/step - loss: 0.3405 - mae: 0.3515 - val_loss: 0.3724 - val_mae: 0.3682\n",
      "Epoch 118/150\n",
      "1/1 [==============================] - 0s 174ms/step - loss: 0.2349 - mae: 0.1459 - val_loss: 0.3652 - val_mae: 0.3644\n",
      "Epoch 119/150\n",
      "1/1 [==============================] - 0s 202ms/step - loss: 0.2103 - mae: 0.1245 - val_loss: 0.3583 - val_mae: 0.3610\n",
      "Epoch 120/150\n",
      "1/1 [==============================] - 0s 215ms/step - loss: 0.2166 - mae: 0.1245 - val_loss: 0.3531 - val_mae: 0.3591\n",
      "Epoch 121/150\n",
      "1/1 [==============================] - 0s 205ms/step - loss: 0.2154 - mae: 0.1245 - val_loss: 0.3460 - val_mae: 0.3554\n",
      "Epoch 122/150\n",
      "1/1 [==============================] - 0s 194ms/step - loss: 0.2068 - mae: 0.1245 - val_loss: 0.3405 - val_mae: 0.3530\n",
      "Epoch 123/150\n",
      "1/1 [==============================] - 0s 199ms/step - loss: 0.2920 - mae: 0.3071 - val_loss: 0.3385 - val_mae: 0.3537\n",
      "Epoch 124/150\n",
      "1/1 [==============================] - 0s 193ms/step - loss: 0.2849 - mae: 0.2999 - val_loss: 0.3394 - val_mae: 0.3569\n",
      "Epoch 125/150\n",
      "1/1 [==============================] - 0s 213ms/step - loss: 0.2034 - mae: 0.1245 - val_loss: 0.3379 - val_mae: 0.3579\n",
      "Epoch 126/150\n",
      "1/1 [==============================] - 0s 200ms/step - loss: 0.1938 - mae: 0.1245 - val_loss: 0.3373 - val_mae: 0.3597\n",
      "Epoch 127/150\n",
      "1/1 [==============================] - 0s 150ms/step - loss: 0.1902 - mae: 0.1245 - val_loss: 0.3355 - val_mae: 0.3603\n",
      "Epoch 128/150\n",
      "1/1 [==============================] - 0s 211ms/step - loss: 0.2585 - mae: 0.2707 - val_loss: 0.3371 - val_mae: 0.3639\n",
      "Epoch 129/150\n",
      "1/1 [==============================] - 0s 201ms/step - loss: 0.1831 - mae: 0.1245 - val_loss: 0.3384 - val_mae: 0.3669\n",
      "Epoch 130/150\n",
      "1/1 [==============================] - 0s 203ms/step - loss: 0.1881 - mae: 0.1245 - val_loss: 0.3375 - val_mae: 0.3681\n",
      "Epoch 131/150\n",
      "1/1 [==============================] - 0s 192ms/step - loss: 0.2276 - mae: 0.2203 - val_loss: 0.3396 - val_mae: 0.3718\n",
      "Epoch 132/150\n",
      "1/1 [==============================] - 0s 208ms/step - loss: 0.1773 - mae: 0.1245 - val_loss: 0.3414 - val_mae: 0.3753\n",
      "Epoch 133/150\n",
      "1/1 [==============================] - 0s 182ms/step - loss: 0.2490 - mae: 0.2711 - val_loss: 0.3464 - val_mae: 0.3814\n",
      "Epoch 134/150\n",
      "1/1 [==============================] - 0s 204ms/step - loss: 0.1867 - mae: 0.1245 - val_loss: 0.3528 - val_mae: 0.3889\n",
      "Epoch 135/150\n",
      "1/1 [==============================] - 0s 182ms/step - loss: 0.2222 - mae: 0.2220 - val_loss: 0.3622 - val_mae: 0.4005\n",
      "Epoch 136/150\n",
      "1/1 [==============================] - 0s 198ms/step - loss: 0.1721 - mae: 0.1245 - val_loss: 0.3712 - val_mae: 0.4122\n",
      "Epoch 137/150\n",
      "1/1 [==============================] - 0s 221ms/step - loss: 0.1727 - mae: 0.1245 - val_loss: 0.3779 - val_mae: 0.4212\n",
      "Epoch 138/150\n",
      "1/1 [==============================] - 0s 165ms/step - loss: 0.1762 - mae: 0.1245 - val_loss: 0.3810 - val_mae: 0.4262\n",
      "Epoch 139/150\n",
      "1/1 [==============================] - 0s 190ms/step - loss: 0.2939 - mae: 0.3549 - val_loss: 0.3699 - val_mae: 0.4164\n",
      "Epoch 140/150\n",
      "1/1 [==============================] - 0s 186ms/step - loss: 0.3707 - mae: 0.4528 - val_loss: 0.3469 - val_mae: 0.3922\n",
      "Epoch 141/150\n",
      "1/1 [==============================] - 0s 210ms/step - loss: 0.2649 - mae: 0.3185 - val_loss: 0.3226 - val_mae: 0.3701\n",
      "Epoch 142/150\n",
      "1/1 [==============================] - 0s 201ms/step - loss: 0.2047 - mae: 0.2052 - val_loss: 0.3027 - val_mae: 0.3510\n",
      "Epoch 143/150\n",
      "1/1 [==============================] - 0s 212ms/step - loss: 0.1623 - mae: 0.1245 - val_loss: 0.2886 - val_mae: 0.3389\n",
      "Epoch 144/150\n",
      "1/1 [==============================] - 0s 192ms/step - loss: 0.2068 - mae: 0.2124 - val_loss: 0.2796 - val_mae: 0.3338\n",
      "Epoch 145/150\n",
      "1/1 [==============================] - 0s 202ms/step - loss: 0.2843 - mae: 0.3515 - val_loss: 0.2742 - val_mae: 0.3315\n",
      "Epoch 146/150\n",
      "1/1 [==============================] - 0s 209ms/step - loss: 0.2060 - mae: 0.2156 - val_loss: 0.2706 - val_mae: 0.3313\n",
      "Epoch 147/150\n",
      "1/1 [==============================] - 0s 204ms/step - loss: 0.2565 - mae: 0.3139 - val_loss: 0.2686 - val_mae: 0.3318\n",
      "Epoch 148/150\n",
      "1/1 [==============================] - 0s 202ms/step - loss: 0.2380 - mae: 0.2860 - val_loss: 0.2679 - val_mae: 0.3327\n",
      "Epoch 149/150\n",
      "1/1 [==============================] - 0s 199ms/step - loss: 0.1616 - mae: 0.1245 - val_loss: 0.2665 - val_mae: 0.3333\n",
      "Epoch 150/150\n",
      "1/1 [==============================] - 0s 184ms/step - loss: 0.1965 - mae: 0.2093 - val_loss: 0.2660 - val_mae: 0.3341\n"
     ]
    }
   ],
   "source": [
    "#Using mae and mse\n",
    "model.compile(optimizer=tf.keras.optimizers.Adam(),metrics=['mae'],loss='mse')\n",
    "model.summary()\n",
    "hist=model.fit()(valid_set,epochs=150,validation_data=train_set)"
   ]
  },
  {
   "cell_type": "code",
   "execution_count": 157,
   "metadata": {},
   "outputs": [
    {
     "data": {
      "image/png": "[encoded data removed]",
      "text/plain": [
       "<Figure size 432x288 with 1 Axes>"
      ]
     },
     "metadata": {
      "needs_background": "light"
     },
     "output_type": "display_data"
    }
   ],
   "source": [
    "plt.plot(hist.history['mae'], label='MAE (training data)')\n",
    "plt.plot(hist.history['val_mae'], label='MAE (validation data)')\n",
    "\n",
    "plt.ylabel('MAE value')\n",
    "plt.xlabel('No. epoch')\n",
    "plt.legend(loc=\"upper left\")\n",
    "plt.show()"
   ]
  },
  {
   "cell_type": "code",
   "execution_count": 158,
   "metadata": {},
   "outputs": [
    {
     "data": {
      "image/png": "[encoded data removed]",
      "text/plain": [
       "<Figure size 432x288 with 1 Axes>"
      ]
     },
     "metadata": {
      "needs_background": "light"
     },
     "output_type": "display_data"
    }
   ],
   "source": [
    "plt.plot(hist.history['loss'], label='loss (training data)')\n",
    "plt.plot(hist.history['val_loss'], label='loss (validation data)')\n",
    "\n",
    "plt.ylabel('MAE value')\n",
    "plt.xlabel('No. epoch')\n",
    "plt.legend(loc=\"upper left\")\n",
    "plt.show()"
   ]
  },
  {
   "cell_type": "code",
   "execution_count": 159,
   "metadata": {},
   "outputs": [
    {
     "data": {
      "text/plain": [
       "array([[1.0165747],\n",
       "       [1.0179235],\n",
       "       [1.0189734]], dtype=float32)"
      ]
     },
     "execution_count": 159,
     "metadata": {},
     "output_type": "execute_result"
    }
   ],
   "source": [
    "prediksi=model.predict([21, 22, 23])\n",
    "prediksi"
   ]
  },
  {
   "cell_type": "code",
   "execution_count": 160,
   "metadata": {},
   "outputs": [
    {
     "data": {
      "text/plain": [
       "[<matplotlib.lines.Line2D at 0x1e929e21e50>]"
      ]
     },
     "execution_count": 160,
     "metadata": {},
     "output_type": "execute_result"
    },
    {
     "data": {
      "image/png": "[encoded data removed]",
      "text/plain": [
       "<Figure size 432x288 with 1 Axes>"
      ]
     },
     "metadata": {
      "needs_background": "light"
     },
     "output_type": "display_data"
    }
   ],
   "source": [
    "#data asli\n",
    "series = series * (max-min)\n",
    "series = series + min\n",
    "plt.plot(series)"
   ]
  },
  {
   "cell_type": "code",
   "execution_count": 161,
   "metadata": {},
   "outputs": [
    {
     "data": {
      "text/plain": [
       "array([[2903.6191],\n",
       "       [2907.4128],\n",
       "       [2910.3657]], dtype=float32)"
      ]
     },
     "execution_count": 161,
     "metadata": {},
     "output_type": "execute_result"
    }
   ],
   "source": [
    "prediksi = prediksi * (max-min)\n",
    "prediksi = prediksi + min\n",
    "prediksi"
   ]
  },
  {
   "cell_type": "code",
   "execution_count": 162,
   "metadata": {},
   "outputs": [],
   "source": [
    "prediksi=prediksi.flatten()"
   ]
  },
  {
   "cell_type": "code",
   "execution_count": 163,
   "metadata": {},
   "outputs": [],
   "source": [
    "hasil=np.concatenate((series[:-split_time],prediksi))"
   ]
  },
  {
   "cell_type": "code",
   "execution_count": 164,
   "metadata": {},
   "outputs": [
    {
     "data": {
      "text/plain": [
       "array([1844.66666667, 2857.        , 2156.66666667, 2060.66666667,\n",
       "       2336.33333333, 2655.33333333, 2044.        , 2490.66666667,\n",
       "       1824.33333333, 2065.33333333, 2837.33333333, 1107.        ,\n",
       "        138.66666667,  113.33333333,   68.        ,   44.33333333,\n",
       "        194.66666667,   68.        ,   74.66666667,   91.66666667,\n",
       "        145.66666667, 2903.61914062, 2907.4128418 , 2910.36572266])"
      ]
     },
     "execution_count": 164,
     "metadata": {},
     "output_type": "execute_result"
    }
   ],
   "source": [
    "hasil"
   ]
  },
  {
   "cell_type": "code",
   "execution_count": 165,
   "metadata": {},
   "outputs": [
    {
     "data": {
      "text/plain": [
       "[<matplotlib.lines.Line2D at 0x1e934d5c940>]"
      ]
     },
     "execution_count": 165,
     "metadata": {},
     "output_type": "execute_result"
    },
    {
     "data": {
      "image/png": "[encoded data removed]",
      "text/plain": [
       "<Figure size 432x288 with 1 Axes>"
      ]
     },
     "metadata": {
      "needs_background": "light"
     },
     "output_type": "display_data"
    }
   ],
   "source": [
    "#data prediksi\n",
    "plt.plot(hasil)"
   ]
  },
  {
   "cell_type": "code",
   "execution_count": 166,
   "metadata": {},
   "outputs": [],
   "source": [
    "model.save('cluster3.h5')"
   ]
  },
  {
   "cell_type": "markdown",
   "metadata": {},
   "source": [
    "# C4"
   ]
  },
  {
   "cell_type": "code",
   "execution_count": 190,
   "metadata": {},
   "outputs": [],
   "source": [
    "## do the same for the others, tapi karena yang lain punya beberapa anggota, nah itu di average dulu per tanggalnya\n",
    "c4=c4.drop(columns=['Kode Produk', 'Cluster'])"
   ]
  },
  {
   "cell_type": "code",
   "execution_count": 191,
   "metadata": {},
   "outputs": [],
   "source": [
    "#next, buat dia kayak mejeneng time series seperti biasanya, which is datanya ke bawah, tapi di average per tanggal \n",
    "new_c4=[]\n",
    "time=[]\n",
    "for idx,a in enumerate(c4):\n",
    "    new_c4.append(c4[a].mean())\n",
    "    time.append(idx)\n"
   ]
  },
  {
   "cell_type": "code",
   "execution_count": 192,
   "metadata": {},
   "outputs": [
    {
     "data": {
      "text/plain": [
       "[623.6923076923077,\n",
       " 673.3846153846154,\n",
       " 625.0,\n",
       " 588.9230769230769,\n",
       " 791.6923076923077,\n",
       " 510.2307692307692,\n",
       " 679.3846153846154,\n",
       " 602.4615384615385,\n",
       " 666.4615384615385,\n",
       " 643.4615384615385,\n",
       " 663.0,\n",
       " 555.6153846153846,\n",
       " 1338.2307692307693,\n",
       " 1224.076923076923,\n",
       " 1327.2307692307693,\n",
       " 1021.3846153846154,\n",
       " 797.8461538461538,\n",
       " 1000.7692307692307,\n",
       " 1287.8461538461538,\n",
       " 1209.3076923076924,\n",
       " 1329.7692307692307,\n",
       " 1436.923076923077,\n",
       " 1577.3076923076924,\n",
       " 1175.3846153846155]"
      ]
     },
     "execution_count": 192,
     "metadata": {},
     "output_type": "execute_result"
    }
   ],
   "source": [
    "new_c4"
   ]
  },
  {
   "cell_type": "code",
   "execution_count": 193,
   "metadata": {},
   "outputs": [],
   "source": [
    "#normalisasi, karena gap nya ada yang sampe ribuan, biar lebih gampang tugas ann nya\n",
    "series=new_c4\n",
    "min = np.min(series)\n",
    "max = np.max(series)\n",
    "series = series - min\n",
    "series = series / (max-min)\n",
    "time = np.array(time)"
   ]
  },
  {
   "cell_type": "code",
   "execution_count": 194,
   "metadata": {},
   "outputs": [],
   "source": [
    "split_time = 3 # ini berapa bulan terkahir yang mau di potong buat pengujian?\n",
    "\n",
    "time_train = time[:-split_time]\n",
    "x_train =  series[:-split_time]\n",
    "time_valid =  time[-split_time:]\n",
    "x_valid =  series[-split_time:]"
   ]
  },
  {
   "cell_type": "code",
   "execution_count": 195,
   "metadata": {},
   "outputs": [],
   "source": [
    "#buat data biar dibagi per window, jadi me masang masangkan waktu dan value,\n",
    "window_size = 2\n",
    "batch_size = 2\n",
    "shuffle_buffer_size = 10\n",
    "\n",
    "train_set = windowed_dataset(x_train, window_size, batch_size, shuffle_buffer_size)\n",
    "valid_set = windowed_dataset(x_valid, window_size, batch_size, shuffle_buffer_size)"
   ]
  },
  {
   "cell_type": "code",
   "execution_count": 196,
   "metadata": {},
   "outputs": [],
   "source": [
    "model = tf.keras.Sequential([\n",
    "        tf.keras.layers.Dense(2, input_shape=[None, 1]),\n",
    "        tf.keras.layers.Bidirectional(tf.keras.layers.LSTM(64,return_sequences=True)),\n",
    "        tf.keras.layers.Bidirectional(tf.keras.layers.LSTM(32)),\n",
    "        # tf.keras.layers.Bidirectional(tf.keras.layers.LSTM(4)),\n",
    "        tf.keras.layers.Flatten(),\n",
    "        #tf.keras.layers.GlobalAveragePooling1D(),\n",
    "        tf.keras.layers.Dense(512, activation='relu', kernel_regularizer=tf.keras.regularizers.l1(l1=0.001)),\n",
    "        tf.keras.layers.Dropout(0.2),\n",
    "        tf.keras.layers.Dense(64, activation='relu', kernel_regularizer=tf.keras.regularizers.l1_l2(l1=0.001, l2=0.001)),\n",
    "        tf.keras.layers.Dense(32, activation='relu'),\n",
    "        tf.keras.layers.Dropout(0.3),\n",
    "        tf.keras.layers.Dense(1)\n",
    "    ])\n",
    "\n",
    "    #the blstm part"
   ]
  },
  {
   "cell_type": "code",
   "execution_count": 197,
   "metadata": {},
   "outputs": [
    {
     "name": "stdout",
     "output_type": "stream",
     "text": [
      "Model: \"sequential_11\"\n",
      "_________________________________________________________________\n",
      "Layer (type)                 Output Shape              Param #   \n",
      "=================================================================\n",
      "dense_55 (Dense)             (None, None, 2)           4         \n",
      "_________________________________________________________________\n",
      "bidirectional_22 (Bidirectio (None, None, 128)         34304     \n",
      "_________________________________________________________________\n",
      "bidirectional_23 (Bidirectio (None, 64)                41216     \n",
      "_________________________________________________________________\n",
      "flatten_11 (Flatten)         (None, 64)                0         \n",
      "_________________________________________________________________\n",
      "dense_56 (Dense)             (None, 512)               33280     \n",
      "_________________________________________________________________\n",
      "dropout_22 (Dropout)         (None, 512)               0         \n",
      "_________________________________________________________________\n",
      "dense_57 (Dense)             (None, 64)                32832     \n",
      "_________________________________________________________________\n",
      "dense_58 (Dense)             (None, 32)                2080      \n",
      "_________________________________________________________________\n",
      "dropout_23 (Dropout)         (None, 32)                0         \n",
      "_________________________________________________________________\n",
      "dense_59 (Dense)             (None, 1)                 33        \n",
      "=================================================================\n",
      "Total params: 143,749\n",
      "Trainable params: 143,749\n",
      "Non-trainable params: 0\n",
      "_________________________________________________________________\n",
      "Epoch 1/150\n",
      "1/1 [==============================] - 8s 8s/step - loss: 3.4769 - mae: 0.1297 - val_loss: 3.6869 - val_mae: 0.4440\n",
      "Epoch 2/150\n",
      "1/1 [==============================] - 0s 224ms/step - loss: 3.4073 - mae: 0.1236 - val_loss: 3.6100 - val_mae: 0.4350\n",
      "Epoch 3/150\n",
      "1/1 [==============================] - 0s 220ms/step - loss: 3.3382 - mae: 0.1167 - val_loss: 3.5343 - val_mae: 0.4262\n",
      "Epoch 4/150\n",
      "1/1 [==============================] - 0s 224ms/step - loss: 3.2676 - mae: 0.0983 - val_loss: 3.4593 - val_mae: 0.4169\n",
      "Epoch 5/150\n",
      "1/1 [==============================] - 0s 206ms/step - loss: 3.1996 - mae: 0.0863 - val_loss: 3.3847 - val_mae: 0.4071\n",
      "Epoch 6/150\n",
      "1/1 [==============================] - 0s 234ms/step - loss: 3.1323 - mae: 0.0728 - val_loss: 3.3108 - val_mae: 0.3978\n",
      "Epoch 7/150\n",
      "1/1 [==============================] - 0s 205ms/step - loss: 3.0708 - mae: 0.0906 - val_loss: 3.2383 - val_mae: 0.3890\n",
      "Epoch 8/150\n",
      "1/1 [==============================] - 0s 201ms/step - loss: 3.0047 - mae: 0.0759 - val_loss: 3.1669 - val_mae: 0.3802\n",
      "Epoch 9/150\n",
      "1/1 [==============================] - 0s 193ms/step - loss: 2.9384 - mae: 0.0471 - val_loss: 3.0965 - val_mae: 0.3714\n",
      "Epoch 10/150\n",
      "1/1 [==============================] - 0s 215ms/step - loss: 2.8744 - mae: 0.0227 - val_loss: 3.0276 - val_mae: 0.3636\n",
      "Epoch 11/150\n",
      "1/1 [==============================] - 0s 217ms/step - loss: 2.8151 - mae: 0.0480 - val_loss: 2.9596 - val_mae: 0.3565\n",
      "Epoch 12/150\n",
      "1/1 [==============================] - 0s 224ms/step - loss: 2.7527 - mae: 0.0230 - val_loss: 2.8929 - val_mae: 0.3497\n",
      "Epoch 13/150\n",
      "1/1 [==============================] - 0s 226ms/step - loss: 2.6926 - mae: 0.0227 - val_loss: 2.8286 - val_mae: 0.3445\n",
      "Epoch 14/150\n",
      "1/1 [==============================] - 0s 204ms/step - loss: 2.6334 - mae: 0.0227 - val_loss: 2.7666 - val_mae: 0.3408\n",
      "Epoch 15/150\n",
      "1/1 [==============================] - 0s 232ms/step - loss: 2.5745 - mae: 0.0227 - val_loss: 2.7063 - val_mae: 0.3382\n",
      "Epoch 16/150\n",
      "1/1 [==============================] - 0s 212ms/step - loss: 2.5168 - mae: 0.0227 - val_loss: 2.6478 - val_mae: 0.3368\n",
      "Epoch 17/150\n",
      "1/1 [==============================] - 0s 218ms/step - loss: 2.4599 - mae: 0.0227 - val_loss: 2.5897 - val_mae: 0.3353\n",
      "Epoch 18/150\n",
      "1/1 [==============================] - 0s 208ms/step - loss: 2.4040 - mae: 0.0301 - val_loss: 2.5336 - val_mae: 0.3349\n",
      "Epoch 19/150\n",
      "1/1 [==============================] - 0s 216ms/step - loss: 2.3493 - mae: 0.0439 - val_loss: 2.4796 - val_mae: 0.3360\n",
      "Epoch 20/150\n",
      "1/1 [==============================] - 0s 242ms/step - loss: 2.2935 - mae: 0.0361 - val_loss: 2.4257 - val_mae: 0.3364\n",
      "Epoch 21/150\n",
      "1/1 [==============================] - 0s 226ms/step - loss: 2.2379 - mae: 0.0227 - val_loss: 2.3725 - val_mae: 0.3368\n",
      "Epoch 22/150\n",
      "1/1 [==============================] - 0s 216ms/step - loss: 2.1842 - mae: 0.0227 - val_loss: 2.3198 - val_mae: 0.3373\n",
      "Epoch 23/150\n",
      "1/1 [==============================] - 0s 204ms/step - loss: 2.1329 - mae: 0.0431 - val_loss: 2.2693 - val_mae: 0.3389\n",
      "Epoch 24/150\n",
      "1/1 [==============================] - 0s 208ms/step - loss: 2.0793 - mae: 0.0240 - val_loss: 2.2190 - val_mae: 0.3402\n",
      "Epoch 25/150\n",
      "1/1 [==============================] - 0s 227ms/step - loss: 2.0279 - mae: 0.0294 - val_loss: 2.1701 - val_mae: 0.3420\n",
      "Epoch 26/150\n",
      "1/1 [==============================] - 0s 232ms/step - loss: 1.9763 - mae: 0.0227 - val_loss: 2.1222 - val_mae: 0.3442\n",
      "Epoch 27/150\n",
      "1/1 [==============================] - 0s 227ms/step - loss: 1.9264 - mae: 0.0227 - val_loss: 2.0743 - val_mae: 0.3459\n",
      "Epoch 28/150\n",
      "1/1 [==============================] - 0s 226ms/step - loss: 1.8781 - mae: 0.0400 - val_loss: 2.0264 - val_mae: 0.3469\n",
      "Epoch 29/150\n",
      "1/1 [==============================] - 0s 206ms/step - loss: 1.8278 - mae: 0.0227 - val_loss: 1.9791 - val_mae: 0.3477\n",
      "Epoch 30/150\n",
      "1/1 [==============================] - 0s 183ms/step - loss: 1.7795 - mae: 0.0227 - val_loss: 1.9325 - val_mae: 0.3485\n",
      "Epoch 31/150\n",
      "1/1 [==============================] - 0s 197ms/step - loss: 1.7332 - mae: 0.0337 - val_loss: 1.8859 - val_mae: 0.3488\n",
      "Epoch 32/150\n",
      "1/1 [==============================] - 0s 198ms/step - loss: 1.6858 - mae: 0.0264 - val_loss: 1.8397 - val_mae: 0.3488\n",
      "Epoch 33/150\n",
      "1/1 [==============================] - 0s 221ms/step - loss: 1.6389 - mae: 0.0227 - val_loss: 1.7943 - val_mae: 0.3489\n",
      "Epoch 34/150\n",
      "1/1 [==============================] - 0s 217ms/step - loss: 1.5936 - mae: 0.0227 - val_loss: 1.7494 - val_mae: 0.3488\n",
      "Epoch 35/150\n",
      "1/1 [==============================] - 0s 230ms/step - loss: 1.5495 - mae: 0.0316 - val_loss: 1.7050 - val_mae: 0.3485\n",
      "Epoch 36/150\n",
      "1/1 [==============================] - 0s 211ms/step - loss: 1.5046 - mae: 0.0227 - val_loss: 1.6617 - val_mae: 0.3486\n",
      "Epoch 37/150\n",
      "1/1 [==============================] - 0s 203ms/step - loss: 1.4610 - mae: 0.0227 - val_loss: 1.6194 - val_mae: 0.3491\n",
      "Epoch 38/150\n",
      "1/1 [==============================] - 0s 222ms/step - loss: 1.4184 - mae: 0.0227 - val_loss: 1.5774 - val_mae: 0.3493\n",
      "Epoch 39/150\n",
      "1/1 [==============================] - 0s 210ms/step - loss: 1.3767 - mae: 0.0300 - val_loss: 1.5372 - val_mae: 0.3505\n",
      "Epoch 40/150\n",
      "1/1 [==============================] - 0s 216ms/step - loss: 1.3345 - mae: 0.0227 - val_loss: 1.4975 - val_mae: 0.3514\n",
      "Epoch 41/150\n",
      "1/1 [==============================] - 0s 216ms/step - loss: 1.2940 - mae: 0.0227 - val_loss: 1.4582 - val_mae: 0.3520\n",
      "Epoch 42/150\n",
      "1/1 [==============================] - 0s 215ms/step - loss: 1.2538 - mae: 0.0227 - val_loss: 1.4196 - val_mae: 0.3527\n",
      "Epoch 43/150\n",
      "1/1 [==============================] - 0s 217ms/step - loss: 1.2163 - mae: 0.0424 - val_loss: 1.3809 - val_mae: 0.3527\n",
      "Epoch 44/150\n",
      "1/1 [==============================] - 0s 220ms/step - loss: 1.1759 - mae: 0.0227 - val_loss: 1.3428 - val_mae: 0.3526\n",
      "Epoch 45/150\n",
      "1/1 [==============================] - 0s 240ms/step - loss: 1.1380 - mae: 0.0227 - val_loss: 1.3051 - val_mae: 0.3522\n",
      "Epoch 46/150\n",
      "1/1 [==============================] - 0s 207ms/step - loss: 1.1010 - mae: 0.0274 - val_loss: 1.2688 - val_mae: 0.3528\n",
      "Epoch 47/150\n",
      "1/1 [==============================] - 0s 216ms/step - loss: 1.0635 - mae: 0.0227 - val_loss: 1.2332 - val_mae: 0.3534\n",
      "Epoch 48/150\n",
      "1/1 [==============================] - 0s 211ms/step - loss: 1.0272 - mae: 0.0227 - val_loss: 1.1983 - val_mae: 0.3542\n",
      "Epoch 49/150\n",
      "1/1 [==============================] - 0s 190ms/step - loss: 0.9922 - mae: 0.0265 - val_loss: 1.1649 - val_mae: 0.3557\n",
      "Epoch 50/150\n",
      "1/1 [==============================] - 0s 220ms/step - loss: 0.9566 - mae: 0.0227 - val_loss: 1.1324 - val_mae: 0.3573\n",
      "Epoch 51/150\n",
      "1/1 [==============================] - 0s 196ms/step - loss: 0.9228 - mae: 0.0227 - val_loss: 1.1002 - val_mae: 0.3584\n",
      "Epoch 52/150\n",
      "1/1 [==============================] - 0s 202ms/step - loss: 0.8899 - mae: 0.0278 - val_loss: 1.0680 - val_mae: 0.3590\n",
      "Epoch 53/150\n",
      "1/1 [==============================] - 0s 228ms/step - loss: 0.8565 - mae: 0.0227 - val_loss: 1.0369 - val_mae: 0.3599\n",
      "Epoch 54/150\n",
      "1/1 [==============================] - 0s 214ms/step - loss: 0.8249 - mae: 0.0255 - val_loss: 1.0058 - val_mae: 0.3603\n",
      "Epoch 55/150\n",
      "1/1 [==============================] - 0s 220ms/step - loss: 0.7942 - mae: 0.0386 - val_loss: 0.9748 - val_mae: 0.3601\n",
      "Epoch 56/150\n",
      "1/1 [==============================] - 0s 220ms/step - loss: 0.7619 - mae: 0.0227 - val_loss: 0.9445 - val_mae: 0.3599\n",
      "Epoch 57/150\n",
      "1/1 [==============================] - 0s 214ms/step - loss: 0.7319 - mae: 0.0227 - val_loss: 0.9150 - val_mae: 0.3596\n",
      "Epoch 58/150\n",
      "1/1 [==============================] - 0s 222ms/step - loss: 0.7034 - mae: 0.0296 - val_loss: 0.8857 - val_mae: 0.3589\n",
      "Epoch 59/150\n",
      "1/1 [==============================] - 0s 202ms/step - loss: 0.6754 - mae: 0.0380 - val_loss: 0.8567 - val_mae: 0.3578\n",
      "Epoch 60/150\n",
      "1/1 [==============================] - 0s 202ms/step - loss: 0.6469 - mae: 0.0309 - val_loss: 0.8278 - val_mae: 0.3564\n",
      "Epoch 61/150\n",
      "1/1 [==============================] - 0s 209ms/step - loss: 0.6187 - mae: 0.0227 - val_loss: 0.7994 - val_mae: 0.3549\n",
      "Epoch 62/150\n",
      "1/1 [==============================] - 0s 204ms/step - loss: 0.5917 - mae: 0.0227 - val_loss: 0.7722 - val_mae: 0.3540\n",
      "Epoch 63/150\n",
      "1/1 [==============================] - 0s 224ms/step - loss: 0.5666 - mae: 0.0372 - val_loss: 0.7454 - val_mae: 0.3526\n",
      "Epoch 64/150\n",
      "1/1 [==============================] - 0s 228ms/step - loss: 0.5397 - mae: 0.0227 - val_loss: 0.7192 - val_mae: 0.3514\n",
      "Epoch 65/150\n",
      "1/1 [==============================] - 0s 220ms/step - loss: 0.5148 - mae: 0.0227 - val_loss: 0.6935 - val_mae: 0.3502\n",
      "Epoch 66/150\n",
      "1/1 [==============================] - 0s 210ms/step - loss: 0.4903 - mae: 0.0227 - val_loss: 0.6685 - val_mae: 0.3491\n",
      "Epoch 67/150\n",
      "1/1 [==============================] - 0s 207ms/step - loss: 0.4666 - mae: 0.0227 - val_loss: 0.6447 - val_mae: 0.3485\n",
      "Epoch 68/150\n",
      "1/1 [==============================] - 0s 217ms/step - loss: 0.4436 - mae: 0.0227 - val_loss: 0.6221 - val_mae: 0.3484\n",
      "Epoch 69/150\n",
      "1/1 [==============================] - 0s 226ms/step - loss: 0.4209 - mae: 0.0227 - val_loss: 0.6002 - val_mae: 0.3481\n",
      "Epoch 70/150\n",
      "1/1 [==============================] - 0s 243ms/step - loss: 0.4001 - mae: 0.0287 - val_loss: 0.5787 - val_mae: 0.3476\n",
      "Epoch 71/150\n",
      "1/1 [==============================] - 0s 217ms/step - loss: 0.3785 - mae: 0.0227 - val_loss: 0.5582 - val_mae: 0.3474\n",
      "Epoch 72/150\n",
      "1/1 [==============================] - 0s 211ms/step - loss: 0.3580 - mae: 0.0227 - val_loss: 0.5384 - val_mae: 0.3473\n",
      "Epoch 73/150\n",
      "1/1 [==============================] - 0s 226ms/step - loss: 0.3386 - mae: 0.0227 - val_loss: 0.5191 - val_mae: 0.3470\n",
      "Epoch 74/150\n",
      "1/1 [==============================] - 0s 231ms/step - loss: 0.3198 - mae: 0.0227 - val_loss: 0.5001 - val_mae: 0.3464\n",
      "Epoch 75/150\n",
      "1/1 [==============================] - 0s 226ms/step - loss: 0.3012 - mae: 0.0227 - val_loss: 0.4815 - val_mae: 0.3457\n",
      "Epoch 76/150\n",
      "1/1 [==============================] - 0s 218ms/step - loss: 0.2849 - mae: 0.0406 - val_loss: 0.4632 - val_mae: 0.3447\n",
      "Epoch 77/150\n",
      "1/1 [==============================] - 0s 224ms/step - loss: 0.2670 - mae: 0.0303 - val_loss: 0.4466 - val_mae: 0.3445\n",
      "Epoch 78/150\n",
      "1/1 [==============================] - 0s 240ms/step - loss: 0.2525 - mae: 0.0541 - val_loss: 0.4301 - val_mae: 0.3438\n",
      "Epoch 79/150\n",
      "1/1 [==============================] - 0s 227ms/step - loss: 0.2338 - mae: 0.0227 - val_loss: 0.4143 - val_mae: 0.3433\n",
      "Epoch 80/150\n",
      "1/1 [==============================] - 0s 233ms/step - loss: 0.2199 - mae: 0.0362 - val_loss: 0.3986 - val_mae: 0.3423\n",
      "Epoch 81/150\n",
      "1/1 [==============================] - 0s 220ms/step - loss: 0.2044 - mae: 0.0227 - val_loss: 0.3841 - val_mae: 0.3420\n",
      "Epoch 82/150\n",
      "1/1 [==============================] - 0s 202ms/step - loss: 0.1898 - mae: 0.0227 - val_loss: 0.3703 - val_mae: 0.3417\n",
      "Epoch 83/150\n",
      "1/1 [==============================] - 0s 237ms/step - loss: 0.1779 - mae: 0.0393 - val_loss: 0.3582 - val_mae: 0.3423\n",
      "Epoch 84/150\n",
      "1/1 [==============================] - 0s 230ms/step - loss: 0.1638 - mae: 0.0227 - val_loss: 0.3470 - val_mae: 0.3433\n",
      "Epoch 85/150\n",
      "1/1 [==============================] - 0s 203ms/step - loss: 0.1530 - mae: 0.0418 - val_loss: 0.3357 - val_mae: 0.3438\n",
      "Epoch 86/150\n",
      "1/1 [==============================] - 0s 221ms/step - loss: 0.1395 - mae: 0.0227 - val_loss: 0.3251 - val_mae: 0.3442\n",
      "Epoch 87/150\n",
      "1/1 [==============================] - 0s 213ms/step - loss: 0.1286 - mae: 0.0227 - val_loss: 0.3149 - val_mae: 0.3444\n",
      "Epoch 88/150\n",
      "1/1 [==============================] - 0s 206ms/step - loss: 0.1184 - mae: 0.0227 - val_loss: 0.3049 - val_mae: 0.3442\n",
      "Epoch 89/150\n",
      "1/1 [==============================] - 0s 192ms/step - loss: 0.1094 - mae: 0.0343 - val_loss: 0.2965 - val_mae: 0.3449\n",
      "Epoch 90/150\n",
      "1/1 [==============================] - 0s 201ms/step - loss: 0.0992 - mae: 0.0227 - val_loss: 0.2883 - val_mae: 0.3454\n",
      "Epoch 91/150\n",
      "1/1 [==============================] - 0s 189ms/step - loss: 0.0911 - mae: 0.0270 - val_loss: 0.2814 - val_mae: 0.3464\n",
      "Epoch 92/150\n",
      "1/1 [==============================] - 0s 213ms/step - loss: 0.0842 - mae: 0.0432 - val_loss: 0.2761 - val_mae: 0.3483\n",
      "Epoch 93/150\n",
      "1/1 [==============================] - 0s 208ms/step - loss: 0.0758 - mae: 0.0294 - val_loss: 0.2708 - val_mae: 0.3496\n",
      "Epoch 94/150\n",
      "1/1 [==============================] - 0s 207ms/step - loss: 0.0695 - mae: 0.0354 - val_loss: 0.2668 - val_mae: 0.3515\n",
      "Epoch 95/150\n",
      "1/1 [==============================] - 0s 212ms/step - loss: 0.0635 - mae: 0.0376 - val_loss: 0.2641 - val_mae: 0.3542\n",
      "Epoch 96/150\n",
      "1/1 [==============================] - 0s 189ms/step - loss: 0.0569 - mae: 0.0227 - val_loss: 0.2620 - val_mae: 0.3571\n",
      "Epoch 97/150\n",
      "1/1 [==============================] - 0s 171ms/step - loss: 0.0518 - mae: 0.0227 - val_loss: 0.2600 - val_mae: 0.3594\n",
      "Epoch 98/150\n",
      "1/1 [==============================] - 0s 186ms/step - loss: 0.0474 - mae: 0.0227 - val_loss: 0.2583 - val_mae: 0.3615\n",
      "Epoch 99/150\n",
      "1/1 [==============================] - 0s 188ms/step - loss: 0.0465 - mae: 0.0529 - val_loss: 0.2563 - val_mae: 0.3627\n",
      "Epoch 100/150\n",
      "1/1 [==============================] - 0s 185ms/step - loss: 0.0407 - mae: 0.0227 - val_loss: 0.2548 - val_mae: 0.3635\n",
      "Epoch 101/150\n",
      "1/1 [==============================] - 0s 179ms/step - loss: 0.0397 - mae: 0.0394 - val_loss: 0.2532 - val_mae: 0.3637\n",
      "Epoch 102/150\n",
      "1/1 [==============================] - 0s 199ms/step - loss: 0.0374 - mae: 0.0323 - val_loss: 0.2515 - val_mae: 0.3633\n",
      "Epoch 103/150\n",
      "1/1 [==============================] - 0s 189ms/step - loss: 0.0353 - mae: 0.0227 - val_loss: 0.2499 - val_mae: 0.3626\n",
      "Epoch 104/150\n",
      "1/1 [==============================] - 0s 203ms/step - loss: 0.0346 - mae: 0.0227 - val_loss: 0.2480 - val_mae: 0.3617\n",
      "Epoch 105/150\n",
      "1/1 [==============================] - 0s 207ms/step - loss: 0.0332 - mae: 0.0227 - val_loss: 0.2463 - val_mae: 0.3608\n",
      "Epoch 106/150\n",
      "1/1 [==============================] - 0s 194ms/step - loss: 0.0333 - mae: 0.0302 - val_loss: 0.2443 - val_mae: 0.3595\n",
      "Epoch 107/150\n",
      "1/1 [==============================] - 0s 197ms/step - loss: 0.0330 - mae: 0.0364 - val_loss: 0.2417 - val_mae: 0.3578\n",
      "Epoch 108/150\n",
      "1/1 [==============================] - 0s 199ms/step - loss: 0.0308 - mae: 0.0227 - val_loss: 0.2388 - val_mae: 0.3561\n",
      "Epoch 109/150\n",
      "1/1 [==============================] - 0s 180ms/step - loss: 0.0303 - mae: 0.0291 - val_loss: 0.2368 - val_mae: 0.3555\n",
      "Epoch 110/150\n",
      "1/1 [==============================] - 0s 191ms/step - loss: 0.0281 - mae: 0.0227 - val_loss: 0.2349 - val_mae: 0.3551\n",
      "Epoch 111/150\n",
      "1/1 [==============================] - 0s 196ms/step - loss: 0.0265 - mae: 0.0227 - val_loss: 0.2330 - val_mae: 0.3548\n",
      "Epoch 112/150\n",
      "1/1 [==============================] - 0s 193ms/step - loss: 0.0249 - mae: 0.0227 - val_loss: 0.2310 - val_mae: 0.3545\n",
      "Epoch 113/150\n",
      "1/1 [==============================] - 0s 180ms/step - loss: 0.0234 - mae: 0.0227 - val_loss: 0.2288 - val_mae: 0.3538\n",
      "Epoch 114/150\n",
      "1/1 [==============================] - 0s 185ms/step - loss: 0.0225 - mae: 0.0281 - val_loss: 0.2264 - val_mae: 0.3527\n",
      "Epoch 115/150\n",
      "1/1 [==============================] - 0s 186ms/step - loss: 0.0204 - mae: 0.0227 - val_loss: 0.2245 - val_mae: 0.3521\n",
      "Epoch 116/150\n",
      "1/1 [==============================] - 0s 207ms/step - loss: 0.0195 - mae: 0.0227 - val_loss: 0.2234 - val_mae: 0.3519\n",
      "Epoch 117/150\n",
      "1/1 [==============================] - 0s 190ms/step - loss: 0.0183 - mae: 0.0227 - val_loss: 0.2227 - val_mae: 0.3518\n",
      "Epoch 118/150\n",
      "1/1 [==============================] - 0s 195ms/step - loss: 0.0178 - mae: 0.0227 - val_loss: 0.2218 - val_mae: 0.3515\n",
      "Epoch 119/150\n",
      "1/1 [==============================] - 0s 185ms/step - loss: 0.0174 - mae: 0.0227 - val_loss: 0.2215 - val_mae: 0.3516\n",
      "Epoch 120/150\n",
      "1/1 [==============================] - 0s 182ms/step - loss: 0.0166 - mae: 0.0227 - val_loss: 0.2212 - val_mae: 0.3518\n",
      "Epoch 121/150\n",
      "1/1 [==============================] - 0s 184ms/step - loss: 0.0163 - mae: 0.0227 - val_loss: 0.2211 - val_mae: 0.3521\n",
      "Epoch 122/150\n",
      "1/1 [==============================] - 0s 187ms/step - loss: 0.0158 - mae: 0.0227 - val_loss: 0.2207 - val_mae: 0.3521\n",
      "Epoch 123/150\n",
      "1/1 [==============================] - 0s 181ms/step - loss: 0.0160 - mae: 0.0264 - val_loss: 0.2198 - val_mae: 0.3517\n",
      "Epoch 124/150\n",
      "1/1 [==============================] - 0s 205ms/step - loss: 0.0149 - mae: 0.0227 - val_loss: 0.2190 - val_mae: 0.3516\n",
      "Epoch 125/150\n",
      "1/1 [==============================] - 0s 194ms/step - loss: 0.0143 - mae: 0.0227 - val_loss: 0.2184 - val_mae: 0.3514\n",
      "Epoch 126/150\n",
      "1/1 [==============================] - 0s 186ms/step - loss: 0.0138 - mae: 0.0227 - val_loss: 0.2180 - val_mae: 0.3515\n",
      "Epoch 127/150\n",
      "1/1 [==============================] - 0s 204ms/step - loss: 0.0133 - mae: 0.0227 - val_loss: 0.2175 - val_mae: 0.3514\n",
      "Epoch 128/150\n",
      "1/1 [==============================] - 0s 198ms/step - loss: 0.0150 - mae: 0.0463 - val_loss: 0.2165 - val_mae: 0.3508\n",
      "Epoch 129/150\n",
      "1/1 [==============================] - 0s 225ms/step - loss: 0.0126 - mae: 0.0227 - val_loss: 0.2154 - val_mae: 0.3501\n",
      "Epoch 130/150\n",
      "1/1 [==============================] - 0s 183ms/step - loss: 0.0125 - mae: 0.0227 - val_loss: 0.2142 - val_mae: 0.3492\n",
      "Epoch 131/150\n",
      "1/1 [==============================] - 0s 183ms/step - loss: 0.0121 - mae: 0.0227 - val_loss: 0.2130 - val_mae: 0.3483\n",
      "Epoch 132/150\n",
      "1/1 [==============================] - 0s 187ms/step - loss: 0.0118 - mae: 0.0227 - val_loss: 0.2118 - val_mae: 0.3475\n",
      "Epoch 133/150\n",
      "1/1 [==============================] - 0s 195ms/step - loss: 0.0123 - mae: 0.0268 - val_loss: 0.2104 - val_mae: 0.3463\n",
      "Epoch 134/150\n",
      "1/1 [==============================] - 0s 183ms/step - loss: 0.0115 - mae: 0.0227 - val_loss: 0.2089 - val_mae: 0.3452\n",
      "Epoch 135/150\n",
      "1/1 [==============================] - 0s 186ms/step - loss: 0.0112 - mae: 0.0227 - val_loss: 0.2075 - val_mae: 0.3440\n",
      "Epoch 136/150\n",
      "1/1 [==============================] - 0s 194ms/step - loss: 0.0122 - mae: 0.0350 - val_loss: 0.2073 - val_mae: 0.3440\n",
      "Epoch 137/150\n",
      "1/1 [==============================] - 0s 193ms/step - loss: 0.0120 - mae: 0.0351 - val_loss: 0.2065 - val_mae: 0.3435\n",
      "Epoch 138/150\n",
      "1/1 [==============================] - 0s 193ms/step - loss: 0.0125 - mae: 0.0429 - val_loss: 0.2071 - val_mae: 0.3441\n",
      "Epoch 139/150\n",
      "1/1 [==============================] - 0s 194ms/step - loss: 0.0107 - mae: 0.0227 - val_loss: 0.2077 - val_mae: 0.3448\n",
      "Epoch 140/150\n",
      "1/1 [==============================] - 0s 185ms/step - loss: 0.0105 - mae: 0.0227 - val_loss: 0.2083 - val_mae: 0.3455\n",
      "Epoch 141/150\n",
      "1/1 [==============================] - 0s 193ms/step - loss: 0.0111 - mae: 0.0287 - val_loss: 0.2096 - val_mae: 0.3467\n",
      "Epoch 142/150\n",
      "1/1 [==============================] - 0s 221ms/step - loss: 0.0104 - mae: 0.0227 - val_loss: 0.2110 - val_mae: 0.3481\n",
      "Epoch 143/150\n",
      "1/1 [==============================] - 0s 198ms/step - loss: 0.0106 - mae: 0.0227 - val_loss: 0.2128 - val_mae: 0.3498\n",
      "Epoch 144/150\n",
      "1/1 [==============================] - 0s 183ms/step - loss: 0.0107 - mae: 0.0267 - val_loss: 0.2139 - val_mae: 0.3509\n",
      "Epoch 145/150\n",
      "1/1 [==============================] - 0s 196ms/step - loss: 0.0101 - mae: 0.0227 - val_loss: 0.2152 - val_mae: 0.3522\n",
      "Epoch 146/150\n",
      "1/1 [==============================] - 0s 204ms/step - loss: 0.0098 - mae: 0.0227 - val_loss: 0.2165 - val_mae: 0.3535\n",
      "Epoch 147/150\n",
      "1/1 [==============================] - 0s 192ms/step - loss: 0.0126 - mae: 0.0540 - val_loss: 0.2170 - val_mae: 0.3541\n",
      "Epoch 148/150\n",
      "1/1 [==============================] - 0s 183ms/step - loss: 0.0096 - mae: 0.0227 - val_loss: 0.2176 - val_mae: 0.3548\n",
      "Epoch 149/150\n",
      "1/1 [==============================] - 0s 180ms/step - loss: 0.0126 - mae: 0.0553 - val_loss: 0.2175 - val_mae: 0.3547\n",
      "Epoch 150/150\n",
      "1/1 [==============================] - 0s 207ms/step - loss: 0.0096 - mae: 0.0227 - val_loss: 0.2172 - val_mae: 0.3544\n"
     ]
    }
   ],
   "source": [
    "#Using mae and mse\n",
    "model.compile(optimizer=tf.keras.optimizers.Adam(),metrics=['mae'],loss='mse')\n",
    "model.summary()\n",
    "hist=model.fit(valid_set,epochs=150,validation_data=train_set)"
   ]
  },
  {
   "cell_type": "code",
   "execution_count": 198,
   "metadata": {},
   "outputs": [
    {
     "data": {
      "image/png": "[encoded data removed]",
      "text/plain": [
       "<Figure size 432x288 with 1 Axes>"
      ]
     },
     "metadata": {
      "needs_background": "light"
     },
     "output_type": "display_data"
    }
   ],
   "source": [
    "plt.plot(hist.history['mae'], label='MAE (training data)')\n",
    "plt.plot(hist.history['val_mae'], label='MAE (validation data)')\n",
    "\n",
    "plt.ylabel('MAE value')\n",
    "plt.xlabel('No. epoch')\n",
    "plt.legend(loc=\"upper left\")\n",
    "plt.show()"
   ]
  },
  {
   "cell_type": "code",
   "execution_count": 199,
   "metadata": {},
   "outputs": [
    {
     "data": {
      "image/png": "[encoded data removed]",
      "text/plain": [
       "<Figure size 432x288 with 1 Axes>"
      ]
     },
     "metadata": {
      "needs_background": "light"
     },
     "output_type": "display_data"
    }
   ],
   "source": [
    "plt.plot(hist.history['loss'], label='loss (training data)')\n",
    "plt.plot(hist.history['val_loss'], label='loss (validation data)')\n",
    "\n",
    "plt.ylabel('MAE value')\n",
    "plt.xlabel('No. epoch')\n",
    "plt.legend(loc=\"upper left\")\n",
    "plt.show()"
   ]
  },
  {
   "cell_type": "code",
   "execution_count": 200,
   "metadata": {},
   "outputs": [
    {
     "data": {
      "text/plain": [
       "array([[0.12249045],\n",
       "       [0.12249045],\n",
       "       [0.12249045]], dtype=float32)"
      ]
     },
     "execution_count": 200,
     "metadata": {},
     "output_type": "execute_result"
    }
   ],
   "source": [
    "prediksi=model.predict([21, 22, 23])\n",
    "prediksi"
   ]
  },
  {
   "cell_type": "code",
   "execution_count": 201,
   "metadata": {},
   "outputs": [
    {
     "data": {
      "text/plain": [
       "[<matplotlib.lines.Line2D at 0x1e9526bde20>]"
      ]
     },
     "execution_count": 201,
     "metadata": {},
     "output_type": "execute_result"
    },
    {
     "data": {
      "image/png": "[encoded data removed]",
      "text/plain": [
       "<Figure size 432x288 with 1 Axes>"
      ]
     },
     "metadata": {
      "needs_background": "light"
     },
     "output_type": "display_data"
    }
   ],
   "source": [
    "#data asli\n",
    "series = series * (max-min)\n",
    "series = series + min\n",
    "plt.plot(series)"
   ]
  },
  {
   "cell_type": "code",
   "execution_count": 202,
   "metadata": {},
   "outputs": [
    {
     "data": {
      "text/plain": [
       "array([[640.9375],\n",
       "       [640.9375],\n",
       "       [640.9375]], dtype=float32)"
      ]
     },
     "execution_count": 202,
     "metadata": {},
     "output_type": "execute_result"
    }
   ],
   "source": [
    "prediksi = prediksi * (max-min)\n",
    "prediksi = prediksi + min\n",
    "prediksi"
   ]
  },
  {
   "cell_type": "code",
   "execution_count": 203,
   "metadata": {},
   "outputs": [],
   "source": [
    "prediksi=prediksi.flatten()"
   ]
  },
  {
   "cell_type": "code",
   "execution_count": 204,
   "metadata": {},
   "outputs": [],
   "source": [
    "hasil=np.concatenate((series[:-split_time],prediksi))"
   ]
  },
  {
   "cell_type": "code",
   "execution_count": 205,
   "metadata": {},
   "outputs": [
    {
     "data": {
      "text/plain": [
       "array([ 623.69230769,  673.38461538,  625.        ,  588.92307692,\n",
       "        791.69230769,  510.23076923,  679.38461538,  602.46153846,\n",
       "        666.46153846,  643.46153846,  663.        ,  555.61538462,\n",
       "       1338.23076923, 1224.07692308, 1327.23076923, 1021.38461538,\n",
       "        797.84615385, 1000.76923077, 1287.84615385, 1209.30769231,\n",
       "       1329.76923077,  640.9375    ,  640.9375    ,  640.9375    ])"
      ]
     },
     "execution_count": 205,
     "metadata": {},
     "output_type": "execute_result"
    }
   ],
   "source": [
    "hasil"
   ]
  },
  {
   "cell_type": "code",
   "execution_count": 206,
   "metadata": {},
   "outputs": [
    {
     "data": {
      "text/plain": [
       "[<matplotlib.lines.Line2D at 0x1e952727220>]"
      ]
     },
     "execution_count": 206,
     "metadata": {},
     "output_type": "execute_result"
    },
    {
     "data": {
      "image/png": "[encoded data removed]",
      "text/plain": [
       "<Figure size 432x288 with 1 Axes>"
      ]
     },
     "metadata": {
      "needs_background": "light"
     },
     "output_type": "display_data"
    }
   ],
   "source": [
    "#data prediksi\n",
    "plt.plot(hasil)"
   ]
  },
  {
   "cell_type": "code",
   "execution_count": 207,
   "metadata": {},
   "outputs": [
    {
     "name": "stderr",
     "output_type": "stream",
     "text": [
      "WARNING:absl:Found untraced functions such as lstm_cell_67_layer_call_and_return_conditional_losses, lstm_cell_67_layer_call_fn, lstm_cell_68_layer_call_and_return_conditional_losses, lstm_cell_68_layer_call_fn, lstm_cell_70_layer_call_and_return_conditional_losses while saving (showing 5 of 20). These functions will not be directly callable after loading.\n"
     ]
    },
    {
     "name": "stdout",
     "output_type": "stream",
     "text": [
      "INFO:tensorflow:Assets written to: culster4.h0\\assets\n"
     ]
    },
    {
     "name": "stderr",
     "output_type": "stream",
     "text": [
      "INFO:tensorflow:Assets written to: culster4.h0\\assets\n"
     ]
    }
   ],
   "source": [
    "model.save('culster4.h0')"
   ]
  }
 ],
 "metadata": {
  "interpreter": {
   "hash": "afeb0a5d6bb323ad18feb1b5918323875d02a8f396872f34a26389813d209932"
  },
  "kernelspec": {
   "display_name": "Python 3.8.12 64-bit ('skripsi': conda)",
   "language": "python",
   "name": "python3"
  },
  "language_info": {
   "codemirror_mode": {
    "name": "ipython",
    "version": 3
   },
   "file_extension": ".py",
   "mimetype": "text/x-python",
   "name": "python",
   "nbconvert_exporter": "python",
   "pygments_lexer": "ipython3",
   "version": "3.8.12"
  },
  "orig_nbformat": 4
 },
 "nbformat": 4,
 "nbformat_minor": 2
}
