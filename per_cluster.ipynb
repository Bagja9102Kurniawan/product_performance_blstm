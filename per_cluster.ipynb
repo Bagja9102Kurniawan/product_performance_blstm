{
 "cells": [
  {
   "cell_type": "code",
   "execution_count": 1,
   "metadata": {},
   "outputs": [],
   "source": [
    "import pandas as pd\n",
    "import numpy as np\n",
    "import tensorflow as tf"
   ]
  },
  {
   "cell_type": "code",
   "execution_count": 2,
   "metadata": {},
   "outputs": [],
   "source": [
    "import matplotlib.pyplot as plt\n",
    "from sklearn.preprocessing import MinMaxScaler"
   ]
  },
  {
   "cell_type": "code",
   "execution_count": 3,
   "metadata": {},
   "outputs": [
    {
     "data": {
      "text/html": [
       "<div>\n",
       "<style scoped>\n",
       "    .dataframe tbody tr th:only-of-type {\n",
       "        vertical-align: middle;\n",
       "    }\n",
       "\n",
       "    .dataframe tbody tr th {\n",
       "        vertical-align: top;\n",
       "    }\n",
       "\n",
       "    .dataframe thead th {\n",
       "        text-align: right;\n",
       "    }\n",
       "</style>\n",
       "<table border=\"1\" class=\"dataframe\">\n",
       "  <thead>\n",
       "    <tr style=\"text-align: right;\">\n",
       "      <th></th>\n",
       "      <th>Kode Produk</th>\n",
       "      <th>19-Jan</th>\n",
       "      <th>19-Feb</th>\n",
       "      <th>19-Mar</th>\n",
       "      <th>19-Apr</th>\n",
       "      <th>19-May</th>\n",
       "      <th>19-Jun</th>\n",
       "      <th>19-Jul</th>\n",
       "      <th>19-Aug</th>\n",
       "      <th>19-Sep</th>\n",
       "      <th>...</th>\n",
       "      <th>20-Apr</th>\n",
       "      <th>20-May</th>\n",
       "      <th>20-Jun</th>\n",
       "      <th>20-Jul</th>\n",
       "      <th>20-Aug</th>\n",
       "      <th>20-Sep</th>\n",
       "      <th>20-Oct</th>\n",
       "      <th>20-Nov</th>\n",
       "      <th>20-Dec</th>\n",
       "      <th>Cluster</th>\n",
       "    </tr>\n",
       "  </thead>\n",
       "  <tbody>\n",
       "    <tr>\n",
       "      <th>0</th>\n",
       "      <td>P1</td>\n",
       "      <td>56</td>\n",
       "      <td>7</td>\n",
       "      <td>8</td>\n",
       "      <td>14</td>\n",
       "      <td>16</td>\n",
       "      <td>10</td>\n",
       "      <td>21</td>\n",
       "      <td>20</td>\n",
       "      <td>68</td>\n",
       "      <td>...</td>\n",
       "      <td>17</td>\n",
       "      <td>6</td>\n",
       "      <td>9</td>\n",
       "      <td>62</td>\n",
       "      <td>67</td>\n",
       "      <td>62</td>\n",
       "      <td>67</td>\n",
       "      <td>77</td>\n",
       "      <td>11</td>\n",
       "      <td>0</td>\n",
       "    </tr>\n",
       "    <tr>\n",
       "      <th>1</th>\n",
       "      <td>P2</td>\n",
       "      <td>164</td>\n",
       "      <td>190</td>\n",
       "      <td>188</td>\n",
       "      <td>164</td>\n",
       "      <td>235</td>\n",
       "      <td>139</td>\n",
       "      <td>662</td>\n",
       "      <td>240</td>\n",
       "      <td>138</td>\n",
       "      <td>...</td>\n",
       "      <td>367</td>\n",
       "      <td>227</td>\n",
       "      <td>55</td>\n",
       "      <td>222</td>\n",
       "      <td>220</td>\n",
       "      <td>85</td>\n",
       "      <td>336</td>\n",
       "      <td>153</td>\n",
       "      <td>103</td>\n",
       "      <td>1</td>\n",
       "    </tr>\n",
       "    <tr>\n",
       "      <th>2</th>\n",
       "      <td>P3</td>\n",
       "      <td>65</td>\n",
       "      <td>58</td>\n",
       "      <td>79</td>\n",
       "      <td>109</td>\n",
       "      <td>50</td>\n",
       "      <td>51</td>\n",
       "      <td>73</td>\n",
       "      <td>92</td>\n",
       "      <td>28</td>\n",
       "      <td>...</td>\n",
       "      <td>121</td>\n",
       "      <td>23</td>\n",
       "      <td>30</td>\n",
       "      <td>26</td>\n",
       "      <td>19</td>\n",
       "      <td>23</td>\n",
       "      <td>21</td>\n",
       "      <td>20</td>\n",
       "      <td>7</td>\n",
       "      <td>0</td>\n",
       "    </tr>\n",
       "    <tr>\n",
       "      <th>3</th>\n",
       "      <td>P4</td>\n",
       "      <td>243</td>\n",
       "      <td>304</td>\n",
       "      <td>321</td>\n",
       "      <td>241</td>\n",
       "      <td>191</td>\n",
       "      <td>97</td>\n",
       "      <td>276</td>\n",
       "      <td>165</td>\n",
       "      <td>170</td>\n",
       "      <td>...</td>\n",
       "      <td>304</td>\n",
       "      <td>72</td>\n",
       "      <td>102</td>\n",
       "      <td>102</td>\n",
       "      <td>113</td>\n",
       "      <td>112</td>\n",
       "      <td>102</td>\n",
       "      <td>118</td>\n",
       "      <td>120</td>\n",
       "      <td>1</td>\n",
       "    </tr>\n",
       "    <tr>\n",
       "      <th>4</th>\n",
       "      <td>P5</td>\n",
       "      <td>10</td>\n",
       "      <td>13</td>\n",
       "      <td>24</td>\n",
       "      <td>14</td>\n",
       "      <td>28</td>\n",
       "      <td>9</td>\n",
       "      <td>19</td>\n",
       "      <td>10</td>\n",
       "      <td>24</td>\n",
       "      <td>...</td>\n",
       "      <td>16</td>\n",
       "      <td>11</td>\n",
       "      <td>7</td>\n",
       "      <td>10</td>\n",
       "      <td>16</td>\n",
       "      <td>18</td>\n",
       "      <td>18</td>\n",
       "      <td>23</td>\n",
       "      <td>22</td>\n",
       "      <td>0</td>\n",
       "    </tr>\n",
       "    <tr>\n",
       "      <th>...</th>\n",
       "      <td>...</td>\n",
       "      <td>...</td>\n",
       "      <td>...</td>\n",
       "      <td>...</td>\n",
       "      <td>...</td>\n",
       "      <td>...</td>\n",
       "      <td>...</td>\n",
       "      <td>...</td>\n",
       "      <td>...</td>\n",
       "      <td>...</td>\n",
       "      <td>...</td>\n",
       "      <td>...</td>\n",
       "      <td>...</td>\n",
       "      <td>...</td>\n",
       "      <td>...</td>\n",
       "      <td>...</td>\n",
       "      <td>...</td>\n",
       "      <td>...</td>\n",
       "      <td>...</td>\n",
       "      <td>...</td>\n",
       "      <td>...</td>\n",
       "    </tr>\n",
       "    <tr>\n",
       "      <th>153</th>\n",
       "      <td>P154</td>\n",
       "      <td>243</td>\n",
       "      <td>379</td>\n",
       "      <td>292</td>\n",
       "      <td>232</td>\n",
       "      <td>287</td>\n",
       "      <td>107</td>\n",
       "      <td>344</td>\n",
       "      <td>455</td>\n",
       "      <td>436</td>\n",
       "      <td>...</td>\n",
       "      <td>129</td>\n",
       "      <td>85</td>\n",
       "      <td>115</td>\n",
       "      <td>232</td>\n",
       "      <td>79</td>\n",
       "      <td>112</td>\n",
       "      <td>450</td>\n",
       "      <td>498</td>\n",
       "      <td>254</td>\n",
       "      <td>1</td>\n",
       "    </tr>\n",
       "    <tr>\n",
       "      <th>154</th>\n",
       "      <td>P155</td>\n",
       "      <td>-5</td>\n",
       "      <td>0</td>\n",
       "      <td>0</td>\n",
       "      <td>10</td>\n",
       "      <td>0</td>\n",
       "      <td>0</td>\n",
       "      <td>0</td>\n",
       "      <td>0</td>\n",
       "      <td>0</td>\n",
       "      <td>...</td>\n",
       "      <td>0</td>\n",
       "      <td>0</td>\n",
       "      <td>0</td>\n",
       "      <td>0</td>\n",
       "      <td>0</td>\n",
       "      <td>0</td>\n",
       "      <td>0</td>\n",
       "      <td>0</td>\n",
       "      <td>0</td>\n",
       "      <td>0</td>\n",
       "    </tr>\n",
       "    <tr>\n",
       "      <th>155</th>\n",
       "      <td>P156</td>\n",
       "      <td>101</td>\n",
       "      <td>65</td>\n",
       "      <td>117</td>\n",
       "      <td>94</td>\n",
       "      <td>197</td>\n",
       "      <td>151</td>\n",
       "      <td>157</td>\n",
       "      <td>159</td>\n",
       "      <td>144</td>\n",
       "      <td>...</td>\n",
       "      <td>152</td>\n",
       "      <td>129</td>\n",
       "      <td>136</td>\n",
       "      <td>177</td>\n",
       "      <td>120</td>\n",
       "      <td>167</td>\n",
       "      <td>153</td>\n",
       "      <td>130</td>\n",
       "      <td>121</td>\n",
       "      <td>1</td>\n",
       "    </tr>\n",
       "    <tr>\n",
       "      <th>156</th>\n",
       "      <td>P157</td>\n",
       "      <td>0</td>\n",
       "      <td>0</td>\n",
       "      <td>0</td>\n",
       "      <td>0</td>\n",
       "      <td>0</td>\n",
       "      <td>8</td>\n",
       "      <td>49</td>\n",
       "      <td>93</td>\n",
       "      <td>103</td>\n",
       "      <td>...</td>\n",
       "      <td>19</td>\n",
       "      <td>26</td>\n",
       "      <td>29</td>\n",
       "      <td>49</td>\n",
       "      <td>43</td>\n",
       "      <td>34</td>\n",
       "      <td>51</td>\n",
       "      <td>51</td>\n",
       "      <td>43</td>\n",
       "      <td>0</td>\n",
       "    </tr>\n",
       "    <tr>\n",
       "      <th>157</th>\n",
       "      <td>P158</td>\n",
       "      <td>0</td>\n",
       "      <td>0</td>\n",
       "      <td>0</td>\n",
       "      <td>0</td>\n",
       "      <td>0</td>\n",
       "      <td>7</td>\n",
       "      <td>67</td>\n",
       "      <td>78</td>\n",
       "      <td>156</td>\n",
       "      <td>...</td>\n",
       "      <td>64</td>\n",
       "      <td>55</td>\n",
       "      <td>63</td>\n",
       "      <td>98</td>\n",
       "      <td>57</td>\n",
       "      <td>81</td>\n",
       "      <td>132</td>\n",
       "      <td>79</td>\n",
       "      <td>80</td>\n",
       "      <td>1</td>\n",
       "    </tr>\n",
       "  </tbody>\n",
       "</table>\n",
       "<p>158 rows × 26 columns</p>\n",
       "</div>"
      ],
      "text/plain": [
       "    Kode Produk  19-Jan  19-Feb  19-Mar  19-Apr  19-May  19-Jun  19-Jul  \\\n",
       "0            P1      56       7       8      14      16      10      21   \n",
       "1            P2     164     190     188     164     235     139     662   \n",
       "2            P3      65      58      79     109      50      51      73   \n",
       "3            P4     243     304     321     241     191      97     276   \n",
       "4            P5      10      13      24      14      28       9      19   \n",
       "..          ...     ...     ...     ...     ...     ...     ...     ...   \n",
       "153        P154     243     379     292     232     287     107     344   \n",
       "154        P155      -5       0       0      10       0       0       0   \n",
       "155        P156     101      65     117      94     197     151     157   \n",
       "156        P157       0       0       0       0       0       8      49   \n",
       "157        P158       0       0       0       0       0       7      67   \n",
       "\n",
       "     19-Aug  19-Sep  ...  20-Apr  20-May  20-Jun  20-Jul  20-Aug  20-Sep  \\\n",
       "0        20      68  ...      17       6       9      62      67      62   \n",
       "1       240     138  ...     367     227      55     222     220      85   \n",
       "2        92      28  ...     121      23      30      26      19      23   \n",
       "3       165     170  ...     304      72     102     102     113     112   \n",
       "4        10      24  ...      16      11       7      10      16      18   \n",
       "..      ...     ...  ...     ...     ...     ...     ...     ...     ...   \n",
       "153     455     436  ...     129      85     115     232      79     112   \n",
       "154       0       0  ...       0       0       0       0       0       0   \n",
       "155     159     144  ...     152     129     136     177     120     167   \n",
       "156      93     103  ...      19      26      29      49      43      34   \n",
       "157      78     156  ...      64      55      63      98      57      81   \n",
       "\n",
       "     20-Oct  20-Nov  20-Dec  Cluster  \n",
       "0        67      77      11        0  \n",
       "1       336     153     103        1  \n",
       "2        21      20       7        0  \n",
       "3       102     118     120        1  \n",
       "4        18      23      22        0  \n",
       "..      ...     ...     ...      ...  \n",
       "153     450     498     254        1  \n",
       "154       0       0       0        0  \n",
       "155     153     130     121        1  \n",
       "156      51      51      43        0  \n",
       "157     132      79      80        1  \n",
       "\n",
       "[158 rows x 26 columns]"
      ]
     },
     "execution_count": 3,
     "metadata": {},
     "output_type": "execute_result"
    }
   ],
   "source": [
    "data=pd.read_csv('dataset.csv')\n",
    "data"
   ]
  },
  {
   "cell_type": "code",
   "execution_count": 4,
   "metadata": {},
   "outputs": [
    {
     "data": {
      "text/plain": [
       "5"
      ]
     },
     "execution_count": 4,
     "metadata": {},
     "output_type": "execute_result"
    }
   ],
   "source": [
    "len(data['Cluster'].unique())"
   ]
  },
  {
   "cell_type": "code",
   "execution_count": 5,
   "metadata": {},
   "outputs": [
    {
     "name": "stdout",
     "output_type": "stream",
     "text": [
      "Jumlah Produk:\n",
      "96\n",
      "Jumlah Produk:\n",
      "45\n",
      "Jumlah Produk:\n",
      "1\n",
      "Jumlah Produk:\n",
      "3\n",
      "Jumlah Produk:\n",
      "13\n"
     ]
    }
   ],
   "source": [
    "#now lets take clusters\n",
    "c0 = data.query(\"Cluster == 0\")\n",
    "print(\"Jumlah Produk:\")\n",
    "print(c0['Kode Produk'].size)\n",
    "c1 = data.query(\"Cluster == 1\")\n",
    "print(\"Jumlah Produk:\")\n",
    "print(c1['Kode Produk'].size)\n",
    "c2 = data.query(\"Cluster == 2\")\n",
    "print(\"Jumlah Produk:\")\n",
    "print(c2['Kode Produk'].size)\n",
    "c3 = data.query(\"Cluster == 3\")\n",
    "print(\"Jumlah Produk:\")\n",
    "print(c3['Kode Produk'].size)\n",
    "c4 = data.query(\"Cluster == 4\")\n",
    "print(\"Jumlah Produk:\")\n",
    "print(c4['Kode Produk'].size)"
   ]
  },
  {
   "cell_type": "code",
   "execution_count": 6,
   "metadata": {},
   "outputs": [],
   "source": [
    "#oke ada ternyata yang cuman sendirian (1 product di cluster tersebut), kita beresin dia dulu, the easiest, dan biar keliatan kita\n",
    "#ngapain aja di time series ini\n",
    "def windowed_dataset(series, window_size, batch_size, shuffle_buffer):\n",
    "    series = tf.expand_dims(series, axis=-1)\n",
    "    ds = tf.data.Dataset.from_tensor_slices(series)\n",
    "    ds = ds.window(window_size + 1, shift=1, drop_remainder=True)\n",
    "    ds = ds.flat_map(lambda w: w.batch(window_size + 1))\n",
    "    ds = ds.shuffle(shuffle_buffer)\n",
    "    ds = ds.map(lambda w: (w[:-1], w[1:]))\n",
    "    return ds.batch(batch_size).prefetch(1)\n",
    "# ini fungsinya buat nge ubah dataset jadi windowed"
   ]
  },
  {
   "cell_type": "markdown",
   "metadata": {},
   "source": [
    "# C2"
   ]
  },
  {
   "cell_type": "code",
   "execution_count": 7,
   "metadata": {},
   "outputs": [
    {
     "data": {
      "text/html": [
       "<div>\n",
       "<style scoped>\n",
       "    .dataframe tbody tr th:only-of-type {\n",
       "        vertical-align: middle;\n",
       "    }\n",
       "\n",
       "    .dataframe tbody tr th {\n",
       "        vertical-align: top;\n",
       "    }\n",
       "\n",
       "    .dataframe thead th {\n",
       "        text-align: right;\n",
       "    }\n",
       "</style>\n",
       "<table border=\"1\" class=\"dataframe\">\n",
       "  <thead>\n",
       "    <tr style=\"text-align: right;\">\n",
       "      <th></th>\n",
       "      <th>19-Jan</th>\n",
       "      <th>19-Feb</th>\n",
       "      <th>19-Mar</th>\n",
       "      <th>19-Apr</th>\n",
       "      <th>19-May</th>\n",
       "      <th>19-Jun</th>\n",
       "      <th>19-Jul</th>\n",
       "      <th>19-Aug</th>\n",
       "      <th>19-Sep</th>\n",
       "      <th>19-Oct</th>\n",
       "      <th>...</th>\n",
       "      <th>20-Mar</th>\n",
       "      <th>20-Apr</th>\n",
       "      <th>20-May</th>\n",
       "      <th>20-Jun</th>\n",
       "      <th>20-Jul</th>\n",
       "      <th>20-Aug</th>\n",
       "      <th>20-Sep</th>\n",
       "      <th>20-Oct</th>\n",
       "      <th>20-Nov</th>\n",
       "      <th>20-Dec</th>\n",
       "    </tr>\n",
       "  </thead>\n",
       "  <tbody>\n",
       "    <tr>\n",
       "      <th>79</th>\n",
       "      <td>4624</td>\n",
       "      <td>959</td>\n",
       "      <td>1500</td>\n",
       "      <td>4900</td>\n",
       "      <td>1812</td>\n",
       "      <td>2128</td>\n",
       "      <td>3913</td>\n",
       "      <td>5320</td>\n",
       "      <td>2657</td>\n",
       "      <td>4730</td>\n",
       "      <td>...</td>\n",
       "      <td>3682</td>\n",
       "      <td>3585</td>\n",
       "      <td>6316</td>\n",
       "      <td>2531</td>\n",
       "      <td>3752</td>\n",
       "      <td>2508</td>\n",
       "      <td>3637</td>\n",
       "      <td>3854</td>\n",
       "      <td>3951</td>\n",
       "      <td>3220</td>\n",
       "    </tr>\n",
       "  </tbody>\n",
       "</table>\n",
       "<p>1 rows × 24 columns</p>\n",
       "</div>"
      ],
      "text/plain": [
       "    19-Jan  19-Feb  19-Mar  19-Apr  19-May  19-Jun  19-Jul  19-Aug  19-Sep  \\\n",
       "79    4624     959    1500    4900    1812    2128    3913    5320    2657   \n",
       "\n",
       "    19-Oct  ...  20-Mar  20-Apr  20-May  20-Jun  20-Jul  20-Aug  20-Sep  \\\n",
       "79    4730  ...    3682    3585    6316    2531    3752    2508    3637   \n",
       "\n",
       "    20-Oct  20-Nov  20-Dec  \n",
       "79    3854    3951    3220  \n",
       "\n",
       "[1 rows x 24 columns]"
      ]
     },
     "execution_count": 7,
     "metadata": {},
     "output_type": "execute_result"
    }
   ],
   "source": [
    "#next kita ubah bentuk data nya dari yang tadinya kesamping jadi ke bawah, tapi pertama mau aku drop dulu cluster sama kode produknya\n",
    "c2=c2.drop(columns=['Kode Produk','Cluster'])\n",
    "c2"
   ]
  },
  {
   "cell_type": "code",
   "execution_count": 8,
   "metadata": {},
   "outputs": [
    {
     "name": "stdout",
     "output_type": "stream",
     "text": [
      "[0, 1, 2, 3, 4, 5, 6, 7, 8, 9, 10, 11, 12, 13, 14, 15, 16, 17, 18, 19, 20, 21, 22, 23] [4624, 959, 1500, 4900, 1812, 2128, 3913, 5320, 2657, 4730, 181, 2337, 2382, 1005, 3682, 3585, 6316, 2531, 3752, 2508, 3637, 3854, 3951, 3220]\n"
     ]
    }
   ],
   "source": [
    "#next, buat dia kayak mejeneng time series seperti biasanya, which is datanya ke bawah, \n",
    "new_c2=[]\n",
    "time=[]\n",
    "for idx,_ in enumerate(c2):\n",
    "    new_c2.append(c2.iloc[0,idx])\n",
    "    time.append(idx)\n",
    "print(time,new_c2)"
   ]
  },
  {
   "cell_type": "code",
   "execution_count": 9,
   "metadata": {},
   "outputs": [],
   "source": [
    "#normalisasi, karena gap nya ada yang sampe ribuan, biar lebih gampang tugas ann nya\n",
    "series=new_c2\n",
    "min = np.min(series)\n",
    "max = np.max(series)\n",
    "series = series - min\n",
    "series = series / (max-min)\n",
    "\n",
    "# scaler = MinMaxScaler(feature_range=(0, 1))\n",
    "# series = scaler.fit_transform(series)\n",
    "\n",
    "time = np.array(time)"
   ]
  },
  {
   "cell_type": "code",
   "execution_count": 10,
   "metadata": {},
   "outputs": [
    {
     "data": {
      "text/plain": [
       "array([0.72420538, 0.12681337, 0.21499593, 0.76919315, 0.26585167,\n",
       "       0.31735941, 0.60831296, 0.83765281, 0.40358598, 0.74148329,\n",
       "       0.        , 0.35142624, 0.35876121, 0.13431133, 0.57066015,\n",
       "       0.55484923, 1.        , 0.38304808, 0.58207009, 0.3792991 ,\n",
       "       0.56332518, 0.59869601, 0.61450693, 0.49535452])"
      ]
     },
     "execution_count": 10,
     "metadata": {},
     "output_type": "execute_result"
    }
   ],
   "source": [
    "series"
   ]
  },
  {
   "cell_type": "code",
   "execution_count": 11,
   "metadata": {},
   "outputs": [],
   "source": [
    "split_time = 3 # ini berapa bulan terkahir yang mau di potong buat pengujian?\n",
    "\n",
    "time_train = time[:-split_time]\n",
    "x_train =  series[:-split_time]\n",
    "time_valid =  time[-split_time:]\n",
    "x_valid =  series[-split_time:]"
   ]
  },
  {
   "cell_type": "code",
   "execution_count": 12,
   "metadata": {},
   "outputs": [
    {
     "data": {
      "text/plain": [
       "array([0.59869601, 0.61450693, 0.49535452])"
      ]
     },
     "execution_count": 12,
     "metadata": {},
     "output_type": "execute_result"
    }
   ],
   "source": [
    "x_valid"
   ]
  },
  {
   "cell_type": "code",
   "execution_count": 13,
   "metadata": {},
   "outputs": [],
   "source": [
    "#buat data biar dibagi per window, jadi me masang masangkan waktu dan value,\n",
    "window_size = 2\n",
    "batch_size = 2\n",
    "shuffle_buffer_size = 10\n",
    "\n",
    "train_set = windowed_dataset(x_train, window_size, batch_size, shuffle_buffer_size)\n",
    "valid_set = windowed_dataset(x_valid, window_size, batch_size, shuffle_buffer_size)"
   ]
  },
  {
   "cell_type": "code",
   "execution_count": 14,
   "metadata": {},
   "outputs": [],
   "source": [
    "model = tf.keras.Sequential([\n",
    "        tf.keras.layers.Dense(2, input_shape=[None, 1]),\n",
    "        tf.keras.layers.Bidirectional(tf.keras.layers.LSTM(64,return_sequences=True)),\n",
    "        tf.keras.layers.Bidirectional(tf.keras.layers.LSTM(32)),\n",
    "        \n",
    "        tf.keras.layers.Flatten(),\n",
    "        tf.keras.layers.Dense(1024, activation='relu'),\n",
    "        tf.keras.layers.Dropout(0.5),\n",
    "        tf.keras.layers.Dense(512, activation='relu',kernel_regularizer=tf.keras.regularizers.l1(l1=0.01)),\n",
    "        tf.keras.layers.Dense(64, activation='relu',kernel_regularizer=tf.keras.regularizers.l1_l2(l1=0.01, l2=0.01)),\n",
    "        tf.keras.layers.Dense(32, activation='relu'),\n",
    "        tf.keras.layers.Dropout(0.3),\n",
    "        tf.keras.layers.Dense(1, activation='relu')\n",
    "    ])\n",
    "\n",
    "    #the blstm part"
   ]
  },
  {
   "cell_type": "code",
   "execution_count": 15,
   "metadata": {},
   "outputs": [
    {
     "name": "stdout",
     "output_type": "stream",
     "text": [
      "Model: \"sequential\"\n",
      "_________________________________________________________________\n",
      "Layer (type)                 Output Shape              Param #   \n",
      "=================================================================\n",
      "dense (Dense)                (None, None, 2)           4         \n",
      "_________________________________________________________________\n",
      "bidirectional (Bidirectional (None, None, 128)         34304     \n",
      "_________________________________________________________________\n",
      "bidirectional_1 (Bidirection (None, 64)                41216     \n",
      "_________________________________________________________________\n",
      "flatten (Flatten)            (None, 64)                0         \n",
      "_________________________________________________________________\n",
      "dense_1 (Dense)              (None, 1024)              66560     \n",
      "_________________________________________________________________\n",
      "dropout (Dropout)            (None, 1024)              0         \n",
      "_________________________________________________________________\n",
      "dense_2 (Dense)              (None, 512)               524800    \n",
      "_________________________________________________________________\n",
      "dense_3 (Dense)              (None, 64)                32832     \n",
      "_________________________________________________________________\n",
      "dense_4 (Dense)              (None, 32)                2080      \n",
      "_________________________________________________________________\n",
      "dropout_1 (Dropout)          (None, 32)                0         \n",
      "_________________________________________________________________\n",
      "dense_5 (Dense)              (None, 1)                 33        \n",
      "=================================================================\n",
      "Total params: 701,829\n",
      "Trainable params: 701,829\n",
      "Non-trainable params: 0\n",
      "_________________________________________________________________\n",
      "Epoch 1/150\n",
      "10/10 [==============================] - 7s 156ms/step - loss: 159.4025 - mae: 0.4214 - val_loss: 130.9611 - val_mae: 0.4217\n",
      "Epoch 2/150\n",
      "10/10 [==============================] - 0s 22ms/step - loss: 112.3848 - mae: 0.3049 - val_loss: 89.1233 - val_mae: 0.2599\n",
      "Epoch 3/150\n",
      "10/10 [==============================] - 0s 18ms/step - loss: 74.2868 - mae: 0.2321 - val_loss: 55.9103 - val_mae: 0.1377\n",
      "Epoch 4/150\n",
      "10/10 [==============================] - 0s 18ms/step - loss: 44.6932 - mae: 0.2000 - val_loss: 31.1975 - val_mae: 0.1449\n",
      "Epoch 5/150\n",
      "10/10 [==============================] - 0s 18ms/step - loss: 23.6124 - mae: 0.2433 - val_loss: 14.9747 - val_mae: 0.2128\n",
      "Epoch 6/150\n",
      "10/10 [==============================] - 0s 18ms/step - loss: 11.0594 - mae: 0.2313 - val_loss: 7.3973 - val_mae: 0.1824\n",
      "Epoch 7/150\n",
      "10/10 [==============================] - 0s 18ms/step - loss: 6.4388 - mae: 0.2276 - val_loss: 4.7378 - val_mae: 0.1804\n",
      "Epoch 8/150\n",
      "10/10 [==============================] - 0s 18ms/step - loss: 3.6845 - mae: 0.2208 - val_loss: 2.7116 - val_mae: 0.1716\n",
      "Epoch 9/150\n",
      "10/10 [==============================] - 0s 17ms/step - loss: 2.1749 - mae: 0.2050 - val_loss: 1.5765 - val_mae: 0.1551\n",
      "Epoch 10/150\n",
      "10/10 [==============================] - 0s 18ms/step - loss: 1.3563 - mae: 0.2180 - val_loss: 1.0441 - val_mae: 0.1431\n",
      "Epoch 11/150\n",
      "10/10 [==============================] - 0s 18ms/step - loss: 1.0257 - mae: 0.2228 - val_loss: 0.8844 - val_mae: 0.1328\n",
      "Epoch 12/150\n",
      "10/10 [==============================] - 0s 18ms/step - loss: 0.8704 - mae: 0.2017 - val_loss: 0.7759 - val_mae: 0.1118\n",
      "Epoch 13/150\n",
      "10/10 [==============================] - 0s 18ms/step - loss: 0.8145 - mae: 0.2241 - val_loss: 0.7318 - val_mae: 0.0970\n",
      "Epoch 14/150\n",
      "10/10 [==============================] - 0s 18ms/step - loss: 0.7699 - mae: 0.2043 - val_loss: 0.6997 - val_mae: 0.0655\n",
      "Epoch 15/150\n",
      "10/10 [==============================] - 0s 17ms/step - loss: 0.7808 - mae: 0.2513 - val_loss: 0.7122 - val_mae: 0.0765\n",
      "Epoch 16/150\n",
      "10/10 [==============================] - 0s 17ms/step - loss: 0.7719 - mae: 0.2208 - val_loss: 0.7000 - val_mae: 0.1077\n",
      "Epoch 17/150\n",
      "10/10 [==============================] - 0s 18ms/step - loss: 0.7570 - mae: 0.2228 - val_loss: 0.7072 - val_mae: 0.1255\n",
      "Epoch 18/150\n",
      "10/10 [==============================] - 0s 18ms/step - loss: 0.7586 - mae: 0.2241 - val_loss: 0.7076 - val_mae: 0.1352\n",
      "Epoch 19/150\n",
      "10/10 [==============================] - 0s 18ms/step - loss: 0.7580 - mae: 0.2039 - val_loss: 0.7079 - val_mae: 0.1254\n",
      "Epoch 20/150\n",
      "10/10 [==============================] - 0s 17ms/step - loss: 0.7549 - mae: 0.2184 - val_loss: 0.7025 - val_mae: 0.1292\n",
      "Epoch 21/150\n",
      "10/10 [==============================] - 0s 18ms/step - loss: 0.7577 - mae: 0.2246 - val_loss: 0.7077 - val_mae: 0.1197\n",
      "Epoch 22/150\n",
      "10/10 [==============================] - 0s 18ms/step - loss: 0.7555 - mae: 0.2065 - val_loss: 0.6965 - val_mae: 0.0886\n",
      "Epoch 23/150\n",
      "10/10 [==============================] - 0s 18ms/step - loss: 0.7598 - mae: 0.2231 - val_loss: 0.6945 - val_mae: 0.0795\n",
      "Epoch 24/150\n",
      "10/10 [==============================] - 0s 23ms/step - loss: 0.7548 - mae: 0.2208 - val_loss: 0.7037 - val_mae: 0.1018\n",
      "Epoch 25/150\n",
      "10/10 [==============================] - 0s 18ms/step - loss: 0.7538 - mae: 0.2084 - val_loss: 0.6918 - val_mae: 0.0988\n",
      "Epoch 26/150\n",
      "10/10 [==============================] - 0s 18ms/step - loss: 0.7512 - mae: 0.1977 - val_loss: 0.6946 - val_mae: 0.0855\n",
      "Epoch 27/150\n",
      "10/10 [==============================] - 0s 17ms/step - loss: 0.7470 - mae: 0.2163 - val_loss: 0.6991 - val_mae: 0.0705\n",
      "Epoch 28/150\n",
      "10/10 [==============================] - 0s 18ms/step - loss: 0.7495 - mae: 0.2080 - val_loss: 0.6934 - val_mae: 0.0893\n",
      "Epoch 29/150\n",
      "10/10 [==============================] - 0s 18ms/step - loss: 0.7663 - mae: 0.2255 - val_loss: 0.6972 - val_mae: 0.0998\n",
      "Epoch 30/150\n",
      "10/10 [==============================] - 0s 18ms/step - loss: 0.7491 - mae: 0.2139 - val_loss: 0.6992 - val_mae: 0.1097\n",
      "Epoch 31/150\n",
      "10/10 [==============================] - 0s 19ms/step - loss: 0.7588 - mae: 0.2246 - val_loss: 0.7014 - val_mae: 0.1059\n",
      "Epoch 32/150\n",
      "10/10 [==============================] - 0s 17ms/step - loss: 0.7573 - mae: 0.2206 - val_loss: 0.6931 - val_mae: 0.0915\n",
      "Epoch 33/150\n",
      "10/10 [==============================] - 0s 18ms/step - loss: 0.7474 - mae: 0.2005 - val_loss: 0.7002 - val_mae: 0.0745\n",
      "Epoch 34/150\n",
      "10/10 [==============================] - 0s 18ms/step - loss: 0.7613 - mae: 0.2363 - val_loss: 0.6891 - val_mae: 0.0914\n",
      "Epoch 35/150\n",
      "10/10 [==============================] - 0s 18ms/step - loss: 0.7511 - mae: 0.2128 - val_loss: 0.7008 - val_mae: 0.0975\n",
      "Epoch 36/150\n",
      "10/10 [==============================] - 0s 17ms/step - loss: 0.7562 - mae: 0.2231 - val_loss: 0.7010 - val_mae: 0.1182\n",
      "Epoch 37/150\n",
      "10/10 [==============================] - 0s 17ms/step - loss: 0.7583 - mae: 0.2220 - val_loss: 0.6981 - val_mae: 0.1190\n",
      "Epoch 38/150\n",
      "10/10 [==============================] - 0s 17ms/step - loss: 0.7502 - mae: 0.1965 - val_loss: 0.6985 - val_mae: 0.1128\n",
      "Epoch 39/150\n",
      "10/10 [==============================] - 0s 16ms/step - loss: 0.7569 - mae: 0.2255 - val_loss: 0.7023 - val_mae: 0.1055\n",
      "Epoch 40/150\n",
      "10/10 [==============================] - 0s 17ms/step - loss: 0.7610 - mae: 0.2291 - val_loss: 0.6912 - val_mae: 0.0861\n",
      "Epoch 41/150\n",
      "10/10 [==============================] - 0s 17ms/step - loss: 0.7522 - mae: 0.2038 - val_loss: 0.6947 - val_mae: 0.1001\n",
      "Epoch 42/150\n",
      "10/10 [==============================] - 0s 18ms/step - loss: 0.7414 - mae: 0.2021 - val_loss: 0.6998 - val_mae: 0.1097\n",
      "Epoch 43/150\n",
      "10/10 [==============================] - 0s 17ms/step - loss: 0.7555 - mae: 0.2203 - val_loss: 0.7001 - val_mae: 0.1164\n",
      "Epoch 44/150\n",
      "10/10 [==============================] - 0s 18ms/step - loss: 0.7473 - mae: 0.2018 - val_loss: 0.6981 - val_mae: 0.1178\n",
      "Epoch 45/150\n",
      "10/10 [==============================] - 0s 17ms/step - loss: 0.7504 - mae: 0.2226 - val_loss: 0.7019 - val_mae: 0.1112\n",
      "Epoch 46/150\n",
      "10/10 [==============================] - 0s 17ms/step - loss: 0.7440 - mae: 0.1937 - val_loss: 0.6967 - val_mae: 0.1061\n",
      "Epoch 47/150\n",
      "10/10 [==============================] - 0s 17ms/step - loss: 0.7631 - mae: 0.2332 - val_loss: 0.6941 - val_mae: 0.0807\n",
      "Epoch 48/150\n",
      "10/10 [==============================] - 0s 17ms/step - loss: 0.7538 - mae: 0.2247 - val_loss: 0.6980 - val_mae: 0.1036\n",
      "Epoch 49/150\n",
      "10/10 [==============================] - 0s 18ms/step - loss: 0.7576 - mae: 0.2208 - val_loss: 0.6997 - val_mae: 0.1124\n",
      "Epoch 50/150\n",
      "10/10 [==============================] - 0s 18ms/step - loss: 0.7573 - mae: 0.2107 - val_loss: 0.6999 - val_mae: 0.1241\n",
      "Epoch 51/150\n",
      "10/10 [==============================] - 0s 18ms/step - loss: 0.7443 - mae: 0.2108 - val_loss: 0.7044 - val_mae: 0.1172\n",
      "Epoch 52/150\n",
      "10/10 [==============================] - 0s 18ms/step - loss: 0.7476 - mae: 0.2095 - val_loss: 0.6934 - val_mae: 0.0992\n",
      "Epoch 53/150\n",
      "10/10 [==============================] - 0s 18ms/step - loss: 0.7718 - mae: 0.2381 - val_loss: 0.6944 - val_mae: 0.0937\n",
      "Epoch 54/150\n",
      "10/10 [==============================] - 0s 17ms/step - loss: 0.7582 - mae: 0.2122 - val_loss: 0.7009 - val_mae: 0.1092\n",
      "Epoch 55/150\n",
      "10/10 [==============================] - 0s 17ms/step - loss: 0.7571 - mae: 0.2067 - val_loss: 0.7008 - val_mae: 0.1069\n",
      "Epoch 56/150\n",
      "10/10 [==============================] - 0s 17ms/step - loss: 0.7444 - mae: 0.2065 - val_loss: 0.6919 - val_mae: 0.1121\n",
      "Epoch 57/150\n",
      "10/10 [==============================] - 0s 20ms/step - loss: 0.7392 - mae: 0.2004 - val_loss: 0.6979 - val_mae: 0.0987\n",
      "Epoch 58/150\n",
      "10/10 [==============================] - 0s 17ms/step - loss: 0.7489 - mae: 0.2102 - val_loss: 0.6936 - val_mae: 0.1014\n",
      "Epoch 59/150\n",
      "10/10 [==============================] - 0s 17ms/step - loss: 0.7516 - mae: 0.2193 - val_loss: 0.6991 - val_mae: 0.1036\n",
      "Epoch 60/150\n",
      "10/10 [==============================] - 0s 17ms/step - loss: 0.7537 - mae: 0.2099 - val_loss: 0.6935 - val_mae: 0.0893\n",
      "Epoch 61/150\n",
      "10/10 [==============================] - 0s 17ms/step - loss: 0.7545 - mae: 0.2041 - val_loss: 0.6903 - val_mae: 0.0894\n",
      "Epoch 62/150\n",
      "10/10 [==============================] - 0s 17ms/step - loss: 0.7442 - mae: 0.2051 - val_loss: 0.6909 - val_mae: 0.0992\n",
      "Epoch 63/150\n",
      "10/10 [==============================] - 0s 17ms/step - loss: 0.7432 - mae: 0.2059 - val_loss: 0.7054 - val_mae: 0.1095\n",
      "Epoch 64/150\n",
      "10/10 [==============================] - 0s 18ms/step - loss: 0.7496 - mae: 0.1987 - val_loss: 0.6924 - val_mae: 0.1001\n",
      "Epoch 65/150\n",
      "10/10 [==============================] - 0s 18ms/step - loss: 0.7527 - mae: 0.2235 - val_loss: 0.6964 - val_mae: 0.1232\n",
      "Epoch 66/150\n",
      "10/10 [==============================] - 0s 17ms/step - loss: 0.7514 - mae: 0.2143 - val_loss: 0.7007 - val_mae: 0.1180\n",
      "Epoch 67/150\n",
      "10/10 [==============================] - 0s 18ms/step - loss: 0.7512 - mae: 0.2092 - val_loss: 0.6959 - val_mae: 0.1016\n",
      "Epoch 68/150\n",
      "10/10 [==============================] - 0s 17ms/step - loss: 0.7605 - mae: 0.2205 - val_loss: 0.6907 - val_mae: 0.0923\n",
      "Epoch 69/150\n",
      "10/10 [==============================] - 0s 17ms/step - loss: 0.7512 - mae: 0.2150 - val_loss: 0.6990 - val_mae: 0.1012\n",
      "Epoch 70/150\n",
      "10/10 [==============================] - 0s 18ms/step - loss: 0.7458 - mae: 0.2102 - val_loss: 0.6893 - val_mae: 0.1021\n",
      "Epoch 71/150\n",
      "10/10 [==============================] - 0s 18ms/step - loss: 0.7474 - mae: 0.2172 - val_loss: 0.6974 - val_mae: 0.1025\n",
      "Epoch 72/150\n",
      "10/10 [==============================] - 0s 17ms/step - loss: 0.7361 - mae: 0.1973 - val_loss: 0.6945 - val_mae: 0.0991\n",
      "Epoch 73/150\n",
      "10/10 [==============================] - 0s 18ms/step - loss: 0.7601 - mae: 0.2303 - val_loss: 0.6944 - val_mae: 0.1089\n",
      "Epoch 74/150\n",
      "10/10 [==============================] - 0s 17ms/step - loss: 0.7400 - mae: 0.1935 - val_loss: 0.6917 - val_mae: 0.1085\n",
      "Epoch 75/150\n",
      "10/10 [==============================] - 0s 18ms/step - loss: 0.7583 - mae: 0.2222 - val_loss: 0.7021 - val_mae: 0.1089\n",
      "Epoch 76/150\n",
      "10/10 [==============================] - 0s 17ms/step - loss: 0.7486 - mae: 0.2023 - val_loss: 0.6939 - val_mae: 0.1061\n",
      "Epoch 77/150\n",
      "10/10 [==============================] - 0s 17ms/step - loss: 0.7459 - mae: 0.2126 - val_loss: 0.6926 - val_mae: 0.1002\n",
      "Epoch 78/150\n",
      "10/10 [==============================] - 0s 19ms/step - loss: 0.7548 - mae: 0.2244 - val_loss: 0.6988 - val_mae: 0.1020\n",
      "Epoch 79/150\n",
      "10/10 [==============================] - 0s 17ms/step - loss: 0.7451 - mae: 0.1986 - val_loss: 0.6893 - val_mae: 0.0824\n",
      "Epoch 80/150\n",
      "10/10 [==============================] - 0s 18ms/step - loss: 0.7530 - mae: 0.2161 - val_loss: 0.6928 - val_mae: 0.0878\n",
      "Epoch 81/150\n",
      "10/10 [==============================] - 0s 19ms/step - loss: 0.7461 - mae: 0.2171 - val_loss: 0.6964 - val_mae: 0.0972\n",
      "Epoch 82/150\n",
      "10/10 [==============================] - 0s 18ms/step - loss: 0.7528 - mae: 0.2175 - val_loss: 0.6961 - val_mae: 0.1203\n",
      "Epoch 83/150\n",
      "10/10 [==============================] - 0s 18ms/step - loss: 0.7547 - mae: 0.2205 - val_loss: 0.7054 - val_mae: 0.1317\n",
      "Epoch 84/150\n",
      "10/10 [==============================] - 0s 18ms/step - loss: 0.7538 - mae: 0.2106 - val_loss: 0.6968 - val_mae: 0.1124\n",
      "Epoch 85/150\n",
      "10/10 [==============================] - 0s 17ms/step - loss: 0.7408 - mae: 0.1982 - val_loss: 0.6901 - val_mae: 0.0847\n",
      "Epoch 86/150\n",
      "10/10 [==============================] - 0s 18ms/step - loss: 0.7483 - mae: 0.2064 - val_loss: 0.6866 - val_mae: 0.0891\n",
      "Epoch 87/150\n",
      "10/10 [==============================] - 0s 18ms/step - loss: 0.7394 - mae: 0.2076 - val_loss: 0.6986 - val_mae: 0.0880\n",
      "Epoch 88/150\n",
      "10/10 [==============================] - 0s 17ms/step - loss: 0.7436 - mae: 0.2082 - val_loss: 0.6870 - val_mae: 0.1002\n",
      "Epoch 89/150\n",
      "10/10 [==============================] - 0s 19ms/step - loss: 0.7570 - mae: 0.2327 - val_loss: 0.6941 - val_mae: 0.0996\n",
      "Epoch 90/150\n",
      "10/10 [==============================] - 0s 18ms/step - loss: 0.7540 - mae: 0.2206 - val_loss: 0.7000 - val_mae: 0.1155\n",
      "Epoch 91/150\n",
      "10/10 [==============================] - 0s 19ms/step - loss: 0.7497 - mae: 0.2152 - val_loss: 0.6992 - val_mae: 0.1105\n",
      "Epoch 92/150\n",
      "10/10 [==============================] - 0s 18ms/step - loss: 0.7522 - mae: 0.2249 - val_loss: 0.6932 - val_mae: 0.1132\n",
      "Epoch 93/150\n",
      "10/10 [==============================] - 0s 17ms/step - loss: 0.7521 - mae: 0.2146 - val_loss: 0.6930 - val_mae: 0.0979\n",
      "Epoch 94/150\n",
      "10/10 [==============================] - 0s 18ms/step - loss: 0.7554 - mae: 0.2215 - val_loss: 0.6915 - val_mae: 0.0920\n",
      "Epoch 95/150\n",
      "10/10 [==============================] - 0s 16ms/step - loss: 0.7565 - mae: 0.2324 - val_loss: 0.6904 - val_mae: 0.0829\n",
      "Epoch 96/150\n",
      "10/10 [==============================] - 0s 17ms/step - loss: 0.7433 - mae: 0.2121 - val_loss: 0.6979 - val_mae: 0.1041\n",
      "Epoch 97/150\n",
      "10/10 [==============================] - 0s 16ms/step - loss: 0.7506 - mae: 0.2160 - val_loss: 0.6955 - val_mae: 0.1204\n",
      "Epoch 98/150\n",
      "10/10 [==============================] - 0s 17ms/step - loss: 0.7461 - mae: 0.2092 - val_loss: 0.6940 - val_mae: 0.1209\n",
      "Epoch 99/150\n",
      "10/10 [==============================] - 0s 17ms/step - loss: 0.7478 - mae: 0.2125 - val_loss: 0.7015 - val_mae: 0.1143\n",
      "Epoch 100/150\n",
      "10/10 [==============================] - 0s 18ms/step - loss: 0.7602 - mae: 0.2249 - val_loss: 0.6912 - val_mae: 0.1078\n",
      "Epoch 101/150\n",
      "10/10 [==============================] - 0s 18ms/step - loss: 0.7475 - mae: 0.2162 - val_loss: 0.6901 - val_mae: 0.0984\n",
      "Epoch 102/150\n",
      "10/10 [==============================] - 0s 17ms/step - loss: 0.7507 - mae: 0.2129 - val_loss: 0.6892 - val_mae: 0.0939\n",
      "Epoch 103/150\n",
      "10/10 [==============================] - 0s 18ms/step - loss: 0.7402 - mae: 0.1947 - val_loss: 0.6957 - val_mae: 0.0926\n",
      "Epoch 104/150\n",
      "10/10 [==============================] - 0s 18ms/step - loss: 0.7541 - mae: 0.2232 - val_loss: 0.6909 - val_mae: 0.1038\n",
      "Epoch 105/150\n",
      "10/10 [==============================] - 0s 18ms/step - loss: 0.7474 - mae: 0.2242 - val_loss: 0.6993 - val_mae: 0.0986\n",
      "Epoch 106/150\n",
      "10/10 [==============================] - 0s 17ms/step - loss: 0.7708 - mae: 0.2373 - val_loss: 0.6898 - val_mae: 0.1102\n",
      "Epoch 107/150\n",
      "10/10 [==============================] - 0s 17ms/step - loss: 0.7437 - mae: 0.2099 - val_loss: 0.6953 - val_mae: 0.1082\n",
      "Epoch 108/150\n",
      "10/10 [==============================] - 0s 18ms/step - loss: 0.7390 - mae: 0.2000 - val_loss: 0.6949 - val_mae: 0.1005\n",
      "Epoch 109/150\n",
      "10/10 [==============================] - 0s 18ms/step - loss: 0.7475 - mae: 0.2134 - val_loss: 0.6905 - val_mae: 0.1063\n",
      "Epoch 110/150\n",
      "10/10 [==============================] - 0s 21ms/step - loss: 0.7516 - mae: 0.2179 - val_loss: 0.6943 - val_mae: 0.1159\n",
      "Epoch 111/150\n",
      "10/10 [==============================] - 0s 16ms/step - loss: 0.7470 - mae: 0.2076 - val_loss: 0.7024 - val_mae: 0.1172\n",
      "Epoch 112/150\n",
      "10/10 [==============================] - 0s 16ms/step - loss: 0.7410 - mae: 0.2054 - val_loss: 0.6904 - val_mae: 0.0985\n",
      "Epoch 113/150\n",
      "10/10 [==============================] - 0s 16ms/step - loss: 0.7549 - mae: 0.2338 - val_loss: 0.6869 - val_mae: 0.0892\n",
      "Epoch 114/150\n",
      "10/10 [==============================] - 0s 17ms/step - loss: 0.7435 - mae: 0.2182 - val_loss: 0.6946 - val_mae: 0.0905\n",
      "Epoch 115/150\n",
      "10/10 [==============================] - 0s 17ms/step - loss: 0.7455 - mae: 0.2160 - val_loss: 0.6906 - val_mae: 0.0948\n",
      "Epoch 116/150\n",
      "10/10 [==============================] - 0s 18ms/step - loss: 0.7455 - mae: 0.2068 - val_loss: 0.6925 - val_mae: 0.1086\n",
      "Epoch 117/150\n",
      "10/10 [==============================] - 0s 18ms/step - loss: 0.7475 - mae: 0.2124 - val_loss: 0.7016 - val_mae: 0.1192\n",
      "Epoch 118/150\n",
      "10/10 [==============================] - 0s 18ms/step - loss: 0.7460 - mae: 0.2147 - val_loss: 0.6909 - val_mae: 0.1002\n",
      "Epoch 119/150\n",
      "10/10 [==============================] - 0s 17ms/step - loss: 0.7389 - mae: 0.2044 - val_loss: 0.6928 - val_mae: 0.0903\n",
      "Epoch 120/150\n",
      "10/10 [==============================] - 0s 18ms/step - loss: 0.7479 - mae: 0.2241 - val_loss: 0.6856 - val_mae: 0.0747\n",
      "Epoch 121/150\n",
      "10/10 [==============================] - 0s 17ms/step - loss: 0.7522 - mae: 0.2130 - val_loss: 0.6866 - val_mae: 0.0882\n",
      "Epoch 122/150\n",
      "10/10 [==============================] - 0s 17ms/step - loss: 0.7413 - mae: 0.2006 - val_loss: 0.6877 - val_mae: 0.0899\n",
      "Epoch 123/150\n",
      "10/10 [==============================] - 0s 17ms/step - loss: 0.7431 - mae: 0.2061 - val_loss: 0.6945 - val_mae: 0.0861\n",
      "Epoch 124/150\n",
      "10/10 [==============================] - 0s 18ms/step - loss: 0.7551 - mae: 0.2085 - val_loss: 0.6899 - val_mae: 0.0956\n",
      "Epoch 125/150\n",
      "10/10 [==============================] - 0s 18ms/step - loss: 0.7517 - mae: 0.2157 - val_loss: 0.6940 - val_mae: 0.0919\n",
      "Epoch 126/150\n",
      "10/10 [==============================] - 0s 18ms/step - loss: 0.7367 - mae: 0.2061 - val_loss: 0.6935 - val_mae: 0.1000\n",
      "Epoch 127/150\n",
      "10/10 [==============================] - 0s 17ms/step - loss: 0.7497 - mae: 0.2233 - val_loss: 0.6954 - val_mae: 0.1064\n",
      "Epoch 128/150\n",
      "10/10 [==============================] - 0s 17ms/step - loss: 0.7476 - mae: 0.2167 - val_loss: 0.6892 - val_mae: 0.1122\n",
      "Epoch 129/150\n",
      "10/10 [==============================] - 0s 17ms/step - loss: 0.7563 - mae: 0.2221 - val_loss: 0.6958 - val_mae: 0.1015\n",
      "Epoch 130/150\n",
      "10/10 [==============================] - 0s 17ms/step - loss: 0.7415 - mae: 0.1989 - val_loss: 0.6878 - val_mae: 0.0934\n",
      "Epoch 131/150\n",
      "10/10 [==============================] - 0s 17ms/step - loss: 0.7405 - mae: 0.2090 - val_loss: 0.6909 - val_mae: 0.0819\n",
      "Epoch 132/150\n",
      "10/10 [==============================] - 0s 17ms/step - loss: 0.7455 - mae: 0.2126 - val_loss: 0.6953 - val_mae: 0.0988\n",
      "Epoch 133/150\n",
      "10/10 [==============================] - 0s 19ms/step - loss: 0.7434 - mae: 0.2043 - val_loss: 0.6912 - val_mae: 0.0969\n",
      "Epoch 134/150\n",
      "10/10 [==============================] - 0s 18ms/step - loss: 0.7547 - mae: 0.2253 - val_loss: 0.6899 - val_mae: 0.0976\n",
      "Epoch 135/150\n",
      "10/10 [==============================] - 0s 17ms/step - loss: 0.7451 - mae: 0.2211 - val_loss: 0.6949 - val_mae: 0.1014\n",
      "Epoch 136/150\n",
      "10/10 [==============================] - 0s 18ms/step - loss: 0.7492 - mae: 0.2097 - val_loss: 0.6936 - val_mae: 0.1070\n",
      "Epoch 137/150\n",
      "10/10 [==============================] - 0s 19ms/step - loss: 0.7453 - mae: 0.2104 - val_loss: 0.6881 - val_mae: 0.0979\n",
      "Epoch 138/150\n",
      "10/10 [==============================] - 0s 17ms/step - loss: 0.7492 - mae: 0.2096 - val_loss: 0.6947 - val_mae: 0.0993\n",
      "Epoch 139/150\n",
      "10/10 [==============================] - 0s 17ms/step - loss: 0.7434 - mae: 0.2124 - val_loss: 0.6951 - val_mae: 0.0979\n",
      "Epoch 140/150\n",
      "10/10 [==============================] - 0s 17ms/step - loss: 0.7452 - mae: 0.2054 - val_loss: 0.6886 - val_mae: 0.1113\n",
      "Epoch 141/150\n",
      "10/10 [==============================] - 0s 18ms/step - loss: 0.7362 - mae: 0.2052 - val_loss: 0.7005 - val_mae: 0.1140\n",
      "Epoch 142/150\n",
      "10/10 [==============================] - 0s 18ms/step - loss: 0.7518 - mae: 0.2157 - val_loss: 0.6884 - val_mae: 0.1031\n",
      "Epoch 143/150\n",
      "10/10 [==============================] - 0s 17ms/step - loss: 0.7418 - mae: 0.2043 - val_loss: 0.6952 - val_mae: 0.0943\n",
      "Epoch 144/150\n",
      "10/10 [==============================] - 0s 17ms/step - loss: 0.7337 - mae: 0.1994 - val_loss: 0.6889 - val_mae: 0.0899\n",
      "Epoch 145/150\n",
      "10/10 [==============================] - 0s 18ms/step - loss: 0.7478 - mae: 0.2183 - val_loss: 0.6916 - val_mae: 0.1040\n",
      "Epoch 146/150\n",
      "10/10 [==============================] - 0s 18ms/step - loss: 0.7465 - mae: 0.2125 - val_loss: 0.6910 - val_mae: 0.1123\n",
      "Epoch 147/150\n",
      "10/10 [==============================] - 0s 18ms/step - loss: 0.7501 - mae: 0.2206 - val_loss: 0.7048 - val_mae: 0.1237\n",
      "Epoch 148/150\n",
      "10/10 [==============================] - 0s 17ms/step - loss: 0.7437 - mae: 0.2103 - val_loss: 0.6931 - val_mae: 0.1120\n",
      "Epoch 149/150\n",
      "10/10 [==============================] - 0s 18ms/step - loss: 0.7394 - mae: 0.2070 - val_loss: 0.6884 - val_mae: 0.1082\n",
      "Epoch 150/150\n",
      "10/10 [==============================] - 0s 17ms/step - loss: 0.7440 - mae: 0.2142 - val_loss: 0.6977 - val_mae: 0.1117\n"
     ]
    }
   ],
   "source": [
    "#Using mae and mse\n",
    "#model.compile(optimizer=tf.keras.optimizers.SGD(learning_rate=0.001, momentum=0.9),metrics=['mae'],loss='mse')\n",
    "model.compile(optimizer=tf.keras.optimizers.Adam(),metrics=['mae'],loss='mse')\n",
    "model.summary()\n",
    "hist=model.fit(train_set,epochs=150,validation_data=valid_set, batch_size=1)"
   ]
  },
  {
   "cell_type": "code",
   "execution_count": 16,
   "metadata": {},
   "outputs": [
    {
     "data": {
      "image/png": "[encoded data removed]",
      "text/plain": [
       "<Figure size 432x288 with 1 Axes>"
      ]
     },
     "metadata": {
      "needs_background": "light"
     },
     "output_type": "display_data"
    }
   ],
   "source": [
    "import matplotlib.pyplot as plt\n",
    "\n",
    "plt.plot(hist.history['mae'], label='MAE (training data)')\n",
    "plt.plot(hist.history['val_mae'], label='MAE (validation data)')\n",
    "\n",
    "plt.title('MAE Cluster 2')\n",
    "plt.ylabel('MAE value')\n",
    "plt.xlabel('No. epoch')\n",
    "plt.legend(loc=\"upper left\")\n",
    "plt.show()"
   ]
  },
  {
   "cell_type": "code",
   "execution_count": 17,
   "metadata": {},
   "outputs": [
    {
     "data": {
      "image/png": "[encoded data removed]",
      "text/plain": [
       "<Figure size 432x288 with 1 Axes>"
      ]
     },
     "metadata": {
      "needs_background": "light"
     },
     "output_type": "display_data"
    }
   ],
   "source": [
    "plt.plot(hist.history['loss'], label='loss (training data)')\n",
    "plt.plot(hist.history['val_loss'], label='loss (validation data)')\n",
    "\n",
    "plt.title(\"Loss Cluster 2 (MSE)\")\n",
    "plt.ylabel('MSE value')\n",
    "plt.xlabel('No. epoch')\n",
    "plt.legend(loc=\"upper left\")\n",
    "plt.show()"
   ]
  },
  {
   "cell_type": "code",
   "execution_count": 18,
   "metadata": {},
   "outputs": [
    {
     "data": {
      "text/plain": [
       "array([[0.44324207],\n",
       "       [0.44324207],\n",
       "       [0.44324207]], dtype=float32)"
      ]
     },
     "execution_count": 18,
     "metadata": {},
     "output_type": "execute_result"
    }
   ],
   "source": [
    "prediksi=model.predict([21, 22, 23])\n",
    "prediksi"
   ]
  },
  {
   "cell_type": "code",
   "execution_count": 19,
   "metadata": {},
   "outputs": [],
   "source": [
    "prediksi=prediksi.flatten()"
   ]
  },
  {
   "cell_type": "code",
   "execution_count": 21,
   "metadata": {},
   "outputs": [],
   "source": [
    "hasil=np.concatenate((series[:-split_time],prediksi))"
   ]
  },
  {
   "cell_type": "code",
   "execution_count": 22,
   "metadata": {},
   "outputs": [
    {
     "data": {
      "text/plain": [
       "array([0.72420538, 0.12681337, 0.21499593, 0.76919315, 0.26585167,\n",
       "       0.31735941, 0.60831296, 0.83765281, 0.40358598, 0.74148329,\n",
       "       0.        , 0.35142624, 0.35876121, 0.13431133, 0.57066015,\n",
       "       0.55484923, 1.        , 0.38304808, 0.58207009, 0.3792991 ,\n",
       "       0.56332518, 0.44324207, 0.44324207, 0.44324207])"
      ]
     },
     "execution_count": 22,
     "metadata": {},
     "output_type": "execute_result"
    }
   ],
   "source": [
    "hasil"
   ]
  },
  {
   "cell_type": "code",
   "execution_count": 24,
   "metadata": {},
   "outputs": [
    {
     "data": {
      "text/plain": [
       "[]"
      ]
     },
     "execution_count": 24,
     "metadata": {},
     "output_type": "execute_result"
    },
    {
     "data": {
      "image/png": "[encoded data removed]",
      "text/plain": [
       "<Figure size 432x288 with 1 Axes>"
      ]
     },
     "metadata": {
      "needs_background": "light"
     },
     "output_type": "display_data"
    }
   ],
   "source": [
    "plt.plot(series,label='data asli')\n",
    "plt.plot(hasil,label='data prediksi')\n",
    "plt.title('penjualan produk cluster 2')\n",
    "plt.legend()\n",
    "plt.plot()"
   ]
  },
  {
   "cell_type": "code",
   "execution_count": 25,
   "metadata": {},
   "outputs": [],
   "source": [
    "model.save('cluster2.h5')"
   ]
  },
  {
   "cell_type": "markdown",
   "metadata": {},
   "source": [
    "# C0"
   ]
  },
  {
   "cell_type": "code",
   "execution_count": 26,
   "metadata": {},
   "outputs": [],
   "source": [
    "## do the same for the others, tapi karena yang lain punya beberapa anggota, nah itu di average dulu per tanggalnya\n",
    "c0=c0.drop(columns=['Kode Produk', 'Cluster'])\n"
   ]
  },
  {
   "cell_type": "code",
   "execution_count": 27,
   "metadata": {},
   "outputs": [],
   "source": [
    "#next, buat dia kayak mejeneng time series seperti biasanya, which is datanya ke bawah, tapi di average per tanggal \n",
    "new_c0=[]\n",
    "time=[]\n",
    "for idx,a in enumerate(c0):\n",
    "    new_c0.append(c0[a].mean())\n",
    "    time.append(idx)\n"
   ]
  },
  {
   "cell_type": "code",
   "execution_count": 28,
   "metadata": {},
   "outputs": [
    {
     "data": {
      "text/plain": [
       "[28.010416666666668,\n",
       " 25.8125,\n",
       " 26.0,\n",
       " 24.8125,\n",
       " 28.427083333333332,\n",
       " 15.791666666666666,\n",
       " 31.25,\n",
       " 22.510416666666668,\n",
       " 30.760416666666668,\n",
       " 33.020833333333336,\n",
       " 28.020833333333332,\n",
       " 23.677083333333332,\n",
       " 27.677083333333332,\n",
       " 26.78125,\n",
       " 26.270833333333332,\n",
       " 19.114583333333332,\n",
       " 11.395833333333334,\n",
       " 13.270833333333334,\n",
       " 20.385416666666668,\n",
       " 22.083333333333332,\n",
       " 21.53125,\n",
       " 15.895833333333334,\n",
       " 19.885416666666668,\n",
       " 19.5625]"
      ]
     },
     "execution_count": 28,
     "metadata": {},
     "output_type": "execute_result"
    }
   ],
   "source": [
    "new_c0"
   ]
  },
  {
   "cell_type": "code",
   "execution_count": 29,
   "metadata": {},
   "outputs": [],
   "source": [
    "#normalisasi, karena gap nya ada yang sampe ribuan, biar lebih gampang tugas ann nya\n",
    "series=new_c0\n",
    "min = np.min(series)\n",
    "max = np.max(series)\n",
    "series = series - min\n",
    "series = series / (max-min)\n",
    "time = np.array(time)"
   ]
  },
  {
   "cell_type": "code",
   "execution_count": 30,
   "metadata": {},
   "outputs": [
    {
     "data": {
      "text/plain": [
       "array([0.76830443, 0.66666667, 0.67533719, 0.62042389, 0.78757225,\n",
       "       0.20327553, 0.91811175, 0.51396917, 0.89547206, 1.        ,\n",
       "       0.76878613, 0.56791908, 0.75289017, 0.71146435, 0.68786127,\n",
       "       0.35693642, 0.        , 0.0867052 , 0.41570328, 0.49421965,\n",
       "       0.46868979, 0.20809249, 0.39258189, 0.37764933])"
      ]
     },
     "execution_count": 30,
     "metadata": {},
     "output_type": "execute_result"
    }
   ],
   "source": [
    "series"
   ]
  },
  {
   "cell_type": "code",
   "execution_count": 31,
   "metadata": {},
   "outputs": [],
   "source": [
    "split_time = 3 # ini berapa bulan terkahir yang mau di potong buat pengujian?\n",
    "\n",
    "time_train = time[:-split_time]\n",
    "x_train =  series[:-split_time]\n",
    "time_valid =  time[-split_time:]\n",
    "x_valid =  series[-split_time:]"
   ]
  },
  {
   "cell_type": "code",
   "execution_count": 32,
   "metadata": {},
   "outputs": [
    {
     "data": {
      "text/plain": [
       "array([0.20809249, 0.39258189, 0.37764933])"
      ]
     },
     "execution_count": 32,
     "metadata": {},
     "output_type": "execute_result"
    }
   ],
   "source": [
    "x_valid"
   ]
  },
  {
   "cell_type": "code",
   "execution_count": 33,
   "metadata": {},
   "outputs": [],
   "source": [
    "#buat data biar dibagi per window, jadi me masang masangkan waktu dan value,\n",
    "window_size = 2\n",
    "batch_size = 2\n",
    "shuffle_buffer_size = 10\n",
    "\n",
    "train_set = windowed_dataset(x_train, window_size, batch_size, shuffle_buffer_size)\n",
    "valid_set = windowed_dataset(x_valid, window_size, batch_size, shuffle_buffer_size)"
   ]
  },
  {
   "cell_type": "code",
   "execution_count": 34,
   "metadata": {},
   "outputs": [],
   "source": [
    "model = tf.keras.Sequential([\n",
    "        tf.keras.layers.Dense(2, input_shape=[None, 1]),\n",
    "        tf.keras.layers.Bidirectional(tf.keras.layers.LSTM(64,return_sequences=True)),\n",
    "        tf.keras.layers.Bidirectional(tf.keras.layers.LSTM(32)),\n",
    "        \n",
    "        tf.keras.layers.Flatten(),\n",
    "        tf.keras.layers.Dense(1024, activation='relu'),\n",
    "        tf.keras.layers.Dropout(0.5),\n",
    "        tf.keras.layers.Dense(512, activation='relu',kernel_regularizer=tf.keras.regularizers.l1(l1=0.01)),\n",
    "        tf.keras.layers.Dense(64, activation='relu',kernel_regularizer=tf.keras.regularizers.l1_l2(l1=0.01, l2=0.01)),\n",
    "        tf.keras.layers.Dense(32, activation='relu'),\n",
    "        tf.keras.layers.Dropout(0.3),\n",
    "        tf.keras.layers.Dense(1, activation='relu')\n",
    "    ])\n",
    "\n",
    "    #the blstm part"
   ]
  },
  {
   "cell_type": "code",
   "execution_count": 35,
   "metadata": {},
   "outputs": [
    {
     "name": "stdout",
     "output_type": "stream",
     "text": [
      "Model: \"sequential_1\"\n",
      "_________________________________________________________________\n",
      "Layer (type)                 Output Shape              Param #   \n",
      "=================================================================\n",
      "dense_6 (Dense)              (None, None, 2)           4         \n",
      "_________________________________________________________________\n",
      "bidirectional_2 (Bidirection (None, None, 128)         34304     \n",
      "_________________________________________________________________\n",
      "bidirectional_3 (Bidirection (None, 64)                41216     \n",
      "_________________________________________________________________\n",
      "flatten_1 (Flatten)          (None, 64)                0         \n",
      "_________________________________________________________________\n",
      "dense_7 (Dense)              (None, 1024)              66560     \n",
      "_________________________________________________________________\n",
      "dropout_2 (Dropout)          (None, 1024)              0         \n",
      "_________________________________________________________________\n",
      "dense_8 (Dense)              (None, 512)               524800    \n",
      "_________________________________________________________________\n",
      "dense_9 (Dense)              (None, 64)                32832     \n",
      "_________________________________________________________________\n",
      "dense_10 (Dense)             (None, 32)                2080      \n",
      "_________________________________________________________________\n",
      "dropout_3 (Dropout)          (None, 32)                0         \n",
      "_________________________________________________________________\n",
      "dense_11 (Dense)             (None, 1)                 33        \n",
      "=================================================================\n",
      "Total params: 701,829\n",
      "Trainable params: 701,829\n",
      "Non-trainable params: 0\n",
      "_________________________________________________________________\n",
      "Epoch 1/150\n",
      "1/1 [==============================] - 5s 5s/step - loss: 181.7826 - mae: 0.3849 - val_loss: 176.5155 - val_mae: 0.5716\n",
      "Epoch 2/150\n",
      "1/1 [==============================] - 0s 109ms/step - loss: 176.2591 - mae: 0.3748 - val_loss: 171.0710 - val_mae: 0.5616\n",
      "Epoch 3/150\n",
      "1/1 [==============================] - 0s 117ms/step - loss: 170.8254 - mae: 0.3721 - val_loss: 165.7241 - val_mae: 0.5519\n",
      "Epoch 4/150\n",
      "1/1 [==============================] - 0s 112ms/step - loss: 165.4760 - mae: 0.3520 - val_loss: 160.4865 - val_mae: 0.5404\n",
      "Epoch 5/150\n",
      "1/1 [==============================] - 0s 112ms/step - loss: 160.2398 - mae: 0.3336 - val_loss: 155.3395 - val_mae: 0.5286\n",
      "Epoch 6/150\n",
      "1/1 [==============================] - 0s 107ms/step - loss: 155.0921 - mae: 0.3104 - val_loss: 150.2886 - val_mae: 0.5160\n",
      "Epoch 7/150\n",
      "1/1 [==============================] - 0s 109ms/step - loss: 150.0746 - mae: 0.3395 - val_loss: 145.3381 - val_mae: 0.5034\n",
      "Epoch 8/150\n",
      "1/1 [==============================] - 0s 99ms/step - loss: 145.1066 - mae: 0.2889 - val_loss: 140.4803 - val_mae: 0.4902\n",
      "Epoch 9/150\n",
      "1/1 [==============================] - 0s 108ms/step - loss: 140.2567 - mae: 0.2766 - val_loss: 135.7225 - val_mae: 0.4772\n",
      "Epoch 10/150\n",
      "1/1 [==============================] - 0s 94ms/step - loss: 135.5478 - mae: 0.3317 - val_loss: 131.0506 - val_mae: 0.4647\n",
      "Epoch 11/150\n",
      "1/1 [==============================] - 0s 103ms/step - loss: 130.8618 - mae: 0.2856 - val_loss: 126.4662 - val_mae: 0.4520\n",
      "Epoch 12/150\n",
      "1/1 [==============================] - 0s 109ms/step - loss: 126.2516 - mae: 0.2036 - val_loss: 121.9632 - val_mae: 0.4386\n",
      "Epoch 13/150\n",
      "1/1 [==============================] - 0s 133ms/step - loss: 121.7645 - mae: 0.2076 - val_loss: 117.5641 - val_mae: 0.4247\n",
      "Epoch 14/150\n",
      "1/1 [==============================] - 0s 98ms/step - loss: 117.3767 - mae: 0.2002 - val_loss: 113.2554 - val_mae: 0.4105\n",
      "Epoch 15/150\n",
      "1/1 [==============================] - 0s 96ms/step - loss: 113.1041 - mae: 0.2493 - val_loss: 109.0345 - val_mae: 0.3978\n",
      "Epoch 16/150\n",
      "1/1 [==============================] - 0s 119ms/step - loss: 108.8819 - mae: 0.2182 - val_loss: 104.9074 - val_mae: 0.3855\n",
      "Epoch 17/150\n",
      "1/1 [==============================] - 0s 104ms/step - loss: 104.7476 - mae: 0.1660 - val_loss: 100.8476 - val_mae: 0.3732\n",
      "Epoch 18/150\n",
      "1/1 [==============================] - 0s 112ms/step - loss: 100.6879 - mae: 0.1248 - val_loss: 96.8929 - val_mae: 0.3610\n",
      "Epoch 19/150\n",
      "1/1 [==============================] - 0s 104ms/step - loss: 96.7598 - mae: 0.1755 - val_loss: 93.0191 - val_mae: 0.3489\n",
      "Epoch 20/150\n",
      "1/1 [==============================] - 0s 108ms/step - loss: 92.8789 - mae: 0.1136 - val_loss: 89.2344 - val_mae: 0.3369\n",
      "Epoch 21/150\n",
      "1/1 [==============================] - 0s 104ms/step - loss: 89.1219 - mae: 0.1752 - val_loss: 85.5450 - val_mae: 0.3253\n",
      "Epoch 22/150\n",
      "1/1 [==============================] - 0s 110ms/step - loss: 85.4113 - mae: 0.0193 - val_loss: 81.9204 - val_mae: 0.3160\n",
      "Epoch 23/150\n",
      "1/1 [==============================] - 0s 109ms/step - loss: 81.7983 - mae: 0.0706 - val_loss: 78.3891 - val_mae: 0.3069\n",
      "Epoch 24/150\n",
      "1/1 [==============================] - 0s 110ms/step - loss: 78.2775 - mae: 0.0952 - val_loss: 74.9379 - val_mae: 0.2986\n",
      "Epoch 25/150\n",
      "1/1 [==============================] - 0s 115ms/step - loss: 74.8405 - mae: 0.1314 - val_loss: 71.5727 - val_mae: 0.2909\n",
      "Epoch 26/150\n",
      "1/1 [==============================] - 0s 106ms/step - loss: 71.4637 - mae: 0.0075 - val_loss: 68.3051 - val_mae: 0.2850\n",
      "Epoch 27/150\n",
      "1/1 [==============================] - 0s 110ms/step - loss: 68.2027 - mae: 0.0489 - val_loss: 65.1161 - val_mae: 0.2817\n",
      "Epoch 28/150\n",
      "1/1 [==============================] - 0s 99ms/step - loss: 65.0325 - mae: 0.1378 - val_loss: 62.0079 - val_mae: 0.2780\n",
      "Epoch 29/150\n",
      "1/1 [==============================] - 0s 110ms/step - loss: 61.9079 - mae: 0.0096 - val_loss: 58.9889 - val_mae: 0.2754\n",
      "Epoch 30/150\n",
      "1/1 [==============================] - 0s 114ms/step - loss: 58.8951 - mae: 0.0684 - val_loss: 56.0565 - val_mae: 0.2728\n",
      "Epoch 31/150\n",
      "1/1 [==============================] - 0s 110ms/step - loss: 55.9636 - mae: 0.0637 - val_loss: 53.1978 - val_mae: 0.2728\n",
      "Epoch 32/150\n",
      "1/1 [==============================] - 0s 118ms/step - loss: 53.1102 - mae: 0.0964 - val_loss: 50.4319 - val_mae: 0.2759\n",
      "Epoch 33/150\n",
      "1/1 [==============================] - 0s 102ms/step - loss: 50.3437 - mae: 0.1037 - val_loss: 47.7484 - val_mae: 0.2817\n",
      "Epoch 34/150\n",
      "1/1 [==============================] - 0s 114ms/step - loss: 47.6456 - mae: 0.0075 - val_loss: 45.1456 - val_mae: 0.2874\n",
      "Epoch 35/150\n",
      "1/1 [==============================] - 0s 117ms/step - loss: 45.0400 - mae: 0.0349 - val_loss: 42.6317 - val_mae: 0.2922\n",
      "Epoch 36/150\n",
      "1/1 [==============================] - 0s 108ms/step - loss: 42.5260 - mae: 0.0684 - val_loss: 40.2172 - val_mae: 0.2983\n",
      "Epoch 37/150\n",
      "1/1 [==============================] - 0s 115ms/step - loss: 40.1028 - mae: 0.0232 - val_loss: 37.8779 - val_mae: 0.3047\n",
      "Epoch 38/150\n",
      "1/1 [==============================] - 0s 103ms/step - loss: 37.7659 - mae: 0.0869 - val_loss: 35.6115 - val_mae: 0.3100\n",
      "Epoch 39/150\n",
      "1/1 [==============================] - 0s 112ms/step - loss: 35.4936 - mae: 0.0742 - val_loss: 33.4385 - val_mae: 0.3166\n",
      "Epoch 40/150\n",
      "1/1 [==============================] - 0s 117ms/step - loss: 33.3139 - mae: 0.0593 - val_loss: 31.3531 - val_mae: 0.3237\n",
      "Epoch 41/150\n",
      "1/1 [==============================] - 0s 113ms/step - loss: 31.2368 - mae: 0.1306 - val_loss: 29.3501 - val_mae: 0.3289\n",
      "Epoch 42/150\n",
      "1/1 [==============================] - 0s 106ms/step - loss: 29.2195 - mae: 0.0823 - val_loss: 27.4326 - val_mae: 0.3328\n",
      "Epoch 43/150\n",
      "1/1 [==============================] - 0s 126ms/step - loss: 27.2927 - mae: 0.0228 - val_loss: 25.5926 - val_mae: 0.3370\n",
      "Epoch 44/150\n",
      "1/1 [==============================] - 0s 115ms/step - loss: 25.4693 - mae: 0.1427 - val_loss: 23.8361 - val_mae: 0.3397\n",
      "Epoch 45/150\n",
      "1/1 [==============================] - 0s 111ms/step - loss: 23.7012 - mae: 0.1049 - val_loss: 22.1641 - val_mae: 0.3413\n",
      "Epoch 46/150\n",
      "1/1 [==============================] - 0s 104ms/step - loss: 22.0530 - mae: 0.1899 - val_loss: 20.5860 - val_mae: 0.3417\n",
      "Epoch 47/150\n",
      "1/1 [==============================] - 0s 113ms/step - loss: 20.4390 - mae: 0.0243 - val_loss: 19.0699 - val_mae: 0.3422\n",
      "Epoch 48/150\n",
      "1/1 [==============================] - 0s 94ms/step - loss: 18.9343 - mae: 0.1114 - val_loss: 17.6336 - val_mae: 0.3418\n",
      "Epoch 49/150\n",
      "1/1 [==============================] - 0s 111ms/step - loss: 17.4874 - mae: 0.0390 - val_loss: 16.3059 - val_mae: 0.3414\n",
      "Epoch 50/150\n",
      "1/1 [==============================] - 0s 106ms/step - loss: 16.1774 - mae: 0.1376 - val_loss: 15.0928 - val_mae: 0.3401\n",
      "Epoch 51/150\n",
      "1/1 [==============================] - 0s 124ms/step - loss: 14.9520 - mae: 0.0744 - val_loss: 13.9689 - val_mae: 0.3386\n",
      "Epoch 52/150\n",
      "1/1 [==============================] - 0s 112ms/step - loss: 13.8738 - mae: 0.2237 - val_loss: 12.9095 - val_mae: 0.3365\n",
      "Epoch 53/150\n",
      "1/1 [==============================] - 0s 106ms/step - loss: 12.7714 - mae: 0.0742 - val_loss: 11.9317 - val_mae: 0.3343\n",
      "Epoch 54/150\n",
      "1/1 [==============================] - 0s 104ms/step - loss: 11.7932 - mae: 0.0577 - val_loss: 11.0293 - val_mae: 0.3321\n",
      "Epoch 55/150\n",
      "1/1 [==============================] - 0s 102ms/step - loss: 10.8937 - mae: 0.0673 - val_loss: 10.2031 - val_mae: 0.3298\n",
      "Epoch 56/150\n",
      "1/1 [==============================] - 0s 106ms/step - loss: 10.0666 - mae: 0.0424 - val_loss: 9.4704 - val_mae: 0.3275\n",
      "Epoch 57/150\n",
      "1/1 [==============================] - 0s 108ms/step - loss: 9.3748 - mae: 0.2025 - val_loss: 8.8333 - val_mae: 0.3246\n",
      "Epoch 58/150\n",
      "1/1 [==============================] - 0s 96ms/step - loss: 8.6988 - mae: 0.0075 - val_loss: 8.2930 - val_mae: 0.3224\n",
      "Epoch 59/150\n",
      "1/1 [==============================] - 0s 109ms/step - loss: 8.1617 - mae: 0.0408 - val_loss: 7.8411 - val_mae: 0.3202\n",
      "Epoch 60/150\n",
      "1/1 [==============================] - 0s 118ms/step - loss: 7.7141 - mae: 0.0668 - val_loss: 7.4683 - val_mae: 0.3178\n",
      "Epoch 61/150\n",
      "1/1 [==============================] - 0s 101ms/step - loss: 7.3394 - mae: 0.0279 - val_loss: 7.1743 - val_mae: 0.3156\n",
      "Epoch 62/150\n",
      "1/1 [==============================] - 0s 111ms/step - loss: 7.0656 - mae: 0.1395 - val_loss: 6.9721 - val_mae: 0.3128\n",
      "Epoch 63/150\n",
      "1/1 [==============================] - 0s 113ms/step - loss: 6.8506 - mae: 0.0685 - val_loss: 6.8444 - val_mae: 0.3115\n",
      "Epoch 64/150\n",
      "1/1 [==============================] - 0s 113ms/step - loss: 6.7207 - mae: 0.0403 - val_loss: 6.6681 - val_mae: 0.3110\n",
      "Epoch 65/150\n",
      "1/1 [==============================] - 0s 107ms/step - loss: 6.5435 - mae: 0.0197 - val_loss: 6.4301 - val_mae: 0.3103\n",
      "Epoch 66/150\n",
      "1/1 [==============================] - 0s 110ms/step - loss: 6.3249 - mae: 0.1394 - val_loss: 6.1478 - val_mae: 0.3088\n",
      "Epoch 67/150\n",
      "1/1 [==============================] - 0s 108ms/step - loss: 6.0247 - mae: 0.0221 - val_loss: 5.8339 - val_mae: 0.3073\n",
      "Epoch 68/150\n",
      "1/1 [==============================] - 0s 112ms/step - loss: 5.7127 - mae: 0.0358 - val_loss: 5.5042 - val_mae: 0.3057\n",
      "Epoch 69/150\n",
      "1/1 [==============================] - 0s 115ms/step - loss: 5.3915 - mae: 0.0934 - val_loss: 5.1640 - val_mae: 0.3039\n",
      "Epoch 70/150\n",
      "1/1 [==============================] - 0s 115ms/step - loss: 5.0463 - mae: 0.0494 - val_loss: 4.8289 - val_mae: 0.3032\n",
      "Epoch 71/150\n",
      "1/1 [==============================] - 0s 107ms/step - loss: 4.7538 - mae: 0.2108 - val_loss: 4.4995 - val_mae: 0.3018\n",
      "Epoch 72/150\n",
      "1/1 [==============================] - 0s 97ms/step - loss: 4.4201 - mae: 0.1978 - val_loss: 4.1853 - val_mae: 0.2998\n",
      "Epoch 73/150\n",
      "1/1 [==============================] - 0s 108ms/step - loss: 4.0683 - mae: 0.0075 - val_loss: 3.8978 - val_mae: 0.2984\n",
      "Epoch 74/150\n",
      "1/1 [==============================] - 0s 130ms/step - loss: 3.7818 - mae: 0.0075 - val_loss: 3.6455 - val_mae: 0.2972\n",
      "Epoch 75/150\n",
      "1/1 [==============================] - 0s 99ms/step - loss: 3.5320 - mae: 0.0404 - val_loss: 3.4303 - val_mae: 0.2960\n",
      "Epoch 76/150\n",
      "1/1 [==============================] - 0s 116ms/step - loss: 3.3318 - mae: 0.1252 - val_loss: 3.2572 - val_mae: 0.2943\n",
      "Epoch 77/150\n",
      "1/1 [==============================] - 0s 99ms/step - loss: 3.1442 - mae: 0.0075 - val_loss: 3.1351 - val_mae: 0.2931\n",
      "Epoch 78/150\n",
      "1/1 [==============================] - 0s 106ms/step - loss: 3.0230 - mae: 0.0075 - val_loss: 3.0340 - val_mae: 0.2921\n",
      "Epoch 79/150\n",
      "1/1 [==============================] - 0s 115ms/step - loss: 2.9229 - mae: 0.0226 - val_loss: 2.9294 - val_mae: 0.2917\n",
      "Epoch 80/150\n",
      "1/1 [==============================] - 0s 109ms/step - loss: 2.8207 - mae: 0.0507 - val_loss: 2.7885 - val_mae: 0.2910\n",
      "Epoch 81/150\n",
      "1/1 [==============================] - 0s 108ms/step - loss: 2.6982 - mae: 0.1430 - val_loss: 2.6349 - val_mae: 0.2926\n",
      "Epoch 82/150\n",
      "1/1 [==============================] - 0s 107ms/step - loss: 2.5367 - mae: 0.1167 - val_loss: 2.4853 - val_mae: 0.2956\n",
      "Epoch 83/150\n",
      "1/1 [==============================] - 0s 107ms/step - loss: 2.3828 - mae: 0.1067 - val_loss: 2.3398 - val_mae: 0.2974\n",
      "Epoch 84/150\n",
      "1/1 [==============================] - 0s 110ms/step - loss: 2.2355 - mae: 0.1046 - val_loss: 2.2040 - val_mae: 0.2982\n",
      "Epoch 85/150\n",
      "1/1 [==============================] - 0s 108ms/step - loss: 2.0895 - mae: 0.0371 - val_loss: 2.0795 - val_mae: 0.2987\n",
      "Epoch 86/150\n",
      "1/1 [==============================] - 0s 105ms/step - loss: 1.9639 - mae: 0.0246 - val_loss: 1.9712 - val_mae: 0.2994\n",
      "Epoch 87/150\n",
      "1/1 [==============================] - 0s 101ms/step - loss: 1.8767 - mae: 0.1492 - val_loss: 1.8842 - val_mae: 0.2993\n",
      "Epoch 88/150\n",
      "1/1 [==============================] - 0s 109ms/step - loss: 1.7804 - mae: 0.1137 - val_loss: 1.8104 - val_mae: 0.3009\n",
      "Epoch 89/150\n",
      "1/1 [==============================] - 0s 104ms/step - loss: 1.6929 - mae: 0.0207 - val_loss: 1.7361 - val_mae: 0.3027\n",
      "Epoch 90/150\n",
      "1/1 [==============================] - 0s 115ms/step - loss: 1.6207 - mae: 0.0615 - val_loss: 1.6653 - val_mae: 0.3038\n",
      "Epoch 91/150\n",
      "1/1 [==============================] - 0s 110ms/step - loss: 1.5453 - mae: 0.0075 - val_loss: 1.5870 - val_mae: 0.3048\n",
      "Epoch 92/150\n",
      "1/1 [==============================] - 0s 114ms/step - loss: 1.4663 - mae: 0.0078 - val_loss: 1.5094 - val_mae: 0.3059\n",
      "Epoch 93/150\n",
      "1/1 [==============================] - 0s 103ms/step - loss: 1.3878 - mae: 0.0075 - val_loss: 1.4465 - val_mae: 0.3071\n",
      "Epoch 94/150\n",
      "1/1 [==============================] - 0s 113ms/step - loss: 1.3293 - mae: 0.0719 - val_loss: 1.3936 - val_mae: 0.3072\n",
      "Epoch 95/150\n",
      "1/1 [==============================] - 0s 105ms/step - loss: 1.2722 - mae: 0.0328 - val_loss: 1.3415 - val_mae: 0.3080\n",
      "Epoch 96/150\n",
      "1/1 [==============================] - 0s 106ms/step - loss: 1.2190 - mae: 0.0224 - val_loss: 1.2927 - val_mae: 0.3083\n",
      "Epoch 97/150\n",
      "1/1 [==============================] - 0s 102ms/step - loss: 1.1796 - mae: 0.1006 - val_loss: 1.2444 - val_mae: 0.3104\n",
      "Epoch 98/150\n",
      "1/1 [==============================] - 0s 104ms/step - loss: 1.1266 - mae: 0.0825 - val_loss: 1.2074 - val_mae: 0.3114\n",
      "Epoch 99/150\n",
      "1/1 [==============================] - 0s 111ms/step - loss: 1.0870 - mae: 0.0702 - val_loss: 1.1744 - val_mae: 0.3114\n",
      "Epoch 100/150\n",
      "1/1 [==============================] - 0s 98ms/step - loss: 1.0493 - mae: 0.0078 - val_loss: 1.1440 - val_mae: 0.3116\n",
      "Epoch 101/150\n",
      "1/1 [==============================] - 0s 115ms/step - loss: 1.0214 - mae: 0.0529 - val_loss: 1.1207 - val_mae: 0.3126\n",
      "Epoch 102/150\n",
      "1/1 [==============================] - 0s 109ms/step - loss: 0.9981 - mae: 0.0589 - val_loss: 1.1034 - val_mae: 0.3127\n",
      "Epoch 103/150\n",
      "1/1 [==============================] - 0s 118ms/step - loss: 0.9775 - mae: 0.0149 - val_loss: 1.0846 - val_mae: 0.3125\n",
      "Epoch 104/150\n",
      "1/1 [==============================] - 0s 112ms/step - loss: 0.9668 - mae: 0.0906 - val_loss: 1.0618 - val_mae: 0.3114\n",
      "Epoch 105/150\n",
      "1/1 [==============================] - 0s 111ms/step - loss: 0.9375 - mae: 0.0315 - val_loss: 1.0397 - val_mae: 0.3111\n",
      "Epoch 106/150\n",
      "1/1 [==============================] - 0s 113ms/step - loss: 0.9150 - mae: 0.0163 - val_loss: 1.0267 - val_mae: 0.3104\n",
      "Epoch 107/150\n",
      "1/1 [==============================] - 0s 115ms/step - loss: 0.9116 - mae: 0.0977 - val_loss: 1.0196 - val_mae: 0.3088\n",
      "Epoch 108/150\n",
      "1/1 [==============================] - 0s 115ms/step - loss: 0.8966 - mae: 0.0215 - val_loss: 1.0150 - val_mae: 0.3077\n",
      "Epoch 109/150\n",
      "1/1 [==============================] - 0s 108ms/step - loss: 0.8926 - mae: 0.0189 - val_loss: 1.0039 - val_mae: 0.3070\n",
      "Epoch 110/150\n",
      "1/1 [==============================] - 0s 111ms/step - loss: 0.8845 - mae: 0.0539 - val_loss: 0.9880 - val_mae: 0.3056\n",
      "Epoch 111/150\n",
      "1/1 [==============================] - 0s 119ms/step - loss: 0.8700 - mae: 0.0581 - val_loss: 0.9687 - val_mae: 0.3054\n",
      "Epoch 112/150\n",
      "1/1 [==============================] - 0s 114ms/step - loss: 0.8525 - mae: 0.0709 - val_loss: 0.9496 - val_mae: 0.3045\n",
      "Epoch 113/150\n",
      "1/1 [==============================] - 0s 105ms/step - loss: 0.8291 - mae: 0.0075 - val_loss: 0.9396 - val_mae: 0.3038\n",
      "Epoch 114/150\n",
      "1/1 [==============================] - 0s 108ms/step - loss: 0.8196 - mae: 0.0075 - val_loss: 0.9351 - val_mae: 0.3031\n",
      "Epoch 115/150\n",
      "1/1 [==============================] - 0s 102ms/step - loss: 0.8214 - mae: 0.0767 - val_loss: 0.9222 - val_mae: 0.3020\n",
      "Epoch 116/150\n",
      "1/1 [==============================] - 0s 113ms/step - loss: 0.8054 - mae: 0.0426 - val_loss: 0.9034 - val_mae: 0.3006\n",
      "Epoch 117/150\n",
      "1/1 [==============================] - 0s 112ms/step - loss: 0.7859 - mae: 0.0112 - val_loss: 0.8862 - val_mae: 0.2993\n",
      "Epoch 118/150\n",
      "1/1 [==============================] - 0s 108ms/step - loss: 0.7770 - mae: 0.0865 - val_loss: 0.8816 - val_mae: 0.2974\n",
      "Epoch 119/150\n",
      "1/1 [==============================] - 0s 98ms/step - loss: 0.7670 - mae: 0.0257 - val_loss: 0.8782 - val_mae: 0.2956\n",
      "Epoch 120/150\n",
      "1/1 [==============================] - 0s 107ms/step - loss: 0.7646 - mae: 0.0208 - val_loss: 0.8738 - val_mae: 0.2942\n",
      "Epoch 121/150\n",
      "1/1 [==============================] - 0s 120ms/step - loss: 0.7616 - mae: 0.0292 - val_loss: 0.8685 - val_mae: 0.2928\n",
      "Epoch 122/150\n",
      "1/1 [==============================] - 0s 115ms/step - loss: 0.7606 - mae: 0.0638 - val_loss: 0.8617 - val_mae: 0.2925\n",
      "Epoch 123/150\n",
      "1/1 [==============================] - 0s 117ms/step - loss: 0.7529 - mae: 0.0541 - val_loss: 0.8570 - val_mae: 0.2916\n",
      "Epoch 124/150\n",
      "1/1 [==============================] - 0s 108ms/step - loss: 0.7577 - mae: 0.1094 - val_loss: 0.8494 - val_mae: 0.2899\n",
      "Epoch 125/150\n",
      "1/1 [==============================] - 0s 114ms/step - loss: 0.7413 - mae: 0.0444 - val_loss: 0.8459 - val_mae: 0.2890\n",
      "Epoch 126/150\n",
      "1/1 [==============================] - 0s 99ms/step - loss: 0.7396 - mae: 0.0554 - val_loss: 0.8512 - val_mae: 0.2890\n",
      "Epoch 127/150\n",
      "1/1 [==============================] - 0s 111ms/step - loss: 0.7439 - mae: 0.0456 - val_loss: 0.8440 - val_mae: 0.2885\n",
      "Epoch 128/150\n",
      "1/1 [==============================] - 0s 118ms/step - loss: 0.7425 - mae: 0.0871 - val_loss: 0.8368 - val_mae: 0.2892\n",
      "Epoch 129/150\n",
      "1/1 [==============================] - 0s 102ms/step - loss: 0.7273 - mae: 0.0075 - val_loss: 0.8318 - val_mae: 0.2898\n",
      "Epoch 130/150\n",
      "1/1 [==============================] - 0s 108ms/step - loss: 0.7290 - mae: 0.0852 - val_loss: 0.8301 - val_mae: 0.2896\n",
      "Epoch 131/150\n",
      "1/1 [==============================] - 0s 111ms/step - loss: 0.7282 - mae: 0.0889 - val_loss: 0.8276 - val_mae: 0.2906\n",
      "Epoch 132/150\n",
      "1/1 [==============================] - 0s 115ms/step - loss: 0.7285 - mae: 0.1066 - val_loss: 0.8313 - val_mae: 0.2930\n",
      "Epoch 133/150\n",
      "1/1 [==============================] - 0s 108ms/step - loss: 0.7410 - mae: 0.1479 - val_loss: 0.8373 - val_mae: 0.2939\n",
      "Epoch 134/150\n",
      "1/1 [==============================] - 0s 113ms/step - loss: 0.7610 - mae: 0.1910 - val_loss: 0.8345 - val_mae: 0.2934\n",
      "Epoch 135/150\n",
      "1/1 [==============================] - 0s 99ms/step - loss: 0.7274 - mae: 0.0727 - val_loss: 0.8257 - val_mae: 0.2940\n",
      "Epoch 136/150\n",
      "1/1 [==============================] - 0s 112ms/step - loss: 0.7163 - mae: 0.0587 - val_loss: 0.8141 - val_mae: 0.2940\n",
      "Epoch 137/150\n",
      "1/1 [==============================] - 0s 112ms/step - loss: 0.7077 - mae: 0.0805 - val_loss: 0.8106 - val_mae: 0.2935\n",
      "Epoch 138/150\n",
      "1/1 [==============================] - 0s 108ms/step - loss: 0.7034 - mae: 0.0727 - val_loss: 0.8154 - val_mae: 0.2925\n",
      "Epoch 139/150\n",
      "1/1 [==============================] - 0s 103ms/step - loss: 0.7036 - mae: 0.0075 - val_loss: 0.8104 - val_mae: 0.2919\n",
      "Epoch 140/150\n",
      "1/1 [==============================] - 0s 108ms/step - loss: 0.7012 - mae: 0.0470 - val_loss: 0.8052 - val_mae: 0.2920\n",
      "Epoch 141/150\n",
      "1/1 [==============================] - 0s 111ms/step - loss: 0.7076 - mae: 0.1175 - val_loss: 0.8051 - val_mae: 0.2940\n",
      "Epoch 142/150\n",
      "1/1 [==============================] - 0s 112ms/step - loss: 0.6967 - mae: 0.0666 - val_loss: 0.8081 - val_mae: 0.2949\n",
      "Epoch 143/150\n",
      "1/1 [==============================] - 0s 105ms/step - loss: 0.6952 - mae: 0.0227 - val_loss: 0.8118 - val_mae: 0.2957\n",
      "Epoch 144/150\n",
      "1/1 [==============================] - 0s 106ms/step - loss: 0.7115 - mae: 0.1170 - val_loss: 0.8104 - val_mae: 0.2952\n",
      "Epoch 145/150\n",
      "1/1 [==============================] - 0s 105ms/step - loss: 0.7003 - mae: 0.0609 - val_loss: 0.8050 - val_mae: 0.2943\n",
      "Epoch 146/150\n",
      "1/1 [==============================] - 0s 115ms/step - loss: 0.6928 - mae: 0.0289 - val_loss: 0.8010 - val_mae: 0.2932\n",
      "Epoch 147/150\n",
      "1/1 [==============================] - 0s 106ms/step - loss: 0.7044 - mae: 0.1250 - val_loss: 0.8011 - val_mae: 0.2914\n",
      "Epoch 148/150\n",
      "1/1 [==============================] - 0s 90ms/step - loss: 0.6967 - mae: 0.0821 - val_loss: 0.8043 - val_mae: 0.2914\n",
      "Epoch 149/150\n",
      "1/1 [==============================] - 0s 112ms/step - loss: 0.7034 - mae: 0.1008 - val_loss: 0.8099 - val_mae: 0.2908\n",
      "Epoch 150/150\n",
      "1/1 [==============================] - 0s 101ms/step - loss: 0.6993 - mae: 0.0075 - val_loss: 0.8137 - val_mae: 0.2901\n"
     ]
    }
   ],
   "source": [
    "#Using mae and mse\n",
    "model.compile(optimizer=tf.keras.optimizers.Adam(),metrics=['mae'],loss='mse')\n",
    "model.summary()\n",
    "hist=model.fit(valid_set,epochs=150,validation_data=train_set)"
   ]
  },
  {
   "cell_type": "code",
   "execution_count": 36,
   "metadata": {},
   "outputs": [
    {
     "data": {
      "image/png": "[encoded data removed]",
      "text/plain": [
       "<Figure size 432x288 with 1 Axes>"
      ]
     },
     "metadata": {
      "needs_background": "light"
     },
     "output_type": "display_data"
    }
   ],
   "source": [
    "import matplotlib.pyplot as plt\n",
    "plt.plot(hist.history['mae'], label='MAE (training data)')\n",
    "plt.plot(hist.history['val_mae'], label='MAE (validation data)')\n",
    "\n",
    "plt.title(\"MAE Cluster 0\")\n",
    "plt.ylabel('MAE value')\n",
    "plt.xlabel('No. epoch')\n",
    "plt.legend(loc=\"upper left\")\n",
    "plt.show()"
   ]
  },
  {
   "cell_type": "code",
   "execution_count": 37,
   "metadata": {},
   "outputs": [
    {
     "data": {
      "image/png": "[encoded data removed]",
      "text/plain": [
       "<Figure size 432x288 with 1 Axes>"
      ]
     },
     "metadata": {
      "needs_background": "light"
     },
     "output_type": "display_data"
    }
   ],
   "source": [
    "plt.plot(hist.history['loss'], label='loss (training data)')\n",
    "plt.plot(hist.history['val_loss'], label='loss (validation data)')\n",
    "\n",
    "plt.title(\"Loss Cluster 0 (MSE)\")\n",
    "plt.ylabel('MSE value')\n",
    "plt.xlabel('No. epoch')\n",
    "plt.legend(loc=\"upper left\")\n",
    "plt.show()"
   ]
  },
  {
   "cell_type": "code",
   "execution_count": 45,
   "metadata": {},
   "outputs": [
    {
     "data": {
      "text/plain": [
       "array([[0.38345188],\n",
       "       [0.38345188],\n",
       "       [0.38345188]], dtype=float32)"
      ]
     },
     "execution_count": 45,
     "metadata": {},
     "output_type": "execute_result"
    }
   ],
   "source": [
    "prediksi=model.predict([21, 22, 23])\n",
    "prediksi"
   ]
  },
  {
   "cell_type": "code",
   "execution_count": 46,
   "metadata": {},
   "outputs": [],
   "source": [
    "prediksi=prediksi.flatten()"
   ]
  },
  {
   "cell_type": "code",
   "execution_count": 47,
   "metadata": {},
   "outputs": [],
   "source": [
    "hasil=np.concatenate((series[:-split_time],prediksi))"
   ]
  },
  {
   "cell_type": "code",
   "execution_count": 48,
   "metadata": {},
   "outputs": [
    {
     "data": {
      "text/plain": [
       "array([0.76830443, 0.66666667, 0.67533719, 0.62042389, 0.78757225,\n",
       "       0.20327553, 0.91811175, 0.51396917, 0.89547206, 1.        ,\n",
       "       0.76878613, 0.56791908, 0.75289017, 0.71146435, 0.68786127,\n",
       "       0.35693642, 0.        , 0.0867052 , 0.41570328, 0.49421965,\n",
       "       0.46868979, 0.38345188, 0.38345188, 0.38345188])"
      ]
     },
     "execution_count": 48,
     "metadata": {},
     "output_type": "execute_result"
    }
   ],
   "source": [
    "hasil"
   ]
  },
  {
   "cell_type": "code",
   "execution_count": 49,
   "metadata": {},
   "outputs": [
    {
     "data": {
      "text/plain": [
       "[]"
      ]
     },
     "execution_count": 49,
     "metadata": {},
     "output_type": "execute_result"
    },
    {
     "data": {
      "image/png": "[encoded data removed]",
      "text/plain": [
       "<Figure size 432x288 with 1 Axes>"
      ]
     },
     "metadata": {
      "needs_background": "light"
     },
     "output_type": "display_data"
    }
   ],
   "source": [
    "plt.plot(series,label='data asli')\n",
    "plt.plot(hasil,label='data prediksi')\n",
    "plt.title('penjualan produk cluster 0')\n",
    "plt.legend()\n",
    "plt.plot()"
   ]
  },
  {
   "cell_type": "code",
   "execution_count": 50,
   "metadata": {},
   "outputs": [],
   "source": [
    "model.save('cluster0.h5')"
   ]
  },
  {
   "cell_type": "markdown",
   "metadata": {},
   "source": [
    "# C1"
   ]
  },
  {
   "cell_type": "code",
   "execution_count": 7,
   "metadata": {},
   "outputs": [],
   "source": [
    "## do the same for the others, tapi karena yang lain punya beberapa anggota, nah itu di average dulu per tanggalnya\n",
    "c1=c1.drop(columns=['Kode Produk', 'Cluster'])"
   ]
  },
  {
   "cell_type": "code",
   "execution_count": 8,
   "metadata": {},
   "outputs": [],
   "source": [
    "#next, buat dia kayak mejeneng time series seperti biasanya, which is datanya ke bawah, tapi di average per tanggal \n",
    "new_c1=[]\n",
    "time=[]\n",
    "for idx,a in enumerate(c1):\n",
    "    new_c1.append(c1[a].mean())\n",
    "    time.append(idx)\n"
   ]
  },
  {
   "cell_type": "code",
   "execution_count": 9,
   "metadata": {},
   "outputs": [
    {
     "data": {
      "text/plain": [
       "[183.8,\n",
       " 191.73333333333332,\n",
       " 179.55555555555554,\n",
       " 181.24444444444444,\n",
       " 182.8,\n",
       " 137.6888888888889,\n",
       " 185.73333333333332,\n",
       " 194.46666666666667,\n",
       " 145.06666666666666,\n",
       " 143.48888888888888,\n",
       " 175.04444444444445,\n",
       " 122.86666666666666,\n",
       " 177.8,\n",
       " 147.6,\n",
       " 206.0222222222222,\n",
       " 141.9111111111111,\n",
       " 100.28888888888889,\n",
       " 101.15555555555555,\n",
       " 141.55555555555554,\n",
       " 105.88888888888889,\n",
       " 123.93333333333334,\n",
       " 183.64444444444445,\n",
       " 147.73333333333332,\n",
       " 135.24444444444444]"
      ]
     },
     "execution_count": 9,
     "metadata": {},
     "output_type": "execute_result"
    }
   ],
   "source": [
    "new_c1"
   ]
  },
  {
   "cell_type": "code",
   "execution_count": 10,
   "metadata": {},
   "outputs": [],
   "source": [
    "#normalisasi, karena gap nya ada yang sampe ribuan, biar lebih gampang tugas ann nya\n",
    "series=new_c1\n",
    "min = np.min(series)\n",
    "max = np.max(series)\n",
    "series = series - min\n",
    "series = series / (max-min)\n",
    "time = np.array(time)"
   ]
  },
  {
   "cell_type": "code",
   "execution_count": 11,
   "metadata": {},
   "outputs": [
    {
     "data": {
      "text/plain": [
       "array([0.78982766, 0.86485918, 0.74968474, 0.76565784, 0.7803699 ,\n",
       "       0.35372005, 0.80811265, 0.89071038, 0.42349727, 0.40857503,\n",
       "       0.70701976, 0.2135351 , 0.73308113, 0.44745691, 1.        ,\n",
       "       0.3936528 , 0.        , 0.00819672, 0.39029004, 0.05296343,\n",
       "       0.22362337, 0.78835645, 0.44871795, 0.33060109])"
      ]
     },
     "execution_count": 11,
     "metadata": {},
     "output_type": "execute_result"
    }
   ],
   "source": [
    "series"
   ]
  },
  {
   "cell_type": "code",
   "execution_count": 12,
   "metadata": {},
   "outputs": [],
   "source": [
    "split_time = 3 # ini berapa bulan terkahir yang mau di potong buat pengujian?\n",
    "\n",
    "time_train = time[:-split_time]\n",
    "x_train =  series[:-split_time]\n",
    "time_valid =  time[-split_time:]\n",
    "x_valid =  series[-split_time:]"
   ]
  },
  {
   "cell_type": "code",
   "execution_count": 13,
   "metadata": {},
   "outputs": [
    {
     "data": {
      "text/plain": [
       "array([0.78835645, 0.44871795, 0.33060109])"
      ]
     },
     "execution_count": 13,
     "metadata": {},
     "output_type": "execute_result"
    }
   ],
   "source": [
    "x_valid"
   ]
  },
  {
   "cell_type": "code",
   "execution_count": 14,
   "metadata": {},
   "outputs": [],
   "source": [
    "#buat data biar dibagi per window, jadi me masang masangkan waktu dan value,\n",
    "window_size = 2\n",
    "batch_size = 2\n",
    "shuffle_buffer_size = 10\n",
    "\n",
    "train_set = windowed_dataset(x_train, window_size, batch_size, shuffle_buffer_size)\n",
    "valid_set = windowed_dataset(x_valid, window_size, batch_size, shuffle_buffer_size)"
   ]
  },
  {
   "cell_type": "code",
   "execution_count": 15,
   "metadata": {},
   "outputs": [],
   "source": [
    "model = tf.keras.Sequential([\n",
    "        tf.keras.layers.Dense(2, input_shape=[None, 1]),\n",
    "        tf.keras.layers.Bidirectional(tf.keras.layers.LSTM(64,return_sequences=True)),\n",
    "        tf.keras.layers.Bidirectional(tf.keras.layers.LSTM(32)),\n",
    "        \n",
    "        tf.keras.layers.Flatten(),\n",
    "        tf.keras.layers.Dense(1024, activation='relu'),\n",
    "        tf.keras.layers.Dropout(0.5),\n",
    "        tf.keras.layers.Dense(512, activation='relu',kernel_regularizer=tf.keras.regularizers.l1(l1=0.01)),\n",
    "        tf.keras.layers.Dense(64, activation='relu',kernel_regularizer=tf.keras.regularizers.l1_l2(l1=0.01, l2=0.01)),\n",
    "        tf.keras.layers.Dense(32, activation='relu'),\n",
    "        tf.keras.layers.Dropout(0.3),\n",
    "        tf.keras.layers.Dense(1, activation='relu')\n",
    "    ])\n",
    "\n",
    "    #the blstm part"
   ]
  },
  {
   "cell_type": "code",
   "execution_count": 16,
   "metadata": {},
   "outputs": [
    {
     "name": "stdout",
     "output_type": "stream",
     "text": [
      "Model: \"sequential\"\n",
      "_________________________________________________________________\n",
      "Layer (type)                 Output Shape              Param #   \n",
      "=================================================================\n",
      "dense (Dense)                (None, None, 2)           4         \n",
      "_________________________________________________________________\n",
      "bidirectional (Bidirectional (None, None, 128)         34304     \n",
      "_________________________________________________________________\n",
      "bidirectional_1 (Bidirection (None, 64)                41216     \n",
      "_________________________________________________________________\n",
      "flatten (Flatten)            (None, 64)                0         \n",
      "_________________________________________________________________\n",
      "dense_1 (Dense)              (None, 1024)              66560     \n",
      "_________________________________________________________________\n",
      "dropout (Dropout)            (None, 1024)              0         \n",
      "_________________________________________________________________\n",
      "dense_2 (Dense)              (None, 512)               524800    \n",
      "_________________________________________________________________\n",
      "dense_3 (Dense)              (None, 64)                32832     \n",
      "_________________________________________________________________\n",
      "dense_4 (Dense)              (None, 32)                2080      \n",
      "_________________________________________________________________\n",
      "dropout_1 (Dropout)          (None, 32)                0         \n",
      "_________________________________________________________________\n",
      "dense_5 (Dense)              (None, 1)                 33        \n",
      "=================================================================\n",
      "Total params: 701,829\n",
      "Trainable params: 701,829\n",
      "Non-trainable params: 0\n",
      "_________________________________________________________________\n",
      "Epoch 1/150\n",
      "1/1 [==============================] - 7s 7s/step - loss: 181.5759 - mae: 0.3897 - val_loss: 176.2528 - val_mae: 0.5072\n",
      "Epoch 2/150\n",
      "1/1 [==============================] - 0s 107ms/step - loss: 176.0593 - mae: 0.3894 - val_loss: 170.8154 - val_mae: 0.5030\n",
      "Epoch 3/150\n",
      "1/1 [==============================] - 0s 113ms/step - loss: 170.6170 - mae: 0.3767 - val_loss: 165.4735 - val_mae: 0.4958\n",
      "Epoch 4/150\n",
      "1/1 [==============================] - 0s 111ms/step - loss: 165.2868 - mae: 0.3807 - val_loss: 160.2425 - val_mae: 0.4875\n",
      "Epoch 5/150\n",
      "1/1 [==============================] - 0s 111ms/step - loss: 160.0414 - mae: 0.3468 - val_loss: 155.0973 - val_mae: 0.4776\n",
      "Epoch 6/150\n",
      "1/1 [==============================] - 0s 113ms/step - loss: 154.9059 - mae: 0.3434 - val_loss: 150.0476 - val_mae: 0.4670\n",
      "Epoch 7/150\n",
      "1/1 [==============================] - 0s 108ms/step - loss: 149.8539 - mae: 0.3210 - val_loss: 145.0958 - val_mae: 0.4562\n",
      "Epoch 8/150\n",
      "1/1 [==============================] - 0s 114ms/step - loss: 144.9070 - mae: 0.3082 - val_loss: 140.2375 - val_mae: 0.4461\n",
      "Epoch 9/150\n",
      "1/1 [==============================] - 0s 115ms/step - loss: 140.0694 - mae: 0.3209 - val_loss: 135.4822 - val_mae: 0.4361\n",
      "Epoch 10/150\n",
      "1/1 [==============================] - 0s 108ms/step - loss: 135.3096 - mae: 0.2938 - val_loss: 130.8132 - val_mae: 0.4256\n",
      "Epoch 11/150\n",
      "1/1 [==============================] - 0s 100ms/step - loss: 130.6345 - mae: 0.2603 - val_loss: 126.2372 - val_mae: 0.4150\n",
      "Epoch 12/150\n",
      "1/1 [==============================] - 0s 116ms/step - loss: 126.0537 - mae: 0.2255 - val_loss: 121.7455 - val_mae: 0.4040\n",
      "Epoch 13/150\n",
      "1/1 [==============================] - 0s 107ms/step - loss: 121.6137 - mae: 0.3009 - val_loss: 117.3537 - val_mae: 0.3933\n",
      "Epoch 14/150\n",
      "1/1 [==============================] - 0s 109ms/step - loss: 117.1725 - mae: 0.1727 - val_loss: 113.0508 - val_mae: 0.3822\n",
      "Epoch 15/150\n",
      "1/1 [==============================] - 0s 111ms/step - loss: 112.8937 - mae: 0.2067 - val_loss: 108.8332 - val_mae: 0.3710\n",
      "Epoch 16/150\n",
      "1/1 [==============================] - 0s 102ms/step - loss: 108.6849 - mae: 0.2015 - val_loss: 104.7077 - val_mae: 0.3596\n",
      "Epoch 17/150\n",
      "1/1 [==============================] - 0s 112ms/step - loss: 104.5587 - mae: 0.1717 - val_loss: 100.6515 - val_mae: 0.3482\n",
      "Epoch 18/150\n",
      "1/1 [==============================] - 0s 111ms/step - loss: 100.5263 - mae: 0.2079 - val_loss: 96.7022 - val_mae: 0.3382\n",
      "Epoch 19/150\n",
      "1/1 [==============================] - 0s 99ms/step - loss: 96.5506 - mae: 0.0850 - val_loss: 92.8338 - val_mae: 0.3286\n",
      "Epoch 20/150\n",
      "1/1 [==============================] - 0s 113ms/step - loss: 92.7225 - mae: 0.1965 - val_loss: 89.0510 - val_mae: 0.3196\n",
      "Epoch 21/150\n",
      "1/1 [==============================] - 0s 118ms/step - loss: 88.9135 - mae: 0.0635 - val_loss: 85.3630 - val_mae: 0.3114\n",
      "Epoch 22/150\n",
      "1/1 [==============================] - 0s 103ms/step - loss: 85.2309 - mae: 0.0591 - val_loss: 81.7397 - val_mae: 0.3038\n",
      "Epoch 23/150\n",
      "1/1 [==============================] - 0s 108ms/step - loss: 81.6209 - mae: 0.0954 - val_loss: 78.2165 - val_mae: 0.2965\n",
      "Epoch 24/150\n",
      "1/1 [==============================] - 0s 119ms/step - loss: 78.1089 - mae: 0.1208 - val_loss: 74.7717 - val_mae: 0.2892\n",
      "Epoch 25/150\n",
      "1/1 [==============================] - 0s 110ms/step - loss: 74.6687 - mae: 0.1167 - val_loss: 71.4094 - val_mae: 0.2821\n",
      "Epoch 26/150\n",
      "1/1 [==============================] - 0s 116ms/step - loss: 71.2981 - mae: 0.0591 - val_loss: 68.1434 - val_mae: 0.2774\n",
      "Epoch 27/150\n",
      "1/1 [==============================] - 0s 110ms/step - loss: 68.0668 - mae: 0.1775 - val_loss: 64.9578 - val_mae: 0.2723\n",
      "Epoch 28/150\n",
      "1/1 [==============================] - 0s 119ms/step - loss: 64.8533 - mae: 0.0591 - val_loss: 61.8498 - val_mae: 0.2690\n",
      "Epoch 29/150\n",
      "1/1 [==============================] - 0s 120ms/step - loss: 61.7636 - mae: 0.1263 - val_loss: 58.8294 - val_mae: 0.2655\n",
      "Epoch 30/150\n",
      "1/1 [==============================] - 0s 111ms/step - loss: 58.7305 - mae: 0.0591 - val_loss: 55.8969 - val_mae: 0.2639\n",
      "Epoch 31/150\n",
      "1/1 [==============================] - 0s 120ms/step - loss: 55.7986 - mae: 0.0591 - val_loss: 53.0396 - val_mae: 0.2637\n",
      "Epoch 32/150\n",
      "1/1 [==============================] - 0s 129ms/step - loss: 52.9706 - mae: 0.1717 - val_loss: 50.2801 - val_mae: 0.2631\n",
      "Epoch 33/150\n",
      "1/1 [==============================] - 0s 89ms/step - loss: 50.1830 - mae: 0.0591 - val_loss: 47.6055 - val_mae: 0.2640\n",
      "Epoch 34/150\n",
      "1/1 [==============================] - 0s 107ms/step - loss: 47.5217 - mae: 0.1220 - val_loss: 45.0115 - val_mae: 0.2686\n",
      "Epoch 35/150\n",
      "1/1 [==============================] - 0s 109ms/step - loss: 44.9105 - mae: 0.0591 - val_loss: 42.5045 - val_mae: 0.2738\n",
      "Epoch 36/150\n",
      "1/1 [==============================] - 0s 117ms/step - loss: 42.4085 - mae: 0.0983 - val_loss: 40.0942 - val_mae: 0.2815\n",
      "Epoch 37/150\n",
      "1/1 [==============================] - 0s 108ms/step - loss: 39.9967 - mae: 0.1167 - val_loss: 37.7588 - val_mae: 0.2879\n",
      "Epoch 38/150\n",
      "1/1 [==============================] - 0s 107ms/step - loss: 37.6684 - mae: 0.1584 - val_loss: 35.4958 - val_mae: 0.2924\n",
      "Epoch 39/150\n",
      "1/1 [==============================] - 0s 104ms/step - loss: 35.3869 - mae: 0.0988 - val_loss: 33.3253 - val_mae: 0.2955\n",
      "Epoch 40/150\n",
      "1/1 [==============================] - 0s 115ms/step - loss: 33.2076 - mae: 0.0591 - val_loss: 31.2468 - val_mae: 0.2980\n",
      "Epoch 41/150\n",
      "1/1 [==============================] - 0s 118ms/step - loss: 31.1241 - mae: 0.0591 - val_loss: 29.2560 - val_mae: 0.3009\n",
      "Epoch 42/150\n",
      "1/1 [==============================] - 0s 115ms/step - loss: 29.1333 - mae: 0.0591 - val_loss: 27.3452 - val_mae: 0.3035\n",
      "Epoch 43/150\n",
      "1/1 [==============================] - 0s 111ms/step - loss: 27.2324 - mae: 0.1189 - val_loss: 25.5089 - val_mae: 0.3051\n",
      "Epoch 44/150\n",
      "1/1 [==============================] - 0s 109ms/step - loss: 25.3905 - mae: 0.0984 - val_loss: 23.7554 - val_mae: 0.3059\n",
      "Epoch 45/150\n",
      "1/1 [==============================] - 0s 117ms/step - loss: 23.6269 - mae: 0.0591 - val_loss: 22.0884 - val_mae: 0.3075\n",
      "Epoch 46/150\n",
      "1/1 [==============================] - 0s 122ms/step - loss: 21.9586 - mae: 0.0591 - val_loss: 20.5178 - val_mae: 0.3094\n",
      "Epoch 47/150\n",
      "1/1 [==============================] - 0s 114ms/step - loss: 20.3884 - mae: 0.0591 - val_loss: 19.0135 - val_mae: 0.3109\n",
      "Epoch 48/150\n",
      "1/1 [==============================] - 0s 106ms/step - loss: 18.9341 - mae: 0.2308 - val_loss: 17.5867 - val_mae: 0.3113\n",
      "Epoch 49/150\n",
      "1/1 [==============================] - 0s 102ms/step - loss: 17.4578 - mae: 0.0638 - val_loss: 16.2590 - val_mae: 0.3113\n",
      "Epoch 50/150\n",
      "1/1 [==============================] - 0s 116ms/step - loss: 16.1320 - mae: 0.0773 - val_loss: 15.0396 - val_mae: 0.3109\n",
      "Epoch 51/150\n",
      "1/1 [==============================] - 0s 94ms/step - loss: 14.9234 - mae: 0.1281 - val_loss: 13.9127 - val_mae: 0.3098\n",
      "Epoch 52/150\n",
      "1/1 [==============================] - 0s 121ms/step - loss: 13.7966 - mae: 0.1247 - val_loss: 12.8526 - val_mae: 0.3083\n",
      "Epoch 53/150\n",
      "1/1 [==============================] - 0s 105ms/step - loss: 12.7231 - mae: 0.0591 - val_loss: 11.8731 - val_mae: 0.3072\n",
      "Epoch 54/150\n",
      "1/1 [==============================] - 0s 103ms/step - loss: 11.7673 - mae: 0.1542 - val_loss: 10.9732 - val_mae: 0.3056\n",
      "Epoch 55/150\n",
      "1/1 [==============================] - 0s 98ms/step - loss: 10.8509 - mae: 0.0780 - val_loss: 10.1532 - val_mae: 0.3039\n",
      "Epoch 56/150\n",
      "1/1 [==============================] - 0s 113ms/step - loss: 10.0271 - mae: 0.0591 - val_loss: 9.4289 - val_mae: 0.3035\n",
      "Epoch 57/150\n",
      "1/1 [==============================] - 0s 95ms/step - loss: 9.3100 - mae: 0.0886 - val_loss: 8.7989 - val_mae: 0.3028\n",
      "Epoch 58/150\n",
      "1/1 [==============================] - 0s 109ms/step - loss: 8.6732 - mae: 0.0591 - val_loss: 8.2608 - val_mae: 0.3022\n",
      "Epoch 59/150\n",
      "1/1 [==============================] - 0s 104ms/step - loss: 8.1426 - mae: 0.0865 - val_loss: 7.8094 - val_mae: 0.3010\n",
      "Epoch 60/150\n",
      "1/1 [==============================] - 0s 105ms/step - loss: 7.6977 - mae: 0.1149 - val_loss: 7.4362 - val_mae: 0.2992\n",
      "Epoch 61/150\n",
      "1/1 [==============================] - 0s 113ms/step - loss: 7.3150 - mae: 0.0591 - val_loss: 7.1386 - val_mae: 0.2974\n",
      "Epoch 62/150\n",
      "1/1 [==============================] - 0s 114ms/step - loss: 7.0205 - mae: 0.0642 - val_loss: 6.9328 - val_mae: 0.2955\n",
      "Epoch 63/150\n",
      "1/1 [==============================] - 0s 110ms/step - loss: 6.8123 - mae: 0.0591 - val_loss: 6.8026 - val_mae: 0.2939\n",
      "Epoch 64/150\n",
      "1/1 [==============================] - 0s 112ms/step - loss: 6.6848 - mae: 0.0591 - val_loss: 6.6244 - val_mae: 0.2937\n",
      "Epoch 65/150\n",
      "1/1 [==============================] - 0s 112ms/step - loss: 6.5369 - mae: 0.1795 - val_loss: 6.3860 - val_mae: 0.2926\n",
      "Epoch 66/150\n",
      "1/1 [==============================] - 0s 119ms/step - loss: 6.2676 - mae: 0.0591 - val_loss: 6.1046 - val_mae: 0.2914\n",
      "Epoch 67/150\n",
      "1/1 [==============================] - 0s 113ms/step - loss: 5.9918 - mae: 0.0730 - val_loss: 5.7882 - val_mae: 0.2897\n",
      "Epoch 68/150\n",
      "1/1 [==============================] - 0s 114ms/step - loss: 5.6713 - mae: 0.0591 - val_loss: 5.4578 - val_mae: 0.2886\n",
      "Epoch 69/150\n",
      "1/1 [==============================] - 0s 121ms/step - loss: 5.3416 - mae: 0.0591 - val_loss: 5.1213 - val_mae: 0.2879\n",
      "Epoch 70/150\n",
      "1/1 [==============================] - 0s 117ms/step - loss: 5.0220 - mae: 0.1293 - val_loss: 4.7905 - val_mae: 0.2865\n",
      "Epoch 71/150\n",
      "1/1 [==============================] - 0s 114ms/step - loss: 4.6759 - mae: 0.0591 - val_loss: 4.4692 - val_mae: 0.2852\n",
      "Epoch 72/150\n",
      "1/1 [==============================] - 0s 107ms/step - loss: 4.3706 - mae: 0.1252 - val_loss: 4.1623 - val_mae: 0.2833\n",
      "Epoch 73/150\n",
      "1/1 [==============================] - 0s 97ms/step - loss: 4.0500 - mae: 0.0591 - val_loss: 3.8767 - val_mae: 0.2817\n",
      "Epoch 74/150\n",
      "1/1 [==============================] - 0s 114ms/step - loss: 3.7709 - mae: 0.0790 - val_loss: 3.6236 - val_mae: 0.2818\n",
      "Epoch 75/150\n",
      "1/1 [==============================] - 0s 105ms/step - loss: 3.5153 - mae: 0.0624 - val_loss: 3.4064 - val_mae: 0.2829\n",
      "Epoch 76/150\n",
      "1/1 [==============================] - 0s 129ms/step - loss: 3.2936 - mae: 0.0591 - val_loss: 3.2321 - val_mae: 0.2839\n",
      "Epoch 77/150\n",
      "1/1 [==============================] - 0s 115ms/step - loss: 3.1206 - mae: 0.0591 - val_loss: 3.1084 - val_mae: 0.2842\n",
      "Epoch 78/150\n",
      "1/1 [==============================] - 0s 110ms/step - loss: 2.9951 - mae: 0.0591 - val_loss: 3.0072 - val_mae: 0.2843\n",
      "Epoch 79/150\n",
      "1/1 [==============================] - 0s 124ms/step - loss: 2.9143 - mae: 0.1445 - val_loss: 2.9037 - val_mae: 0.2834\n",
      "Epoch 80/150\n",
      "1/1 [==============================] - 0s 140ms/step - loss: 2.8248 - mae: 0.1852 - val_loss: 2.7676 - val_mae: 0.2819\n",
      "Epoch 81/150\n",
      "1/1 [==============================] - 0s 104ms/step - loss: 2.6572 - mae: 0.0591 - val_loss: 2.6164 - val_mae: 0.2807\n",
      "Epoch 82/150\n",
      "1/1 [==============================] - 0s 123ms/step - loss: 2.5054 - mae: 0.0591 - val_loss: 2.4654 - val_mae: 0.2797\n",
      "Epoch 83/150\n",
      "1/1 [==============================] - 0s 111ms/step - loss: 2.3552 - mae: 0.0591 - val_loss: 2.3183 - val_mae: 0.2793\n",
      "Epoch 84/150\n",
      "1/1 [==============================] - 0s 110ms/step - loss: 2.2093 - mae: 0.0591 - val_loss: 2.1839 - val_mae: 0.2787\n",
      "Epoch 85/150\n",
      "1/1 [==============================] - 0s 118ms/step - loss: 2.0816 - mae: 0.0875 - val_loss: 2.0589 - val_mae: 0.2777\n",
      "Epoch 86/150\n",
      "1/1 [==============================] - 0s 105ms/step - loss: 1.9504 - mae: 0.0591 - val_loss: 1.9486 - val_mae: 0.2765\n",
      "Epoch 87/150\n",
      "1/1 [==============================] - 0s 99ms/step - loss: 1.8430 - mae: 0.0591 - val_loss: 1.8606 - val_mae: 0.2752\n",
      "Epoch 88/150\n",
      "1/1 [==============================] - 0s 107ms/step - loss: 1.7530 - mae: 0.0591 - val_loss: 1.7852 - val_mae: 0.2741\n",
      "Epoch 89/150\n",
      "1/1 [==============================] - 0s 105ms/step - loss: 1.6809 - mae: 0.0591 - val_loss: 1.7141 - val_mae: 0.2737\n",
      "Epoch 90/150\n",
      "1/1 [==============================] - 0s 115ms/step - loss: 1.6080 - mae: 0.0591 - val_loss: 1.6456 - val_mae: 0.2733\n",
      "Epoch 91/150\n",
      "1/1 [==============================] - 0s 107ms/step - loss: 1.5456 - mae: 0.0801 - val_loss: 1.5661 - val_mae: 0.2724\n",
      "Epoch 92/150\n",
      "1/1 [==============================] - 0s 114ms/step - loss: 1.4606 - mae: 0.0591 - val_loss: 1.4881 - val_mae: 0.2716\n",
      "Epoch 93/150\n",
      "1/1 [==============================] - 0s 121ms/step - loss: 1.3828 - mae: 0.0591 - val_loss: 1.4232 - val_mae: 0.2710\n",
      "Epoch 94/150\n",
      "1/1 [==============================] - 0s 116ms/step - loss: 1.3266 - mae: 0.0912 - val_loss: 1.3689 - val_mae: 0.2699\n",
      "Epoch 95/150\n",
      "1/1 [==============================] - 0s 102ms/step - loss: 1.2801 - mae: 0.1241 - val_loss: 1.3186 - val_mae: 0.2704\n",
      "Epoch 96/150\n",
      "1/1 [==============================] - 0s 111ms/step - loss: 1.2141 - mae: 0.0591 - val_loss: 1.2715 - val_mae: 0.2709\n",
      "Epoch 97/150\n",
      "1/1 [==============================] - 0s 100ms/step - loss: 1.1730 - mae: 0.0802 - val_loss: 1.2243 - val_mae: 0.2708\n",
      "Epoch 98/150\n",
      "1/1 [==============================] - 0s 107ms/step - loss: 1.1196 - mae: 0.0591 - val_loss: 1.1870 - val_mae: 0.2706\n",
      "Epoch 99/150\n",
      "1/1 [==============================] - 0s 99ms/step - loss: 1.1338 - mae: 0.2270 - val_loss: 1.1523 - val_mae: 0.2697\n",
      "Epoch 100/150\n",
      "1/1 [==============================] - 0s 118ms/step - loss: 1.0494 - mae: 0.0591 - val_loss: 1.1195 - val_mae: 0.2692\n",
      "Epoch 101/150\n",
      "1/1 [==============================] - 0s 106ms/step - loss: 1.0160 - mae: 0.0591 - val_loss: 1.0947 - val_mae: 0.2687\n",
      "Epoch 102/150\n",
      "1/1 [==============================] - 0s 121ms/step - loss: 1.0074 - mae: 0.1274 - val_loss: 1.0781 - val_mae: 0.2697\n",
      "Epoch 103/150\n",
      "1/1 [==============================] - 0s 101ms/step - loss: 0.9765 - mae: 0.0591 - val_loss: 1.0592 - val_mae: 0.2709\n",
      "Epoch 104/150\n",
      "1/1 [==============================] - 0s 115ms/step - loss: 0.9600 - mae: 0.0752 - val_loss: 1.0375 - val_mae: 0.2712\n",
      "Epoch 105/150\n",
      "1/1 [==============================] - 0s 102ms/step - loss: 0.9334 - mae: 0.0591 - val_loss: 1.0181 - val_mae: 0.2716\n",
      "Epoch 106/150\n",
      "1/1 [==============================] - 0s 121ms/step - loss: 0.9135 - mae: 0.0591 - val_loss: 1.0062 - val_mae: 0.2721\n",
      "Epoch 107/150\n",
      "1/1 [==============================] - 0s 114ms/step - loss: 0.9012 - mae: 0.0591 - val_loss: 1.0005 - val_mae: 0.2727\n",
      "Epoch 108/150\n",
      "1/1 [==============================] - 0s 115ms/step - loss: 0.8953 - mae: 0.0591 - val_loss: 0.9966 - val_mae: 0.2735\n",
      "Epoch 109/150\n",
      "1/1 [==============================] - 0s 115ms/step - loss: 0.9019 - mae: 0.1087 - val_loss: 0.9873 - val_mae: 0.2753\n",
      "Epoch 110/150\n",
      "1/1 [==============================] - 0s 124ms/step - loss: 0.8819 - mae: 0.0591 - val_loss: 0.9734 - val_mae: 0.2765\n",
      "Epoch 111/150\n",
      "1/1 [==============================] - 0s 108ms/step - loss: 0.8657 - mae: 0.0591 - val_loss: 0.9543 - val_mae: 0.2772\n",
      "Epoch 112/150\n",
      "1/1 [==============================] - 0s 113ms/step - loss: 0.8547 - mae: 0.0969 - val_loss: 0.9374 - val_mae: 0.2787\n",
      "Epoch 113/150\n",
      "1/1 [==============================] - 0s 103ms/step - loss: 0.8278 - mae: 0.0591 - val_loss: 0.9298 - val_mae: 0.2802\n",
      "Epoch 114/150\n",
      "1/1 [==============================] - 0s 111ms/step - loss: 0.8239 - mae: 0.0716 - val_loss: 0.9266 - val_mae: 0.2822\n",
      "Epoch 115/150\n",
      "1/1 [==============================] - 0s 115ms/step - loss: 0.8318 - mae: 0.1330 - val_loss: 0.9153 - val_mae: 0.2832\n",
      "Epoch 116/150\n",
      "1/1 [==============================] - 0s 115ms/step - loss: 0.8087 - mae: 0.0801 - val_loss: 0.8994 - val_mae: 0.2833\n",
      "Epoch 117/150\n",
      "1/1 [==============================] - 0s 108ms/step - loss: 0.7895 - mae: 0.0591 - val_loss: 0.8840 - val_mae: 0.2842\n",
      "Epoch 118/150\n",
      "1/1 [==============================] - 0s 114ms/step - loss: 0.7706 - mae: 0.0591 - val_loss: 0.8791 - val_mae: 0.2848\n",
      "Epoch 119/150\n",
      "1/1 [==============================] - 0s 106ms/step - loss: 0.7658 - mae: 0.0591 - val_loss: 0.8785 - val_mae: 0.2852\n",
      "Epoch 120/150\n",
      "1/1 [==============================] - 0s 115ms/step - loss: 0.7685 - mae: 0.0660 - val_loss: 0.8778 - val_mae: 0.2865\n",
      "Epoch 121/150\n",
      "1/1 [==============================] - 0s 102ms/step - loss: 0.7627 - mae: 0.0591 - val_loss: 0.8725 - val_mae: 0.2877\n",
      "Epoch 122/150\n",
      "1/1 [==============================] - 0s 109ms/step - loss: 0.7588 - mae: 0.0591 - val_loss: 0.8654 - val_mae: 0.2883\n",
      "Epoch 123/150\n",
      "1/1 [==============================] - 0s 106ms/step - loss: 0.7540 - mae: 0.0693 - val_loss: 0.8616 - val_mae: 0.2882\n",
      "Epoch 124/150\n",
      "1/1 [==============================] - 0s 95ms/step - loss: 0.7463 - mae: 0.0591 - val_loss: 0.8568 - val_mae: 0.2886\n",
      "Epoch 125/150\n",
      "1/1 [==============================] - 0s 114ms/step - loss: 0.7415 - mae: 0.0591 - val_loss: 0.8555 - val_mae: 0.2894\n",
      "Epoch 126/150\n",
      "1/1 [==============================] - 0s 109ms/step - loss: 0.7393 - mae: 0.0591 - val_loss: 0.8598 - val_mae: 0.2905\n",
      "Epoch 127/150\n",
      "1/1 [==============================] - 0s 111ms/step - loss: 0.7503 - mae: 0.0904 - val_loss: 0.8521 - val_mae: 0.2906\n",
      "Epoch 128/150\n",
      "1/1 [==============================] - 0s 98ms/step - loss: 0.7362 - mae: 0.0591 - val_loss: 0.8449 - val_mae: 0.2904\n",
      "Epoch 129/150\n",
      "1/1 [==============================] - 0s 115ms/step - loss: 0.7406 - mae: 0.1153 - val_loss: 0.8390 - val_mae: 0.2894\n",
      "Epoch 130/150\n",
      "1/1 [==============================] - 0s 98ms/step - loss: 0.7235 - mae: 0.0591 - val_loss: 0.8366 - val_mae: 0.2891\n",
      "Epoch 131/150\n",
      "1/1 [==============================] - 0s 106ms/step - loss: 0.7223 - mae: 0.0591 - val_loss: 0.8336 - val_mae: 0.2884\n",
      "Epoch 132/150\n",
      "1/1 [==============================] - 0s 112ms/step - loss: 0.7183 - mae: 0.0591 - val_loss: 0.8354 - val_mae: 0.2882\n",
      "Epoch 133/150\n",
      "1/1 [==============================] - 0s 105ms/step - loss: 0.7217 - mae: 0.0591 - val_loss: 0.8386 - val_mae: 0.2874\n",
      "Epoch 134/150\n",
      "1/1 [==============================] - 0s 124ms/step - loss: 0.7246 - mae: 0.0591 - val_loss: 0.8353 - val_mae: 0.2864\n",
      "Epoch 135/150\n",
      "1/1 [==============================] - 0s 110ms/step - loss: 0.7226 - mae: 0.0591 - val_loss: 0.8256 - val_mae: 0.2850\n",
      "Epoch 136/150\n",
      "1/1 [==============================] - 0s 118ms/step - loss: 0.7130 - mae: 0.0591 - val_loss: 0.8140 - val_mae: 0.2835\n",
      "Epoch 137/150\n",
      "1/1 [==============================] - 0s 102ms/step - loss: 0.7102 - mae: 0.0972 - val_loss: 0.8109 - val_mae: 0.2815\n",
      "Epoch 138/150\n",
      "1/1 [==============================] - 0s 105ms/step - loss: 0.7274 - mae: 0.1689 - val_loss: 0.8141 - val_mae: 0.2794\n",
      "Epoch 139/150\n",
      "1/1 [==============================] - 0s 107ms/step - loss: 0.7038 - mae: 0.0591 - val_loss: 0.8079 - val_mae: 0.2778\n",
      "Epoch 140/150\n",
      "1/1 [==============================] - 0s 111ms/step - loss: 0.6991 - mae: 0.0591 - val_loss: 0.8035 - val_mae: 0.2762\n",
      "Epoch 141/150\n",
      "1/1 [==============================] - 0s 106ms/step - loss: 0.7035 - mae: 0.0913 - val_loss: 0.8029 - val_mae: 0.2758\n",
      "Epoch 142/150\n",
      "1/1 [==============================] - 0s 100ms/step - loss: 0.7095 - mae: 0.1210 - val_loss: 0.8016 - val_mae: 0.2747\n",
      "Epoch 143/150\n",
      "1/1 [==============================] - 0s 119ms/step - loss: 0.6957 - mae: 0.0591 - val_loss: 0.8035 - val_mae: 0.2740\n",
      "Epoch 144/150\n",
      "1/1 [==============================] - 0s 107ms/step - loss: 0.6991 - mae: 0.0591 - val_loss: 0.8045 - val_mae: 0.2728\n",
      "Epoch 145/150\n",
      "1/1 [==============================] - 0s 114ms/step - loss: 0.7001 - mae: 0.0591 - val_loss: 0.7996 - val_mae: 0.2714\n",
      "Epoch 146/150\n",
      "1/1 [==============================] - 0s 107ms/step - loss: 0.6964 - mae: 0.0591 - val_loss: 0.7955 - val_mae: 0.2699\n",
      "Epoch 147/150\n",
      "1/1 [==============================] - 0s 113ms/step - loss: 0.6961 - mae: 0.0698 - val_loss: 0.7944 - val_mae: 0.2681\n",
      "Epoch 148/150\n",
      "1/1 [==============================] - 0s 113ms/step - loss: 0.7119 - mae: 0.1440 - val_loss: 0.7962 - val_mae: 0.2662\n",
      "Epoch 149/150\n",
      "1/1 [==============================] - 0s 115ms/step - loss: 0.6972 - mae: 0.0591 - val_loss: 0.8002 - val_mae: 0.2649\n",
      "Epoch 150/150\n",
      "1/1 [==============================] - 0s 103ms/step - loss: 0.7079 - mae: 0.0925 - val_loss: 0.8040 - val_mae: 0.2646\n"
     ]
    }
   ],
   "source": [
    "#Using mae and mse\n",
    "model.compile(optimizer=tf.keras.optimizers.Adam(),metrics=['mae'],loss='mse')\n",
    "model.summary()\n",
    "hist=model.fit(valid_set,epochs=150,validation_data=train_set)"
   ]
  },
  {
   "cell_type": "code",
   "execution_count": 62,
   "metadata": {},
   "outputs": [
    {
     "data": {
      "image/png": "[encoded data removed]",
      "text/plain": [
       "<Figure size 432x288 with 1 Axes>"
      ]
     },
     "metadata": {
      "needs_background": "light"
     },
     "output_type": "display_data"
    }
   ],
   "source": [
    "plt.plot(hist.history['mae'], label='MAE (training data)')\n",
    "plt.plot(hist.history['val_mae'], label='MAE (validation data)')\n",
    "\n",
    "plt.title(\"MAE Cluster 1\")\n",
    "plt.ylabel('MAE value')\n",
    "plt.xlabel('No. epoch')\n",
    "plt.legend(loc=\"upper left\")\n",
    "plt.show()"
   ]
  },
  {
   "cell_type": "code",
   "execution_count": 17,
   "metadata": {},
   "outputs": [
    {
     "data": {
      "image/png": "[encoded data removed]",
      "text/plain": [
       "<Figure size 432x288 with 1 Axes>"
      ]
     },
     "metadata": {
      "needs_background": "light"
     },
     "output_type": "display_data"
    }
   ],
   "source": [
    "plt.plot(hist.history['loss'], label='loss (training data)')\n",
    "plt.plot(hist.history['val_loss'], label='loss (validation data)')\n",
    "\n",
    "plt.title(\"Loss Cluster 1 (MSE)\")\n",
    "plt.ylabel('MAE value')\n",
    "plt.xlabel('No. epoch')\n",
    "plt.legend(loc=\"upper left\")\n",
    "plt.show()"
   ]
  },
  {
   "cell_type": "code",
   "execution_count": 64,
   "metadata": {},
   "outputs": [
    {
     "data": {
      "text/plain": [
       "array([[0.35709003],\n",
       "       [0.35709006],\n",
       "       [0.35709006]], dtype=float32)"
      ]
     },
     "execution_count": 64,
     "metadata": {},
     "output_type": "execute_result"
    }
   ],
   "source": [
    "prediksi=model.predict([21, 22, 23])\n",
    "prediksi"
   ]
  },
  {
   "cell_type": "code",
   "execution_count": 65,
   "metadata": {},
   "outputs": [],
   "source": [
    "prediksi=prediksi.flatten()"
   ]
  },
  {
   "cell_type": "code",
   "execution_count": 66,
   "metadata": {},
   "outputs": [],
   "source": [
    "hasil=np.concatenate((series[:-split_time],prediksi))"
   ]
  },
  {
   "cell_type": "code",
   "execution_count": 67,
   "metadata": {},
   "outputs": [
    {
     "data": {
      "text/plain": [
       "array([0.78982766, 0.86485918, 0.74968474, 0.76565784, 0.7803699 ,\n",
       "       0.35372005, 0.80811265, 0.89071038, 0.42349727, 0.40857503,\n",
       "       0.70701976, 0.2135351 , 0.73308113, 0.44745691, 1.        ,\n",
       "       0.3936528 , 0.        , 0.00819672, 0.39029004, 0.05296343,\n",
       "       0.22362337, 0.35709003, 0.35709006, 0.35709006])"
      ]
     },
     "execution_count": 67,
     "metadata": {},
     "output_type": "execute_result"
    }
   ],
   "source": [
    "hasil"
   ]
  },
  {
   "cell_type": "code",
   "execution_count": 69,
   "metadata": {},
   "outputs": [
    {
     "data": {
      "text/plain": [
       "[]"
      ]
     },
     "execution_count": 69,
     "metadata": {},
     "output_type": "execute_result"
    },
    {
     "data": {
      "image/png": "[encoded data removed]",
      "text/plain": [
       "<Figure size 432x288 with 1 Axes>"
      ]
     },
     "metadata": {
      "needs_background": "light"
     },
     "output_type": "display_data"
    }
   ],
   "source": [
    "#data prediksi\n",
    "plt.plot(series,label='data asli')\n",
    "plt.plot(hasil,label='data prediksi')\n",
    "plt.title('penjualan produk cluster 1')\n",
    "plt.legend()\n",
    "plt.plot()"
   ]
  },
  {
   "cell_type": "code",
   "execution_count": 18,
   "metadata": {},
   "outputs": [],
   "source": [
    "model.save('cluster1.h5')"
   ]
  },
  {
   "cell_type": "markdown",
   "metadata": {},
   "source": [
    "# C3"
   ]
  },
  {
   "cell_type": "code",
   "execution_count": 70,
   "metadata": {},
   "outputs": [],
   "source": [
    "## do the same for the others, tapi karena yang lain punya beberapa anggota, nah itu di average dulu per tanggalnya\n",
    "c3=c3.drop(columns=['Kode Produk', 'Cluster'])"
   ]
  },
  {
   "cell_type": "code",
   "execution_count": 71,
   "metadata": {},
   "outputs": [],
   "source": [
    "#next, buat dia kayak mejeneng time series seperti biasanya, which is datanya ke bawah, tapi di average per tanggal \n",
    "new_c3=[]\n",
    "time=[]\n",
    "for idx,a in enumerate(c3):\n",
    "    new_c3.append(c3[a].mean())\n",
    "    time.append(idx)"
   ]
  },
  {
   "cell_type": "code",
   "execution_count": 72,
   "metadata": {},
   "outputs": [
    {
     "data": {
      "text/plain": [
       "[1844.6666666666667,\n",
       " 2857.0,\n",
       " 2156.6666666666665,\n",
       " 2060.6666666666665,\n",
       " 2336.3333333333335,\n",
       " 2655.3333333333335,\n",
       " 2044.0,\n",
       " 2490.6666666666665,\n",
       " 1824.3333333333333,\n",
       " 2065.3333333333335,\n",
       " 2837.3333333333335,\n",
       " 1107.0,\n",
       " 138.66666666666666,\n",
       " 113.33333333333333,\n",
       " 68.0,\n",
       " 44.333333333333336,\n",
       " 194.66666666666666,\n",
       " 68.0,\n",
       " 74.66666666666667,\n",
       " 91.66666666666667,\n",
       " 145.66666666666666,\n",
       " 110.0,\n",
       " 114.0,\n",
       " 64.66666666666667]"
      ]
     },
     "execution_count": 72,
     "metadata": {},
     "output_type": "execute_result"
    }
   ],
   "source": [
    "new_c3"
   ]
  },
  {
   "cell_type": "code",
   "execution_count": 73,
   "metadata": {},
   "outputs": [],
   "source": [
    "#normalisasi, karena gap nya ada yang sampe ribuan, biar lebih gampang tugas ann nya\n",
    "series=new_c3\n",
    "min = np.min(series)\n",
    "max = np.max(series)\n",
    "series = series - min\n",
    "series = series / (max-min)\n",
    "time = np.array(time)"
   ]
  },
  {
   "cell_type": "code",
   "execution_count": 75,
   "metadata": {},
   "outputs": [
    {
     "data": {
      "text/plain": [
       "array([0.64008059, 1.        , 0.75100735, 0.71687604, 0.81488504,\n",
       "       0.92830055, 0.71095046, 0.86975587, 0.63285139, 0.7185352 ,\n",
       "       0.99300782, 0.37781465, 0.03353875, 0.02453188, 0.00841432,\n",
       "       0.        , 0.05344868, 0.00841432, 0.01078455, 0.01682863,\n",
       "       0.03602749, 0.02334676, 0.0247689 , 0.0072292 ])"
      ]
     },
     "execution_count": 75,
     "metadata": {},
     "output_type": "execute_result"
    }
   ],
   "source": [
    "series"
   ]
  },
  {
   "cell_type": "code",
   "execution_count": 74,
   "metadata": {},
   "outputs": [],
   "source": [
    "split_time = 3 # ini berapa bulan terkahir yang mau di potong buat pengujian?\n",
    "\n",
    "time_train = time[:-split_time]\n",
    "x_train =  series[:-split_time]\n",
    "time_valid =  time[-split_time:]\n",
    "x_valid =  series[-split_time:]"
   ]
  },
  {
   "cell_type": "code",
   "execution_count": 76,
   "metadata": {},
   "outputs": [
    {
     "data": {
      "text/plain": [
       "array([0.02334676, 0.0247689 , 0.0072292 ])"
      ]
     },
     "execution_count": 76,
     "metadata": {},
     "output_type": "execute_result"
    }
   ],
   "source": [
    "x_valid"
   ]
  },
  {
   "cell_type": "code",
   "execution_count": 80,
   "metadata": {},
   "outputs": [],
   "source": [
    "#buat data biar dibagi per window, jadi me masang masangkan waktu dan value,\n",
    "window_size = 2\n",
    "batch_size = 2\n",
    "shuffle_buffer_size = 10\n",
    "\n",
    "train_set = windowed_dataset(x_train, window_size, batch_size, shuffle_buffer_size)\n",
    "valid_set = windowed_dataset(x_valid, window_size, batch_size, shuffle_buffer_size)"
   ]
  },
  {
   "cell_type": "code",
   "execution_count": 81,
   "metadata": {},
   "outputs": [],
   "source": [
    "model = tf.keras.Sequential([\n",
    "        tf.keras.layers.Dense(2, input_shape=[None, 1]),\n",
    "        tf.keras.layers.Bidirectional(tf.keras.layers.LSTM(64,return_sequences=True)),\n",
    "        tf.keras.layers.Bidirectional(tf.keras.layers.LSTM(32)),\n",
    "        \n",
    "        tf.keras.layers.Flatten(),\n",
    "        tf.keras.layers.Dense(1024, activation='relu'),\n",
    "        tf.keras.layers.Dropout(0.5),\n",
    "        tf.keras.layers.Dense(512, activation='relu',kernel_regularizer=tf.keras.regularizers.l1(l1=0.01)),\n",
    "        tf.keras.layers.Dense(64, activation='relu',kernel_regularizer=tf.keras.regularizers.l1_l2(l1=0.01, l2=0.01)),\n",
    "        tf.keras.layers.Dense(32, activation='relu'),\n",
    "        tf.keras.layers.Dropout(0.3),\n",
    "        tf.keras.layers.Dense(1, activation='relu')\n",
    "    ])\n",
    "\n",
    "    #the blstm part"
   ]
  },
  {
   "cell_type": "code",
   "execution_count": 84,
   "metadata": {},
   "outputs": [
    {
     "name": "stdout",
     "output_type": "stream",
     "text": [
      "Model: \"sequential_4\"\n",
      "_________________________________________________________________\n",
      "Layer (type)                 Output Shape              Param #   \n",
      "=================================================================\n",
      "dense_24 (Dense)             (None, None, 2)           4         \n",
      "_________________________________________________________________\n",
      "bidirectional_8 (Bidirection (None, None, 128)         34304     \n",
      "_________________________________________________________________\n",
      "bidirectional_9 (Bidirection (None, 64)                41216     \n",
      "_________________________________________________________________\n",
      "flatten_4 (Flatten)          (None, 64)                0         \n",
      "_________________________________________________________________\n",
      "dense_25 (Dense)             (None, 1024)              66560     \n",
      "_________________________________________________________________\n",
      "dropout_8 (Dropout)          (None, 1024)              0         \n",
      "_________________________________________________________________\n",
      "dense_26 (Dense)             (None, 512)               524800    \n",
      "_________________________________________________________________\n",
      "dense_27 (Dense)             (None, 64)                32832     \n",
      "_________________________________________________________________\n",
      "dense_28 (Dense)             (None, 32)                2080      \n",
      "_________________________________________________________________\n",
      "dropout_9 (Dropout)          (None, 32)                0         \n",
      "_________________________________________________________________\n",
      "dense_29 (Dense)             (None, 1)                 33        \n",
      "=================================================================\n",
      "Total params: 701,829\n",
      "Trainable params: 701,829\n",
      "Non-trainable params: 0\n",
      "_________________________________________________________________\n",
      "Epoch 1/150\n",
      "10/10 [==============================] - 5s 121ms/step - loss: 159.8480 - mae: 0.4090 - val_loss: 131.1888 - val_mae: 0.1081\n",
      "Epoch 2/150\n",
      "10/10 [==============================] - 0s 18ms/step - loss: 112.8346 - mae: 0.3667 - val_loss: 89.4687 - val_mae: 0.2205\n",
      "Epoch 3/150\n",
      "10/10 [==============================] - 0s 17ms/step - loss: 74.6604 - mae: 0.3288 - val_loss: 56.2649 - val_mae: 0.2823\n",
      "Epoch 4/150\n",
      "10/10 [==============================] - 0s 17ms/step - loss: 44.9847 - mae: 0.2399 - val_loss: 31.4828 - val_mae: 0.2627\n",
      "Epoch 5/150\n",
      "10/10 [==============================] - 0s 18ms/step - loss: 23.9096 - mae: 0.3511 - val_loss: 15.1966 - val_mae: 0.2346\n",
      "Epoch 6/150\n",
      "10/10 [==============================] - 0s 18ms/step - loss: 11.2702 - mae: 0.2863 - val_loss: 7.5571 - val_mae: 0.2160\n",
      "Epoch 7/150\n",
      "10/10 [==============================] - 0s 17ms/step - loss: 6.6018 - mae: 0.2097 - val_loss: 4.9074 - val_mae: 0.1829\n",
      "Epoch 8/150\n",
      "10/10 [==============================] - 0s 19ms/step - loss: 3.8839 - mae: 0.2489 - val_loss: 2.8834 - val_mae: 0.1906\n",
      "Epoch 9/150\n",
      "10/10 [==============================] - 0s 22ms/step - loss: 2.3422 - mae: 0.2268 - val_loss: 1.7118 - val_mae: 0.1519\n",
      "Epoch 10/150\n",
      "10/10 [==============================] - 0s 20ms/step - loss: 1.5075 - mae: 0.2453 - val_loss: 1.1749 - val_mae: 0.1487\n",
      "Epoch 11/150\n",
      "10/10 [==============================] - 0s 18ms/step - loss: 1.1075 - mae: 0.2042 - val_loss: 0.9623 - val_mae: 0.1134\n",
      "Epoch 12/150\n",
      "10/10 [==============================] - 0s 18ms/step - loss: 0.9629 - mae: 0.2143 - val_loss: 0.8452 - val_mae: 0.0981\n",
      "Epoch 13/150\n",
      "10/10 [==============================] - 0s 18ms/step - loss: 0.8872 - mae: 0.2303 - val_loss: 0.7974 - val_mae: 0.0958\n",
      "Epoch 14/150\n",
      "10/10 [==============================] - 0s 17ms/step - loss: 0.8446 - mae: 0.1695 - val_loss: 0.7654 - val_mae: 0.0885\n",
      "Epoch 15/150\n",
      "10/10 [==============================] - 0s 19ms/step - loss: 0.8106 - mae: 0.1924 - val_loss: 0.7643 - val_mae: 0.0900\n",
      "Epoch 16/150\n",
      "10/10 [==============================] - 0s 20ms/step - loss: 0.8599 - mae: 0.2500 - val_loss: 0.7362 - val_mae: 0.0734\n",
      "Epoch 17/150\n",
      "10/10 [==============================] - 0s 16ms/step - loss: 0.8072 - mae: 0.1952 - val_loss: 0.7421 - val_mae: 0.0581\n",
      "Epoch 18/150\n",
      "10/10 [==============================] - 0s 17ms/step - loss: 0.7729 - mae: 0.1484 - val_loss: 0.7294 - val_mae: 0.0515\n",
      "Epoch 19/150\n",
      "10/10 [==============================] - 0s 17ms/step - loss: 0.7799 - mae: 0.1681 - val_loss: 0.7225 - val_mae: 0.0445\n",
      "Epoch 20/150\n",
      "10/10 [==============================] - 0s 17ms/step - loss: 0.7582 - mae: 0.1356 - val_loss: 0.7091 - val_mae: 0.0186\n",
      "Epoch 21/150\n",
      "10/10 [==============================] - 0s 17ms/step - loss: 0.7383 - mae: 0.1235 - val_loss: 0.7097 - val_mae: 0.0169\n",
      "Epoch 22/150\n",
      "10/10 [==============================] - 0s 18ms/step - loss: 0.7502 - mae: 0.1353 - val_loss: 0.7042 - val_mae: 0.0246\n",
      "Epoch 23/150\n",
      "10/10 [==============================] - 0s 18ms/step - loss: 0.7369 - mae: 0.1208 - val_loss: 0.7016 - val_mae: 0.0158\n",
      "Epoch 24/150\n",
      "10/10 [==============================] - 0s 18ms/step - loss: 0.7291 - mae: 0.1089 - val_loss: 0.7057 - val_mae: 0.0209\n",
      "Epoch 25/150\n",
      "10/10 [==============================] - 0s 17ms/step - loss: 0.7411 - mae: 0.1468 - val_loss: 0.6973 - val_mae: 0.0244\n",
      "Epoch 26/150\n",
      "10/10 [==============================] - 0s 17ms/step - loss: 0.7262 - mae: 0.1009 - val_loss: 0.6999 - val_mae: 0.0110\n",
      "Epoch 27/150\n",
      "10/10 [==============================] - 0s 17ms/step - loss: 0.7186 - mae: 0.1007 - val_loss: 0.7002 - val_mae: 0.0088\n",
      "Epoch 28/150\n",
      "10/10 [==============================] - 0s 18ms/step - loss: 0.7292 - mae: 0.1198 - val_loss: 0.6954 - val_mae: 0.0122\n",
      "Epoch 29/150\n",
      "10/10 [==============================] - 0s 16ms/step - loss: 0.7334 - mae: 0.1273 - val_loss: 0.6959 - val_mae: 0.0142\n",
      "Epoch 30/150\n",
      "10/10 [==============================] - 0s 16ms/step - loss: 0.7455 - mae: 0.1425 - val_loss: 0.6951 - val_mae: 0.0107\n",
      "Epoch 31/150\n",
      "10/10 [==============================] - 0s 20ms/step - loss: 0.7321 - mae: 0.1234 - val_loss: 0.6967 - val_mae: 0.0110\n",
      "Epoch 32/150\n",
      "10/10 [==============================] - 0s 18ms/step - loss: 0.7526 - mae: 0.1550 - val_loss: 0.6943 - val_mae: 0.0188\n",
      "Epoch 33/150\n",
      "10/10 [==============================] - 0s 17ms/step - loss: 0.7230 - mae: 0.1153 - val_loss: 0.6992 - val_mae: 0.0088\n",
      "Epoch 34/150\n",
      "10/10 [==============================] - 0s 17ms/step - loss: 0.7420 - mae: 0.1469 - val_loss: 0.6913 - val_mae: 0.0224\n",
      "Epoch 35/150\n",
      "10/10 [==============================] - 0s 17ms/step - loss: 0.7375 - mae: 0.1477 - val_loss: 0.6969 - val_mae: 0.0131\n",
      "Epoch 36/150\n",
      "10/10 [==============================] - 0s 17ms/step - loss: 0.7217 - mae: 0.1133 - val_loss: 0.6937 - val_mae: 0.0200\n",
      "Epoch 37/150\n",
      "10/10 [==============================] - 0s 17ms/step - loss: 0.7376 - mae: 0.1383 - val_loss: 0.6915 - val_mae: 0.0202\n",
      "Epoch 38/150\n",
      "10/10 [==============================] - 0s 17ms/step - loss: 0.7274 - mae: 0.1231 - val_loss: 0.6912 - val_mae: 0.0176\n",
      "Epoch 39/150\n",
      "10/10 [==============================] - 0s 18ms/step - loss: 0.7206 - mae: 0.1073 - val_loss: 0.6940 - val_mae: 0.0096\n",
      "Epoch 40/150\n",
      "10/10 [==============================] - 0s 17ms/step - loss: 0.7442 - mae: 0.1474 - val_loss: 0.6930 - val_mae: 0.0304\n",
      "Epoch 41/150\n",
      "10/10 [==============================] - 0s 17ms/step - loss: 0.7274 - mae: 0.1339 - val_loss: 0.6896 - val_mae: 0.0213\n",
      "Epoch 42/150\n",
      "10/10 [==============================] - 0s 18ms/step - loss: 0.7464 - mae: 0.1638 - val_loss: 0.6920 - val_mae: 0.0222\n",
      "Epoch 43/150\n",
      "10/10 [==============================] - 0s 17ms/step - loss: 0.7191 - mae: 0.1112 - val_loss: 0.6913 - val_mae: 0.0185\n",
      "Epoch 44/150\n",
      "10/10 [==============================] - 0s 17ms/step - loss: 0.7389 - mae: 0.1409 - val_loss: 0.6887 - val_mae: 0.0150\n",
      "Epoch 45/150\n",
      "10/10 [==============================] - 0s 17ms/step - loss: 0.7171 - mae: 0.1034 - val_loss: 0.6918 - val_mae: 0.0088\n",
      "Epoch 46/150\n",
      "10/10 [==============================] - 0s 16ms/step - loss: 0.7404 - mae: 0.1453 - val_loss: 0.6869 - val_mae: 0.0088\n",
      "Epoch 47/150\n",
      "10/10 [==============================] - 0s 17ms/step - loss: 0.7217 - mae: 0.1285 - val_loss: 0.6929 - val_mae: 0.0230\n",
      "Epoch 48/150\n",
      "10/10 [==============================] - 0s 17ms/step - loss: 0.7419 - mae: 0.1406 - val_loss: 0.6910 - val_mae: 0.0232\n",
      "Epoch 49/150\n",
      "10/10 [==============================] - 0s 16ms/step - loss: 0.7178 - mae: 0.1147 - val_loss: 0.6921 - val_mae: 0.0267\n",
      "Epoch 50/150\n",
      "10/10 [==============================] - 0s 18ms/step - loss: 0.7319 - mae: 0.1388 - val_loss: 0.6860 - val_mae: 0.0144\n",
      "Epoch 51/150\n",
      "10/10 [==============================] - 0s 17ms/step - loss: 0.7505 - mae: 0.1895 - val_loss: 0.6911 - val_mae: 0.0257\n",
      "Epoch 52/150\n",
      "10/10 [==============================] - 0s 18ms/step - loss: 0.7324 - mae: 0.1513 - val_loss: 0.6895 - val_mae: 0.0251\n",
      "Epoch 53/150\n",
      "10/10 [==============================] - 0s 18ms/step - loss: 0.7337 - mae: 0.1417 - val_loss: 0.6875 - val_mae: 0.0088\n",
      "Epoch 54/150\n",
      "10/10 [==============================] - 0s 19ms/step - loss: 0.7326 - mae: 0.1458 - val_loss: 0.6963 - val_mae: 0.0399\n",
      "Epoch 55/150\n",
      "10/10 [==============================] - 0s 19ms/step - loss: 0.7383 - mae: 0.1381 - val_loss: 0.6947 - val_mae: 0.0406\n",
      "Epoch 56/150\n",
      "10/10 [==============================] - 0s 18ms/step - loss: 0.7253 - mae: 0.1225 - val_loss: 0.6852 - val_mae: 0.0222\n",
      "Epoch 57/150\n",
      "10/10 [==============================] - 0s 18ms/step - loss: 0.7256 - mae: 0.1400 - val_loss: 0.6910 - val_mae: 0.0213\n",
      "Epoch 58/150\n",
      "10/10 [==============================] - 0s 17ms/step - loss: 0.7062 - mae: 0.0891 - val_loss: 0.6835 - val_mae: 0.0088\n",
      "Epoch 59/150\n",
      "10/10 [==============================] - 0s 17ms/step - loss: 0.7151 - mae: 0.1057 - val_loss: 0.6864 - val_mae: 0.0098\n",
      "Epoch 60/150\n",
      "10/10 [==============================] - 0s 17ms/step - loss: 0.7199 - mae: 0.1283 - val_loss: 0.6864 - val_mae: 0.0151\n",
      "Epoch 61/150\n",
      "10/10 [==============================] - 0s 17ms/step - loss: 0.7139 - mae: 0.1139 - val_loss: 0.6851 - val_mae: 0.0109\n",
      "Epoch 62/150\n",
      "10/10 [==============================] - 0s 18ms/step - loss: 0.7100 - mae: 0.0881 - val_loss: 0.6838 - val_mae: 0.0101\n",
      "Epoch 63/150\n",
      "10/10 [==============================] - 0s 17ms/step - loss: 0.7222 - mae: 0.1358 - val_loss: 0.6925 - val_mae: 0.0160\n",
      "Epoch 64/150\n",
      "10/10 [==============================] - 0s 18ms/step - loss: 0.7502 - mae: 0.1709 - val_loss: 0.6853 - val_mae: 0.0160\n",
      "Epoch 65/150\n",
      "10/10 [==============================] - 0s 18ms/step - loss: 0.7147 - mae: 0.1216 - val_loss: 0.6825 - val_mae: 0.0088\n",
      "Epoch 66/150\n",
      "10/10 [==============================] - 0s 19ms/step - loss: 0.7106 - mae: 0.1056 - val_loss: 0.6879 - val_mae: 0.0088\n",
      "Epoch 67/150\n",
      "10/10 [==============================] - 0s 17ms/step - loss: 0.7177 - mae: 0.1199 - val_loss: 0.6858 - val_mae: 0.0088\n",
      "Epoch 68/150\n",
      "10/10 [==============================] - 0s 19ms/step - loss: 0.7159 - mae: 0.1120 - val_loss: 0.6851 - val_mae: 0.0088\n",
      "Epoch 69/150\n",
      "10/10 [==============================] - 0s 18ms/step - loss: 0.7164 - mae: 0.1208 - val_loss: 0.6876 - val_mae: 0.0088\n",
      "Epoch 70/150\n",
      "10/10 [==============================] - 0s 18ms/step - loss: 0.7233 - mae: 0.1359 - val_loss: 0.6821 - val_mae: 0.0088\n",
      "Epoch 71/150\n",
      "10/10 [==============================] - 0s 17ms/step - loss: 0.7132 - mae: 0.1167 - val_loss: 0.6884 - val_mae: 0.0149\n",
      "Epoch 72/150\n",
      "10/10 [==============================] - 0s 17ms/step - loss: 0.7241 - mae: 0.1358 - val_loss: 0.6878 - val_mae: 0.0160\n",
      "Epoch 73/150\n",
      "10/10 [==============================] - 0s 17ms/step - loss: 0.7121 - mae: 0.1147 - val_loss: 0.6827 - val_mae: 0.0160\n",
      "Epoch 74/150\n",
      "10/10 [==============================] - 0s 18ms/step - loss: 0.7410 - mae: 0.1521 - val_loss: 0.6826 - val_mae: 0.0160\n",
      "Epoch 75/150\n",
      "10/10 [==============================] - 0s 16ms/step - loss: 0.7099 - mae: 0.1136 - val_loss: 0.6906 - val_mae: 0.0160\n",
      "Epoch 76/150\n",
      "10/10 [==============================] - 0s 18ms/step - loss: 0.7251 - mae: 0.1390 - val_loss: 0.6884 - val_mae: 0.0088\n",
      "Epoch 77/150\n",
      "10/10 [==============================] - 0s 17ms/step - loss: 0.7311 - mae: 0.1440 - val_loss: 0.6856 - val_mae: 0.0088\n",
      "Epoch 78/150\n",
      "10/10 [==============================] - 0s 17ms/step - loss: 0.7161 - mae: 0.1336 - val_loss: 0.6847 - val_mae: 0.0160\n",
      "Epoch 79/150\n",
      "10/10 [==============================] - 0s 20ms/step - loss: 0.7206 - mae: 0.1318 - val_loss: 0.6830 - val_mae: 0.0114\n",
      "Epoch 80/150\n",
      "10/10 [==============================] - 0s 18ms/step - loss: 0.7242 - mae: 0.1299 - val_loss: 0.6843 - val_mae: 0.0088\n",
      "Epoch 81/150\n",
      "10/10 [==============================] - 0s 17ms/step - loss: 0.7101 - mae: 0.1212 - val_loss: 0.6878 - val_mae: 0.0344\n",
      "Epoch 82/150\n",
      "10/10 [==============================] - 0s 20ms/step - loss: 0.7427 - mae: 0.1502 - val_loss: 0.6826 - val_mae: 0.0088\n",
      "Epoch 83/150\n",
      "10/10 [==============================] - 0s 17ms/step - loss: 0.7354 - mae: 0.1663 - val_loss: 0.6869 - val_mae: 0.0088\n",
      "Epoch 84/150\n",
      "10/10 [==============================] - 0s 17ms/step - loss: 0.7170 - mae: 0.1325 - val_loss: 0.6862 - val_mae: 0.0155\n",
      "Epoch 85/150\n",
      "10/10 [==============================] - 0s 19ms/step - loss: 0.7087 - mae: 0.1075 - val_loss: 0.6830 - val_mae: 0.0160\n",
      "Epoch 86/150\n",
      "10/10 [==============================] - 0s 18ms/step - loss: 0.7130 - mae: 0.0991 - val_loss: 0.6795 - val_mae: 0.0160\n",
      "Epoch 87/150\n",
      "10/10 [==============================] - 0s 19ms/step - loss: 0.7089 - mae: 0.1089 - val_loss: 0.6889 - val_mae: 0.0147\n",
      "Epoch 88/150\n",
      "10/10 [==============================] - 0s 17ms/step - loss: 0.7135 - mae: 0.1077 - val_loss: 0.6804 - val_mae: 0.0098\n",
      "Epoch 89/150\n",
      "10/10 [==============================] - 0s 17ms/step - loss: 0.7041 - mae: 0.0926 - val_loss: 0.6836 - val_mae: 0.0160\n",
      "Epoch 90/150\n",
      "10/10 [==============================] - 0s 18ms/step - loss: 0.7120 - mae: 0.1231 - val_loss: 0.6840 - val_mae: 0.0160\n",
      "Epoch 91/150\n",
      "10/10 [==============================] - 0s 18ms/step - loss: 0.7216 - mae: 0.1411 - val_loss: 0.6873 - val_mae: 0.0088\n",
      "Epoch 92/150\n",
      "10/10 [==============================] - 0s 18ms/step - loss: 0.7118 - mae: 0.1149 - val_loss: 0.6808 - val_mae: 0.0160\n",
      "Epoch 93/150\n",
      "10/10 [==============================] - 0s 18ms/step - loss: 0.7249 - mae: 0.1534 - val_loss: 0.6908 - val_mae: 0.0476\n",
      "Epoch 94/150\n",
      "10/10 [==============================] - 0s 18ms/step - loss: 0.7421 - mae: 0.1581 - val_loss: 0.6878 - val_mae: 0.0216\n",
      "Epoch 95/150\n",
      "10/10 [==============================] - 0s 18ms/step - loss: 0.7229 - mae: 0.1309 - val_loss: 0.6849 - val_mae: 0.0187\n",
      "Epoch 96/150\n",
      "10/10 [==============================] - 0s 18ms/step - loss: 0.7281 - mae: 0.1472 - val_loss: 0.6886 - val_mae: 0.0094\n",
      "Epoch 97/150\n",
      "10/10 [==============================] - 0s 18ms/step - loss: 0.7126 - mae: 0.1056 - val_loss: 0.6824 - val_mae: 0.0160\n",
      "Epoch 98/150\n",
      "10/10 [==============================] - 0s 17ms/step - loss: 0.7302 - mae: 0.1377 - val_loss: 0.6805 - val_mae: 0.0088\n",
      "Epoch 99/150\n",
      "10/10 [==============================] - 0s 17ms/step - loss: 0.6972 - mae: 0.0948 - val_loss: 0.6846 - val_mae: 0.0157\n",
      "Epoch 100/150\n",
      "10/10 [==============================] - 0s 18ms/step - loss: 0.6998 - mae: 0.0901 - val_loss: 0.6781 - val_mae: 0.0174\n",
      "Epoch 101/150\n",
      "10/10 [==============================] - 0s 18ms/step - loss: 0.7006 - mae: 0.1114 - val_loss: 0.6773 - val_mae: 0.0088\n",
      "Epoch 102/150\n",
      "10/10 [==============================] - 0s 17ms/step - loss: 0.7063 - mae: 0.1263 - val_loss: 0.6786 - val_mae: 0.0088\n",
      "Epoch 103/150\n",
      "10/10 [==============================] - 0s 18ms/step - loss: 0.7187 - mae: 0.1343 - val_loss: 0.6836 - val_mae: 0.0088\n",
      "Epoch 104/150\n",
      "10/10 [==============================] - 0s 17ms/step - loss: 0.7041 - mae: 0.1134 - val_loss: 0.6783 - val_mae: 0.0088\n",
      "Epoch 105/150\n",
      "10/10 [==============================] - 0s 17ms/step - loss: 0.7054 - mae: 0.1084 - val_loss: 0.6841 - val_mae: 0.0160\n",
      "Epoch 106/150\n",
      "10/10 [==============================] - 0s 19ms/step - loss: 0.7112 - mae: 0.1256 - val_loss: 0.6743 - val_mae: 0.0160\n",
      "Epoch 107/150\n",
      "10/10 [==============================] - 0s 18ms/step - loss: 0.6968 - mae: 0.1029 - val_loss: 0.6792 - val_mae: 0.0160\n",
      "Epoch 108/150\n",
      "10/10 [==============================] - 0s 18ms/step - loss: 0.7119 - mae: 0.1086 - val_loss: 0.6795 - val_mae: 0.0160\n",
      "Epoch 109/150\n",
      "10/10 [==============================] - 0s 18ms/step - loss: 0.7023 - mae: 0.1023 - val_loss: 0.6776 - val_mae: 0.0160\n",
      "Epoch 110/150\n",
      "10/10 [==============================] - 0s 18ms/step - loss: 0.6980 - mae: 0.0974 - val_loss: 0.6773 - val_mae: 0.0160\n",
      "Epoch 111/150\n",
      "10/10 [==============================] - 0s 17ms/step - loss: 0.7003 - mae: 0.1127 - val_loss: 0.6821 - val_mae: 0.0160\n",
      "Epoch 112/150\n",
      "10/10 [==============================] - 0s 17ms/step - loss: 0.6954 - mae: 0.0955 - val_loss: 0.6755 - val_mae: 0.0160\n",
      "Epoch 113/150\n",
      "10/10 [==============================] - 0s 17ms/step - loss: 0.6957 - mae: 0.0929 - val_loss: 0.6733 - val_mae: 0.0160\n",
      "Epoch 114/150\n",
      "10/10 [==============================] - 0s 17ms/step - loss: 0.7072 - mae: 0.1332 - val_loss: 0.6789 - val_mae: 0.0160\n",
      "Epoch 115/150\n",
      "10/10 [==============================] - 0s 18ms/step - loss: 0.7032 - mae: 0.1108 - val_loss: 0.6768 - val_mae: 0.0160\n",
      "Epoch 116/150\n",
      "10/10 [==============================] - 0s 19ms/step - loss: 0.7054 - mae: 0.1174 - val_loss: 0.6787 - val_mae: 0.0160\n",
      "Epoch 117/150\n",
      "10/10 [==============================] - 0s 18ms/step - loss: 0.7158 - mae: 0.1375 - val_loss: 0.6823 - val_mae: 0.0160\n",
      "Epoch 118/150\n",
      "10/10 [==============================] - 0s 18ms/step - loss: 0.7129 - mae: 0.1279 - val_loss: 0.6769 - val_mae: 0.0160\n",
      "Epoch 119/150\n",
      "10/10 [==============================] - 0s 18ms/step - loss: 0.7052 - mae: 0.1142 - val_loss: 0.6830 - val_mae: 0.0088\n",
      "Epoch 120/150\n",
      "10/10 [==============================] - 0s 18ms/step - loss: 0.6968 - mae: 0.0929 - val_loss: 0.6777 - val_mae: 0.0160\n",
      "Epoch 121/150\n",
      "10/10 [==============================] - 0s 17ms/step - loss: 0.7007 - mae: 0.1112 - val_loss: 0.6735 - val_mae: 0.0160\n",
      "Epoch 122/150\n",
      "10/10 [==============================] - 0s 17ms/step - loss: 0.7057 - mae: 0.1342 - val_loss: 0.6760 - val_mae: 0.0160\n",
      "Epoch 123/150\n",
      "10/10 [==============================] - 0s 19ms/step - loss: 0.7075 - mae: 0.1246 - val_loss: 0.6830 - val_mae: 0.0160\n",
      "Epoch 124/150\n",
      "10/10 [==============================] - 0s 18ms/step - loss: 0.7023 - mae: 0.0993 - val_loss: 0.6760 - val_mae: 0.0160\n",
      "Epoch 125/150\n",
      "10/10 [==============================] - 0s 18ms/step - loss: 0.7106 - mae: 0.1227 - val_loss: 0.6786 - val_mae: 0.0160\n",
      "Epoch 126/150\n",
      "10/10 [==============================] - 0s 19ms/step - loss: 0.6945 - mae: 0.0883 - val_loss: 0.6785 - val_mae: 0.0160\n",
      "Epoch 127/150\n",
      "10/10 [==============================] - 0s 19ms/step - loss: 0.7003 - mae: 0.1083 - val_loss: 0.6797 - val_mae: 0.0160\n",
      "Epoch 128/150\n",
      "10/10 [==============================] - 0s 18ms/step - loss: 0.6979 - mae: 0.0925 - val_loss: 0.6729 - val_mae: 0.0160\n",
      "Epoch 129/150\n",
      "10/10 [==============================] - 0s 18ms/step - loss: 0.7113 - mae: 0.1194 - val_loss: 0.6802 - val_mae: 0.0149\n",
      "Epoch 130/150\n",
      "10/10 [==============================] - 0s 19ms/step - loss: 0.7026 - mae: 0.0965 - val_loss: 0.6762 - val_mae: 0.0160\n",
      "Epoch 131/150\n",
      "10/10 [==============================] - 0s 17ms/step - loss: 0.6989 - mae: 0.0964 - val_loss: 0.6800 - val_mae: 0.0160\n",
      "Epoch 132/150\n",
      "10/10 [==============================] - 0s 17ms/step - loss: 0.7298 - mae: 0.1724 - val_loss: 0.6857 - val_mae: 0.0306\n",
      "Epoch 133/150\n",
      "10/10 [==============================] - 0s 19ms/step - loss: 0.7112 - mae: 0.1203 - val_loss: 0.6803 - val_mae: 0.0088\n",
      "Epoch 134/150\n",
      "10/10 [==============================] - 0s 18ms/step - loss: 0.7060 - mae: 0.1099 - val_loss: 0.6774 - val_mae: 0.0160\n",
      "Epoch 135/150\n",
      "10/10 [==============================] - 0s 17ms/step - loss: 0.6990 - mae: 0.1032 - val_loss: 0.6794 - val_mae: 0.0160\n",
      "Epoch 136/150\n",
      "10/10 [==============================] - 0s 17ms/step - loss: 0.7111 - mae: 0.1154 - val_loss: 0.6774 - val_mae: 0.0160\n",
      "Epoch 137/150\n",
      "10/10 [==============================] - 0s 17ms/step - loss: 0.7012 - mae: 0.1081 - val_loss: 0.6745 - val_mae: 0.0160\n",
      "Epoch 138/150\n",
      "10/10 [==============================] - 0s 19ms/step - loss: 0.7036 - mae: 0.1150 - val_loss: 0.6787 - val_mae: 0.0160\n",
      "Epoch 139/150\n",
      "10/10 [==============================] - 0s 18ms/step - loss: 0.7129 - mae: 0.1346 - val_loss: 0.6809 - val_mae: 0.0150\n",
      "Epoch 140/150\n",
      "10/10 [==============================] - 0s 17ms/step - loss: 0.7087 - mae: 0.1200 - val_loss: 0.6725 - val_mae: 0.0088\n",
      "Epoch 141/150\n",
      "10/10 [==============================] - 0s 16ms/step - loss: 0.6956 - mae: 0.0976 - val_loss: 0.6777 - val_mae: 0.0160\n",
      "Epoch 142/150\n",
      "10/10 [==============================] - 0s 17ms/step - loss: 0.6979 - mae: 0.0989 - val_loss: 0.6705 - val_mae: 0.0160\n",
      "Epoch 143/150\n",
      "10/10 [==============================] - 0s 18ms/step - loss: 0.6964 - mae: 0.1095 - val_loss: 0.6772 - val_mae: 0.0160\n",
      "Epoch 144/150\n",
      "10/10 [==============================] - 0s 18ms/step - loss: 0.6893 - mae: 0.0847 - val_loss: 0.6726 - val_mae: 0.0160\n",
      "Epoch 145/150\n",
      "10/10 [==============================] - 0s 18ms/step - loss: 0.7026 - mae: 0.1120 - val_loss: 0.6742 - val_mae: 0.0160\n",
      "Epoch 146/150\n",
      "10/10 [==============================] - 0s 19ms/step - loss: 0.7016 - mae: 0.1185 - val_loss: 0.6716 - val_mae: 0.0160\n",
      "Epoch 147/150\n",
      "10/10 [==============================] - 0s 17ms/step - loss: 0.7036 - mae: 0.1182 - val_loss: 0.6795 - val_mae: 0.0160\n",
      "Epoch 148/150\n",
      "10/10 [==============================] - 0s 17ms/step - loss: 0.7060 - mae: 0.1075 - val_loss: 0.6758 - val_mae: 0.0160\n",
      "Epoch 149/150\n",
      "10/10 [==============================] - 0s 18ms/step - loss: 0.6958 - mae: 0.0910 - val_loss: 0.6707 - val_mae: 0.0160\n",
      "Epoch 150/150\n",
      "10/10 [==============================] - 0s 18ms/step - loss: 0.6896 - mae: 0.0900 - val_loss: 0.6762 - val_mae: 0.0160\n"
     ]
    }
   ],
   "source": [
    "#Using mae and mse\n",
    "#model.compile(optimizer=tf.keras.optimizers.SGD(learning_rate=0.001, momentum=0.9),metrics=['mae'],loss='mse')\n",
    "model.compile(optimizer=tf.keras.optimizers.Adam(),metrics=['mae'],loss='mse')\n",
    "model.summary()\n",
    "hist=model.fit(train_set,epochs=150,validation_data=valid_set, batch_size=1)"
   ]
  },
  {
   "cell_type": "code",
   "execution_count": 85,
   "metadata": {},
   "outputs": [
    {
     "data": {
      "image/png": "[encoded data removed]",
      "text/plain": [
       "<Figure size 432x288 with 1 Axes>"
      ]
     },
     "metadata": {
      "needs_background": "light"
     },
     "output_type": "display_data"
    }
   ],
   "source": [
    "plt.plot(hist.history['mae'], label='MAE (training data)')\n",
    "plt.plot(hist.history['val_mae'], label='MAE (validation data)')\n",
    "\n",
    "plt.title('MAE Cluster 3')\n",
    "plt.ylabel('MAE value')\n",
    "plt.xlabel('No. epoch')\n",
    "plt.legend(loc=\"upper left\")\n",
    "plt.show()"
   ]
  },
  {
   "cell_type": "code",
   "execution_count": 86,
   "metadata": {},
   "outputs": [
    {
     "data": {
      "image/png": "[encoded data removed]",
      "text/plain": [
       "<Figure size 432x288 with 1 Axes>"
      ]
     },
     "metadata": {
      "needs_background": "light"
     },
     "output_type": "display_data"
    }
   ],
   "source": [
    "plt.plot(hist.history['loss'], label='loss (training data)')\n",
    "plt.plot(hist.history['val_loss'], label='loss (validation data)')\n",
    "\n",
    "plt.title(\"Loss Cluster 3 (MSE)\")\n",
    "plt.ylabel('MSE value')\n",
    "plt.xlabel('No. epoch')\n",
    "plt.legend(loc=\"upper left\")\n",
    "plt.show()"
   ]
  },
  {
   "cell_type": "code",
   "execution_count": 87,
   "metadata": {},
   "outputs": [
    {
     "data": {
      "text/plain": [
       "array([[0.5219645 ],\n",
       "       [0.52231556],\n",
       "       [0.52258307]], dtype=float32)"
      ]
     },
     "execution_count": 87,
     "metadata": {},
     "output_type": "execute_result"
    }
   ],
   "source": [
    "prediksi=model.predict([21, 22, 23])\n",
    "prediksi"
   ]
  },
  {
   "cell_type": "code",
   "execution_count": 88,
   "metadata": {},
   "outputs": [],
   "source": [
    "prediksi=prediksi.flatten()"
   ]
  },
  {
   "cell_type": "code",
   "execution_count": 89,
   "metadata": {},
   "outputs": [],
   "source": [
    "hasil=np.concatenate((series[:-split_time],prediksi))"
   ]
  },
  {
   "cell_type": "code",
   "execution_count": 90,
   "metadata": {},
   "outputs": [
    {
     "data": {
      "text/plain": [
       "array([0.64008059, 1.        , 0.75100735, 0.71687604, 0.81488504,\n",
       "       0.92830055, 0.71095046, 0.86975587, 0.63285139, 0.7185352 ,\n",
       "       0.99300782, 0.37781465, 0.03353875, 0.02453188, 0.00841432,\n",
       "       0.        , 0.05344868, 0.00841432, 0.01078455, 0.01682863,\n",
       "       0.03602749, 0.52196449, 0.52231556, 0.52258307])"
      ]
     },
     "execution_count": 90,
     "metadata": {},
     "output_type": "execute_result"
    }
   ],
   "source": [
    "hasil"
   ]
  },
  {
   "cell_type": "code",
   "execution_count": 92,
   "metadata": {},
   "outputs": [
    {
     "data": {
      "text/plain": [
       "[]"
      ]
     },
     "execution_count": 92,
     "metadata": {},
     "output_type": "execute_result"
    },
    {
     "data": {
      "image/png": "[encoded data removed]",
      "text/plain": [
       "<Figure size 432x288 with 1 Axes>"
      ]
     },
     "metadata": {
      "needs_background": "light"
     },
     "output_type": "display_data"
    }
   ],
   "source": [
    "plt.plot(series,label='data asli')\n",
    "plt.plot(hasil,label='data prediksi')\n",
    "plt.title('penjualan produk cluster 3')\n",
    "plt.legend()\n",
    "plt.plot()"
   ]
  },
  {
   "cell_type": "code",
   "execution_count": 93,
   "metadata": {},
   "outputs": [],
   "source": [
    "model.save('cluster3.h5')"
   ]
  },
  {
   "cell_type": "markdown",
   "metadata": {},
   "source": [
    "# C4"
   ]
  },
  {
   "cell_type": "code",
   "execution_count": 94,
   "metadata": {},
   "outputs": [],
   "source": [
    "## do the same for the others, tapi karena yang lain punya beberapa anggota, nah itu di average dulu per tanggalnya\n",
    "c4=c4.drop(columns=['Kode Produk', 'Cluster'])"
   ]
  },
  {
   "cell_type": "code",
   "execution_count": 95,
   "metadata": {},
   "outputs": [],
   "source": [
    "#next, buat dia kayak mejeneng time series seperti biasanya, which is datanya ke bawah, tapi di average per tanggal \n",
    "new_c4=[]\n",
    "time=[]\n",
    "for idx,a in enumerate(c4):\n",
    "    new_c4.append(c4[a].mean())\n",
    "    time.append(idx)\n"
   ]
  },
  {
   "cell_type": "code",
   "execution_count": 96,
   "metadata": {},
   "outputs": [
    {
     "data": {
      "text/plain": [
       "[623.6923076923077,\n",
       " 673.3846153846154,\n",
       " 625.0,\n",
       " 588.9230769230769,\n",
       " 791.6923076923077,\n",
       " 510.2307692307692,\n",
       " 679.3846153846154,\n",
       " 602.4615384615385,\n",
       " 666.4615384615385,\n",
       " 643.4615384615385,\n",
       " 663.0,\n",
       " 555.6153846153846,\n",
       " 1338.2307692307693,\n",
       " 1224.076923076923,\n",
       " 1327.2307692307693,\n",
       " 1021.3846153846154,\n",
       " 797.8461538461538,\n",
       " 1000.7692307692307,\n",
       " 1287.8461538461538,\n",
       " 1209.3076923076924,\n",
       " 1329.7692307692307,\n",
       " 1436.923076923077,\n",
       " 1577.3076923076924,\n",
       " 1175.3846153846155]"
      ]
     },
     "execution_count": 96,
     "metadata": {},
     "output_type": "execute_result"
    }
   ],
   "source": [
    "new_c4"
   ]
  },
  {
   "cell_type": "code",
   "execution_count": 97,
   "metadata": {},
   "outputs": [],
   "source": [
    "#normalisasi, karena gap nya ada yang sampe ribuan, biar lebih gampang tugas ann nya\n",
    "series=new_c4\n",
    "min = np.min(series)\n",
    "max = np.max(series)\n",
    "series = series - min\n",
    "series = series / (max-min)\n",
    "time = np.array(time)"
   ]
  },
  {
   "cell_type": "code",
   "execution_count": 98,
   "metadata": {},
   "outputs": [
    {
     "data": {
      "text/plain": [
       "array([0.1063293 , 0.15289792, 0.10755479, 0.07374567, 0.26376874,\n",
       "       0.        , 0.15852076, 0.0864331 , 0.14641003, 0.12485582,\n",
       "       0.14316609, 0.04253172, 0.77595156, 0.66897347, 0.76564302,\n",
       "       0.47902249, 0.26953576, 0.459703  , 0.72873414, 0.65513264,\n",
       "       0.76802191, 0.86844002, 1.        , 0.62334198])"
      ]
     },
     "execution_count": 98,
     "metadata": {},
     "output_type": "execute_result"
    }
   ],
   "source": [
    "series"
   ]
  },
  {
   "cell_type": "code",
   "execution_count": 99,
   "metadata": {},
   "outputs": [],
   "source": [
    "split_time = 3 # ini berapa bulan terkahir yang mau di potong buat pengujian?\n",
    "\n",
    "time_train = time[:-split_time]\n",
    "x_train =  series[:-split_time]\n",
    "time_valid =  time[-split_time:]\n",
    "x_valid =  series[-split_time:]"
   ]
  },
  {
   "cell_type": "code",
   "execution_count": 100,
   "metadata": {},
   "outputs": [
    {
     "data": {
      "text/plain": [
       "array([0.86844002, 1.        , 0.62334198])"
      ]
     },
     "execution_count": 100,
     "metadata": {},
     "output_type": "execute_result"
    }
   ],
   "source": [
    "x_valid"
   ]
  },
  {
   "cell_type": "code",
   "execution_count": 101,
   "metadata": {},
   "outputs": [],
   "source": [
    "#buat data biar dibagi per window, jadi me masang masangkan waktu dan value,\n",
    "window_size = 2\n",
    "batch_size = 2\n",
    "shuffle_buffer_size = 10\n",
    "\n",
    "train_set = windowed_dataset(x_train, window_size, batch_size, shuffle_buffer_size)\n",
    "valid_set = windowed_dataset(x_valid, window_size, batch_size, shuffle_buffer_size)"
   ]
  },
  {
   "cell_type": "code",
   "execution_count": 102,
   "metadata": {},
   "outputs": [],
   "source": [
    "model = tf.keras.Sequential([\n",
    "        tf.keras.layers.Dense(2, input_shape=[None, 1]),\n",
    "        tf.keras.layers.Bidirectional(tf.keras.layers.LSTM(64,return_sequences=True)),\n",
    "        tf.keras.layers.Bidirectional(tf.keras.layers.LSTM(32)),\n",
    "        \n",
    "        tf.keras.layers.Flatten(),\n",
    "        tf.keras.layers.Dense(1024, activation='relu'),\n",
    "        tf.keras.layers.Dropout(0.5),\n",
    "        tf.keras.layers.Dense(512, activation='relu',kernel_regularizer=tf.keras.regularizers.l1(l1=0.01)),\n",
    "        tf.keras.layers.Dense(64, activation='relu',kernel_regularizer=tf.keras.regularizers.l1_l2(l1=0.01, l2=0.01)),\n",
    "        tf.keras.layers.Dense(32, activation='relu'),\n",
    "        tf.keras.layers.Dropout(0.3),\n",
    "        tf.keras.layers.Dense(1, activation='relu')\n",
    "    ])\n",
    "\n",
    "    #the blstm part"
   ]
  },
  {
   "cell_type": "code",
   "execution_count": 103,
   "metadata": {},
   "outputs": [
    {
     "name": "stdout",
     "output_type": "stream",
     "text": [
      "Model: \"sequential_5\"\n",
      "_________________________________________________________________\n",
      "Layer (type)                 Output Shape              Param #   \n",
      "=================================================================\n",
      "dense_30 (Dense)             (None, None, 2)           4         \n",
      "_________________________________________________________________\n",
      "bidirectional_10 (Bidirectio (None, None, 128)         34304     \n",
      "_________________________________________________________________\n",
      "bidirectional_11 (Bidirectio (None, 64)                41216     \n",
      "_________________________________________________________________\n",
      "flatten_5 (Flatten)          (None, 64)                0         \n",
      "_________________________________________________________________\n",
      "dense_31 (Dense)             (None, 1024)              66560     \n",
      "_________________________________________________________________\n",
      "dropout_10 (Dropout)         (None, 1024)              0         \n",
      "_________________________________________________________________\n",
      "dense_32 (Dense)             (None, 512)               524800    \n",
      "_________________________________________________________________\n",
      "dense_33 (Dense)             (None, 64)                32832     \n",
      "_________________________________________________________________\n",
      "dense_34 (Dense)             (None, 32)                2080      \n",
      "_________________________________________________________________\n",
      "dropout_11 (Dropout)         (None, 32)                0         \n",
      "_________________________________________________________________\n",
      "dense_35 (Dense)             (None, 1)                 33        \n",
      "=================================================================\n",
      "Total params: 701,829\n",
      "Trainable params: 701,829\n",
      "Non-trainable params: 0\n",
      "_________________________________________________________________\n",
      "Epoch 1/150\n",
      "10/10 [==============================] - 6s 123ms/step - loss: 159.1224 - mae: 0.2586 - val_loss: 130.9525 - val_mae: 0.5506\n",
      "Epoch 2/150\n",
      "10/10 [==============================] - 0s 18ms/step - loss: 112.1393 - mae: 0.1783 - val_loss: 89.0539 - val_mae: 0.3481\n",
      "Epoch 3/150\n",
      "10/10 [==============================] - 0s 17ms/step - loss: 74.1111 - mae: 0.2100 - val_loss: 55.9280 - val_mae: 0.3598\n",
      "Epoch 4/150\n",
      "10/10 [==============================] - 0s 18ms/step - loss: 44.5989 - mae: 0.2224 - val_loss: 31.3302 - val_mae: 0.4442\n",
      "Epoch 5/150\n",
      "10/10 [==============================] - 0s 18ms/step - loss: 23.5686 - mae: 0.2358 - val_loss: 15.2109 - val_mae: 0.4919\n",
      "Epoch 6/150\n",
      "10/10 [==============================] - 0s 17ms/step - loss: 11.0513 - mae: 0.2364 - val_loss: 7.6220 - val_mae: 0.4911\n",
      "Epoch 7/150\n",
      "10/10 [==============================] - 0s 17ms/step - loss: 6.4355 - mae: 0.2393 - val_loss: 4.9745 - val_mae: 0.4836\n",
      "Epoch 8/150\n",
      "10/10 [==============================] - 0s 17ms/step - loss: 3.6942 - mae: 0.2536 - val_loss: 2.9563 - val_mae: 0.4900\n",
      "Epoch 9/150\n",
      "10/10 [==============================] - 0s 18ms/step - loss: 2.1905 - mae: 0.2558 - val_loss: 1.8275 - val_mae: 0.4956\n",
      "Epoch 10/150\n",
      "10/10 [==============================] - 0s 17ms/step - loss: 1.3694 - mae: 0.2706 - val_loss: 1.3134 - val_mae: 0.5075\n",
      "Epoch 11/150\n",
      "10/10 [==============================] - 0s 17ms/step - loss: 1.0262 - mae: 0.2557 - val_loss: 1.1481 - val_mae: 0.5004\n",
      "Epoch 12/150\n",
      "10/10 [==============================] - 0s 17ms/step - loss: 0.8859 - mae: 0.2543 - val_loss: 1.0407 - val_mae: 0.4968\n",
      "Epoch 13/150\n",
      "10/10 [==============================] - 0s 18ms/step - loss: 0.8049 - mae: 0.2192 - val_loss: 0.9900 - val_mae: 0.4893\n",
      "Epoch 14/150\n",
      "10/10 [==============================] - 0s 15ms/step - loss: 0.7871 - mae: 0.2607 - val_loss: 0.9636 - val_mae: 0.4884\n",
      "Epoch 15/150\n",
      "10/10 [==============================] - 0s 18ms/step - loss: 0.7719 - mae: 0.2578 - val_loss: 0.9796 - val_mae: 0.4978\n",
      "Epoch 16/150\n",
      "10/10 [==============================] - 0s 18ms/step - loss: 0.7725 - mae: 0.2518 - val_loss: 0.9762 - val_mae: 0.5070\n",
      "Epoch 17/150\n",
      "10/10 [==============================] - 0s 17ms/step - loss: 0.7699 - mae: 0.2561 - val_loss: 0.9722 - val_mae: 0.5031\n",
      "Epoch 18/150\n",
      "10/10 [==============================] - 0s 19ms/step - loss: 0.7642 - mae: 0.2415 - val_loss: 0.9525 - val_mae: 0.4844\n",
      "Epoch 19/150\n",
      "10/10 [==============================] - 0s 17ms/step - loss: 0.7498 - mae: 0.2413 - val_loss: 0.9475 - val_mae: 0.4788\n",
      "Epoch 20/150\n",
      "10/10 [==============================] - 0s 17ms/step - loss: 0.7589 - mae: 0.2506 - val_loss: 0.9409 - val_mae: 0.4775\n",
      "Epoch 21/150\n",
      "10/10 [==============================] - 0s 18ms/step - loss: 0.7787 - mae: 0.2893 - val_loss: 0.9467 - val_mae: 0.4783\n",
      "Epoch 22/150\n",
      "10/10 [==============================] - 0s 16ms/step - loss: 0.7659 - mae: 0.2591 - val_loss: 0.9563 - val_mae: 0.4923\n",
      "Epoch 23/150\n",
      "10/10 [==============================] - 0s 17ms/step - loss: 0.7568 - mae: 0.2420 - val_loss: 0.9544 - val_mae: 0.4904\n",
      "Epoch 24/150\n",
      "10/10 [==============================] - 0s 17ms/step - loss: 0.7558 - mae: 0.2388 - val_loss: 0.9613 - val_mae: 0.4931\n",
      "Epoch 25/150\n",
      "10/10 [==============================] - 0s 16ms/step - loss: 0.7616 - mae: 0.2487 - val_loss: 0.9330 - val_mae: 0.4739\n",
      "Epoch 26/150\n",
      "10/10 [==============================] - 0s 17ms/step - loss: 0.7602 - mae: 0.2598 - val_loss: 0.9352 - val_mae: 0.4718\n",
      "Epoch 27/150\n",
      "10/10 [==============================] - 0s 17ms/step - loss: 0.7542 - mae: 0.2418 - val_loss: 0.9462 - val_mae: 0.4772\n",
      "Epoch 28/150\n",
      "10/10 [==============================] - 0s 16ms/step - loss: 0.7545 - mae: 0.2468 - val_loss: 0.9307 - val_mae: 0.4693\n",
      "Epoch 29/150\n",
      "10/10 [==============================] - 0s 18ms/step - loss: 0.7477 - mae: 0.2370 - val_loss: 0.9223 - val_mae: 0.4600\n",
      "Epoch 30/150\n",
      "10/10 [==============================] - 0s 17ms/step - loss: 0.7472 - mae: 0.2395 - val_loss: 0.9262 - val_mae: 0.4642\n",
      "Epoch 31/150\n",
      "10/10 [==============================] - 0s 18ms/step - loss: 0.7502 - mae: 0.2426 - val_loss: 0.9417 - val_mae: 0.4772\n",
      "Epoch 32/150\n",
      "10/10 [==============================] - 0s 18ms/step - loss: 0.7620 - mae: 0.2591 - val_loss: 0.9476 - val_mae: 0.4877\n",
      "Epoch 33/150\n",
      "10/10 [==============================] - 0s 18ms/step - loss: 0.7555 - mae: 0.2520 - val_loss: 0.9523 - val_mae: 0.4842\n",
      "Epoch 34/150\n",
      "10/10 [==============================] - 0s 17ms/step - loss: 0.7516 - mae: 0.2437 - val_loss: 0.9492 - val_mae: 0.4898\n",
      "Epoch 35/150\n",
      "10/10 [==============================] - 0s 17ms/step - loss: 0.7626 - mae: 0.2664 - val_loss: 0.9657 - val_mae: 0.5001\n",
      "Epoch 36/150\n",
      "10/10 [==============================] - 0s 18ms/step - loss: 0.7579 - mae: 0.2571 - val_loss: 0.9676 - val_mae: 0.5059\n",
      "Epoch 37/150\n",
      "10/10 [==============================] - 0s 17ms/step - loss: 0.7552 - mae: 0.2424 - val_loss: 0.9506 - val_mae: 0.4906\n",
      "Epoch 38/150\n",
      "10/10 [==============================] - 0s 18ms/step - loss: 0.7573 - mae: 0.2573 - val_loss: 0.9495 - val_mae: 0.4871\n",
      "Epoch 39/150\n",
      "10/10 [==============================] - 0s 18ms/step - loss: 0.7549 - mae: 0.2538 - val_loss: 0.9380 - val_mae: 0.4721\n",
      "Epoch 40/150\n",
      "10/10 [==============================] - 0s 18ms/step - loss: 0.7489 - mae: 0.2426 - val_loss: 0.9340 - val_mae: 0.4738\n",
      "Epoch 41/150\n",
      "10/10 [==============================] - 0s 18ms/step - loss: 0.7563 - mae: 0.2575 - val_loss: 0.9389 - val_mae: 0.4775\n",
      "Epoch 42/150\n",
      "10/10 [==============================] - 0s 18ms/step - loss: 0.7673 - mae: 0.2662 - val_loss: 0.9451 - val_mae: 0.4793\n",
      "Epoch 43/150\n",
      "10/10 [==============================] - 0s 19ms/step - loss: 0.7570 - mae: 0.2553 - val_loss: 0.9371 - val_mae: 0.4725\n",
      "Epoch 44/150\n",
      "10/10 [==============================] - 0s 18ms/step - loss: 0.7608 - mae: 0.2474 - val_loss: 0.9395 - val_mae: 0.4770\n",
      "Epoch 45/150\n",
      "10/10 [==============================] - 0s 17ms/step - loss: 0.7473 - mae: 0.2413 - val_loss: 0.9259 - val_mae: 0.4587\n",
      "Epoch 46/150\n",
      "10/10 [==============================] - 0s 18ms/step - loss: 0.7747 - mae: 0.2859 - val_loss: 0.9265 - val_mae: 0.4648\n",
      "Epoch 47/150\n",
      "10/10 [==============================] - 0s 18ms/step - loss: 0.7544 - mae: 0.2513 - val_loss: 0.9428 - val_mae: 0.4798\n",
      "Epoch 48/150\n",
      "10/10 [==============================] - 0s 18ms/step - loss: 0.7493 - mae: 0.2408 - val_loss: 0.9353 - val_mae: 0.4738\n",
      "Epoch 49/150\n",
      "10/10 [==============================] - 0s 18ms/step - loss: 0.7604 - mae: 0.2608 - val_loss: 0.9380 - val_mae: 0.4774\n",
      "Epoch 50/150\n",
      "10/10 [==============================] - 0s 17ms/step - loss: 0.7476 - mae: 0.2296 - val_loss: 0.9257 - val_mae: 0.4661\n",
      "Epoch 51/150\n",
      "10/10 [==============================] - 0s 18ms/step - loss: 0.7488 - mae: 0.2505 - val_loss: 0.9404 - val_mae: 0.4765\n",
      "Epoch 52/150\n",
      "10/10 [==============================] - 0s 18ms/step - loss: 0.7524 - mae: 0.2543 - val_loss: 0.9306 - val_mae: 0.4699\n",
      "Epoch 53/150\n",
      "10/10 [==============================] - 0s 18ms/step - loss: 0.7513 - mae: 0.2441 - val_loss: 0.9284 - val_mae: 0.4694\n",
      "Epoch 54/150\n",
      "10/10 [==============================] - 0s 16ms/step - loss: 0.7529 - mae: 0.2568 - val_loss: 0.9429 - val_mae: 0.4800\n",
      "Epoch 55/150\n",
      "10/10 [==============================] - 0s 16ms/step - loss: 0.7549 - mae: 0.2557 - val_loss: 0.9491 - val_mae: 0.4851\n",
      "Epoch 56/150\n",
      "10/10 [==============================] - 0s 17ms/step - loss: 0.7490 - mae: 0.2434 - val_loss: 0.9428 - val_mae: 0.4864\n",
      "Epoch 57/150\n",
      "10/10 [==============================] - 0s 18ms/step - loss: 0.7552 - mae: 0.2598 - val_loss: 0.9380 - val_mae: 0.4757\n",
      "Epoch 58/150\n",
      "10/10 [==============================] - 0s 18ms/step - loss: 0.7548 - mae: 0.2531 - val_loss: 0.9442 - val_mae: 0.4859\n",
      "Epoch 59/150\n",
      "10/10 [==============================] - 0s 17ms/step - loss: 0.7557 - mae: 0.2519 - val_loss: 0.9422 - val_mae: 0.4782\n",
      "Epoch 60/150\n",
      "10/10 [==============================] - 0s 18ms/step - loss: 0.7641 - mae: 0.2632 - val_loss: 0.9501 - val_mae: 0.4886\n",
      "Epoch 61/150\n",
      "10/10 [==============================] - 0s 18ms/step - loss: 0.7522 - mae: 0.2451 - val_loss: 0.9284 - val_mae: 0.4691\n",
      "Epoch 62/150\n",
      "10/10 [==============================] - 0s 17ms/step - loss: 0.7624 - mae: 0.2617 - val_loss: 0.9278 - val_mae: 0.4707\n",
      "Epoch 63/150\n",
      "10/10 [==============================] - 0s 18ms/step - loss: 0.7528 - mae: 0.2627 - val_loss: 0.9427 - val_mae: 0.4751\n",
      "Epoch 64/150\n",
      "10/10 [==============================] - 0s 18ms/step - loss: 0.7677 - mae: 0.2709 - val_loss: 0.9382 - val_mae: 0.4800\n",
      "Epoch 65/150\n",
      "10/10 [==============================] - 0s 19ms/step - loss: 0.7488 - mae: 0.2509 - val_loss: 0.9331 - val_mae: 0.4778\n",
      "Epoch 66/150\n",
      "10/10 [==============================] - 0s 19ms/step - loss: 0.7493 - mae: 0.2460 - val_loss: 0.9402 - val_mae: 0.4771\n",
      "Epoch 67/150\n",
      "10/10 [==============================] - 0s 16ms/step - loss: 0.7664 - mae: 0.2666 - val_loss: 0.9457 - val_mae: 0.4826\n",
      "Epoch 68/150\n",
      "10/10 [==============================] - 0s 17ms/step - loss: 0.7596 - mae: 0.2564 - val_loss: 0.9493 - val_mae: 0.4870\n",
      "Epoch 69/150\n",
      "10/10 [==============================] - 0s 18ms/step - loss: 0.7611 - mae: 0.2603 - val_loss: 0.9436 - val_mae: 0.4790\n",
      "Epoch 70/150\n",
      "10/10 [==============================] - 0s 16ms/step - loss: 0.7537 - mae: 0.2461 - val_loss: 0.9414 - val_mae: 0.4830\n",
      "Epoch 71/150\n",
      "10/10 [==============================] - 0s 18ms/step - loss: 0.7553 - mae: 0.2624 - val_loss: 0.9311 - val_mae: 0.4694\n",
      "Epoch 72/150\n",
      "10/10 [==============================] - 0s 17ms/step - loss: 0.7567 - mae: 0.2574 - val_loss: 0.9329 - val_mae: 0.4711\n",
      "Epoch 73/150\n",
      "10/10 [==============================] - 0s 17ms/step - loss: 0.7612 - mae: 0.2633 - val_loss: 0.9322 - val_mae: 0.4731\n",
      "Epoch 74/150\n",
      "10/10 [==============================] - 0s 17ms/step - loss: 0.7613 - mae: 0.2677 - val_loss: 0.9341 - val_mae: 0.4779\n",
      "Epoch 75/150\n",
      "10/10 [==============================] - 0s 17ms/step - loss: 0.7504 - mae: 0.2506 - val_loss: 0.9521 - val_mae: 0.4866\n",
      "Epoch 76/150\n",
      "10/10 [==============================] - 0s 17ms/step - loss: 0.7560 - mae: 0.2603 - val_loss: 0.9459 - val_mae: 0.4886\n",
      "Epoch 77/150\n",
      "10/10 [==============================] - 0s 18ms/step - loss: 0.7530 - mae: 0.2444 - val_loss: 0.9522 - val_mae: 0.4942\n",
      "Epoch 78/150\n",
      "10/10 [==============================] - 0s 18ms/step - loss: 0.7619 - mae: 0.2669 - val_loss: 0.9432 - val_mae: 0.4844\n",
      "Epoch 79/150\n",
      "10/10 [==============================] - 0s 17ms/step - loss: 0.7515 - mae: 0.2501 - val_loss: 0.9413 - val_mae: 0.4860\n",
      "Epoch 80/150\n",
      "10/10 [==============================] - 0s 17ms/step - loss: 0.7583 - mae: 0.2549 - val_loss: 0.9327 - val_mae: 0.4734\n",
      "Epoch 81/150\n",
      "10/10 [==============================] - 0s 19ms/step - loss: 0.7477 - mae: 0.2516 - val_loss: 0.9446 - val_mae: 0.4839\n",
      "Epoch 82/150\n",
      "10/10 [==============================] - 0s 18ms/step - loss: 0.7561 - mae: 0.2633 - val_loss: 0.9403 - val_mae: 0.4831\n",
      "Epoch 83/150\n",
      "10/10 [==============================] - 0s 17ms/step - loss: 0.7629 - mae: 0.2630 - val_loss: 0.9567 - val_mae: 0.4947\n",
      "Epoch 84/150\n",
      "10/10 [==============================] - 0s 18ms/step - loss: 0.7501 - mae: 0.2502 - val_loss: 0.9403 - val_mae: 0.4823\n",
      "Epoch 85/150\n",
      "10/10 [==============================] - 0s 17ms/step - loss: 0.7485 - mae: 0.2517 - val_loss: 0.9488 - val_mae: 0.4910\n",
      "Epoch 86/150\n",
      "10/10 [==============================] - 0s 15ms/step - loss: 0.7516 - mae: 0.2487 - val_loss: 0.9408 - val_mae: 0.4873\n",
      "Epoch 87/150\n",
      "10/10 [==============================] - 0s 16ms/step - loss: 0.7462 - mae: 0.2485 - val_loss: 0.9435 - val_mae: 0.4785\n",
      "Epoch 88/150\n",
      "10/10 [==============================] - 0s 18ms/step - loss: 0.7669 - mae: 0.2770 - val_loss: 0.9272 - val_mae: 0.4723\n",
      "Epoch 89/150\n",
      "10/10 [==============================] - 0s 18ms/step - loss: 0.7464 - mae: 0.2451 - val_loss: 0.9409 - val_mae: 0.4795\n",
      "Epoch 90/150\n",
      "10/10 [==============================] - 0s 19ms/step - loss: 0.7527 - mae: 0.2528 - val_loss: 0.9351 - val_mae: 0.4731\n",
      "Epoch 91/150\n",
      "10/10 [==============================] - 0s 18ms/step - loss: 0.7521 - mae: 0.2564 - val_loss: 0.9446 - val_mae: 0.4831\n",
      "Epoch 92/150\n",
      "10/10 [==============================] - 0s 18ms/step - loss: 0.7523 - mae: 0.2532 - val_loss: 0.9414 - val_mae: 0.4863\n",
      "Epoch 93/150\n",
      "10/10 [==============================] - 0s 18ms/step - loss: 0.7399 - mae: 0.2355 - val_loss: 0.9310 - val_mae: 0.4748\n",
      "Epoch 94/150\n",
      "10/10 [==============================] - 0s 18ms/step - loss: 0.7434 - mae: 0.2391 - val_loss: 0.9323 - val_mae: 0.4756\n",
      "Epoch 95/150\n",
      "10/10 [==============================] - 0s 18ms/step - loss: 0.7425 - mae: 0.2376 - val_loss: 0.9230 - val_mae: 0.4642\n",
      "Epoch 96/150\n",
      "10/10 [==============================] - 0s 17ms/step - loss: 0.7489 - mae: 0.2558 - val_loss: 0.9235 - val_mae: 0.4632\n",
      "Epoch 97/150\n",
      "10/10 [==============================] - 0s 17ms/step - loss: 0.7526 - mae: 0.2574 - val_loss: 0.9308 - val_mae: 0.4748\n",
      "Epoch 98/150\n",
      "10/10 [==============================] - 0s 17ms/step - loss: 0.7539 - mae: 0.2571 - val_loss: 0.9337 - val_mae: 0.4800\n",
      "Epoch 99/150\n",
      "10/10 [==============================] - 0s 19ms/step - loss: 0.7494 - mae: 0.2531 - val_loss: 0.9349 - val_mae: 0.4724\n",
      "Epoch 100/150\n",
      "10/10 [==============================] - 0s 19ms/step - loss: 0.7619 - mae: 0.2673 - val_loss: 0.9181 - val_mae: 0.4622\n",
      "Epoch 101/150\n",
      "10/10 [==============================] - 0s 19ms/step - loss: 0.7535 - mae: 0.2641 - val_loss: 0.9220 - val_mae: 0.4642\n",
      "Epoch 102/150\n",
      "10/10 [==============================] - 0s 17ms/step - loss: 0.7559 - mae: 0.2623 - val_loss: 0.9375 - val_mae: 0.4800\n",
      "Epoch 103/150\n",
      "10/10 [==============================] - 0s 18ms/step - loss: 0.7483 - mae: 0.2464 - val_loss: 0.9413 - val_mae: 0.4791\n",
      "Epoch 104/150\n",
      "10/10 [==============================] - 0s 17ms/step - loss: 0.7591 - mae: 0.2704 - val_loss: 0.9252 - val_mae: 0.4690\n",
      "Epoch 105/150\n",
      "10/10 [==============================] - 0s 16ms/step - loss: 0.7495 - mae: 0.2558 - val_loss: 0.9386 - val_mae: 0.4737\n",
      "Epoch 106/150\n",
      "10/10 [==============================] - 0s 21ms/step - loss: 0.7608 - mae: 0.2647 - val_loss: 0.9363 - val_mae: 0.4824\n",
      "Epoch 107/150\n",
      "10/10 [==============================] - 0s 17ms/step - loss: 0.7642 - mae: 0.2742 - val_loss: 0.9693 - val_mae: 0.5104\n",
      "Epoch 108/150\n",
      "10/10 [==============================] - 0s 18ms/step - loss: 0.7464 - mae: 0.2405 - val_loss: 0.9604 - val_mae: 0.5007\n",
      "Epoch 109/150\n",
      "10/10 [==============================] - 0s 18ms/step - loss: 0.7513 - mae: 0.2470 - val_loss: 0.9483 - val_mae: 0.4933\n",
      "Epoch 110/150\n",
      "10/10 [==============================] - 0s 18ms/step - loss: 0.7485 - mae: 0.2489 - val_loss: 0.9405 - val_mae: 0.4841\n",
      "Epoch 111/150\n",
      "10/10 [==============================] - 0s 19ms/step - loss: 0.7525 - mae: 0.2548 - val_loss: 0.9534 - val_mae: 0.4910\n",
      "Epoch 112/150\n",
      "10/10 [==============================] - 0s 17ms/step - loss: 0.7584 - mae: 0.2632 - val_loss: 0.9389 - val_mae: 0.4840\n",
      "Epoch 113/150\n",
      "10/10 [==============================] - 0s 17ms/step - loss: 0.7522 - mae: 0.2518 - val_loss: 0.9439 - val_mae: 0.4897\n",
      "Epoch 114/150\n",
      "10/10 [==============================] - 0s 18ms/step - loss: 0.7530 - mae: 0.2526 - val_loss: 0.9418 - val_mae: 0.4803\n",
      "Epoch 115/150\n",
      "10/10 [==============================] - 0s 18ms/step - loss: 0.7542 - mae: 0.2568 - val_loss: 0.9426 - val_mae: 0.4844\n",
      "Epoch 116/150\n",
      "10/10 [==============================] - 0s 21ms/step - loss: 0.7561 - mae: 0.2597 - val_loss: 0.9420 - val_mae: 0.4853\n",
      "Epoch 117/150\n",
      "10/10 [==============================] - 0s 17ms/step - loss: 0.7519 - mae: 0.2592 - val_loss: 0.9394 - val_mae: 0.4777\n",
      "Epoch 118/150\n",
      "10/10 [==============================] - 0s 17ms/step - loss: 0.7440 - mae: 0.2373 - val_loss: 0.9418 - val_mae: 0.4855\n",
      "Epoch 119/150\n",
      "10/10 [==============================] - 0s 17ms/step - loss: 0.7536 - mae: 0.2577 - val_loss: 0.9405 - val_mae: 0.4822\n",
      "Epoch 120/150\n",
      "10/10 [==============================] - 0s 17ms/step - loss: 0.7489 - mae: 0.2490 - val_loss: 0.9331 - val_mae: 0.4774\n",
      "Epoch 121/150\n",
      "10/10 [==============================] - 0s 18ms/step - loss: 0.7529 - mae: 0.2620 - val_loss: 0.9324 - val_mae: 0.4804\n",
      "Epoch 122/150\n",
      "10/10 [==============================] - 0s 18ms/step - loss: 0.7459 - mae: 0.2402 - val_loss: 0.9440 - val_mae: 0.4876\n",
      "Epoch 123/150\n",
      "10/10 [==============================] - 0s 18ms/step - loss: 0.7443 - mae: 0.2451 - val_loss: 0.9390 - val_mae: 0.4767\n",
      "Epoch 124/150\n",
      "10/10 [==============================] - 0s 17ms/step - loss: 0.7586 - mae: 0.2667 - val_loss: 0.9212 - val_mae: 0.4652\n",
      "Epoch 125/150\n",
      "10/10 [==============================] - 0s 18ms/step - loss: 0.7540 - mae: 0.2590 - val_loss: 0.9297 - val_mae: 0.4710\n",
      "Epoch 126/150\n",
      "10/10 [==============================] - 0s 18ms/step - loss: 0.7413 - mae: 0.2370 - val_loss: 0.9456 - val_mae: 0.4861\n",
      "Epoch 127/150\n",
      "10/10 [==============================] - 0s 18ms/step - loss: 0.7494 - mae: 0.2502 - val_loss: 0.9451 - val_mae: 0.4865\n",
      "Epoch 128/150\n",
      "10/10 [==============================] - 0s 18ms/step - loss: 0.7547 - mae: 0.2624 - val_loss: 0.9326 - val_mae: 0.4805\n",
      "Epoch 129/150\n",
      "10/10 [==============================] - 0s 18ms/step - loss: 0.7435 - mae: 0.2451 - val_loss: 0.9482 - val_mae: 0.4887\n",
      "Epoch 130/150\n",
      "10/10 [==============================] - 0s 17ms/step - loss: 0.7508 - mae: 0.2555 - val_loss: 0.9411 - val_mae: 0.4872\n",
      "Epoch 131/150\n",
      "10/10 [==============================] - 0s 18ms/step - loss: 0.7462 - mae: 0.2485 - val_loss: 0.9348 - val_mae: 0.4741\n",
      "Epoch 132/150\n",
      "10/10 [==============================] - 0s 17ms/step - loss: 0.7510 - mae: 0.2585 - val_loss: 0.9261 - val_mae: 0.4666\n",
      "Epoch 133/150\n",
      "10/10 [==============================] - 0s 17ms/step - loss: 0.7450 - mae: 0.2482 - val_loss: 0.9333 - val_mae: 0.4776\n",
      "Epoch 134/150\n",
      "10/10 [==============================] - 0s 18ms/step - loss: 0.7548 - mae: 0.2582 - val_loss: 0.9327 - val_mae: 0.4791\n",
      "Epoch 135/150\n",
      "10/10 [==============================] - 0s 19ms/step - loss: 0.7424 - mae: 0.2455 - val_loss: 0.9410 - val_mae: 0.4828\n",
      "Epoch 136/150\n",
      "10/10 [==============================] - 0s 16ms/step - loss: 0.7534 - mae: 0.2617 - val_loss: 0.9424 - val_mae: 0.4839\n",
      "Epoch 137/150\n",
      "10/10 [==============================] - 0s 18ms/step - loss: 0.7565 - mae: 0.2639 - val_loss: 0.9518 - val_mae: 0.4965\n",
      "Epoch 138/150\n",
      "10/10 [==============================] - 0s 18ms/step - loss: 0.7554 - mae: 0.2533 - val_loss: 0.9469 - val_mae: 0.4866\n",
      "Epoch 139/150\n",
      "10/10 [==============================] - 0s 18ms/step - loss: 0.7533 - mae: 0.2566 - val_loss: 0.9453 - val_mae: 0.4848\n",
      "Epoch 140/150\n",
      "10/10 [==============================] - 0s 17ms/step - loss: 0.7525 - mae: 0.2535 - val_loss: 0.9273 - val_mae: 0.4736\n",
      "Epoch 141/150\n",
      "10/10 [==============================] - 0s 17ms/step - loss: 0.7551 - mae: 0.2659 - val_loss: 0.9426 - val_mae: 0.4820\n",
      "Epoch 142/150\n",
      "10/10 [==============================] - 0s 17ms/step - loss: 0.7473 - mae: 0.2467 - val_loss: 0.9417 - val_mae: 0.4881\n",
      "Epoch 143/150\n",
      "10/10 [==============================] - 0s 18ms/step - loss: 0.7474 - mae: 0.2461 - val_loss: 0.9328 - val_mae: 0.4716\n",
      "Epoch 144/150\n",
      "10/10 [==============================] - 0s 17ms/step - loss: 0.7401 - mae: 0.2403 - val_loss: 0.9319 - val_mae: 0.4757\n",
      "Epoch 145/150\n",
      "10/10 [==============================] - 0s 17ms/step - loss: 0.7535 - mae: 0.2585 - val_loss: 0.9277 - val_mae: 0.4694\n",
      "Epoch 146/150\n",
      "10/10 [==============================] - 0s 16ms/step - loss: 0.7631 - mae: 0.2768 - val_loss: 0.9308 - val_mae: 0.4769\n",
      "Epoch 147/150\n",
      "10/10 [==============================] - 0s 18ms/step - loss: 0.7618 - mae: 0.2748 - val_loss: 0.9581 - val_mae: 0.4944\n",
      "Epoch 148/150\n",
      "10/10 [==============================] - 0s 18ms/step - loss: 0.7584 - mae: 0.2621 - val_loss: 0.9464 - val_mae: 0.4920\n",
      "Epoch 149/150\n",
      "10/10 [==============================] - 0s 18ms/step - loss: 0.7478 - mae: 0.2528 - val_loss: 0.9438 - val_mae: 0.4920\n",
      "Epoch 150/150\n",
      "10/10 [==============================] - 0s 18ms/step - loss: 0.7466 - mae: 0.2496 - val_loss: 0.9545 - val_mae: 0.4950\n"
     ]
    }
   ],
   "source": [
    "#Using mae and mse\n",
    "#model.compile(optimizer=tf.keras.optimizers.SGD(learning_rate=0.001, momentum=0.9),metrics=['mae'],loss='mse')\n",
    "model.compile(optimizer=tf.keras.optimizers.Adam(),metrics=['mae'],loss='mse')\n",
    "model.summary()\n",
    "hist=model.fit(train_set,epochs=150,validation_data=valid_set, batch_size=1)"
   ]
  },
  {
   "cell_type": "code",
   "execution_count": 105,
   "metadata": {},
   "outputs": [
    {
     "data": {
      "image/png": "[encoded data removed]",
      "text/plain": [
       "<Figure size 432x288 with 1 Axes>"
      ]
     },
     "metadata": {
      "needs_background": "light"
     },
     "output_type": "display_data"
    }
   ],
   "source": [
    "plt.plot(hist.history['mae'], label='MAE (training data)')\n",
    "plt.plot(hist.history['val_mae'], label='MAE (validation data)')\n",
    "\n",
    "plt.title('MAE Cluster 4')\n",
    "plt.ylabel('MAE value')\n",
    "plt.xlabel('No. epoch')\n",
    "plt.legend(loc=\"upper left\")\n",
    "plt.show()"
   ]
  },
  {
   "cell_type": "code",
   "execution_count": 106,
   "metadata": {},
   "outputs": [
    {
     "data": {
      "image/png": "[encoded data removed]",
      "text/plain": [
       "<Figure size 432x288 with 1 Axes>"
      ]
     },
     "metadata": {
      "needs_background": "light"
     },
     "output_type": "display_data"
    }
   ],
   "source": [
    "plt.plot(hist.history['loss'], label='loss (training data)')\n",
    "plt.plot(hist.history['val_loss'], label='loss (validation data)')\n",
    "\n",
    "plt.title(\"Loss Cluster 2 (MSE)\")\n",
    "plt.ylabel('MSE value')\n",
    "plt.xlabel('No. epoch')\n",
    "plt.legend(loc=\"upper left\")\n",
    "plt.show()"
   ]
  },
  {
   "cell_type": "code",
   "execution_count": 112,
   "metadata": {},
   "outputs": [
    {
     "data": {
      "text/plain": [
       "array([[0.31667897],\n",
       "       [0.31667897],\n",
       "       [0.31667897]], dtype=float32)"
      ]
     },
     "execution_count": 112,
     "metadata": {},
     "output_type": "execute_result"
    }
   ],
   "source": [
    "prediksi=model.predict([21, 22, 23])\n",
    "prediksi"
   ]
  },
  {
   "cell_type": "code",
   "execution_count": 113,
   "metadata": {},
   "outputs": [],
   "source": [
    "prediksi=prediksi.flatten()"
   ]
  },
  {
   "cell_type": "code",
   "execution_count": 114,
   "metadata": {},
   "outputs": [],
   "source": [
    "hasil=np.concatenate((series[:-split_time],prediksi))"
   ]
  },
  {
   "cell_type": "code",
   "execution_count": 115,
   "metadata": {},
   "outputs": [
    {
     "data": {
      "text/plain": [
       "array([0.1063293 , 0.15289792, 0.10755479, 0.07374567, 0.26376874,\n",
       "       0.        , 0.15852076, 0.0864331 , 0.14641003, 0.12485582,\n",
       "       0.14316609, 0.04253172, 0.77595156, 0.66897347, 0.76564302,\n",
       "       0.47902249, 0.26953576, 0.459703  , 0.72873414, 0.65513264,\n",
       "       0.76802191, 0.31667897, 0.31667897, 0.31667897])"
      ]
     },
     "execution_count": 115,
     "metadata": {},
     "output_type": "execute_result"
    }
   ],
   "source": [
    "hasil"
   ]
  },
  {
   "cell_type": "code",
   "execution_count": 116,
   "metadata": {},
   "outputs": [
    {
     "data": {
      "text/plain": [
       "[]"
      ]
     },
     "execution_count": 116,
     "metadata": {},
     "output_type": "execute_result"
    },
    {
     "data": {
      "image/png": "[encoded data removed]",
      "text/plain": [
       "<Figure size 432x288 with 1 Axes>"
      ]
     },
     "metadata": {
      "needs_background": "light"
     },
     "output_type": "display_data"
    }
   ],
   "source": [
    "plt.plot(series,label='data asli')\n",
    "plt.plot(hasil,label='data prediksi')\n",
    "plt.title('penjualan produk cluster 4')\n",
    "plt.legend()\n",
    "plt.plot()"
   ]
  },
  {
   "cell_type": "code",
   "execution_count": 117,
   "metadata": {},
   "outputs": [
    {
     "name": "stderr",
     "output_type": "stream",
     "text": [
      "WARNING:absl:Found untraced functions such as lstm_cell_31_layer_call_fn, lstm_cell_31_layer_call_and_return_conditional_losses, lstm_cell_32_layer_call_fn, lstm_cell_32_layer_call_and_return_conditional_losses, lstm_cell_34_layer_call_fn while saving (showing 5 of 20). These functions will not be directly callable after loading.\n"
     ]
    },
    {
     "name": "stdout",
     "output_type": "stream",
     "text": [
      "INFO:tensorflow:Assets written to: culster4.h0\\assets\n"
     ]
    },
    {
     "name": "stderr",
     "output_type": "stream",
     "text": [
      "INFO:tensorflow:Assets written to: culster4.h0\\assets\n"
     ]
    }
   ],
   "source": [
    "model.save('culster4.h0')"
   ]
  }
 ],
 "metadata": {
  "interpreter": {
   "hash": "afeb0a5d6bb323ad18feb1b5918323875d02a8f396872f34a26389813d209932"
  },
  "kernelspec": {
   "display_name": "Python 3.8.12 64-bit ('skripsi': conda)",
   "language": "python",
   "name": "python3"
  },
  "language_info": {
   "codemirror_mode": {
    "name": "ipython",
    "version": 3
   },
   "file_extension": ".py",
   "mimetype": "text/x-python",
   "name": "python",
   "nbconvert_exporter": "python",
   "pygments_lexer": "ipython3",
   "version": "3.8.12"
  },
  "orig_nbformat": 4
 },
 "nbformat": 4,
 "nbformat_minor": 2
}
